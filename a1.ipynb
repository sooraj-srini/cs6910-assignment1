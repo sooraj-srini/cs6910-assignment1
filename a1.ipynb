{
 "cells": [
  {
   "attachments": {},
   "cell_type": "markdown",
   "metadata": {},
   "source": [
    "# Introduction\n",
    "\n",
    "We are tasked with training a feed forward neural network using only Pandas and Numpy on the Fashion MNIST dataset. \n"
   ]
  },
  {
   "cell_type": "code",
   "execution_count": 1,
   "metadata": {},
   "outputs": [],
   "source": [
    "%load_ext autoreload\n",
    "%autoreload 2"
   ]
  },
  {
   "cell_type": "code",
   "execution_count": 2,
   "metadata": {},
   "outputs": [
    {
     "name": "stderr",
     "output_type": "stream",
     "text": [
      "2023-03-19 16:30:29.748031: W tensorflow/stream_executor/platform/default/dso_loader.cc:64] Could not load dynamic library 'libcudart.so.11.0'; dlerror: libcudart.so.11.0: cannot open shared object file: No such file or directory; LD_LIBRARY_PATH: /usr/lib\n",
      "2023-03-19 16:30:29.748091: I tensorflow/stream_executor/cuda/cudart_stub.cc:29] Ignore above cudart dlerror if you do not have a GPU set up on your machine.\n",
      "Failed to detect the name of this notebook, you can set it manually with the WANDB_NOTEBOOK_NAME environment variable to enable code saving.\n",
      "\u001b[34m\u001b[1mwandb\u001b[0m: Currently logged in as: \u001b[33mcs20b075\u001b[0m. Use \u001b[1m`wandb login --relogin`\u001b[0m to force relogin\n"
     ]
    },
    {
     "data": {
      "text/plain": [
       "True"
      ]
     },
     "execution_count": 2,
     "metadata": {},
     "output_type": "execute_result"
    }
   ],
   "source": [
    "from keras.datasets import fashion_mnist\n",
    "from keras.datasets import mnist\n",
    "import numpy as np\n",
    "import pandas as pd\n",
    "import matplotlib.pyplot as plt\n",
    "import wandb\n",
    "import feedforwardnn\n",
    "wandb.login()"
   ]
  },
  {
   "cell_type": "code",
   "execution_count": 3,
   "metadata": {},
   "outputs": [],
   "source": [
    "def load_data(dataset):\n",
    "    (x_train, y_train), (x_test, y_test) = dataset.load_data()\n",
    "    p = np.random.RandomState().permutation(len(x_train))\n",
    "    x_train, y_train = x_train[p], y_train[p]\n",
    "    train_length = int(0.9 * len(x_train))\n",
    "    x_train, x_val = np.split(x_train, [train_length])\n",
    "    y_train, y_val = np.split(y_train, [train_length])\n",
    "\n",
    "    return x_train, y_train, x_val, y_val, x_test, y_test"
   ]
  },
  {
   "cell_type": "code",
   "execution_count": 4,
   "metadata": {},
   "outputs": [],
   "source": [
    "x_train, y_train, x_val, y_val, x_test, y_test = load_data(fashion_mnist)"
   ]
  },
  {
   "attachments": {},
   "cell_type": "markdown",
   "metadata": {},
   "source": [
    "## Question 1\n",
    "\n",
    "Plot one image of every class present in the MNIST dataset."
   ]
  },
  {
   "cell_type": "code",
   "execution_count": 6,
   "metadata": {},
   "outputs": [
    {
     "data": {
      "text/html": [
       "Finishing last run (ID:vfhimd1i) before initializing another..."
      ],
      "text/plain": [
       "<IPython.core.display.HTML object>"
      ]
     },
     "metadata": {},
     "output_type": "display_data"
    },
    {
     "data": {
      "text/html": [
       "Waiting for W&B process to finish... <strong style=\"color:green\">(success).</strong>"
      ],
      "text/plain": [
       "<IPython.core.display.HTML object>"
      ]
     },
     "metadata": {},
     "output_type": "display_data"
    },
    {
     "data": {
      "application/vnd.jupyter.widget-view+json": {
       "model_id": "22df389bad39445dbb06e8533c399c01",
       "version_major": 2,
       "version_minor": 0
      },
      "text/plain": [
       "VBox(children=(Label(value='0.002 MB of 0.007 MB uploaded (0.000 MB deduped)\\r'), FloatProgress(value=0.230908…"
      ]
     },
     "metadata": {},
     "output_type": "display_data"
    },
    {
     "data": {
      "text/html": [
       " View run <strong style=\"color:#cdcd00\">copper-pyramid-209</strong> at: <a href='https://wandb.ai/cs20b075/assignment-1/runs/vfhimd1i' target=\"_blank\">https://wandb.ai/cs20b075/assignment-1/runs/vfhimd1i</a><br/>Synced 4 W&B file(s), 0 media file(s), 0 artifact file(s) and 0 other file(s)"
      ],
      "text/plain": [
       "<IPython.core.display.HTML object>"
      ]
     },
     "metadata": {},
     "output_type": "display_data"
    },
    {
     "data": {
      "text/html": [
       "Find logs at: <code>./wandb/run-20230319_145517-vfhimd1i/logs</code>"
      ],
      "text/plain": [
       "<IPython.core.display.HTML object>"
      ]
     },
     "metadata": {},
     "output_type": "display_data"
    },
    {
     "data": {
      "text/html": [
       "Successfully finished last run (ID:vfhimd1i). Initializing new run:<br/>"
      ],
      "text/plain": [
       "<IPython.core.display.HTML object>"
      ]
     },
     "metadata": {},
     "output_type": "display_data"
    },
    {
     "data": {
      "application/vnd.jupyter.widget-view+json": {
       "model_id": "c69cbae1e4744f93b0ab26c254866889",
       "version_major": 2,
       "version_minor": 0
      },
      "text/plain": [
       "VBox(children=(Label(value='Waiting for wandb.init()...\\r'), FloatProgress(value=0.016670070466655793, max=1.0…"
      ]
     },
     "metadata": {},
     "output_type": "display_data"
    },
    {
     "data": {
      "text/html": [
       "wandb version 0.14.0 is available!  To upgrade, please run:\n",
       " $ pip install wandb --upgrade"
      ],
      "text/plain": [
       "<IPython.core.display.HTML object>"
      ]
     },
     "metadata": {},
     "output_type": "display_data"
    },
    {
     "data": {
      "text/html": [
       "Tracking run with wandb version 0.13.10"
      ],
      "text/plain": [
       "<IPython.core.display.HTML object>"
      ]
     },
     "metadata": {},
     "output_type": "display_data"
    },
    {
     "data": {
      "text/html": [
       "Run data is saved locally in <code>/home/sooraj/sem/dl/assignment-1/wandb/run-20230319_145533-z62rwsfb</code>"
      ],
      "text/plain": [
       "<IPython.core.display.HTML object>"
      ]
     },
     "metadata": {},
     "output_type": "display_data"
    },
    {
     "data": {
      "text/html": [
       "Syncing run <strong><a href='https://wandb.ai/cs20b075/assignment-1/runs/z62rwsfb' target=\"_blank\">sleek-feather-210</a></strong> to <a href='https://wandb.ai/cs20b075/assignment-1' target=\"_blank\">Weights & Biases</a> (<a href='https://wandb.me/run' target=\"_blank\">docs</a>)<br/>"
      ],
      "text/plain": [
       "<IPython.core.display.HTML object>"
      ]
     },
     "metadata": {},
     "output_type": "display_data"
    },
    {
     "data": {
      "text/html": [
       " View project at <a href='https://wandb.ai/cs20b075/assignment-1' target=\"_blank\">https://wandb.ai/cs20b075/assignment-1</a>"
      ],
      "text/plain": [
       "<IPython.core.display.HTML object>"
      ]
     },
     "metadata": {},
     "output_type": "display_data"
    },
    {
     "data": {
      "text/html": [
       " View run at <a href='https://wandb.ai/cs20b075/assignment-1/runs/z62rwsfb' target=\"_blank\">https://wandb.ai/cs20b075/assignment-1/runs/z62rwsfb</a>"
      ],
      "text/plain": [
       "<IPython.core.display.HTML object>"
      ]
     },
     "metadata": {},
     "output_type": "display_data"
    },
    {
     "data": {
      "image/png": "[encoded data removed]",
      "text/plain": [
       "<Figure size 432x288 with 10 Axes>"
      ]
     },
     "metadata": {
      "needs_background": "light"
     },
     "output_type": "display_data"
    }
   ],
   "source": [
    "label_map = {0:\"Top\", 1:\"Trouser\", 2:\"Pullover\", 3:\"Dress\", 4:\"Coat\", 5:\"Sandal\", 6:\"Shirt\", 7:\"Sneaker\", 8:\"Bag\", 9:\"Ankle Boot\"}\n",
    "seen_datasets = set()\n",
    "wandb.init(project=\"assignment-1\")\n",
    "figure, axis = plt.subplots(2, 5)\n",
    "unique_images = []\n",
    "for index in range(len(x_train)):\n",
    "    image = x_train[index]\n",
    "    label = y_train[index]\n",
    "    if label not in seen_datasets:\n",
    "        seen_datasets.add(label)\n",
    "        axis[label%2, label%5].imshow(image, cmap='gray')\n",
    "        axis[label%2, label%5].set_title(f\"Label: {label_map[label]}\")\n",
    "        images = wandb.Image(image, caption=f\"Label: {label_map[label]}\")\n",
    "        unique_images.append(images)\n",
    "wandb.log({\"examples\": unique_images})\n"
   ]
  },
  {
   "cell_type": "code",
   "execution_count": 5,
   "metadata": {},
   "outputs": [
    {
     "name": "stdout",
     "output_type": "stream",
     "text": [
      "1\n"
     ]
    }
   ],
   "source": [
    "print(y_train[0])"
   ]
  },
  {
   "cell_type": "code",
   "execution_count": 6,
   "metadata": {},
   "outputs": [],
   "source": [
    "def one_hot(X:np.ndarray):\n",
    "            return np.eye(10)[X]\n",
    "\n",
    "def process_data(X, Y):\n",
    "    X = X.reshape(X.shape[0], -1)/255\n",
    "    Y = one_hot(Y)\n",
    "    return X, Y"
   ]
  },
  {
   "cell_type": "code",
   "execution_count": 7,
   "metadata": {},
   "outputs": [],
   "source": [
    "x_train, y_train = process_data(x_train, y_train)\n",
    "x_val, y_val = process_data(x_val, y_val)\n",
    "x_test, y_test = process_data(x_test, y_test)"
   ]
  },
  {
   "cell_type": "code",
   "execution_count": 16,
   "metadata": {},
   "outputs": [
    {
     "name": "stdout",
     "output_type": "stream",
     "text": [
      "Iteration:  0\n",
      "Loss:  2.3025899900907834\n",
      "Iteration:  1\n",
      "Loss:  2.3025899881039287\n",
      "Iteration:  2\n",
      "Loss:  2.30258998611788\n",
      "Iteration:  3\n",
      "Loss:  2.3025899841326374\n",
      "Iteration:  4\n",
      "Loss:  2.3025899821482003\n",
      "Iteration:  5\n",
      "Loss:  2.3025899801645684\n",
      "Iteration:  6\n",
      "Loss:  2.3025899781817407\n",
      "Iteration:  7\n",
      "Loss:  2.302589976199718\n",
      "Iteration:  8\n",
      "Loss:  2.3025899742184994\n",
      "Iteration:  9\n",
      "Loss:  2.3025899722380845\n"
     ]
    }
   ],
   "source": [
    "import feedforwardnn\n",
    "\n",
    "nn = feedforwardnn.FeedforwardNN(784, 10, [64]*5, \"relu\", \"xavier\", 0.0001)\n",
    "opt = feedforwardnn.Momentum(nn.get_params(), 0.001)\n",
    "opt = feedforwardnn.NAG(nn.get_params(), 0.001)\n",
    "nn.fit(x_train, y_train, 0.001, 10, 256, opt)"
   ]
  },
  {
   "cell_type": "code",
   "execution_count": 13,
   "metadata": {},
   "outputs": [
    {
     "name": "stdout",
     "output_type": "stream",
     "text": [
      "Accuracy  0.1025\n"
     ]
    }
   ],
   "source": [
    "print(\"Accuracy \", nn.accuracy(y_val, nn.predict(x_val)))"
   ]
  },
  {
   "attachments": {},
   "cell_type": "markdown",
   "metadata": {},
   "source": [
    "# Wandb part!"
   ]
  },
  {
   "cell_type": "code",
   "execution_count": 11,
   "metadata": {},
   "outputs": [],
   "source": [
    "import wandb \n",
    "\n",
    "def train(nn:feedforwardnn.FeedforwardNN, opt, config):\n",
    "    num_epochs= config.epochs\n",
    "\n",
    "    for epoch in range(num_epochs):\n",
    "        print(\"Epoch: \", epoch+1)\n",
    "        opt.zero_grad()\n",
    "        print(\"Iteration \", epoch+1, \" of \", num_epochs)\n",
    "        for index in range(0, len(x_train), config.batch):\n",
    "            nn.parameters.x_row = x_train[index:index+config.batch]\n",
    "            nn.parameters.y_row = y_train[index:index+config.batch]\n",
    "            nn.forward(nn.parameters.x_row)\n",
    "            nn.backward()\n",
    "            opt.step()\n",
    "        y_iter_pred = nn.predict(x_train)\n",
    "        train_loss = nn.cross_entropy_loss(y_train, y_iter_pred, regularization=True)\n",
    "        train_accuracy = nn.accuracy(y_train, y_iter_pred)\n",
    "        y_iter_pred = nn.predict(x_val)\n",
    "        val_loss = nn.cross_entropy_loss(y_val, y_iter_pred)\n",
    "        val_accuracy = nn.accuracy(y_val, y_iter_pred)\n",
    "        val_mse_loss = nn.mean_squared_error(y_val, y_iter_pred)\n",
    "        wandb.log({'train_loss': train_loss, 'train_accuracy': train_accuracy, \"val_loss\": val_loss, \"val_accuracy\": val_accuracy, \"val_mse_loss\":val_mse_loss, \"epoch\": epoch})\n",
    "        print(\"Train Loss: \", train_loss, \" Train Accuracy: \", train_accuracy, \" Val Loss: \", val_loss, \"VAl MSE LOSS:\" , val_mse_loss, \" Val Accuracy: \", val_accuracy)\n",
    "\n",
    "\n",
    "def wandb_sweep():\n",
    "        wandb.init(project=\"assignment-1\")\n",
    "        cf = wandb.config\n",
    "        wandb_run_name = f\"hl_{cf.hidden_layer_size}_nhl_{cf.num_hidden_layers}_af_{cf.activation_function}_wi_{cf.weight_initialisation}_wd_{cf.weight_decay}_opt_{cf.optimizer}_lr_{cf.learning_rate}_bs_{cf.batch}_ep_{cf.epochs}\"\n",
    "        wandb.run.name = wandb_run_name\n",
    "        wandb.run.save()\n",
    "        nn = feedforwardnn.FeedforwardNN(784, 10, [wandb.config.hidden_layer_size]*wandb.config.num_hidden_layers, wandb.config.activation_function, wandb.config.weight_initialisation, wandb.config.weight_decay)\n",
    "        opt_map = {\"sgd\": feedforwardnn.SGD, \"momentum\": feedforwardnn.Momentum, \"nesterov\": feedforwardnn.NAG, \"rmsprop\": feedforwardnn.RMSProp, \"adam\": feedforwardnn.Adam, \"nadam\": feedforwardnn.NAdam}\n",
    "        opt = opt_map[wandb.config.optimizer](nn.get_params(), wandb.config.learning_rate)\n",
    "        train(nn, opt, wandb.config)"
   ]
  },
  {
   "cell_type": "code",
   "execution_count": 12,
   "metadata": {},
   "outputs": [
    {
     "name": "stdout",
     "output_type": "stream",
     "text": [
      "Create sweep with ID: byqia87m\n",
      "Sweep URL: https://wandb.ai/cs20b075/assignment-1/sweeps/byqia87m\n"
     ]
    },
    {
     "name": "stderr",
     "output_type": "stream",
     "text": [
      "\u001b[34m\u001b[1mwandb\u001b[0m: Agent Starting Run: p9uw2x1g with config:\n",
      "\u001b[34m\u001b[1mwandb\u001b[0m: \tactivation_function: relu\n",
      "\u001b[34m\u001b[1mwandb\u001b[0m: \tbatch: 16\n",
      "\u001b[34m\u001b[1mwandb\u001b[0m: \tepochs: 10\n",
      "\u001b[34m\u001b[1mwandb\u001b[0m: \thidden_layer_size: 64\n",
      "\u001b[34m\u001b[1mwandb\u001b[0m: \tlearning_rate: 0.001\n",
      "\u001b[34m\u001b[1mwandb\u001b[0m: \tnum_hidden_layers: 4\n",
      "\u001b[34m\u001b[1mwandb\u001b[0m: \toptimizer: momentum\n",
      "\u001b[34m\u001b[1mwandb\u001b[0m: \tweight_decay: 0.05\n",
      "\u001b[34m\u001b[1mwandb\u001b[0m: \tweight_initialisation: random\n",
      "Failed to detect the name of this notebook, you can set it manually with the WANDB_NOTEBOOK_NAME environment variable to enable code saving.\n",
      "\u001b[34m\u001b[1mwandb\u001b[0m: \u001b[33mWARNING\u001b[0m Ignored wandb.init() arg project when running a sweep.\n"
     ]
    },
    {
     "data": {
      "text/html": [
       "wandb version 0.14.0 is available!  To upgrade, please run:\n",
       " $ pip install wandb --upgrade"
      ],
      "text/plain": [
       "<IPython.core.display.HTML object>"
      ]
     },
     "metadata": {},
     "output_type": "display_data"
    },
    {
     "data": {
      "text/html": [
       "Tracking run with wandb version 0.13.10"
      ],
      "text/plain": [
       "<IPython.core.display.HTML object>"
      ]
     },
     "metadata": {},
     "output_type": "display_data"
    },
    {
     "data": {
      "text/html": [
       "Run data is saved locally in <code>/home/sooraj/sem/dl/assignment-1/wandb/run-20230319_123157-p9uw2x1g</code>"
      ],
      "text/plain": [
       "<IPython.core.display.HTML object>"
      ]
     },
     "metadata": {},
     "output_type": "display_data"
    },
    {
     "data": {
      "text/html": [
       "Syncing run <strong><a href='https://wandb.ai/cs20b075/assignment-1/runs/p9uw2x1g' target=\"_blank\">divine-sweep-1</a></strong> to <a href='https://wandb.ai/cs20b075/assignment-1' target=\"_blank\">Weights & Biases</a> (<a href='https://wandb.me/run' target=\"_blank\">docs</a>)<br/>Sweep page: <a href='https://wandb.ai/cs20b075/assignment-1/sweeps/byqia87m' target=\"_blank\">https://wandb.ai/cs20b075/assignment-1/sweeps/byqia87m</a>"
      ],
      "text/plain": [
       "<IPython.core.display.HTML object>"
      ]
     },
     "metadata": {},
     "output_type": "display_data"
    },
    {
     "data": {
      "text/html": [
       " View project at <a href='https://wandb.ai/cs20b075/assignment-1' target=\"_blank\">https://wandb.ai/cs20b075/assignment-1</a>"
      ],
      "text/plain": [
       "<IPython.core.display.HTML object>"
      ]
     },
     "metadata": {},
     "output_type": "display_data"
    },
    {
     "data": {
      "text/html": [
       " View sweep at <a href='https://wandb.ai/cs20b075/assignment-1/sweeps/byqia87m' target=\"_blank\">https://wandb.ai/cs20b075/assignment-1/sweeps/byqia87m</a>"
      ],
      "text/plain": [
       "<IPython.core.display.HTML object>"
      ]
     },
     "metadata": {},
     "output_type": "display_data"
    },
    {
     "data": {
      "text/html": [
       " View run at <a href='https://wandb.ai/cs20b075/assignment-1/runs/p9uw2x1g' target=\"_blank\">https://wandb.ai/cs20b075/assignment-1/runs/p9uw2x1g</a>"
      ],
      "text/plain": [
       "<IPython.core.display.HTML object>"
      ]
     },
     "metadata": {},
     "output_type": "display_data"
    },
    {
     "name": "stderr",
     "output_type": "stream",
     "text": [
      "\u001b[34m\u001b[1mwandb\u001b[0m: \u001b[33mWARNING\u001b[0m Calling wandb.run.save without any arguments is deprecated.Changes to attributes are automatically persisted.\n",
      "/home/sooraj/sem/dl/assignment-1/feedforwardnn.py:255: RuntimeWarning: invalid value encountered in subtract\n",
      "  X = X - np.max(X, axis=1, keepdims=True)\n"
     ]
    },
    {
     "name": "stdout",
     "output_type": "stream",
     "text": [
      "Epoch:  1\n",
      "Iteration  1  of  10\n",
      "Train Loss:  nan  Train Accuracy:  0.10031481481481481  Val Loss:  nan VAl MSE LOSS: nan  Val Accuracy:  0.09716666666666667\n",
      "Epoch:  2\n",
      "Iteration  2  of  10\n",
      "Train Loss:  nan  Train Accuracy:  0.10031481481481481  Val Loss:  nan VAl MSE LOSS: nan  Val Accuracy:  0.09716666666666667\n",
      "Epoch:  3\n",
      "Iteration  3  of  10\n",
      "Train Loss:  nan  Train Accuracy:  0.10031481481481481  Val Loss:  nan VAl MSE LOSS: nan  Val Accuracy:  0.09716666666666667\n",
      "Epoch:  4\n",
      "Iteration  4  of  10\n",
      "Train Loss:  nan  Train Accuracy:  0.10031481481481481  Val Loss:  nan VAl MSE LOSS: nan  Val Accuracy:  0.09716666666666667\n",
      "Epoch:  5\n",
      "Iteration  5  of  10\n",
      "Train Loss:  nan  Train Accuracy:  0.10031481481481481  Val Loss:  nan VAl MSE LOSS: nan  Val Accuracy:  0.09716666666666667\n",
      "Epoch:  6\n",
      "Iteration  6  of  10\n",
      "Train Loss:  nan  Train Accuracy:  0.10031481481481481  Val Loss:  nan VAl MSE LOSS: nan  Val Accuracy:  0.09716666666666667\n",
      "Epoch:  7\n",
      "Iteration  7  of  10\n",
      "Train Loss:  nan  Train Accuracy:  0.10031481481481481  Val Loss:  nan VAl MSE LOSS: nan  Val Accuracy:  0.09716666666666667\n",
      "Epoch:  8\n",
      "Iteration  8  of  10\n",
      "Train Loss:  nan  Train Accuracy:  0.10031481481481481  Val Loss:  nan VAl MSE LOSS: nan  Val Accuracy:  0.09716666666666667\n",
      "Epoch:  9\n",
      "Iteration  9  of  10\n",
      "Train Loss:  nan  Train Accuracy:  0.10031481481481481  Val Loss:  nan VAl MSE LOSS: nan  Val Accuracy:  0.09716666666666667\n",
      "Epoch:  10\n",
      "Iteration  10  of  10\n",
      "Train Loss:  nan  Train Accuracy:  0.10031481481481481  Val Loss:  nan VAl MSE LOSS: nan  Val Accuracy:  0.09716666666666667\n"
     ]
    },
    {
     "data": {
      "text/html": [
       "Waiting for W&B process to finish... <strong style=\"color:green\">(success).</strong>"
      ],
      "text/plain": [
       "<IPython.core.display.HTML object>"
      ]
     },
     "metadata": {},
     "output_type": "display_data"
    },
    {
     "data": {
      "application/vnd.jupyter.widget-view+json": {
       "model_id": "937eac6dc5824d9db58b2958dad596fa",
       "version_major": 2,
       "version_minor": 0
      },
      "text/plain": [
       "VBox(children=(Label(value='0.002 MB of 0.002 MB uploaded (0.000 MB deduped)\\r'), FloatProgress(value=1.0, max…"
      ]
     },
     "metadata": {},
     "output_type": "display_data"
    },
    {
     "data": {
      "text/html": [
       "<style>\n",
       "    table.wandb td:nth-child(1) { padding: 0 10px; text-align: left ; width: auto;} td:nth-child(2) {text-align: left ; width: 100%}\n",
       "    .wandb-row { display: flex; flex-direction: row; flex-wrap: wrap; justify-content: flex-start; width: 100% }\n",
       "    .wandb-col { display: flex; flex-direction: column; flex-basis: 100%; flex: 1; padding: 10px; }\n",
       "    </style>\n",
       "<div class=\"wandb-row\"><div class=\"wandb-col\"><h3>Run history:</h3><br/><table class=\"wandb\"><tr><td>epoch</td><td>▁▂▃▃▄▅▆▆▇█</td></tr><tr><td>train_accuracy</td><td>▁▁▁▁▁▁▁▁▁▁</td></tr><tr><td>val_accuracy</td><td>▁▁▁▁▁▁▁▁▁▁</td></tr></table><br/></div><div class=\"wandb-col\"><h3>Run summary:</h3><br/><table class=\"wandb\"><tr><td>epoch</td><td>9</td></tr><tr><td>train_accuracy</td><td>0.10031</td></tr><tr><td>train_loss</td><td>nan</td></tr><tr><td>val_accuracy</td><td>0.09717</td></tr><tr><td>val_loss</td><td>nan</td></tr><tr><td>val_mse_loss</td><td>nan</td></tr></table><br/></div></div>"
      ],
      "text/plain": [
       "<IPython.core.display.HTML object>"
      ]
     },
     "metadata": {},
     "output_type": "display_data"
    },
    {
     "data": {
      "text/html": [
       " View run <strong style=\"color:#cdcd00\">divine-sweep-1</strong> at: <a href='https://wandb.ai/cs20b075/assignment-1/runs/p9uw2x1g' target=\"_blank\">https://wandb.ai/cs20b075/assignment-1/runs/p9uw2x1g</a><br/>Synced 5 W&B file(s), 0 media file(s), 0 artifact file(s) and 0 other file(s)"
      ],
      "text/plain": [
       "<IPython.core.display.HTML object>"
      ]
     },
     "metadata": {},
     "output_type": "display_data"
    },
    {
     "data": {
      "text/html": [
       "Find logs at: <code>./wandb/run-20230319_123157-p9uw2x1g/logs</code>"
      ],
      "text/plain": [
       "<IPython.core.display.HTML object>"
      ]
     },
     "metadata": {},
     "output_type": "display_data"
    },
    {
     "name": "stderr",
     "output_type": "stream",
     "text": [
      "\u001b[34m\u001b[1mwandb\u001b[0m: Agent Starting Run: boge7d36 with config:\n",
      "\u001b[34m\u001b[1mwandb\u001b[0m: \tactivation_function: relu\n",
      "\u001b[34m\u001b[1mwandb\u001b[0m: \tbatch: 32\n",
      "\u001b[34m\u001b[1mwandb\u001b[0m: \tepochs: 10\n",
      "\u001b[34m\u001b[1mwandb\u001b[0m: \thidden_layer_size: 32\n",
      "\u001b[34m\u001b[1mwandb\u001b[0m: \tlearning_rate: 0.0001\n",
      "\u001b[34m\u001b[1mwandb\u001b[0m: \tnum_hidden_layers: 3\n",
      "\u001b[34m\u001b[1mwandb\u001b[0m: \toptimizer: momentum\n",
      "\u001b[34m\u001b[1mwandb\u001b[0m: \tweight_decay: 0\n",
      "\u001b[34m\u001b[1mwandb\u001b[0m: \tweight_initialisation: xavier\n",
      "Failed to detect the name of this notebook, you can set it manually with the WANDB_NOTEBOOK_NAME environment variable to enable code saving.\n",
      "\u001b[34m\u001b[1mwandb\u001b[0m: \u001b[33mWARNING\u001b[0m Ignored wandb.init() arg project when running a sweep.\n"
     ]
    },
    {
     "data": {
      "text/html": [
       "wandb version 0.14.0 is available!  To upgrade, please run:\n",
       " $ pip install wandb --upgrade"
      ],
      "text/plain": [
       "<IPython.core.display.HTML object>"
      ]
     },
     "metadata": {},
     "output_type": "display_data"
    },
    {
     "data": {
      "text/html": [
       "Tracking run with wandb version 0.13.10"
      ],
      "text/plain": [
       "<IPython.core.display.HTML object>"
      ]
     },
     "metadata": {},
     "output_type": "display_data"
    },
    {
     "data": {
      "text/html": [
       "Run data is saved locally in <code>/home/sooraj/sem/dl/assignment-1/wandb/run-20230319_123225-boge7d36</code>"
      ],
      "text/plain": [
       "<IPython.core.display.HTML object>"
      ]
     },
     "metadata": {},
     "output_type": "display_data"
    },
    {
     "data": {
      "text/html": [
       "Syncing run <strong><a href='https://wandb.ai/cs20b075/assignment-1/runs/boge7d36' target=\"_blank\">winter-sweep-2</a></strong> to <a href='https://wandb.ai/cs20b075/assignment-1' target=\"_blank\">Weights & Biases</a> (<a href='https://wandb.me/run' target=\"_blank\">docs</a>)<br/>Sweep page: <a href='https://wandb.ai/cs20b075/assignment-1/sweeps/byqia87m' target=\"_blank\">https://wandb.ai/cs20b075/assignment-1/sweeps/byqia87m</a>"
      ],
      "text/plain": [
       "<IPython.core.display.HTML object>"
      ]
     },
     "metadata": {},
     "output_type": "display_data"
    },
    {
     "data": {
      "text/html": [
       " View project at <a href='https://wandb.ai/cs20b075/assignment-1' target=\"_blank\">https://wandb.ai/cs20b075/assignment-1</a>"
      ],
      "text/plain": [
       "<IPython.core.display.HTML object>"
      ]
     },
     "metadata": {},
     "output_type": "display_data"
    },
    {
     "data": {
      "text/html": [
       " View sweep at <a href='https://wandb.ai/cs20b075/assignment-1/sweeps/byqia87m' target=\"_blank\">https://wandb.ai/cs20b075/assignment-1/sweeps/byqia87m</a>"
      ],
      "text/plain": [
       "<IPython.core.display.HTML object>"
      ]
     },
     "metadata": {},
     "output_type": "display_data"
    },
    {
     "data": {
      "text/html": [
       " View run at <a href='https://wandb.ai/cs20b075/assignment-1/runs/boge7d36' target=\"_blank\">https://wandb.ai/cs20b075/assignment-1/runs/boge7d36</a>"
      ],
      "text/plain": [
       "<IPython.core.display.HTML object>"
      ]
     },
     "metadata": {},
     "output_type": "display_data"
    },
    {
     "name": "stdout",
     "output_type": "stream",
     "text": [
      "Epoch:  1\n",
      "Iteration  1  of  10\n",
      "Train Loss:  0.5209242201940439  Train Accuracy:  0.8200185185185185  Val Loss:  0.5264238500650981 VAl MSE LOSS: 0.26441719565056293  Val Accuracy:  0.8201666666666667\n",
      "Epoch:  2\n",
      "Iteration  2  of  10\n",
      "Train Loss:  0.4598614576229939  Train Accuracy:  0.8382037037037037  Val Loss:  0.47111535490192363 VAl MSE LOSS: 0.23795059330462928  Val Accuracy:  0.8363333333333334\n",
      "Epoch:  3\n",
      "Iteration  3  of  10\n",
      "Train Loss:  0.4011683684592811  Train Accuracy:  0.8551111111111112  Val Loss:  0.41433476230152344 VAl MSE LOSS: 0.2123557571355908  Val Accuracy:  0.8498333333333333\n",
      "Epoch:  4\n",
      "Iteration  4  of  10\n",
      "Train Loss:  0.3747735864778601  Train Accuracy:  0.8638148148148148  Val Loss:  0.3916032194408576 VAl MSE LOSS: 0.20096738933093639  Val Accuracy:  0.8613333333333333\n",
      "Epoch:  5\n",
      "Iteration  5  of  10\n",
      "Train Loss:  0.35520552835536734  Train Accuracy:  0.8705740740740741  Val Loss:  0.37695485489960895 VAl MSE LOSS: 0.1932371974096008  Val Accuracy:  0.8658333333333333\n",
      "Epoch:  6\n",
      "Iteration  6  of  10\n",
      "Train Loss:  0.3367355531594122  Train Accuracy:  0.8765925925925926  Val Loss:  0.363534072573314 VAl MSE LOSS: 0.18761356170518717  Val Accuracy:  0.868\n",
      "Epoch:  7\n",
      "Iteration  7  of  10\n",
      "Train Loss:  0.32211681494920236  Train Accuracy:  0.8818703703703704  Val Loss:  0.35370219520630897 VAl MSE LOSS: 0.18314783519452507  Val Accuracy:  0.8701666666666666\n",
      "Epoch:  8\n",
      "Iteration  8  of  10\n",
      "Train Loss:  0.31426507050015495  Train Accuracy:  0.8836296296296297  Val Loss:  0.34836273798158307 VAl MSE LOSS: 0.18143172175137523  Val Accuracy:  0.8726666666666667\n",
      "Epoch:  9\n",
      "Iteration  9  of  10\n",
      "Train Loss:  0.3099686480192381  Train Accuracy:  0.8849074074074074  Val Loss:  0.3480095126036512 VAl MSE LOSS: 0.18090113235528946  Val Accuracy:  0.8711666666666666\n",
      "Epoch:  10\n",
      "Iteration  10  of  10\n",
      "Train Loss:  0.2964442811752858  Train Accuracy:  0.8902777777777777  Val Loss:  0.3372551221549354 VAl MSE LOSS: 0.17532616335831724  Val Accuracy:  0.8756666666666667\n"
     ]
    },
    {
     "data": {
      "text/html": [
       "Waiting for W&B process to finish... <strong style=\"color:green\">(success).</strong>"
      ],
      "text/plain": [
       "<IPython.core.display.HTML object>"
      ]
     },
     "metadata": {},
     "output_type": "display_data"
    },
    {
     "data": {
      "text/html": [
       "<style>\n",
       "    table.wandb td:nth-child(1) { padding: 0 10px; text-align: left ; width: auto;} td:nth-child(2) {text-align: left ; width: 100%}\n",
       "    .wandb-row { display: flex; flex-direction: row; flex-wrap: wrap; justify-content: flex-start; width: 100% }\n",
       "    .wandb-col { display: flex; flex-direction: column; flex-basis: 100%; flex: 1; padding: 10px; }\n",
       "    </style>\n",
       "<div class=\"wandb-row\"><div class=\"wandb-col\"><h3>Run history:</h3><br/><table class=\"wandb\"><tr><td>epoch</td><td>▁▂▃▃▄▅▆▆▇█</td></tr><tr><td>train_accuracy</td><td>▁▃▄▅▆▇▇▇▇█</td></tr><tr><td>train_loss</td><td>█▆▄▃▃▂▂▂▁▁</td></tr><tr><td>val_accuracy</td><td>▁▃▅▆▇▇▇█▇█</td></tr><tr><td>val_loss</td><td>█▆▄▃▂▂▂▁▁▁</td></tr><tr><td>val_mse_loss</td><td>█▆▄▃▂▂▂▁▁▁</td></tr></table><br/></div><div class=\"wandb-col\"><h3>Run summary:</h3><br/><table class=\"wandb\"><tr><td>epoch</td><td>9</td></tr><tr><td>train_accuracy</td><td>0.89028</td></tr><tr><td>train_loss</td><td>0.29644</td></tr><tr><td>val_accuracy</td><td>0.87567</td></tr><tr><td>val_loss</td><td>0.33726</td></tr><tr><td>val_mse_loss</td><td>0.17533</td></tr></table><br/></div></div>"
      ],
      "text/plain": [
       "<IPython.core.display.HTML object>"
      ]
     },
     "metadata": {},
     "output_type": "display_data"
    },
    {
     "data": {
      "text/html": [
       " View run <strong style=\"color:#cdcd00\">winter-sweep-2</strong> at: <a href='https://wandb.ai/cs20b075/assignment-1/runs/boge7d36' target=\"_blank\">https://wandb.ai/cs20b075/assignment-1/runs/boge7d36</a><br/>Synced 5 W&B file(s), 0 media file(s), 0 artifact file(s) and 0 other file(s)"
      ],
      "text/plain": [
       "<IPython.core.display.HTML object>"
      ]
     },
     "metadata": {},
     "output_type": "display_data"
    },
    {
     "data": {
      "text/html": [
       "Find logs at: <code>./wandb/run-20230319_123225-boge7d36/logs</code>"
      ],
      "text/plain": [
       "<IPython.core.display.HTML object>"
      ]
     },
     "metadata": {},
     "output_type": "display_data"
    },
    {
     "name": "stderr",
     "output_type": "stream",
     "text": [
      "\u001b[34m\u001b[1mwandb\u001b[0m: Agent Starting Run: i7shv5or with config:\n",
      "\u001b[34m\u001b[1mwandb\u001b[0m: \tactivation_function: tanh\n",
      "\u001b[34m\u001b[1mwandb\u001b[0m: \tbatch: 32\n",
      "\u001b[34m\u001b[1mwandb\u001b[0m: \tepochs: 10\n",
      "\u001b[34m\u001b[1mwandb\u001b[0m: \thidden_layer_size: 128\n",
      "\u001b[34m\u001b[1mwandb\u001b[0m: \tlearning_rate: 0.001\n",
      "\u001b[34m\u001b[1mwandb\u001b[0m: \tnum_hidden_layers: 5\n",
      "\u001b[34m\u001b[1mwandb\u001b[0m: \toptimizer: rmsprop\n",
      "\u001b[34m\u001b[1mwandb\u001b[0m: \tweight_decay: 0.05\n",
      "\u001b[34m\u001b[1mwandb\u001b[0m: \tweight_initialisation: xavier\n",
      "Failed to detect the name of this notebook, you can set it manually with the WANDB_NOTEBOOK_NAME environment variable to enable code saving.\n",
      "\u001b[34m\u001b[1mwandb\u001b[0m: \u001b[33mWARNING\u001b[0m Ignored wandb.init() arg project when running a sweep.\n"
     ]
    },
    {
     "data": {
      "text/html": [
       "wandb version 0.14.0 is available!  To upgrade, please run:\n",
       " $ pip install wandb --upgrade"
      ],
      "text/plain": [
       "<IPython.core.display.HTML object>"
      ]
     },
     "metadata": {},
     "output_type": "display_data"
    },
    {
     "data": {
      "text/html": [
       "Tracking run with wandb version 0.13.10"
      ],
      "text/plain": [
       "<IPython.core.display.HTML object>"
      ]
     },
     "metadata": {},
     "output_type": "display_data"
    },
    {
     "data": {
      "text/html": [
       "Run data is saved locally in <code>/home/sooraj/sem/dl/assignment-1/wandb/run-20230319_123246-i7shv5or</code>"
      ],
      "text/plain": [
       "<IPython.core.display.HTML object>"
      ]
     },
     "metadata": {},
     "output_type": "display_data"
    },
    {
     "data": {
      "text/html": [
       "Syncing run <strong><a href='https://wandb.ai/cs20b075/assignment-1/runs/i7shv5or' target=\"_blank\">balmy-sweep-3</a></strong> to <a href='https://wandb.ai/cs20b075/assignment-1' target=\"_blank\">Weights & Biases</a> (<a href='https://wandb.me/run' target=\"_blank\">docs</a>)<br/>Sweep page: <a href='https://wandb.ai/cs20b075/assignment-1/sweeps/byqia87m' target=\"_blank\">https://wandb.ai/cs20b075/assignment-1/sweeps/byqia87m</a>"
      ],
      "text/plain": [
       "<IPython.core.display.HTML object>"
      ]
     },
     "metadata": {},
     "output_type": "display_data"
    },
    {
     "data": {
      "text/html": [
       " View project at <a href='https://wandb.ai/cs20b075/assignment-1' target=\"_blank\">https://wandb.ai/cs20b075/assignment-1</a>"
      ],
      "text/plain": [
       "<IPython.core.display.HTML object>"
      ]
     },
     "metadata": {},
     "output_type": "display_data"
    },
    {
     "data": {
      "text/html": [
       " View sweep at <a href='https://wandb.ai/cs20b075/assignment-1/sweeps/byqia87m' target=\"_blank\">https://wandb.ai/cs20b075/assignment-1/sweeps/byqia87m</a>"
      ],
      "text/plain": [
       "<IPython.core.display.HTML object>"
      ]
     },
     "metadata": {},
     "output_type": "display_data"
    },
    {
     "data": {
      "text/html": [
       " View run at <a href='https://wandb.ai/cs20b075/assignment-1/runs/i7shv5or' target=\"_blank\">https://wandb.ai/cs20b075/assignment-1/runs/i7shv5or</a>"
      ],
      "text/plain": [
       "<IPython.core.display.HTML object>"
      ]
     },
     "metadata": {},
     "output_type": "display_data"
    },
    {
     "name": "stdout",
     "output_type": "stream",
     "text": [
      "Epoch:  1\n",
      "Iteration  1  of  10\n",
      "Train Loss:  0.5132964728466973  Train Accuracy:  0.8149074074074074  Val Loss:  0.5021635063838019 VAl MSE LOSS: 0.26444164080319515  Val Accuracy:  0.8203333333333334\n",
      "Epoch:  2\n",
      "Iteration  2  of  10\n",
      "Train Loss:  0.4607623944687611  Train Accuracy:  0.8330925925925926  Val Loss:  0.4531486376752391 VAl MSE LOSS: 0.23743961824214804  Val Accuracy:  0.8378333333333333\n",
      "Epoch:  3\n",
      "Iteration  3  of  10\n",
      "Train Loss:  0.4343299879623521  Train Accuracy:  0.843037037037037  Val Loss:  0.4308545490771865 VAl MSE LOSS: 0.22392426043713765  Val Accuracy:  0.8456666666666667\n",
      "Epoch:  4\n",
      "Iteration  4  of  10\n",
      "Train Loss:  0.4091149042592099  Train Accuracy:  0.8532592592592593  Val Loss:  0.41020357352356573 VAl MSE LOSS: 0.21185278454546816  Val Accuracy:  0.8546666666666667\n",
      "Epoch:  5\n",
      "Iteration  5  of  10\n",
      "Train Loss:  0.39996237691966036  Train Accuracy:  0.8560185185185185  Val Loss:  0.40459405900334067 VAl MSE LOSS: 0.20812510794242448  Val Accuracy:  0.8563333333333333\n",
      "Epoch:  6\n",
      "Iteration  6  of  10\n",
      "Train Loss:  0.3980779236977952  Train Accuracy:  0.8567962962962963  Val Loss:  0.4058873205356356 VAl MSE LOSS: 0.2080404361936073  Val Accuracy:  0.8568333333333333\n",
      "Epoch:  7\n",
      "Iteration  7  of  10\n",
      "Train Loss:  0.39544528869710915  Train Accuracy:  0.8582962962962963  Val Loss:  0.40581877126548715 VAl MSE LOSS: 0.20767611299772715  Val Accuracy:  0.857\n",
      "Epoch:  8\n",
      "Iteration  8  of  10\n",
      "Train Loss:  0.3944838369564561  Train Accuracy:  0.8585555555555555  Val Loss:  0.4064191127724678 VAl MSE LOSS: 0.20804994528002344  Val Accuracy:  0.8565\n",
      "Epoch:  9\n",
      "Iteration  9  of  10\n",
      "Train Loss:  0.38961291228705225  Train Accuracy:  0.8604444444444445  Val Loss:  0.4029681713318494 VAl MSE LOSS: 0.20636043122290398  Val Accuracy:  0.8588333333333333\n",
      "Epoch:  10\n",
      "Iteration  10  of  10\n",
      "Train Loss:  0.3875368830328841  Train Accuracy:  0.8615555555555555  Val Loss:  0.4022154503059233 VAl MSE LOSS: 0.2058134268749946  Val Accuracy:  0.8605\n"
     ]
    },
    {
     "data": {
      "text/html": [
       "Waiting for W&B process to finish... <strong style=\"color:green\">(success).</strong>"
      ],
      "text/plain": [
       "<IPython.core.display.HTML object>"
      ]
     },
     "metadata": {},
     "output_type": "display_data"
    },
    {
     "data": {
      "application/vnd.jupyter.widget-view+json": {
       "model_id": "7d77781b546e4293b922dbd47ba5240a",
       "version_major": 2,
       "version_minor": 0
      },
      "text/plain": [
       "VBox(children=(Label(value='0.002 MB of 0.002 MB uploaded (0.000 MB deduped)\\r'), FloatProgress(value=1.0, max…"
      ]
     },
     "metadata": {},
     "output_type": "display_data"
    },
    {
     "data": {
      "text/html": [
       "<style>\n",
       "    table.wandb td:nth-child(1) { padding: 0 10px; text-align: left ; width: auto;} td:nth-child(2) {text-align: left ; width: 100%}\n",
       "    .wandb-row { display: flex; flex-direction: row; flex-wrap: wrap; justify-content: flex-start; width: 100% }\n",
       "    .wandb-col { display: flex; flex-direction: column; flex-basis: 100%; flex: 1; padding: 10px; }\n",
       "    </style>\n",
       "<div class=\"wandb-row\"><div class=\"wandb-col\"><h3>Run history:</h3><br/><table class=\"wandb\"><tr><td>epoch</td><td>▁▂▃▃▄▅▆▆▇█</td></tr><tr><td>train_accuracy</td><td>▁▄▅▇▇▇████</td></tr><tr><td>train_loss</td><td>█▅▄▂▂▂▁▁▁▁</td></tr><tr><td>val_accuracy</td><td>▁▄▅▇▇▇▇▇██</td></tr><tr><td>val_loss</td><td>█▅▃▂▁▁▁▁▁▁</td></tr><tr><td>val_mse_loss</td><td>█▅▃▂▁▁▁▁▁▁</td></tr></table><br/></div><div class=\"wandb-col\"><h3>Run summary:</h3><br/><table class=\"wandb\"><tr><td>epoch</td><td>9</td></tr><tr><td>train_accuracy</td><td>0.86156</td></tr><tr><td>train_loss</td><td>0.38754</td></tr><tr><td>val_accuracy</td><td>0.8605</td></tr><tr><td>val_loss</td><td>0.40222</td></tr><tr><td>val_mse_loss</td><td>0.20581</td></tr></table><br/></div></div>"
      ],
      "text/plain": [
       "<IPython.core.display.HTML object>"
      ]
     },
     "metadata": {},
     "output_type": "display_data"
    },
    {
     "data": {
      "text/html": [
       " View run <strong style=\"color:#cdcd00\">balmy-sweep-3</strong> at: <a href='https://wandb.ai/cs20b075/assignment-1/runs/i7shv5or' target=\"_blank\">https://wandb.ai/cs20b075/assignment-1/runs/i7shv5or</a><br/>Synced 5 W&B file(s), 0 media file(s), 0 artifact file(s) and 0 other file(s)"
      ],
      "text/plain": [
       "<IPython.core.display.HTML object>"
      ]
     },
     "metadata": {},
     "output_type": "display_data"
    },
    {
     "data": {
      "text/html": [
       "Find logs at: <code>./wandb/run-20230319_123246-i7shv5or/logs</code>"
      ],
      "text/plain": [
       "<IPython.core.display.HTML object>"
      ]
     },
     "metadata": {},
     "output_type": "display_data"
    },
    {
     "name": "stderr",
     "output_type": "stream",
     "text": [
      "\u001b[34m\u001b[1mwandb\u001b[0m: Agent Starting Run: b6mtlgw9 with config:\n",
      "\u001b[34m\u001b[1mwandb\u001b[0m: \tactivation_function: relu\n",
      "\u001b[34m\u001b[1mwandb\u001b[0m: \tbatch: 64\n",
      "\u001b[34m\u001b[1mwandb\u001b[0m: \tepochs: 10\n",
      "\u001b[34m\u001b[1mwandb\u001b[0m: \thidden_layer_size: 32\n",
      "\u001b[34m\u001b[1mwandb\u001b[0m: \tlearning_rate: 0.0001\n",
      "\u001b[34m\u001b[1mwandb\u001b[0m: \tnum_hidden_layers: 4\n",
      "\u001b[34m\u001b[1mwandb\u001b[0m: \toptimizer: nesterov\n",
      "\u001b[34m\u001b[1mwandb\u001b[0m: \tweight_decay: 0\n",
      "\u001b[34m\u001b[1mwandb\u001b[0m: \tweight_initialisation: random\n",
      "Failed to detect the name of this notebook, you can set it manually with the WANDB_NOTEBOOK_NAME environment variable to enable code saving.\n",
      "\u001b[34m\u001b[1mwandb\u001b[0m: \u001b[33mWARNING\u001b[0m Ignored wandb.init() arg project when running a sweep.\n"
     ]
    },
    {
     "data": {
      "text/html": [
       "wandb version 0.14.0 is available!  To upgrade, please run:\n",
       " $ pip install wandb --upgrade"
      ],
      "text/plain": [
       "<IPython.core.display.HTML object>"
      ]
     },
     "metadata": {},
     "output_type": "display_data"
    },
    {
     "data": {
      "text/html": [
       "Tracking run with wandb version 0.13.10"
      ],
      "text/plain": [
       "<IPython.core.display.HTML object>"
      ]
     },
     "metadata": {},
     "output_type": "display_data"
    },
    {
     "data": {
      "text/html": [
       "Run data is saved locally in <code>/home/sooraj/sem/dl/assignment-1/wandb/run-20230319_123513-b6mtlgw9</code>"
      ],
      "text/plain": [
       "<IPython.core.display.HTML object>"
      ]
     },
     "metadata": {},
     "output_type": "display_data"
    },
    {
     "data": {
      "text/html": [
       "Syncing run <strong><a href='https://wandb.ai/cs20b075/assignment-1/runs/b6mtlgw9' target=\"_blank\">different-sweep-4</a></strong> to <a href='https://wandb.ai/cs20b075/assignment-1' target=\"_blank\">Weights & Biases</a> (<a href='https://wandb.me/run' target=\"_blank\">docs</a>)<br/>Sweep page: <a href='https://wandb.ai/cs20b075/assignment-1/sweeps/byqia87m' target=\"_blank\">https://wandb.ai/cs20b075/assignment-1/sweeps/byqia87m</a>"
      ],
      "text/plain": [
       "<IPython.core.display.HTML object>"
      ]
     },
     "metadata": {},
     "output_type": "display_data"
    },
    {
     "data": {
      "text/html": [
       " View project at <a href='https://wandb.ai/cs20b075/assignment-1' target=\"_blank\">https://wandb.ai/cs20b075/assignment-1</a>"
      ],
      "text/plain": [
       "<IPython.core.display.HTML object>"
      ]
     },
     "metadata": {},
     "output_type": "display_data"
    },
    {
     "data": {
      "text/html": [
       " View sweep at <a href='https://wandb.ai/cs20b075/assignment-1/sweeps/byqia87m' target=\"_blank\">https://wandb.ai/cs20b075/assignment-1/sweeps/byqia87m</a>"
      ],
      "text/plain": [
       "<IPython.core.display.HTML object>"
      ]
     },
     "metadata": {},
     "output_type": "display_data"
    },
    {
     "data": {
      "text/html": [
       " View run at <a href='https://wandb.ai/cs20b075/assignment-1/runs/b6mtlgw9' target=\"_blank\">https://wandb.ai/cs20b075/assignment-1/runs/b6mtlgw9</a>"
      ],
      "text/plain": [
       "<IPython.core.display.HTML object>"
      ]
     },
     "metadata": {},
     "output_type": "display_data"
    },
    {
     "name": "stdout",
     "output_type": "stream",
     "text": [
      "Epoch:  1\n",
      "Iteration  1  of  10\n",
      "Train Loss:  2.3025850929940437  Train Accuracy:  0.10031481481481481  Val Loss:  2.3025850929940432 VAl MSE LOSS: 0.9000000000000001  Val Accuracy:  0.09716666666666667\n",
      "Epoch:  2\n",
      "Iteration  2  of  10\n",
      "Train Loss:  2.3025850929940437  Train Accuracy:  0.10031481481481481  Val Loss:  2.3025850929940432 VAl MSE LOSS: 0.9000000000000001  Val Accuracy:  0.09716666666666667\n",
      "Epoch:  3\n",
      "Iteration  3  of  10\n",
      "Train Loss:  2.3025850929940437  Train Accuracy:  0.10031481481481481  Val Loss:  2.3025850929940432 VAl MSE LOSS: 0.9000000000000001  Val Accuracy:  0.09716666666666667\n",
      "Epoch:  4\n",
      "Iteration  4  of  10\n",
      "Train Loss:  2.3025850929940437  Train Accuracy:  0.10031481481481481  Val Loss:  2.3025850929940432 VAl MSE LOSS: 0.9000000000000001  Val Accuracy:  0.09716666666666667\n",
      "Epoch:  5\n",
      "Iteration  5  of  10\n",
      "Train Loss:  2.3025850929940437  Train Accuracy:  0.10031481481481481  Val Loss:  2.3025850929940432 VAl MSE LOSS: 0.9000000000000001  Val Accuracy:  0.09716666666666667\n",
      "Epoch:  6\n",
      "Iteration  6  of  10\n",
      "Train Loss:  2.3025850929940437  Train Accuracy:  0.10031481481481481  Val Loss:  2.3025850929940432 VAl MSE LOSS: 0.9000000000000001  Val Accuracy:  0.09716666666666667\n",
      "Epoch:  7\n",
      "Iteration  7  of  10\n",
      "Train Loss:  2.3025850929940437  Train Accuracy:  0.10031481481481481  Val Loss:  2.3025850929940432 VAl MSE LOSS: 0.9000000000000001  Val Accuracy:  0.09716666666666667\n",
      "Epoch:  8\n",
      "Iteration  8  of  10\n",
      "Train Loss:  2.3025850929940437  Train Accuracy:  0.10031481481481481  Val Loss:  2.3025850929940432 VAl MSE LOSS: 0.9000000000000001  Val Accuracy:  0.09716666666666667\n",
      "Epoch:  9\n",
      "Iteration  9  of  10\n",
      "Train Loss:  2.3025850929940437  Train Accuracy:  0.10031481481481481  Val Loss:  2.3025850929940432 VAl MSE LOSS: 0.9000000000000001  Val Accuracy:  0.09716666666666667\n",
      "Epoch:  10\n",
      "Iteration  10  of  10\n",
      "Train Loss:  2.3025850929940437  Train Accuracy:  0.10031481481481481  Val Loss:  2.3025850929940432 VAl MSE LOSS: 0.9000000000000001  Val Accuracy:  0.09716666666666667\n"
     ]
    },
    {
     "data": {
      "text/html": [
       "Waiting for W&B process to finish... <strong style=\"color:green\">(success).</strong>"
      ],
      "text/plain": [
       "<IPython.core.display.HTML object>"
      ]
     },
     "metadata": {},
     "output_type": "display_data"
    },
    {
     "data": {
      "application/vnd.jupyter.widget-view+json": {
       "model_id": "fdf96555bc9143f9a030a6f8c68c1b94",
       "version_major": 2,
       "version_minor": 0
      },
      "text/plain": [
       "VBox(children=(Label(value='0.002 MB of 0.002 MB uploaded (0.000 MB deduped)\\r'), FloatProgress(value=1.0, max…"
      ]
     },
     "metadata": {},
     "output_type": "display_data"
    },
    {
     "data": {
      "text/html": [
       "<style>\n",
       "    table.wandb td:nth-child(1) { padding: 0 10px; text-align: left ; width: auto;} td:nth-child(2) {text-align: left ; width: 100%}\n",
       "    .wandb-row { display: flex; flex-direction: row; flex-wrap: wrap; justify-content: flex-start; width: 100% }\n",
       "    .wandb-col { display: flex; flex-direction: column; flex-basis: 100%; flex: 1; padding: 10px; }\n",
       "    </style>\n",
       "<div class=\"wandb-row\"><div class=\"wandb-col\"><h3>Run history:</h3><br/><table class=\"wandb\"><tr><td>epoch</td><td>▁▂▃▃▄▅▆▆▇█</td></tr><tr><td>train_accuracy</td><td>▁▁▁▁▁▁▁▁▁▁</td></tr><tr><td>train_loss</td><td>▁▁▁▁▁▁▁▁▁▁</td></tr><tr><td>val_accuracy</td><td>▁▁▁▁▁▁▁▁▁▁</td></tr><tr><td>val_loss</td><td>▁▁▁▁▁▁▁▁▁▁</td></tr><tr><td>val_mse_loss</td><td>▁▁▁▁▁▁▁▁▁▁</td></tr></table><br/></div><div class=\"wandb-col\"><h3>Run summary:</h3><br/><table class=\"wandb\"><tr><td>epoch</td><td>9</td></tr><tr><td>train_accuracy</td><td>0.10031</td></tr><tr><td>train_loss</td><td>2.30259</td></tr><tr><td>val_accuracy</td><td>0.09717</td></tr><tr><td>val_loss</td><td>2.30259</td></tr><tr><td>val_mse_loss</td><td>0.9</td></tr></table><br/></div></div>"
      ],
      "text/plain": [
       "<IPython.core.display.HTML object>"
      ]
     },
     "metadata": {},
     "output_type": "display_data"
    },
    {
     "data": {
      "text/html": [
       " View run <strong style=\"color:#cdcd00\">different-sweep-4</strong> at: <a href='https://wandb.ai/cs20b075/assignment-1/runs/b6mtlgw9' target=\"_blank\">https://wandb.ai/cs20b075/assignment-1/runs/b6mtlgw9</a><br/>Synced 5 W&B file(s), 0 media file(s), 0 artifact file(s) and 0 other file(s)"
      ],
      "text/plain": [
       "<IPython.core.display.HTML object>"
      ]
     },
     "metadata": {},
     "output_type": "display_data"
    },
    {
     "data": {
      "text/html": [
       "Find logs at: <code>./wandb/run-20230319_123513-b6mtlgw9/logs</code>"
      ],
      "text/plain": [
       "<IPython.core.display.HTML object>"
      ]
     },
     "metadata": {},
     "output_type": "display_data"
    },
    {
     "name": "stderr",
     "output_type": "stream",
     "text": [
      "\u001b[34m\u001b[1mwandb\u001b[0m: Sweep Agent: Waiting for job.\n",
      "\u001b[34m\u001b[1mwandb\u001b[0m: Job received.\n",
      "\u001b[34m\u001b[1mwandb\u001b[0m: Agent Starting Run: 8dbtx2ga with config:\n",
      "\u001b[34m\u001b[1mwandb\u001b[0m: \tactivation_function: relu\n",
      "\u001b[34m\u001b[1mwandb\u001b[0m: \tbatch: 64\n",
      "\u001b[34m\u001b[1mwandb\u001b[0m: \tepochs: 5\n",
      "\u001b[34m\u001b[1mwandb\u001b[0m: \thidden_layer_size: 32\n",
      "\u001b[34m\u001b[1mwandb\u001b[0m: \tlearning_rate: 0.0001\n",
      "\u001b[34m\u001b[1mwandb\u001b[0m: \tnum_hidden_layers: 4\n",
      "\u001b[34m\u001b[1mwandb\u001b[0m: \toptimizer: nesterov\n",
      "\u001b[34m\u001b[1mwandb\u001b[0m: \tweight_decay: 0\n",
      "\u001b[34m\u001b[1mwandb\u001b[0m: \tweight_initialisation: xavier\n",
      "Failed to detect the name of this notebook, you can set it manually with the WANDB_NOTEBOOK_NAME environment variable to enable code saving.\n",
      "\u001b[34m\u001b[1mwandb\u001b[0m: \u001b[33mWARNING\u001b[0m Ignored wandb.init() arg project when running a sweep.\n"
     ]
    },
    {
     "data": {
      "text/html": [
       "wandb version 0.14.0 is available!  To upgrade, please run:\n",
       " $ pip install wandb --upgrade"
      ],
      "text/plain": [
       "<IPython.core.display.HTML object>"
      ]
     },
     "metadata": {},
     "output_type": "display_data"
    },
    {
     "data": {
      "text/html": [
       "Tracking run with wandb version 0.13.10"
      ],
      "text/plain": [
       "<IPython.core.display.HTML object>"
      ]
     },
     "metadata": {},
     "output_type": "display_data"
    },
    {
     "data": {
      "text/html": [
       "Run data is saved locally in <code>/home/sooraj/sem/dl/assignment-1/wandb/run-20230319_123601-8dbtx2ga</code>"
      ],
      "text/plain": [
       "<IPython.core.display.HTML object>"
      ]
     },
     "metadata": {},
     "output_type": "display_data"
    },
    {
     "data": {
      "text/html": [
       "Syncing run <strong><a href='https://wandb.ai/cs20b075/assignment-1/runs/8dbtx2ga' target=\"_blank\">grateful-sweep-5</a></strong> to <a href='https://wandb.ai/cs20b075/assignment-1' target=\"_blank\">Weights & Biases</a> (<a href='https://wandb.me/run' target=\"_blank\">docs</a>)<br/>Sweep page: <a href='https://wandb.ai/cs20b075/assignment-1/sweeps/byqia87m' target=\"_blank\">https://wandb.ai/cs20b075/assignment-1/sweeps/byqia87m</a>"
      ],
      "text/plain": [
       "<IPython.core.display.HTML object>"
      ]
     },
     "metadata": {},
     "output_type": "display_data"
    },
    {
     "data": {
      "text/html": [
       " View project at <a href='https://wandb.ai/cs20b075/assignment-1' target=\"_blank\">https://wandb.ai/cs20b075/assignment-1</a>"
      ],
      "text/plain": [
       "<IPython.core.display.HTML object>"
      ]
     },
     "metadata": {},
     "output_type": "display_data"
    },
    {
     "data": {
      "text/html": [
       " View sweep at <a href='https://wandb.ai/cs20b075/assignment-1/sweeps/byqia87m' target=\"_blank\">https://wandb.ai/cs20b075/assignment-1/sweeps/byqia87m</a>"
      ],
      "text/plain": [
       "<IPython.core.display.HTML object>"
      ]
     },
     "metadata": {},
     "output_type": "display_data"
    },
    {
     "data": {
      "text/html": [
       " View run at <a href='https://wandb.ai/cs20b075/assignment-1/runs/8dbtx2ga' target=\"_blank\">https://wandb.ai/cs20b075/assignment-1/runs/8dbtx2ga</a>"
      ],
      "text/plain": [
       "<IPython.core.display.HTML object>"
      ]
     },
     "metadata": {},
     "output_type": "display_data"
    },
    {
     "name": "stdout",
     "output_type": "stream",
     "text": [
      "Epoch:  1\n",
      "Iteration  1  of  5\n",
      "Train Loss:  0.4952819574926147  Train Accuracy:  0.8237037037037037  Val Loss:  0.4972917532793098 VAl MSE LOSS: 0.25344686445272463  Val Accuracy:  0.8216666666666667\n",
      "Epoch:  2\n",
      "Iteration  2  of  5\n",
      "Train Loss:  0.42551539062784866  Train Accuracy:  0.8461296296296297  Val Loss:  0.43782014258900054 VAl MSE LOSS: 0.2261371718798325  Val Accuracy:  0.8423333333333334\n",
      "Epoch:  3\n",
      "Iteration  3  of  5\n",
      "Train Loss:  0.40040800743460203  Train Accuracy:  0.8529074074074074  Val Loss:  0.4157735937017931 VAl MSE LOSS: 0.214451330584326  Val Accuracy:  0.8496666666666667\n",
      "Epoch:  4\n",
      "Iteration  4  of  5\n",
      "Train Loss:  0.3757948636289451  Train Accuracy:  0.8622962962962963  Val Loss:  0.39547267258064583 VAl MSE LOSS: 0.2031079621021188  Val Accuracy:  0.8578333333333333\n",
      "Epoch:  5\n",
      "Iteration  5  of  5\n",
      "Train Loss:  0.35540527345900236  Train Accuracy:  0.8695  Val Loss:  0.37798635322894686 VAl MSE LOSS: 0.19344706658775546  Val Accuracy:  0.8656666666666667\n"
     ]
    },
    {
     "data": {
      "text/html": [
       "Waiting for W&B process to finish... <strong style=\"color:green\">(success).</strong>"
      ],
      "text/plain": [
       "<IPython.core.display.HTML object>"
      ]
     },
     "metadata": {},
     "output_type": "display_data"
    },
    {
     "data": {
      "text/html": [
       "<style>\n",
       "    table.wandb td:nth-child(1) { padding: 0 10px; text-align: left ; width: auto;} td:nth-child(2) {text-align: left ; width: 100%}\n",
       "    .wandb-row { display: flex; flex-direction: row; flex-wrap: wrap; justify-content: flex-start; width: 100% }\n",
       "    .wandb-col { display: flex; flex-direction: column; flex-basis: 100%; flex: 1; padding: 10px; }\n",
       "    </style>\n",
       "<div class=\"wandb-row\"><div class=\"wandb-col\"><h3>Run history:</h3><br/><table class=\"wandb\"><tr><td>epoch</td><td>▁▃▅▆█</td></tr><tr><td>train_accuracy</td><td>▁▄▅▇█</td></tr><tr><td>train_loss</td><td>█▅▃▂▁</td></tr><tr><td>val_accuracy</td><td>▁▄▅▇█</td></tr><tr><td>val_loss</td><td>█▅▃▂▁</td></tr><tr><td>val_mse_loss</td><td>█▅▃▂▁</td></tr></table><br/></div><div class=\"wandb-col\"><h3>Run summary:</h3><br/><table class=\"wandb\"><tr><td>epoch</td><td>4</td></tr><tr><td>train_accuracy</td><td>0.8695</td></tr><tr><td>train_loss</td><td>0.35541</td></tr><tr><td>val_accuracy</td><td>0.86567</td></tr><tr><td>val_loss</td><td>0.37799</td></tr><tr><td>val_mse_loss</td><td>0.19345</td></tr></table><br/></div></div>"
      ],
      "text/plain": [
       "<IPython.core.display.HTML object>"
      ]
     },
     "metadata": {},
     "output_type": "display_data"
    },
    {
     "data": {
      "text/html": [
       " View run <strong style=\"color:#cdcd00\">grateful-sweep-5</strong> at: <a href='https://wandb.ai/cs20b075/assignment-1/runs/8dbtx2ga' target=\"_blank\">https://wandb.ai/cs20b075/assignment-1/runs/8dbtx2ga</a><br/>Synced 5 W&B file(s), 0 media file(s), 0 artifact file(s) and 0 other file(s)"
      ],
      "text/plain": [
       "<IPython.core.display.HTML object>"
      ]
     },
     "metadata": {},
     "output_type": "display_data"
    },
    {
     "data": {
      "text/html": [
       "Find logs at: <code>./wandb/run-20230319_123601-8dbtx2ga/logs</code>"
      ],
      "text/plain": [
       "<IPython.core.display.HTML object>"
      ]
     },
     "metadata": {},
     "output_type": "display_data"
    },
    {
     "name": "stderr",
     "output_type": "stream",
     "text": [
      "\u001b[34m\u001b[1mwandb\u001b[0m: Sweep Agent: Waiting for job.\n",
      "\u001b[34m\u001b[1mwandb\u001b[0m: Job received.\n",
      "\u001b[34m\u001b[1mwandb\u001b[0m: Agent Starting Run: i76uo34c with config:\n",
      "\u001b[34m\u001b[1mwandb\u001b[0m: \tactivation_function: relu\n",
      "\u001b[34m\u001b[1mwandb\u001b[0m: \tbatch: 32\n",
      "\u001b[34m\u001b[1mwandb\u001b[0m: \tepochs: 5\n",
      "\u001b[34m\u001b[1mwandb\u001b[0m: \thidden_layer_size: 64\n",
      "\u001b[34m\u001b[1mwandb\u001b[0m: \tlearning_rate: 0.0003\n",
      "\u001b[34m\u001b[1mwandb\u001b[0m: \tnum_hidden_layers: 2\n",
      "\u001b[34m\u001b[1mwandb\u001b[0m: \toptimizer: nesterov\n",
      "\u001b[34m\u001b[1mwandb\u001b[0m: \tweight_decay: 0.5\n",
      "\u001b[34m\u001b[1mwandb\u001b[0m: \tweight_initialisation: random\n",
      "Failed to detect the name of this notebook, you can set it manually with the WANDB_NOTEBOOK_NAME environment variable to enable code saving.\n",
      "\u001b[34m\u001b[1mwandb\u001b[0m: \u001b[33mWARNING\u001b[0m Ignored wandb.init() arg project when running a sweep.\n"
     ]
    },
    {
     "data": {
      "text/html": [
       "wandb version 0.14.0 is available!  To upgrade, please run:\n",
       " $ pip install wandb --upgrade"
      ],
      "text/plain": [
       "<IPython.core.display.HTML object>"
      ]
     },
     "metadata": {},
     "output_type": "display_data"
    },
    {
     "data": {
      "text/html": [
       "Tracking run with wandb version 0.13.10"
      ],
      "text/plain": [
       "<IPython.core.display.HTML object>"
      ]
     },
     "metadata": {},
     "output_type": "display_data"
    },
    {
     "data": {
      "text/html": [
       "Run data is saved locally in <code>/home/sooraj/sem/dl/assignment-1/wandb/run-20230319_123629-i76uo34c</code>"
      ],
      "text/plain": [
       "<IPython.core.display.HTML object>"
      ]
     },
     "metadata": {},
     "output_type": "display_data"
    },
    {
     "data": {
      "text/html": [
       "Syncing run <strong><a href='https://wandb.ai/cs20b075/assignment-1/runs/i76uo34c' target=\"_blank\">wise-sweep-6</a></strong> to <a href='https://wandb.ai/cs20b075/assignment-1' target=\"_blank\">Weights & Biases</a> (<a href='https://wandb.me/run' target=\"_blank\">docs</a>)<br/>Sweep page: <a href='https://wandb.ai/cs20b075/assignment-1/sweeps/byqia87m' target=\"_blank\">https://wandb.ai/cs20b075/assignment-1/sweeps/byqia87m</a>"
      ],
      "text/plain": [
       "<IPython.core.display.HTML object>"
      ]
     },
     "metadata": {},
     "output_type": "display_data"
    },
    {
     "data": {
      "text/html": [
       " View project at <a href='https://wandb.ai/cs20b075/assignment-1' target=\"_blank\">https://wandb.ai/cs20b075/assignment-1</a>"
      ],
      "text/plain": [
       "<IPython.core.display.HTML object>"
      ]
     },
     "metadata": {},
     "output_type": "display_data"
    },
    {
     "data": {
      "text/html": [
       " View sweep at <a href='https://wandb.ai/cs20b075/assignment-1/sweeps/byqia87m' target=\"_blank\">https://wandb.ai/cs20b075/assignment-1/sweeps/byqia87m</a>"
      ],
      "text/plain": [
       "<IPython.core.display.HTML object>"
      ]
     },
     "metadata": {},
     "output_type": "display_data"
    },
    {
     "data": {
      "text/html": [
       " View run at <a href='https://wandb.ai/cs20b075/assignment-1/runs/i76uo34c' target=\"_blank\">https://wandb.ai/cs20b075/assignment-1/runs/i76uo34c</a>"
      ],
      "text/plain": [
       "<IPython.core.display.HTML object>"
      ]
     },
     "metadata": {},
     "output_type": "display_data"
    },
    {
     "name": "stdout",
     "output_type": "stream",
     "text": [
      "Epoch:  1\n",
      "Iteration  1  of  5\n",
      "Train Loss:  0.6077186353041565  Train Accuracy:  0.7829259259259259  Val Loss:  0.6019112110262667 VAl MSE LOSS: 0.30509647149194546  Val Accuracy:  0.783\n",
      "Epoch:  2\n",
      "Iteration  2  of  5\n",
      "Train Loss:  0.5596390718452547  Train Accuracy:  0.8057592592592593  Val Loss:  0.5556892568425731 VAl MSE LOSS: 0.2819438812284491  Val Accuracy:  0.8068333333333333\n",
      "Epoch:  3\n",
      "Iteration  3  of  5\n",
      "Train Loss:  0.5585978870678368  Train Accuracy:  0.8066666666666666  Val Loss:  0.5560530518568767 VAl MSE LOSS: 0.2817042183449805  Val Accuracy:  0.8056666666666666\n",
      "Epoch:  4\n",
      "Iteration  4  of  5\n",
      "Train Loss:  0.5495815957416962  Train Accuracy:  0.8093333333333333  Val Loss:  0.5468727213933642 VAl MSE LOSS: 0.2771195809989027  Val Accuracy:  0.8101666666666667\n",
      "Epoch:  5\n",
      "Iteration  5  of  5\n",
      "Train Loss:  0.5484827657377062  Train Accuracy:  0.8087592592592593  Val Loss:  0.5448548351088934 VAl MSE LOSS: 0.27643949214353686  Val Accuracy:  0.81\n"
     ]
    },
    {
     "data": {
      "text/html": [
       "Waiting for W&B process to finish... <strong style=\"color:green\">(success).</strong>"
      ],
      "text/plain": [
       "<IPython.core.display.HTML object>"
      ]
     },
     "metadata": {},
     "output_type": "display_data"
    },
    {
     "data": {
      "application/vnd.jupyter.widget-view+json": {
       "model_id": "e0159cb4f81847aa80421f50b6c6ac4e",
       "version_major": 2,
       "version_minor": 0
      },
      "text/plain": [
       "VBox(children=(Label(value='0.002 MB of 0.002 MB uploaded (0.000 MB deduped)\\r'), FloatProgress(value=1.0, max…"
      ]
     },
     "metadata": {},
     "output_type": "display_data"
    },
    {
     "data": {
      "text/html": [
       "<style>\n",
       "    table.wandb td:nth-child(1) { padding: 0 10px; text-align: left ; width: auto;} td:nth-child(2) {text-align: left ; width: 100%}\n",
       "    .wandb-row { display: flex; flex-direction: row; flex-wrap: wrap; justify-content: flex-start; width: 100% }\n",
       "    .wandb-col { display: flex; flex-direction: column; flex-basis: 100%; flex: 1; padding: 10px; }\n",
       "    </style>\n",
       "<div class=\"wandb-row\"><div class=\"wandb-col\"><h3>Run history:</h3><br/><table class=\"wandb\"><tr><td>epoch</td><td>▁▃▅▆█</td></tr><tr><td>train_accuracy</td><td>▁▇▇██</td></tr><tr><td>train_loss</td><td>█▂▂▁▁</td></tr><tr><td>val_accuracy</td><td>▁▇▇██</td></tr><tr><td>val_loss</td><td>█▂▂▁▁</td></tr><tr><td>val_mse_loss</td><td>█▂▂▁▁</td></tr></table><br/></div><div class=\"wandb-col\"><h3>Run summary:</h3><br/><table class=\"wandb\"><tr><td>epoch</td><td>4</td></tr><tr><td>train_accuracy</td><td>0.80876</td></tr><tr><td>train_loss</td><td>0.54848</td></tr><tr><td>val_accuracy</td><td>0.81</td></tr><tr><td>val_loss</td><td>0.54485</td></tr><tr><td>val_mse_loss</td><td>0.27644</td></tr></table><br/></div></div>"
      ],
      "text/plain": [
       "<IPython.core.display.HTML object>"
      ]
     },
     "metadata": {},
     "output_type": "display_data"
    },
    {
     "data": {
      "text/html": [
       " View run <strong style=\"color:#cdcd00\">wise-sweep-6</strong> at: <a href='https://wandb.ai/cs20b075/assignment-1/runs/i76uo34c' target=\"_blank\">https://wandb.ai/cs20b075/assignment-1/runs/i76uo34c</a><br/>Synced 5 W&B file(s), 0 media file(s), 0 artifact file(s) and 0 other file(s)"
      ],
      "text/plain": [
       "<IPython.core.display.HTML object>"
      ]
     },
     "metadata": {},
     "output_type": "display_data"
    },
    {
     "data": {
      "text/html": [
       "Find logs at: <code>./wandb/run-20230319_123629-i76uo34c/logs</code>"
      ],
      "text/plain": [
       "<IPython.core.display.HTML object>"
      ]
     },
     "metadata": {},
     "output_type": "display_data"
    },
    {
     "name": "stderr",
     "output_type": "stream",
     "text": [
      "\u001b[34m\u001b[1mwandb\u001b[0m: Agent Starting Run: scbu50dw with config:\n",
      "\u001b[34m\u001b[1mwandb\u001b[0m: \tactivation_function: sigmoid\n",
      "\u001b[34m\u001b[1mwandb\u001b[0m: \tbatch: 16\n",
      "\u001b[34m\u001b[1mwandb\u001b[0m: \tepochs: 10\n",
      "\u001b[34m\u001b[1mwandb\u001b[0m: \thidden_layer_size: 32\n",
      "\u001b[34m\u001b[1mwandb\u001b[0m: \tlearning_rate: 0.0001\n",
      "\u001b[34m\u001b[1mwandb\u001b[0m: \tnum_hidden_layers: 4\n",
      "\u001b[34m\u001b[1mwandb\u001b[0m: \toptimizer: nadam\n",
      "\u001b[34m\u001b[1mwandb\u001b[0m: \tweight_decay: 0.05\n",
      "\u001b[34m\u001b[1mwandb\u001b[0m: \tweight_initialisation: random\n",
      "Failed to detect the name of this notebook, you can set it manually with the WANDB_NOTEBOOK_NAME environment variable to enable code saving.\n",
      "\u001b[34m\u001b[1mwandb\u001b[0m: \u001b[33mWARNING\u001b[0m Ignored wandb.init() arg project when running a sweep.\n"
     ]
    },
    {
     "data": {
      "text/html": [
       "wandb version 0.14.0 is available!  To upgrade, please run:\n",
       " $ pip install wandb --upgrade"
      ],
      "text/plain": [
       "<IPython.core.display.HTML object>"
      ]
     },
     "metadata": {},
     "output_type": "display_data"
    },
    {
     "data": {
      "text/html": [
       "Tracking run with wandb version 0.13.10"
      ],
      "text/plain": [
       "<IPython.core.display.HTML object>"
      ]
     },
     "metadata": {},
     "output_type": "display_data"
    },
    {
     "data": {
      "text/html": [
       "Run data is saved locally in <code>/home/sooraj/sem/dl/assignment-1/wandb/run-20230319_123650-scbu50dw</code>"
      ],
      "text/plain": [
       "<IPython.core.display.HTML object>"
      ]
     },
     "metadata": {},
     "output_type": "display_data"
    },
    {
     "data": {
      "text/html": [
       "Syncing run <strong><a href='https://wandb.ai/cs20b075/assignment-1/runs/scbu50dw' target=\"_blank\">floral-sweep-7</a></strong> to <a href='https://wandb.ai/cs20b075/assignment-1' target=\"_blank\">Weights & Biases</a> (<a href='https://wandb.me/run' target=\"_blank\">docs</a>)<br/>Sweep page: <a href='https://wandb.ai/cs20b075/assignment-1/sweeps/byqia87m' target=\"_blank\">https://wandb.ai/cs20b075/assignment-1/sweeps/byqia87m</a>"
      ],
      "text/plain": [
       "<IPython.core.display.HTML object>"
      ]
     },
     "metadata": {},
     "output_type": "display_data"
    },
    {
     "data": {
      "text/html": [
       " View project at <a href='https://wandb.ai/cs20b075/assignment-1' target=\"_blank\">https://wandb.ai/cs20b075/assignment-1</a>"
      ],
      "text/plain": [
       "<IPython.core.display.HTML object>"
      ]
     },
     "metadata": {},
     "output_type": "display_data"
    },
    {
     "data": {
      "text/html": [
       " View sweep at <a href='https://wandb.ai/cs20b075/assignment-1/sweeps/byqia87m' target=\"_blank\">https://wandb.ai/cs20b075/assignment-1/sweeps/byqia87m</a>"
      ],
      "text/plain": [
       "<IPython.core.display.HTML object>"
      ]
     },
     "metadata": {},
     "output_type": "display_data"
    },
    {
     "data": {
      "text/html": [
       " View run at <a href='https://wandb.ai/cs20b075/assignment-1/runs/scbu50dw' target=\"_blank\">https://wandb.ai/cs20b075/assignment-1/runs/scbu50dw</a>"
      ],
      "text/plain": [
       "<IPython.core.display.HTML object>"
      ]
     },
     "metadata": {},
     "output_type": "display_data"
    },
    {
     "name": "stdout",
     "output_type": "stream",
     "text": [
      "Epoch:  1\n",
      "Iteration  1  of  10\n",
      "Train Loss:  1.3924913846192424  Train Accuracy:  0.529537037037037  Val Loss:  1.3686966103513187 VAl MSE LOSS: 0.6254162817916652  Val Accuracy:  0.5256666666666666\n",
      "Epoch:  2\n",
      "Iteration  2  of  10\n",
      "Train Loss:  0.9720606200087555  Train Accuracy:  0.6655555555555556  Val Loss:  0.9581543040832351 VAl MSE LOSS: 0.46672941424831377  Val Accuracy:  0.6668333333333333\n",
      "Epoch:  3\n",
      "Iteration  3  of  10\n",
      "Train Loss:  0.8041776673029791  Train Accuracy:  0.7399259259259259  Val Loss:  0.7879831314004485 VAl MSE LOSS: 0.3839428473356804  Val Accuracy:  0.7401666666666666\n",
      "Epoch:  4\n",
      "Iteration  4  of  10\n",
      "Train Loss:  0.709787160575552  Train Accuracy:  0.7791481481481481  Val Loss:  0.694232946788768 VAl MSE LOSS: 0.33436288474095793  Val Accuracy:  0.7811666666666667\n",
      "Epoch:  5\n",
      "Iteration  5  of  10\n",
      "Train Loss:  0.6587643466425515  Train Accuracy:  0.8002407407407407  Val Loss:  0.6453451134328043 VAl MSE LOSS: 0.3081815849456399  Val Accuracy:  0.804\n",
      "Epoch:  6\n",
      "Iteration  6  of  10\n",
      "Train Loss:  0.6305986419418783  Train Accuracy:  0.8123333333333334  Val Loss:  0.6191613144020652 VAl MSE LOSS: 0.29301002598639025  Val Accuracy:  0.8173333333333334\n",
      "Epoch:  7\n",
      "Iteration  7  of  10\n",
      "Train Loss:  0.6171477299164806  Train Accuracy:  0.8177222222222222  Val Loss:  0.6067820759071217 VAl MSE LOSS: 0.2854794727678451  Val Accuracy:  0.8233333333333334\n",
      "Epoch:  8\n",
      "Iteration  8  of  10\n",
      "Train Loss:  0.6103712453982987  Train Accuracy:  0.8202962962962963  Val Loss:  0.6008671471911012 VAl MSE LOSS: 0.28163856120313613  Val Accuracy:  0.8263333333333334\n",
      "Epoch:  9\n",
      "Iteration  9  of  10\n",
      "Train Loss:  0.6065416916386884  Train Accuracy:  0.8227962962962962  Val Loss:  0.5977477347820239 VAl MSE LOSS: 0.2795369480196328  Val Accuracy:  0.827\n",
      "Epoch:  10\n",
      "Iteration  10  of  10\n",
      "Train Loss:  0.6039137147062702  Train Accuracy:  0.8241666666666667  Val Loss:  0.5956372938420906 VAl MSE LOSS: 0.2782379192277334  Val Accuracy:  0.8286666666666667\n"
     ]
    },
    {
     "data": {
      "text/html": [
       "Waiting for W&B process to finish... <strong style=\"color:green\">(success).</strong>"
      ],
      "text/plain": [
       "<IPython.core.display.HTML object>"
      ]
     },
     "metadata": {},
     "output_type": "display_data"
    },
    {
     "data": {
      "application/vnd.jupyter.widget-view+json": {
       "model_id": "6358be6422cd4f8b9540e607ae236ef2",
       "version_major": 2,
       "version_minor": 0
      },
      "text/plain": [
       "VBox(children=(Label(value='0.002 MB of 0.002 MB uploaded (0.000 MB deduped)\\r'), FloatProgress(value=1.0, max…"
      ]
     },
     "metadata": {},
     "output_type": "display_data"
    },
    {
     "data": {
      "text/html": [
       "<style>\n",
       "    table.wandb td:nth-child(1) { padding: 0 10px; text-align: left ; width: auto;} td:nth-child(2) {text-align: left ; width: 100%}\n",
       "    .wandb-row { display: flex; flex-direction: row; flex-wrap: wrap; justify-content: flex-start; width: 100% }\n",
       "    .wandb-col { display: flex; flex-direction: column; flex-basis: 100%; flex: 1; padding: 10px; }\n",
       "    </style>\n",
       "<div class=\"wandb-row\"><div class=\"wandb-col\"><h3>Run history:</h3><br/><table class=\"wandb\"><tr><td>epoch</td><td>▁▂▃▃▄▅▆▆▇█</td></tr><tr><td>train_accuracy</td><td>▁▄▆▇▇█████</td></tr><tr><td>train_loss</td><td>█▄▃▂▁▁▁▁▁▁</td></tr><tr><td>val_accuracy</td><td>▁▄▆▇▇█████</td></tr><tr><td>val_loss</td><td>█▄▃▂▁▁▁▁▁▁</td></tr><tr><td>val_mse_loss</td><td>█▅▃▂▂▁▁▁▁▁</td></tr></table><br/></div><div class=\"wandb-col\"><h3>Run summary:</h3><br/><table class=\"wandb\"><tr><td>epoch</td><td>9</td></tr><tr><td>train_accuracy</td><td>0.82417</td></tr><tr><td>train_loss</td><td>0.60391</td></tr><tr><td>val_accuracy</td><td>0.82867</td></tr><tr><td>val_loss</td><td>0.59564</td></tr><tr><td>val_mse_loss</td><td>0.27824</td></tr></table><br/></div></div>"
      ],
      "text/plain": [
       "<IPython.core.display.HTML object>"
      ]
     },
     "metadata": {},
     "output_type": "display_data"
    },
    {
     "data": {
      "text/html": [
       " View run <strong style=\"color:#cdcd00\">floral-sweep-7</strong> at: <a href='https://wandb.ai/cs20b075/assignment-1/runs/scbu50dw' target=\"_blank\">https://wandb.ai/cs20b075/assignment-1/runs/scbu50dw</a><br/>Synced 5 W&B file(s), 0 media file(s), 0 artifact file(s) and 0 other file(s)"
      ],
      "text/plain": [
       "<IPython.core.display.HTML object>"
      ]
     },
     "metadata": {},
     "output_type": "display_data"
    },
    {
     "data": {
      "text/html": [
       "Find logs at: <code>./wandb/run-20230319_123650-scbu50dw/logs</code>"
      ],
      "text/plain": [
       "<IPython.core.display.HTML object>"
      ]
     },
     "metadata": {},
     "output_type": "display_data"
    },
    {
     "name": "stderr",
     "output_type": "stream",
     "text": [
      "\u001b[34m\u001b[1mwandb\u001b[0m: Agent Starting Run: 54txwklb with config:\n",
      "\u001b[34m\u001b[1mwandb\u001b[0m: \tactivation_function: relu\n",
      "\u001b[34m\u001b[1mwandb\u001b[0m: \tbatch: 32\n",
      "\u001b[34m\u001b[1mwandb\u001b[0m: \tepochs: 5\n",
      "\u001b[34m\u001b[1mwandb\u001b[0m: \thidden_layer_size: 32\n",
      "\u001b[34m\u001b[1mwandb\u001b[0m: \tlearning_rate: 0.003\n",
      "\u001b[34m\u001b[1mwandb\u001b[0m: \tnum_hidden_layers: 2\n",
      "\u001b[34m\u001b[1mwandb\u001b[0m: \toptimizer: nadam\n",
      "\u001b[34m\u001b[1mwandb\u001b[0m: \tweight_decay: 0.05\n",
      "\u001b[34m\u001b[1mwandb\u001b[0m: \tweight_initialisation: xavier\n",
      "Failed to detect the name of this notebook, you can set it manually with the WANDB_NOTEBOOK_NAME environment variable to enable code saving.\n",
      "\u001b[34m\u001b[1mwandb\u001b[0m: \u001b[33mWARNING\u001b[0m Ignored wandb.init() arg project when running a sweep.\n"
     ]
    },
    {
     "data": {
      "text/html": [
       "wandb version 0.14.0 is available!  To upgrade, please run:\n",
       " $ pip install wandb --upgrade"
      ],
      "text/plain": [
       "<IPython.core.display.HTML object>"
      ]
     },
     "metadata": {},
     "output_type": "display_data"
    },
    {
     "data": {
      "text/html": [
       "Tracking run with wandb version 0.13.10"
      ],
      "text/plain": [
       "<IPython.core.display.HTML object>"
      ]
     },
     "metadata": {},
     "output_type": "display_data"
    },
    {
     "data": {
      "text/html": [
       "Run data is saved locally in <code>/home/sooraj/sem/dl/assignment-1/wandb/run-20230319_123729-54txwklb</code>"
      ],
      "text/plain": [
       "<IPython.core.display.HTML object>"
      ]
     },
     "metadata": {},
     "output_type": "display_data"
    },
    {
     "data": {
      "text/html": [
       "Syncing run <strong><a href='https://wandb.ai/cs20b075/assignment-1/runs/54txwklb' target=\"_blank\">earthy-sweep-8</a></strong> to <a href='https://wandb.ai/cs20b075/assignment-1' target=\"_blank\">Weights & Biases</a> (<a href='https://wandb.me/run' target=\"_blank\">docs</a>)<br/>Sweep page: <a href='https://wandb.ai/cs20b075/assignment-1/sweeps/byqia87m' target=\"_blank\">https://wandb.ai/cs20b075/assignment-1/sweeps/byqia87m</a>"
      ],
      "text/plain": [
       "<IPython.core.display.HTML object>"
      ]
     },
     "metadata": {},
     "output_type": "display_data"
    },
    {
     "data": {
      "text/html": [
       " View project at <a href='https://wandb.ai/cs20b075/assignment-1' target=\"_blank\">https://wandb.ai/cs20b075/assignment-1</a>"
      ],
      "text/plain": [
       "<IPython.core.display.HTML object>"
      ]
     },
     "metadata": {},
     "output_type": "display_data"
    },
    {
     "data": {
      "text/html": [
       " View sweep at <a href='https://wandb.ai/cs20b075/assignment-1/sweeps/byqia87m' target=\"_blank\">https://wandb.ai/cs20b075/assignment-1/sweeps/byqia87m</a>"
      ],
      "text/plain": [
       "<IPython.core.display.HTML object>"
      ]
     },
     "metadata": {},
     "output_type": "display_data"
    },
    {
     "data": {
      "text/html": [
       " View run at <a href='https://wandb.ai/cs20b075/assignment-1/runs/54txwklb' target=\"_blank\">https://wandb.ai/cs20b075/assignment-1/runs/54txwklb</a>"
      ],
      "text/plain": [
       "<IPython.core.display.HTML object>"
      ]
     },
     "metadata": {},
     "output_type": "display_data"
    },
    {
     "name": "stdout",
     "output_type": "stream",
     "text": [
      "Epoch:  1\n",
      "Iteration  1  of  5\n",
      "Train Loss:  0.4235069243184507  Train Accuracy:  0.8492037037037037  Val Loss:  0.4306374340010755 VAl MSE LOSS: 0.22008980184744398  Val Accuracy:  0.85\n",
      "Epoch:  2\n",
      "Iteration  2  of  5\n",
      "Train Loss:  0.41320496881314916  Train Accuracy:  0.853037037037037  Val Loss:  0.4210984274624374 VAl MSE LOSS: 0.2140207181468002  Val Accuracy:  0.8495\n",
      "Epoch:  3\n",
      "Iteration  3  of  5\n",
      "Train Loss:  0.42049928318354024  Train Accuracy:  0.8487592592592592  Val Loss:  0.4268988594653577 VAl MSE LOSS: 0.21978804263140933  Val Accuracy:  0.8471666666666666\n",
      "Epoch:  4\n",
      "Iteration  4  of  5\n",
      "Train Loss:  0.41665657468623263  Train Accuracy:  0.8504259259259259  Val Loss:  0.4267894730214725 VAl MSE LOSS: 0.2201909948000434  Val Accuracy:  0.8481666666666666\n",
      "Epoch:  5\n",
      "Iteration  5  of  5\n",
      "Train Loss:  0.4060685618909883  Train Accuracy:  0.8522592592592593  Val Loss:  0.41544847601375323 VAl MSE LOSS: 0.21476678818280384  Val Accuracy:  0.8496666666666667\n"
     ]
    },
    {
     "data": {
      "text/html": [
       "Waiting for W&B process to finish... <strong style=\"color:green\">(success).</strong>"
      ],
      "text/plain": [
       "<IPython.core.display.HTML object>"
      ]
     },
     "metadata": {},
     "output_type": "display_data"
    },
    {
     "data": {
      "application/vnd.jupyter.widget-view+json": {
       "model_id": "16119dec46564a2e906638310f4bc22c",
       "version_major": 2,
       "version_minor": 0
      },
      "text/plain": [
       "VBox(children=(Label(value='0.002 MB of 0.009 MB uploaded (0.000 MB deduped)\\r'), FloatProgress(value=0.190086…"
      ]
     },
     "metadata": {},
     "output_type": "display_data"
    },
    {
     "data": {
      "text/html": [
       "<style>\n",
       "    table.wandb td:nth-child(1) { padding: 0 10px; text-align: left ; width: auto;} td:nth-child(2) {text-align: left ; width: 100%}\n",
       "    .wandb-row { display: flex; flex-direction: row; flex-wrap: wrap; justify-content: flex-start; width: 100% }\n",
       "    .wandb-col { display: flex; flex-direction: column; flex-basis: 100%; flex: 1; padding: 10px; }\n",
       "    </style>\n",
       "<div class=\"wandb-row\"><div class=\"wandb-col\"><h3>Run history:</h3><br/><table class=\"wandb\"><tr><td>epoch</td><td>▁▃▅▆█</td></tr><tr><td>train_accuracy</td><td>▂█▁▄▇</td></tr><tr><td>train_loss</td><td>█▄▇▅▁</td></tr><tr><td>val_accuracy</td><td>█▇▁▃▇</td></tr><tr><td>val_loss</td><td>█▄▆▆▁</td></tr><tr><td>val_mse_loss</td><td>█▁██▂</td></tr></table><br/></div><div class=\"wandb-col\"><h3>Run summary:</h3><br/><table class=\"wandb\"><tr><td>epoch</td><td>4</td></tr><tr><td>train_accuracy</td><td>0.85226</td></tr><tr><td>train_loss</td><td>0.40607</td></tr><tr><td>val_accuracy</td><td>0.84967</td></tr><tr><td>val_loss</td><td>0.41545</td></tr><tr><td>val_mse_loss</td><td>0.21477</td></tr></table><br/></div></div>"
      ],
      "text/plain": [
       "<IPython.core.display.HTML object>"
      ]
     },
     "metadata": {},
     "output_type": "display_data"
    },
    {
     "data": {
      "text/html": [
       " View run <strong style=\"color:#cdcd00\">earthy-sweep-8</strong> at: <a href='https://wandb.ai/cs20b075/assignment-1/runs/54txwklb' target=\"_blank\">https://wandb.ai/cs20b075/assignment-1/runs/54txwklb</a><br/>Synced 5 W&B file(s), 0 media file(s), 0 artifact file(s) and 0 other file(s)"
      ],
      "text/plain": [
       "<IPython.core.display.HTML object>"
      ]
     },
     "metadata": {},
     "output_type": "display_data"
    },
    {
     "data": {
      "text/html": [
       "Find logs at: <code>./wandb/run-20230319_123729-54txwklb/logs</code>"
      ],
      "text/plain": [
       "<IPython.core.display.HTML object>"
      ]
     },
     "metadata": {},
     "output_type": "display_data"
    },
    {
     "name": "stderr",
     "output_type": "stream",
     "text": [
      "\u001b[34m\u001b[1mwandb\u001b[0m: Agent Starting Run: plt0kj8b with config:\n",
      "\u001b[34m\u001b[1mwandb\u001b[0m: \tactivation_function: relu\n",
      "\u001b[34m\u001b[1mwandb\u001b[0m: \tbatch: 64\n",
      "\u001b[34m\u001b[1mwandb\u001b[0m: \tepochs: 5\n",
      "\u001b[34m\u001b[1mwandb\u001b[0m: \thidden_layer_size: 64\n",
      "\u001b[34m\u001b[1mwandb\u001b[0m: \tlearning_rate: 0.0003\n",
      "\u001b[34m\u001b[1mwandb\u001b[0m: \tnum_hidden_layers: 4\n",
      "\u001b[34m\u001b[1mwandb\u001b[0m: \toptimizer: rmsprop\n",
      "\u001b[34m\u001b[1mwandb\u001b[0m: \tweight_decay: 0.0005\n",
      "\u001b[34m\u001b[1mwandb\u001b[0m: \tweight_initialisation: xavier\n",
      "Failed to detect the name of this notebook, you can set it manually with the WANDB_NOTEBOOK_NAME environment variable to enable code saving.\n",
      "\u001b[34m\u001b[1mwandb\u001b[0m: \u001b[33mWARNING\u001b[0m Ignored wandb.init() arg project when running a sweep.\n"
     ]
    },
    {
     "data": {
      "text/html": [
       "wandb version 0.14.0 is available!  To upgrade, please run:\n",
       " $ pip install wandb --upgrade"
      ],
      "text/plain": [
       "<IPython.core.display.HTML object>"
      ]
     },
     "metadata": {},
     "output_type": "display_data"
    },
    {
     "data": {
      "text/html": [
       "Tracking run with wandb version 0.13.10"
      ],
      "text/plain": [
       "<IPython.core.display.HTML object>"
      ]
     },
     "metadata": {},
     "output_type": "display_data"
    },
    {
     "data": {
      "text/html": [
       "Run data is saved locally in <code>/home/sooraj/sem/dl/assignment-1/wandb/run-20230319_123745-plt0kj8b</code>"
      ],
      "text/plain": [
       "<IPython.core.display.HTML object>"
      ]
     },
     "metadata": {},
     "output_type": "display_data"
    },
    {
     "data": {
      "text/html": [
       "Syncing run <strong><a href='https://wandb.ai/cs20b075/assignment-1/runs/plt0kj8b' target=\"_blank\">cosmic-sweep-9</a></strong> to <a href='https://wandb.ai/cs20b075/assignment-1' target=\"_blank\">Weights & Biases</a> (<a href='https://wandb.me/run' target=\"_blank\">docs</a>)<br/>Sweep page: <a href='https://wandb.ai/cs20b075/assignment-1/sweeps/byqia87m' target=\"_blank\">https://wandb.ai/cs20b075/assignment-1/sweeps/byqia87m</a>"
      ],
      "text/plain": [
       "<IPython.core.display.HTML object>"
      ]
     },
     "metadata": {},
     "output_type": "display_data"
    },
    {
     "data": {
      "text/html": [
       " View project at <a href='https://wandb.ai/cs20b075/assignment-1' target=\"_blank\">https://wandb.ai/cs20b075/assignment-1</a>"
      ],
      "text/plain": [
       "<IPython.core.display.HTML object>"
      ]
     },
     "metadata": {},
     "output_type": "display_data"
    },
    {
     "data": {
      "text/html": [
       " View sweep at <a href='https://wandb.ai/cs20b075/assignment-1/sweeps/byqia87m' target=\"_blank\">https://wandb.ai/cs20b075/assignment-1/sweeps/byqia87m</a>"
      ],
      "text/plain": [
       "<IPython.core.display.HTML object>"
      ]
     },
     "metadata": {},
     "output_type": "display_data"
    },
    {
     "data": {
      "text/html": [
       " View run at <a href='https://wandb.ai/cs20b075/assignment-1/runs/plt0kj8b' target=\"_blank\">https://wandb.ai/cs20b075/assignment-1/runs/plt0kj8b</a>"
      ],
      "text/plain": [
       "<IPython.core.display.HTML object>"
      ]
     },
     "metadata": {},
     "output_type": "display_data"
    },
    {
     "name": "stdout",
     "output_type": "stream",
     "text": [
      "Epoch:  1\n",
      "Iteration  1  of  5\n",
      "Train Loss:  0.4764003053451971  Train Accuracy:  0.8323333333333334  Val Loss:  0.4678947056135322 VAl MSE LOSS: 0.23745098004289023  Val Accuracy:  0.8338333333333333\n",
      "Epoch:  2\n",
      "Iteration  2  of  5\n",
      "Train Loss:  0.4127978139579394  Train Accuracy:  0.8530925925925926  Val Loss:  0.4132899588423793 VAl MSE LOSS: 0.20967135472728662  Val Accuracy:  0.8543333333333333\n",
      "Epoch:  3\n",
      "Iteration  3  of  5\n",
      "Train Loss:  0.3791697165025227  Train Accuracy:  0.8639259259259259  Val Loss:  0.38748435273756626 VAl MSE LOSS: 0.1977225920848195  Val Accuracy:  0.8616666666666667\n",
      "Epoch:  4\n",
      "Iteration  4  of  5\n",
      "Train Loss:  0.3547957445010345  Train Accuracy:  0.8708888888888889  Val Loss:  0.36864475010888426 VAl MSE LOSS: 0.18870649650700336  Val Accuracy:  0.8691666666666666\n",
      "Epoch:  5\n",
      "Iteration  5  of  5\n",
      "Train Loss:  0.34075495901542574  Train Accuracy:  0.8760740740740741  Val Loss:  0.36155670139861223 VAl MSE LOSS: 0.18446952391279142  Val Accuracy:  0.872\n"
     ]
    },
    {
     "data": {
      "text/html": [
       "Waiting for W&B process to finish... <strong style=\"color:green\">(success).</strong>"
      ],
      "text/plain": [
       "<IPython.core.display.HTML object>"
      ]
     },
     "metadata": {},
     "output_type": "display_data"
    },
    {
     "data": {
      "application/vnd.jupyter.widget-view+json": {
       "model_id": "ef856372fad84e47bd3bb88a7cff55cd",
       "version_major": 2,
       "version_minor": 0
      },
      "text/plain": [
       "VBox(children=(Label(value='0.002 MB of 0.002 MB uploaded (0.000 MB deduped)\\r'), FloatProgress(value=1.0, max…"
      ]
     },
     "metadata": {},
     "output_type": "display_data"
    },
    {
     "data": {
      "text/html": [
       "<style>\n",
       "    table.wandb td:nth-child(1) { padding: 0 10px; text-align: left ; width: auto;} td:nth-child(2) {text-align: left ; width: 100%}\n",
       "    .wandb-row { display: flex; flex-direction: row; flex-wrap: wrap; justify-content: flex-start; width: 100% }\n",
       "    .wandb-col { display: flex; flex-direction: column; flex-basis: 100%; flex: 1; padding: 10px; }\n",
       "    </style>\n",
       "<div class=\"wandb-row\"><div class=\"wandb-col\"><h3>Run history:</h3><br/><table class=\"wandb\"><tr><td>epoch</td><td>▁▃▅▆█</td></tr><tr><td>train_accuracy</td><td>▁▄▆▇█</td></tr><tr><td>train_loss</td><td>█▅▃▂▁</td></tr><tr><td>val_accuracy</td><td>▁▅▆▇█</td></tr><tr><td>val_loss</td><td>█▄▃▁▁</td></tr><tr><td>val_mse_loss</td><td>█▄▃▂▁</td></tr></table><br/></div><div class=\"wandb-col\"><h3>Run summary:</h3><br/><table class=\"wandb\"><tr><td>epoch</td><td>4</td></tr><tr><td>train_accuracy</td><td>0.87607</td></tr><tr><td>train_loss</td><td>0.34075</td></tr><tr><td>val_accuracy</td><td>0.872</td></tr><tr><td>val_loss</td><td>0.36156</td></tr><tr><td>val_mse_loss</td><td>0.18447</td></tr></table><br/></div></div>"
      ],
      "text/plain": [
       "<IPython.core.display.HTML object>"
      ]
     },
     "metadata": {},
     "output_type": "display_data"
    },
    {
     "data": {
      "text/html": [
       " View run <strong style=\"color:#cdcd00\">cosmic-sweep-9</strong> at: <a href='https://wandb.ai/cs20b075/assignment-1/runs/plt0kj8b' target=\"_blank\">https://wandb.ai/cs20b075/assignment-1/runs/plt0kj8b</a><br/>Synced 5 W&B file(s), 0 media file(s), 0 artifact file(s) and 0 other file(s)"
      ],
      "text/plain": [
       "<IPython.core.display.HTML object>"
      ]
     },
     "metadata": {},
     "output_type": "display_data"
    },
    {
     "data": {
      "text/html": [
       "Find logs at: <code>./wandb/run-20230319_123745-plt0kj8b/logs</code>"
      ],
      "text/plain": [
       "<IPython.core.display.HTML object>"
      ]
     },
     "metadata": {},
     "output_type": "display_data"
    },
    {
     "name": "stderr",
     "output_type": "stream",
     "text": [
      "\u001b[34m\u001b[1mwandb\u001b[0m: Agent Starting Run: wox2f48x with config:\n",
      "\u001b[34m\u001b[1mwandb\u001b[0m: \tactivation_function: relu\n",
      "\u001b[34m\u001b[1mwandb\u001b[0m: \tbatch: 16\n",
      "\u001b[34m\u001b[1mwandb\u001b[0m: \tepochs: 5\n",
      "\u001b[34m\u001b[1mwandb\u001b[0m: \thidden_layer_size: 64\n",
      "\u001b[34m\u001b[1mwandb\u001b[0m: \tlearning_rate: 0.001\n",
      "\u001b[34m\u001b[1mwandb\u001b[0m: \tnum_hidden_layers: 3\n",
      "\u001b[34m\u001b[1mwandb\u001b[0m: \toptimizer: adam\n",
      "\u001b[34m\u001b[1mwandb\u001b[0m: \tweight_decay: 0.0005\n",
      "\u001b[34m\u001b[1mwandb\u001b[0m: \tweight_initialisation: xavier\n",
      "Failed to detect the name of this notebook, you can set it manually with the WANDB_NOTEBOOK_NAME environment variable to enable code saving.\n",
      "\u001b[34m\u001b[1mwandb\u001b[0m: \u001b[33mWARNING\u001b[0m Ignored wandb.init() arg project when running a sweep.\n"
     ]
    },
    {
     "data": {
      "text/html": [
       "wandb version 0.14.0 is available!  To upgrade, please run:\n",
       " $ pip install wandb --upgrade"
      ],
      "text/plain": [
       "<IPython.core.display.HTML object>"
      ]
     },
     "metadata": {},
     "output_type": "display_data"
    },
    {
     "data": {
      "text/html": [
       "Tracking run with wandb version 0.13.10"
      ],
      "text/plain": [
       "<IPython.core.display.HTML object>"
      ]
     },
     "metadata": {},
     "output_type": "display_data"
    },
    {
     "data": {
      "text/html": [
       "Run data is saved locally in <code>/home/sooraj/sem/dl/assignment-1/wandb/run-20230319_123817-wox2f48x</code>"
      ],
      "text/plain": [
       "<IPython.core.display.HTML object>"
      ]
     },
     "metadata": {},
     "output_type": "display_data"
    },
    {
     "data": {
      "text/html": [
       "Syncing run <strong><a href='https://wandb.ai/cs20b075/assignment-1/runs/wox2f48x' target=\"_blank\">absurd-sweep-10</a></strong> to <a href='https://wandb.ai/cs20b075/assignment-1' target=\"_blank\">Weights & Biases</a> (<a href='https://wandb.me/run' target=\"_blank\">docs</a>)<br/>Sweep page: <a href='https://wandb.ai/cs20b075/assignment-1/sweeps/byqia87m' target=\"_blank\">https://wandb.ai/cs20b075/assignment-1/sweeps/byqia87m</a>"
      ],
      "text/plain": [
       "<IPython.core.display.HTML object>"
      ]
     },
     "metadata": {},
     "output_type": "display_data"
    },
    {
     "data": {
      "text/html": [
       " View project at <a href='https://wandb.ai/cs20b075/assignment-1' target=\"_blank\">https://wandb.ai/cs20b075/assignment-1</a>"
      ],
      "text/plain": [
       "<IPython.core.display.HTML object>"
      ]
     },
     "metadata": {},
     "output_type": "display_data"
    },
    {
     "data": {
      "text/html": [
       " View sweep at <a href='https://wandb.ai/cs20b075/assignment-1/sweeps/byqia87m' target=\"_blank\">https://wandb.ai/cs20b075/assignment-1/sweeps/byqia87m</a>"
      ],
      "text/plain": [
       "<IPython.core.display.HTML object>"
      ]
     },
     "metadata": {},
     "output_type": "display_data"
    },
    {
     "data": {
      "text/html": [
       " View run at <a href='https://wandb.ai/cs20b075/assignment-1/runs/wox2f48x' target=\"_blank\">https://wandb.ai/cs20b075/assignment-1/runs/wox2f48x</a>"
      ],
      "text/plain": [
       "<IPython.core.display.HTML object>"
      ]
     },
     "metadata": {},
     "output_type": "display_data"
    },
    {
     "name": "stdout",
     "output_type": "stream",
     "text": [
      "Epoch:  1\n",
      "Iteration  1  of  5\n",
      "Train Loss:  0.3746654837132924  Train Accuracy:  0.8641666666666666  Val Loss:  0.38253692987841936 VAl MSE LOSS: 0.19708168551786778  Val Accuracy:  0.8646666666666667\n",
      "Epoch:  2\n",
      "Iteration  2  of  5\n",
      "Train Loss:  0.341460500957854  Train Accuracy:  0.873462962962963  Val Loss:  0.35451538493756063 VAl MSE LOSS: 0.18475017570709493  Val Accuracy:  0.8695\n",
      "Epoch:  3\n",
      "Iteration  3  of  5\n",
      "Train Loss:  0.34024890822087006  Train Accuracy:  0.8736666666666667  Val Loss:  0.3649233465716749 VAl MSE LOSS: 0.1890507653397282  Val Accuracy:  0.8688333333333333\n",
      "Epoch:  4\n",
      "Iteration  4  of  5\n",
      "Train Loss:  0.3255157044652771  Train Accuracy:  0.88  Val Loss:  0.35707888827348044 VAl MSE LOSS: 0.1826890073195095  Val Accuracy:  0.8751666666666666\n",
      "Epoch:  5\n",
      "Iteration  5  of  5\n",
      "Train Loss:  0.32682598416204456  Train Accuracy:  0.8765555555555555  Val Loss:  0.36651874972304344 VAl MSE LOSS: 0.18905488802499532  Val Accuracy:  0.8683333333333333\n"
     ]
    },
    {
     "data": {
      "text/html": [
       "Waiting for W&B process to finish... <strong style=\"color:green\">(success).</strong>"
      ],
      "text/plain": [
       "<IPython.core.display.HTML object>"
      ]
     },
     "metadata": {},
     "output_type": "display_data"
    },
    {
     "data": {
      "application/vnd.jupyter.widget-view+json": {
       "model_id": "7c27c61331be4b0895990283d0ae755e",
       "version_major": 2,
       "version_minor": 0
      },
      "text/plain": [
       "VBox(children=(Label(value='0.002 MB of 0.002 MB uploaded (0.000 MB deduped)\\r'), FloatProgress(value=1.0, max…"
      ]
     },
     "metadata": {},
     "output_type": "display_data"
    },
    {
     "data": {
      "text/html": [
       "<style>\n",
       "    table.wandb td:nth-child(1) { padding: 0 10px; text-align: left ; width: auto;} td:nth-child(2) {text-align: left ; width: 100%}\n",
       "    .wandb-row { display: flex; flex-direction: row; flex-wrap: wrap; justify-content: flex-start; width: 100% }\n",
       "    .wandb-col { display: flex; flex-direction: column; flex-basis: 100%; flex: 1; padding: 10px; }\n",
       "    </style>\n",
       "<div class=\"wandb-row\"><div class=\"wandb-col\"><h3>Run history:</h3><br/><table class=\"wandb\"><tr><td>epoch</td><td>▁▃▅▆█</td></tr><tr><td>train_accuracy</td><td>▁▅▅█▆</td></tr><tr><td>train_loss</td><td>█▃▃▁▁</td></tr><tr><td>val_accuracy</td><td>▁▄▄█▃</td></tr><tr><td>val_loss</td><td>█▁▄▂▄</td></tr><tr><td>val_mse_loss</td><td>█▂▄▁▄</td></tr></table><br/></div><div class=\"wandb-col\"><h3>Run summary:</h3><br/><table class=\"wandb\"><tr><td>epoch</td><td>4</td></tr><tr><td>train_accuracy</td><td>0.87656</td></tr><tr><td>train_loss</td><td>0.32683</td></tr><tr><td>val_accuracy</td><td>0.86833</td></tr><tr><td>val_loss</td><td>0.36652</td></tr><tr><td>val_mse_loss</td><td>0.18905</td></tr></table><br/></div></div>"
      ],
      "text/plain": [
       "<IPython.core.display.HTML object>"
      ]
     },
     "metadata": {},
     "output_type": "display_data"
    },
    {
     "data": {
      "text/html": [
       " View run <strong style=\"color:#cdcd00\">absurd-sweep-10</strong> at: <a href='https://wandb.ai/cs20b075/assignment-1/runs/wox2f48x' target=\"_blank\">https://wandb.ai/cs20b075/assignment-1/runs/wox2f48x</a><br/>Synced 5 W&B file(s), 0 media file(s), 0 artifact file(s) and 0 other file(s)"
      ],
      "text/plain": [
       "<IPython.core.display.HTML object>"
      ]
     },
     "metadata": {},
     "output_type": "display_data"
    },
    {
     "data": {
      "text/html": [
       "Find logs at: <code>./wandb/run-20230319_123817-wox2f48x/logs</code>"
      ],
      "text/plain": [
       "<IPython.core.display.HTML object>"
      ]
     },
     "metadata": {},
     "output_type": "display_data"
    }
   ],
   "source": [
    "sweep_config = {\n",
    "    \"method\": \"bayes\",\n",
    "    \"metric\": {\"goal\": \"maximize\", \"name\": \"val_accuracy\"},\n",
    "    \"parameters\": {\n",
    "        \"hidden_layer_size\": {\"values\": [32, 64, 128]},\n",
    "        \"num_hidden_layers\": {\"values\": [2, 3, 4, 5]},\n",
    "        \"learning_rate\": {\"values\": [0.001, 0.0001, 0.003, 0.0003]},\n",
    "        \"batch\": {\"values\": [16, 32, 64]},\n",
    "        \"epochs\": {\"values\": [5, 10]},\n",
    "        \"optimizer\": {\"values\": [\"sgd\", \"momentum\", \"nesterov\", \"rmsprop\", \"adam\", \"nadam\"]},\n",
    "        \"activation_function\": {\"values\": [\"sigmoid\", \"tanh\", \"relu\"]},\n",
    "        \"weight_decay\": {\"values\": [0, 0.0005, 0.05, 0.5]},\n",
    "        \"weight_initialisation\": {\"values\": [\"xavier\", \"random\"]},\n",
    "    }\n",
    "}\n",
    "sweep_id = wandb.sweep(sweep=sweep_config, project=\"assignment-1\")\n",
    "wandb.agent(sweep_id=sweep_id, function=wandb_sweep, count=10)\n"
   ]
  },
  {
   "cell_type": "code",
   "execution_count": 13,
   "metadata": {},
   "outputs": [
    {
     "name": "stderr",
     "output_type": "stream",
     "text": [
      "\u001b[34m\u001b[1mwandb\u001b[0m: Agent Starting Run: jttwxktv with config:\n",
      "\u001b[34m\u001b[1mwandb\u001b[0m: \tactivation_function: tanh\n",
      "\u001b[34m\u001b[1mwandb\u001b[0m: \tbatch: 32\n",
      "\u001b[34m\u001b[1mwandb\u001b[0m: \tepochs: 5\n",
      "\u001b[34m\u001b[1mwandb\u001b[0m: \thidden_layer_size: 32\n",
      "\u001b[34m\u001b[1mwandb\u001b[0m: \tlearning_rate: 0.001\n",
      "\u001b[34m\u001b[1mwandb\u001b[0m: \tnum_hidden_layers: 5\n",
      "\u001b[34m\u001b[1mwandb\u001b[0m: \toptimizer: momentum\n",
      "\u001b[34m\u001b[1mwandb\u001b[0m: \tweight_decay: 0.0005\n",
      "\u001b[34m\u001b[1mwandb\u001b[0m: \tweight_initialisation: random\n",
      "Failed to detect the name of this notebook, you can set it manually with the WANDB_NOTEBOOK_NAME environment variable to enable code saving.\n",
      "\u001b[34m\u001b[1mwandb\u001b[0m: \u001b[33mWARNING\u001b[0m Ignored wandb.init() arg project when running a sweep.\n"
     ]
    },
    {
     "data": {
      "text/html": [
       "wandb version 0.14.0 is available!  To upgrade, please run:\n",
       " $ pip install wandb --upgrade"
      ],
      "text/plain": [
       "<IPython.core.display.HTML object>"
      ]
     },
     "metadata": {},
     "output_type": "display_data"
    },
    {
     "data": {
      "text/html": [
       "Tracking run with wandb version 0.13.10"
      ],
      "text/plain": [
       "<IPython.core.display.HTML object>"
      ]
     },
     "metadata": {},
     "output_type": "display_data"
    },
    {
     "data": {
      "text/html": [
       "Run data is saved locally in <code>/home/sooraj/sem/dl/assignment-1/wandb/run-20230319_123959-jttwxktv</code>"
      ],
      "text/plain": [
       "<IPython.core.display.HTML object>"
      ]
     },
     "metadata": {},
     "output_type": "display_data"
    },
    {
     "data": {
      "text/html": [
       "Syncing run <strong><a href='https://wandb.ai/cs20b075/assignment-1/runs/jttwxktv' target=\"_blank\">sandy-sweep-11</a></strong> to <a href='https://wandb.ai/cs20b075/assignment-1' target=\"_blank\">Weights & Biases</a> (<a href='https://wandb.me/run' target=\"_blank\">docs</a>)<br/>Sweep page: <a href='https://wandb.ai/cs20b075/assignment-1/sweeps/byqia87m' target=\"_blank\">https://wandb.ai/cs20b075/assignment-1/sweeps/byqia87m</a>"
      ],
      "text/plain": [
       "<IPython.core.display.HTML object>"
      ]
     },
     "metadata": {},
     "output_type": "display_data"
    },
    {
     "data": {
      "text/html": [
       " View project at <a href='https://wandb.ai/cs20b075/assignment-1' target=\"_blank\">https://wandb.ai/cs20b075/assignment-1</a>"
      ],
      "text/plain": [
       "<IPython.core.display.HTML object>"
      ]
     },
     "metadata": {},
     "output_type": "display_data"
    },
    {
     "data": {
      "text/html": [
       " View sweep at <a href='https://wandb.ai/cs20b075/assignment-1/sweeps/byqia87m' target=\"_blank\">https://wandb.ai/cs20b075/assignment-1/sweeps/byqia87m</a>"
      ],
      "text/plain": [
       "<IPython.core.display.HTML object>"
      ]
     },
     "metadata": {},
     "output_type": "display_data"
    },
    {
     "data": {
      "text/html": [
       " View run at <a href='https://wandb.ai/cs20b075/assignment-1/runs/jttwxktv' target=\"_blank\">https://wandb.ai/cs20b075/assignment-1/runs/jttwxktv</a>"
      ],
      "text/plain": [
       "<IPython.core.display.HTML object>"
      ]
     },
     "metadata": {},
     "output_type": "display_data"
    },
    {
     "name": "stdout",
     "output_type": "stream",
     "text": [
      "Epoch:  1\n",
      "Iteration  1  of  5\n",
      "Train Loss:  1.5247452152763836  Train Accuracy:  0.4211666666666667  Val Loss:  1.511453787747837 VAl MSE LOSS: 0.7132525538521292  Val Accuracy:  0.4226666666666667\n",
      "Epoch:  2\n",
      "Iteration  2  of  5\n",
      "Train Loss:  2.4008715342723312  Train Accuracy:  0.09964814814814815  Val Loss:  2.402472094604423 VAl MSE LOSS: 0.9135766592470624  Val Accuracy:  0.10333333333333333\n",
      "Epoch:  3\n",
      "Iteration  3  of  5\n",
      "Train Loss:  2.401144679459581  Train Accuracy:  0.09966666666666667  Val Loss:  2.40291120146355 VAl MSE LOSS: 0.9136598577879791  Val Accuracy:  0.10333333333333333\n",
      "Epoch:  4\n",
      "Iteration  4  of  5\n",
      "Train Loss:  2.4010771037964576  Train Accuracy:  0.09966666666666667  Val Loss:  2.402849548776484 VAl MSE LOSS: 0.9136426428411514  Val Accuracy:  0.10333333333333333\n",
      "Epoch:  5\n",
      "Iteration  5  of  5\n",
      "Train Loss:  2.4009646195942285  Train Accuracy:  0.09966666666666667  Val Loss:  2.402743628138323 VAl MSE LOSS: 0.9136208284306493  Val Accuracy:  0.10333333333333333\n"
     ]
    },
    {
     "data": {
      "text/html": [
       "Waiting for W&B process to finish... <strong style=\"color:green\">(success).</strong>"
      ],
      "text/plain": [
       "<IPython.core.display.HTML object>"
      ]
     },
     "metadata": {},
     "output_type": "display_data"
    },
    {
     "data": {
      "application/vnd.jupyter.widget-view+json": {
       "model_id": "96604c54e45d4374be23eed4eb59ec81",
       "version_major": 2,
       "version_minor": 0
      },
      "text/plain": [
       "VBox(children=(Label(value='0.002 MB of 0.002 MB uploaded (0.000 MB deduped)\\r'), FloatProgress(value=1.0, max…"
      ]
     },
     "metadata": {},
     "output_type": "display_data"
    },
    {
     "data": {
      "text/html": [
       "<style>\n",
       "    table.wandb td:nth-child(1) { padding: 0 10px; text-align: left ; width: auto;} td:nth-child(2) {text-align: left ; width: 100%}\n",
       "    .wandb-row { display: flex; flex-direction: row; flex-wrap: wrap; justify-content: flex-start; width: 100% }\n",
       "    .wandb-col { display: flex; flex-direction: column; flex-basis: 100%; flex: 1; padding: 10px; }\n",
       "    </style>\n",
       "<div class=\"wandb-row\"><div class=\"wandb-col\"><h3>Run history:</h3><br/><table class=\"wandb\"><tr><td>epoch</td><td>▁▃▅▆█</td></tr><tr><td>train_accuracy</td><td>█▁▁▁▁</td></tr><tr><td>train_loss</td><td>▁████</td></tr><tr><td>val_accuracy</td><td>█▁▁▁▁</td></tr><tr><td>val_loss</td><td>▁████</td></tr><tr><td>val_mse_loss</td><td>▁████</td></tr></table><br/></div><div class=\"wandb-col\"><h3>Run summary:</h3><br/><table class=\"wandb\"><tr><td>epoch</td><td>4</td></tr><tr><td>train_accuracy</td><td>0.09967</td></tr><tr><td>train_loss</td><td>2.40096</td></tr><tr><td>val_accuracy</td><td>0.10333</td></tr><tr><td>val_loss</td><td>2.40274</td></tr><tr><td>val_mse_loss</td><td>0.91362</td></tr></table><br/></div></div>"
      ],
      "text/plain": [
       "<IPython.core.display.HTML object>"
      ]
     },
     "metadata": {},
     "output_type": "display_data"
    },
    {
     "data": {
      "text/html": [
       " View run <strong style=\"color:#cdcd00\">sandy-sweep-11</strong> at: <a href='https://wandb.ai/cs20b075/assignment-1/runs/jttwxktv' target=\"_blank\">https://wandb.ai/cs20b075/assignment-1/runs/jttwxktv</a><br/>Synced 5 W&B file(s), 0 media file(s), 0 artifact file(s) and 0 other file(s)"
      ],
      "text/plain": [
       "<IPython.core.display.HTML object>"
      ]
     },
     "metadata": {},
     "output_type": "display_data"
    },
    {
     "data": {
      "text/html": [
       "Find logs at: <code>./wandb/run-20230319_123959-jttwxktv/logs</code>"
      ],
      "text/plain": [
       "<IPython.core.display.HTML object>"
      ]
     },
     "metadata": {},
     "output_type": "display_data"
    },
    {
     "name": "stderr",
     "output_type": "stream",
     "text": [
      "\u001b[34m\u001b[1mwandb\u001b[0m: Agent Starting Run: rmizduxi with config:\n",
      "\u001b[34m\u001b[1mwandb\u001b[0m: \tactivation_function: relu\n",
      "\u001b[34m\u001b[1mwandb\u001b[0m: \tbatch: 32\n",
      "\u001b[34m\u001b[1mwandb\u001b[0m: \tepochs: 10\n",
      "\u001b[34m\u001b[1mwandb\u001b[0m: \thidden_layer_size: 64\n",
      "\u001b[34m\u001b[1mwandb\u001b[0m: \tlearning_rate: 0.003\n",
      "\u001b[34m\u001b[1mwandb\u001b[0m: \tnum_hidden_layers: 3\n",
      "\u001b[34m\u001b[1mwandb\u001b[0m: \toptimizer: momentum\n",
      "\u001b[34m\u001b[1mwandb\u001b[0m: \tweight_decay: 0.0005\n",
      "\u001b[34m\u001b[1mwandb\u001b[0m: \tweight_initialisation: xavier\n",
      "Failed to detect the name of this notebook, you can set it manually with the WANDB_NOTEBOOK_NAME environment variable to enable code saving.\n",
      "\u001b[34m\u001b[1mwandb\u001b[0m: \u001b[33mWARNING\u001b[0m Ignored wandb.init() arg project when running a sweep.\n"
     ]
    },
    {
     "data": {
      "text/html": [
       "wandb version 0.14.0 is available!  To upgrade, please run:\n",
       " $ pip install wandb --upgrade"
      ],
      "text/plain": [
       "<IPython.core.display.HTML object>"
      ]
     },
     "metadata": {},
     "output_type": "display_data"
    },
    {
     "data": {
      "text/html": [
       "Tracking run with wandb version 0.13.10"
      ],
      "text/plain": [
       "<IPython.core.display.HTML object>"
      ]
     },
     "metadata": {},
     "output_type": "display_data"
    },
    {
     "data": {
      "text/html": [
       "Run data is saved locally in <code>/home/sooraj/sem/dl/assignment-1/wandb/run-20230319_124016-rmizduxi</code>"
      ],
      "text/plain": [
       "<IPython.core.display.HTML object>"
      ]
     },
     "metadata": {},
     "output_type": "display_data"
    },
    {
     "data": {
      "text/html": [
       "Syncing run <strong><a href='https://wandb.ai/cs20b075/assignment-1/runs/rmizduxi' target=\"_blank\">noble-sweep-12</a></strong> to <a href='https://wandb.ai/cs20b075/assignment-1' target=\"_blank\">Weights & Biases</a> (<a href='https://wandb.me/run' target=\"_blank\">docs</a>)<br/>Sweep page: <a href='https://wandb.ai/cs20b075/assignment-1/sweeps/byqia87m' target=\"_blank\">https://wandb.ai/cs20b075/assignment-1/sweeps/byqia87m</a>"
      ],
      "text/plain": [
       "<IPython.core.display.HTML object>"
      ]
     },
     "metadata": {},
     "output_type": "display_data"
    },
    {
     "data": {
      "text/html": [
       " View project at <a href='https://wandb.ai/cs20b075/assignment-1' target=\"_blank\">https://wandb.ai/cs20b075/assignment-1</a>"
      ],
      "text/plain": [
       "<IPython.core.display.HTML object>"
      ]
     },
     "metadata": {},
     "output_type": "display_data"
    },
    {
     "data": {
      "text/html": [
       " View sweep at <a href='https://wandb.ai/cs20b075/assignment-1/sweeps/byqia87m' target=\"_blank\">https://wandb.ai/cs20b075/assignment-1/sweeps/byqia87m</a>"
      ],
      "text/plain": [
       "<IPython.core.display.HTML object>"
      ]
     },
     "metadata": {},
     "output_type": "display_data"
    },
    {
     "data": {
      "text/html": [
       " View run at <a href='https://wandb.ai/cs20b075/assignment-1/runs/rmizduxi' target=\"_blank\">https://wandb.ai/cs20b075/assignment-1/runs/rmizduxi</a>"
      ],
      "text/plain": [
       "<IPython.core.display.HTML object>"
      ]
     },
     "metadata": {},
     "output_type": "display_data"
    },
    {
     "name": "stdout",
     "output_type": "stream",
     "text": [
      "Epoch:  1\n",
      "Iteration  1  of  10\n",
      "Train Loss:  0.7574770018718994  Train Accuracy:  0.7058888888888889  Val Loss:  0.7463694465348047 VAl MSE LOSS: 0.36242022411600705  Val Accuracy:  0.7061666666666667\n",
      "Epoch:  2\n",
      "Iteration  2  of  10\n",
      "Train Loss:  1.3503647620368309  Train Accuracy:  0.4408148148148148  Val Loss:  1.313985360868356 VAl MSE LOSS: 0.5996469114091322  Val Accuracy:  0.4538333333333333\n",
      "Epoch:  3\n",
      "Iteration  3  of  10\n",
      "Train Loss:  1.558969434185052  Train Accuracy:  0.2970740740740741  Val Loss:  1.5266357837897127 VAl MSE LOSS: 0.7308830766732629  Val Accuracy:  0.3001666666666667\n",
      "Epoch:  4\n",
      "Iteration  4  of  10\n",
      "Train Loss:  1.253070382855867  Train Accuracy:  0.38514814814814813  Val Loss:  1.2601187259132525 VAl MSE LOSS: 0.6269210866083128  Val Accuracy:  0.38466666666666666\n",
      "Epoch:  5\n",
      "Iteration  5  of  10\n",
      "Train Loss:  1.959525685128005  Train Accuracy:  0.19590740740740742  Val Loss:  1.955769556762314 VAl MSE LOSS: 0.832489318568762  Val Accuracy:  0.19566666666666666\n",
      "Epoch:  6\n",
      "Iteration  6  of  10\n",
      "Train Loss:  2.302614097223026  Train Accuracy:  0.10031481481481481  Val Loss:  2.3025850929940432 VAl MSE LOSS: 0.9000000000000001  Val Accuracy:  0.09716666666666667\n",
      "Epoch:  7\n",
      "Iteration  7  of  10\n",
      "Train Loss:  2.302612672267457  Train Accuracy:  0.10031481481481481  Val Loss:  2.3025850929940432 VAl MSE LOSS: 0.9000000000000001  Val Accuracy:  0.09716666666666667\n",
      "Epoch:  8\n",
      "Iteration  8  of  10\n",
      "Train Loss:  2.302611317318865  Train Accuracy:  0.10031481481481481  Val Loss:  2.3025850929940432 VAl MSE LOSS: 0.9000000000000001  Val Accuracy:  0.09716666666666667\n",
      "Epoch:  9\n",
      "Iteration  9  of  10\n",
      "Train Loss:  2.30261002893786  Train Accuracy:  0.10031481481481481  Val Loss:  2.3025850929940432 VAl MSE LOSS: 0.9000000000000001  Val Accuracy:  0.09716666666666667\n",
      "Epoch:  10\n",
      "Iteration  10  of  10\n",
      "Train Loss:  2.3026088038540276  Train Accuracy:  0.10031481481481481  Val Loss:  2.3025850929940432 VAl MSE LOSS: 0.9000000000000001  Val Accuracy:  0.09716666666666667\n"
     ]
    },
    {
     "data": {
      "text/html": [
       "Waiting for W&B process to finish... <strong style=\"color:green\">(success).</strong>"
      ],
      "text/plain": [
       "<IPython.core.display.HTML object>"
      ]
     },
     "metadata": {},
     "output_type": "display_data"
    },
    {
     "data": {
      "application/vnd.jupyter.widget-view+json": {
       "model_id": "2c97d847465047c59bf3fa8931b58812",
       "version_major": 2,
       "version_minor": 0
      },
      "text/plain": [
       "VBox(children=(Label(value='0.002 MB of 0.010 MB uploaded (0.000 MB deduped)\\r'), FloatProgress(value=0.171425…"
      ]
     },
     "metadata": {},
     "output_type": "display_data"
    },
    {
     "data": {
      "text/html": [
       "<style>\n",
       "    table.wandb td:nth-child(1) { padding: 0 10px; text-align: left ; width: auto;} td:nth-child(2) {text-align: left ; width: 100%}\n",
       "    .wandb-row { display: flex; flex-direction: row; flex-wrap: wrap; justify-content: flex-start; width: 100% }\n",
       "    .wandb-col { display: flex; flex-direction: column; flex-basis: 100%; flex: 1; padding: 10px; }\n",
       "    </style>\n",
       "<div class=\"wandb-row\"><div class=\"wandb-col\"><h3>Run history:</h3><br/><table class=\"wandb\"><tr><td>epoch</td><td>▁▂▃▃▄▅▆▆▇█</td></tr><tr><td>train_accuracy</td><td>█▅▃▄▂▁▁▁▁▁</td></tr><tr><td>train_loss</td><td>▁▄▅▃▆█████</td></tr><tr><td>val_accuracy</td><td>█▅▃▄▂▁▁▁▁▁</td></tr><tr><td>val_loss</td><td>▁▄▅▃▆█████</td></tr><tr><td>val_mse_loss</td><td>▁▄▆▄▇█████</td></tr></table><br/></div><div class=\"wandb-col\"><h3>Run summary:</h3><br/><table class=\"wandb\"><tr><td>epoch</td><td>9</td></tr><tr><td>train_accuracy</td><td>0.10031</td></tr><tr><td>train_loss</td><td>2.30261</td></tr><tr><td>val_accuracy</td><td>0.09717</td></tr><tr><td>val_loss</td><td>2.30259</td></tr><tr><td>val_mse_loss</td><td>0.9</td></tr></table><br/></div></div>"
      ],
      "text/plain": [
       "<IPython.core.display.HTML object>"
      ]
     },
     "metadata": {},
     "output_type": "display_data"
    },
    {
     "data": {
      "text/html": [
       " View run <strong style=\"color:#cdcd00\">noble-sweep-12</strong> at: <a href='https://wandb.ai/cs20b075/assignment-1/runs/rmizduxi' target=\"_blank\">https://wandb.ai/cs20b075/assignment-1/runs/rmizduxi</a><br/>Synced 5 W&B file(s), 0 media file(s), 0 artifact file(s) and 0 other file(s)"
      ],
      "text/plain": [
       "<IPython.core.display.HTML object>"
      ]
     },
     "metadata": {},
     "output_type": "display_data"
    },
    {
     "data": {
      "text/html": [
       "Find logs at: <code>./wandb/run-20230319_124016-rmizduxi/logs</code>"
      ],
      "text/plain": [
       "<IPython.core.display.HTML object>"
      ]
     },
     "metadata": {},
     "output_type": "display_data"
    },
    {
     "name": "stderr",
     "output_type": "stream",
     "text": [
      "\u001b[34m\u001b[1mwandb\u001b[0m: Sweep Agent: Waiting for job.\n",
      "\u001b[34m\u001b[1mwandb\u001b[0m: Job received.\n",
      "\u001b[34m\u001b[1mwandb\u001b[0m: Agent Starting Run: e6qjucm8 with config:\n",
      "\u001b[34m\u001b[1mwandb\u001b[0m: \tactivation_function: relu\n",
      "\u001b[34m\u001b[1mwandb\u001b[0m: \tbatch: 16\n",
      "\u001b[34m\u001b[1mwandb\u001b[0m: \tepochs: 10\n",
      "\u001b[34m\u001b[1mwandb\u001b[0m: \thidden_layer_size: 128\n",
      "\u001b[34m\u001b[1mwandb\u001b[0m: \tlearning_rate: 0.003\n",
      "\u001b[34m\u001b[1mwandb\u001b[0m: \tnum_hidden_layers: 5\n",
      "\u001b[34m\u001b[1mwandb\u001b[0m: \toptimizer: rmsprop\n",
      "\u001b[34m\u001b[1mwandb\u001b[0m: \tweight_decay: 0.5\n",
      "\u001b[34m\u001b[1mwandb\u001b[0m: \tweight_initialisation: random\n",
      "Failed to detect the name of this notebook, you can set it manually with the WANDB_NOTEBOOK_NAME environment variable to enable code saving.\n",
      "\u001b[34m\u001b[1mwandb\u001b[0m: \u001b[33mWARNING\u001b[0m Ignored wandb.init() arg project when running a sweep.\n"
     ]
    },
    {
     "data": {
      "text/html": [
       "wandb version 0.14.0 is available!  To upgrade, please run:\n",
       " $ pip install wandb --upgrade"
      ],
      "text/plain": [
       "<IPython.core.display.HTML object>"
      ]
     },
     "metadata": {},
     "output_type": "display_data"
    },
    {
     "data": {
      "text/html": [
       "Tracking run with wandb version 0.13.10"
      ],
      "text/plain": [
       "<IPython.core.display.HTML object>"
      ]
     },
     "metadata": {},
     "output_type": "display_data"
    },
    {
     "data": {
      "text/html": [
       "Run data is saved locally in <code>/home/sooraj/sem/dl/assignment-1/wandb/run-20230319_124120-e6qjucm8</code>"
      ],
      "text/plain": [
       "<IPython.core.display.HTML object>"
      ]
     },
     "metadata": {},
     "output_type": "display_data"
    },
    {
     "data": {
      "text/html": [
       "Syncing run <strong><a href='https://wandb.ai/cs20b075/assignment-1/runs/e6qjucm8' target=\"_blank\">daily-sweep-13</a></strong> to <a href='https://wandb.ai/cs20b075/assignment-1' target=\"_blank\">Weights & Biases</a> (<a href='https://wandb.me/run' target=\"_blank\">docs</a>)<br/>Sweep page: <a href='https://wandb.ai/cs20b075/assignment-1/sweeps/byqia87m' target=\"_blank\">https://wandb.ai/cs20b075/assignment-1/sweeps/byqia87m</a>"
      ],
      "text/plain": [
       "<IPython.core.display.HTML object>"
      ]
     },
     "metadata": {},
     "output_type": "display_data"
    },
    {
     "data": {
      "text/html": [
       " View project at <a href='https://wandb.ai/cs20b075/assignment-1' target=\"_blank\">https://wandb.ai/cs20b075/assignment-1</a>"
      ],
      "text/plain": [
       "<IPython.core.display.HTML object>"
      ]
     },
     "metadata": {},
     "output_type": "display_data"
    },
    {
     "data": {
      "text/html": [
       " View sweep at <a href='https://wandb.ai/cs20b075/assignment-1/sweeps/byqia87m' target=\"_blank\">https://wandb.ai/cs20b075/assignment-1/sweeps/byqia87m</a>"
      ],
      "text/plain": [
       "<IPython.core.display.HTML object>"
      ]
     },
     "metadata": {},
     "output_type": "display_data"
    },
    {
     "data": {
      "text/html": [
       " View run at <a href='https://wandb.ai/cs20b075/assignment-1/runs/e6qjucm8' target=\"_blank\">https://wandb.ai/cs20b075/assignment-1/runs/e6qjucm8</a>"
      ],
      "text/plain": [
       "<IPython.core.display.HTML object>"
      ]
     },
     "metadata": {},
     "output_type": "display_data"
    },
    {
     "name": "stdout",
     "output_type": "stream",
     "text": [
      "Epoch:  1\n",
      "Iteration  1  of  10\n",
      "Train Loss:  2.5624210633616937  Train Accuracy:  0.1761111111111111  Val Loss:  2.57619744742295 VAl MSE LOSS: 0.8828742055693963  Val Accuracy:  0.17766666666666667\n",
      "Epoch:  2\n",
      "Iteration  2  of  10\n",
      "Train Loss:  0.7415720140323948  Train Accuracy:  0.7268148148148148  Val Loss:  0.7311424404221415 VAl MSE LOSS: 0.3757240190747485  Val Accuracy:  0.7185\n",
      "Epoch:  3\n",
      "Iteration  3  of  10\n",
      "Train Loss:  0.7133838439454483  Train Accuracy:  0.7416481481481482  Val Loss:  0.703711628883972 VAl MSE LOSS: 0.36068720421192535  Val Accuracy:  0.7378333333333333\n",
      "Epoch:  4\n",
      "Iteration  4  of  10\n",
      "Train Loss:  0.7180641000310573  Train Accuracy:  0.7424814814814815  Val Loss:  0.7065959353876587 VAl MSE LOSS: 0.3612784426280791  Val Accuracy:  0.7376666666666667\n",
      "Epoch:  5\n",
      "Iteration  5  of  10\n",
      "Train Loss:  0.7053673332374832  Train Accuracy:  0.7401851851851852  Val Loss:  0.6961022147717346 VAl MSE LOSS: 0.35794298208765457  Val Accuracy:  0.736\n",
      "Epoch:  6\n",
      "Iteration  6  of  10\n",
      "Train Loss:  0.7055775260839705  Train Accuracy:  0.7348518518518519  Val Loss:  0.6982465233344528 VAl MSE LOSS: 0.3604199683368836  Val Accuracy:  0.73\n",
      "Epoch:  7\n",
      "Iteration  7  of  10\n",
      "Train Loss:  0.6927684316092346  Train Accuracy:  0.7430185185185185  Val Loss:  0.6844807522871724 VAl MSE LOSS: 0.352754629548281  Val Accuracy:  0.7391666666666666\n",
      "Epoch:  8\n",
      "Iteration  8  of  10\n",
      "Train Loss:  0.6907313000208196  Train Accuracy:  0.7451666666666666  Val Loss:  0.6819425253187565 VAl MSE LOSS: 0.35042467037422353  Val Accuracy:  0.7426666666666667\n",
      "Epoch:  9\n",
      "Iteration  9  of  10\n",
      "Train Loss:  0.6855828063474246  Train Accuracy:  0.7486481481481482  Val Loss:  0.6766089276821781 VAl MSE LOSS: 0.3476807764074435  Val Accuracy:  0.7488333333333334\n",
      "Epoch:  10\n",
      "Iteration  10  of  10\n",
      "Train Loss:  0.6843079159749031  Train Accuracy:  0.7502962962962964  Val Loss:  0.6754163737840935 VAl MSE LOSS: 0.34669918590200743  Val Accuracy:  0.7455\n"
     ]
    },
    {
     "data": {
      "text/html": [
       "Waiting for W&B process to finish... <strong style=\"color:green\">(success).</strong>"
      ],
      "text/plain": [
       "<IPython.core.display.HTML object>"
      ]
     },
     "metadata": {},
     "output_type": "display_data"
    },
    {
     "data": {
      "application/vnd.jupyter.widget-view+json": {
       "model_id": "f45a98b3307b4b0fafecf6dff3ba8b9a",
       "version_major": 2,
       "version_minor": 0
      },
      "text/plain": [
       "VBox(children=(Label(value='0.002 MB of 0.002 MB uploaded (0.000 MB deduped)\\r'), FloatProgress(value=1.0, max…"
      ]
     },
     "metadata": {},
     "output_type": "display_data"
    },
    {
     "data": {
      "text/html": [
       "<style>\n",
       "    table.wandb td:nth-child(1) { padding: 0 10px; text-align: left ; width: auto;} td:nth-child(2) {text-align: left ; width: 100%}\n",
       "    .wandb-row { display: flex; flex-direction: row; flex-wrap: wrap; justify-content: flex-start; width: 100% }\n",
       "    .wandb-col { display: flex; flex-direction: column; flex-basis: 100%; flex: 1; padding: 10px; }\n",
       "    </style>\n",
       "<div class=\"wandb-row\"><div class=\"wandb-col\"><h3>Run history:</h3><br/><table class=\"wandb\"><tr><td>epoch</td><td>▁▂▃▃▄▅▆▆▇█</td></tr><tr><td>train_accuracy</td><td>▁█████████</td></tr><tr><td>train_loss</td><td>█▁▁▁▁▁▁▁▁▁</td></tr><tr><td>val_accuracy</td><td>▁█████████</td></tr><tr><td>val_loss</td><td>█▁▁▁▁▁▁▁▁▁</td></tr><tr><td>val_mse_loss</td><td>█▁▁▁▁▁▁▁▁▁</td></tr></table><br/></div><div class=\"wandb-col\"><h3>Run summary:</h3><br/><table class=\"wandb\"><tr><td>epoch</td><td>9</td></tr><tr><td>train_accuracy</td><td>0.7503</td></tr><tr><td>train_loss</td><td>0.68431</td></tr><tr><td>val_accuracy</td><td>0.7455</td></tr><tr><td>val_loss</td><td>0.67542</td></tr><tr><td>val_mse_loss</td><td>0.3467</td></tr></table><br/></div></div>"
      ],
      "text/plain": [
       "<IPython.core.display.HTML object>"
      ]
     },
     "metadata": {},
     "output_type": "display_data"
    },
    {
     "data": {
      "text/html": [
       " View run <strong style=\"color:#cdcd00\">daily-sweep-13</strong> at: <a href='https://wandb.ai/cs20b075/assignment-1/runs/e6qjucm8' target=\"_blank\">https://wandb.ai/cs20b075/assignment-1/runs/e6qjucm8</a><br/>Synced 5 W&B file(s), 0 media file(s), 0 artifact file(s) and 0 other file(s)"
      ],
      "text/plain": [
       "<IPython.core.display.HTML object>"
      ]
     },
     "metadata": {},
     "output_type": "display_data"
    },
    {
     "data": {
      "text/html": [
       "Find logs at: <code>./wandb/run-20230319_124120-e6qjucm8/logs</code>"
      ],
      "text/plain": [
       "<IPython.core.display.HTML object>"
      ]
     },
     "metadata": {},
     "output_type": "display_data"
    },
    {
     "name": "stderr",
     "output_type": "stream",
     "text": [
      "\u001b[34m\u001b[1mwandb\u001b[0m: Sweep Agent: Waiting for job.\n",
      "\u001b[34m\u001b[1mwandb\u001b[0m: Job received.\n",
      "\u001b[34m\u001b[1mwandb\u001b[0m: Agent Starting Run: xyudyl6n with config:\n",
      "\u001b[34m\u001b[1mwandb\u001b[0m: \tactivation_function: tanh\n",
      "\u001b[34m\u001b[1mwandb\u001b[0m: \tbatch: 16\n",
      "\u001b[34m\u001b[1mwandb\u001b[0m: \tepochs: 5\n",
      "\u001b[34m\u001b[1mwandb\u001b[0m: \thidden_layer_size: 128\n",
      "\u001b[34m\u001b[1mwandb\u001b[0m: \tlearning_rate: 0.003\n",
      "\u001b[34m\u001b[1mwandb\u001b[0m: \tnum_hidden_layers: 4\n",
      "\u001b[34m\u001b[1mwandb\u001b[0m: \toptimizer: adam\n",
      "\u001b[34m\u001b[1mwandb\u001b[0m: \tweight_decay: 0.5\n",
      "\u001b[34m\u001b[1mwandb\u001b[0m: \tweight_initialisation: xavier\n",
      "Failed to detect the name of this notebook, you can set it manually with the WANDB_NOTEBOOK_NAME environment variable to enable code saving.\n",
      "\u001b[34m\u001b[1mwandb\u001b[0m: \u001b[33mWARNING\u001b[0m Ignored wandb.init() arg project when running a sweep.\n"
     ]
    },
    {
     "data": {
      "text/html": [
       "wandb version 0.14.0 is available!  To upgrade, please run:\n",
       " $ pip install wandb --upgrade"
      ],
      "text/plain": [
       "<IPython.core.display.HTML object>"
      ]
     },
     "metadata": {},
     "output_type": "display_data"
    },
    {
     "data": {
      "text/html": [
       "Tracking run with wandb version 0.13.10"
      ],
      "text/plain": [
       "<IPython.core.display.HTML object>"
      ]
     },
     "metadata": {},
     "output_type": "display_data"
    },
    {
     "data": {
      "text/html": [
       "Run data is saved locally in <code>/home/sooraj/sem/dl/assignment-1/wandb/run-20230319_124524-xyudyl6n</code>"
      ],
      "text/plain": [
       "<IPython.core.display.HTML object>"
      ]
     },
     "metadata": {},
     "output_type": "display_data"
    },
    {
     "data": {
      "text/html": [
       "Syncing run <strong><a href='https://wandb.ai/cs20b075/assignment-1/runs/xyudyl6n' target=\"_blank\">crisp-sweep-14</a></strong> to <a href='https://wandb.ai/cs20b075/assignment-1' target=\"_blank\">Weights & Biases</a> (<a href='https://wandb.me/run' target=\"_blank\">docs</a>)<br/>Sweep page: <a href='https://wandb.ai/cs20b075/assignment-1/sweeps/byqia87m' target=\"_blank\">https://wandb.ai/cs20b075/assignment-1/sweeps/byqia87m</a>"
      ],
      "text/plain": [
       "<IPython.core.display.HTML object>"
      ]
     },
     "metadata": {},
     "output_type": "display_data"
    },
    {
     "data": {
      "text/html": [
       " View project at <a href='https://wandb.ai/cs20b075/assignment-1' target=\"_blank\">https://wandb.ai/cs20b075/assignment-1</a>"
      ],
      "text/plain": [
       "<IPython.core.display.HTML object>"
      ]
     },
     "metadata": {},
     "output_type": "display_data"
    },
    {
     "data": {
      "text/html": [
       " View sweep at <a href='https://wandb.ai/cs20b075/assignment-1/sweeps/byqia87m' target=\"_blank\">https://wandb.ai/cs20b075/assignment-1/sweeps/byqia87m</a>"
      ],
      "text/plain": [
       "<IPython.core.display.HTML object>"
      ]
     },
     "metadata": {},
     "output_type": "display_data"
    },
    {
     "data": {
      "text/html": [
       " View run at <a href='https://wandb.ai/cs20b075/assignment-1/runs/xyudyl6n' target=\"_blank\">https://wandb.ai/cs20b075/assignment-1/runs/xyudyl6n</a>"
      ],
      "text/plain": [
       "<IPython.core.display.HTML object>"
      ]
     },
     "metadata": {},
     "output_type": "display_data"
    },
    {
     "name": "stdout",
     "output_type": "stream",
     "text": [
      "Epoch:  1\n",
      "Iteration  1  of  5\n",
      "Train Loss:  0.848003748220065  Train Accuracy:  0.7173703703703703  Val Loss:  0.8358920117030226 VAl MSE LOSS: 0.4100084907809325  Val Accuracy:  0.7166666666666667\n",
      "Epoch:  2\n",
      "Iteration  2  of  5\n",
      "Train Loss:  0.9625497700797907  Train Accuracy:  0.6427962962962963  Val Loss:  0.9582867337690325 VAl MSE LOSS: 0.47516113140025307  Val Accuracy:  0.6373333333333333\n",
      "Epoch:  3\n",
      "Iteration  3  of  5\n",
      "Train Loss:  0.8487684286906964  Train Accuracy:  0.6907037037037037  Val Loss:  0.8406528665697242 VAl MSE LOSS: 0.41519560697755825  Val Accuracy:  0.69\n",
      "Epoch:  4\n",
      "Iteration  4  of  5\n",
      "Train Loss:  0.8724442931648919  Train Accuracy:  0.675037037037037  Val Loss:  0.8652967863620968 VAl MSE LOSS: 0.43414161330737344  Val Accuracy:  0.6773333333333333\n",
      "Epoch:  5\n",
      "Iteration  5  of  5\n",
      "Train Loss:  0.9177497019767428  Train Accuracy:  0.6560370370370371  Val Loss:  0.9104000680754011 VAl MSE LOSS: 0.4573636619344724  Val Accuracy:  0.6511666666666667\n"
     ]
    },
    {
     "data": {
      "text/html": [
       "Waiting for W&B process to finish... <strong style=\"color:green\">(success).</strong>"
      ],
      "text/plain": [
       "<IPython.core.display.HTML object>"
      ]
     },
     "metadata": {},
     "output_type": "display_data"
    },
    {
     "data": {
      "text/html": [
       "<style>\n",
       "    table.wandb td:nth-child(1) { padding: 0 10px; text-align: left ; width: auto;} td:nth-child(2) {text-align: left ; width: 100%}\n",
       "    .wandb-row { display: flex; flex-direction: row; flex-wrap: wrap; justify-content: flex-start; width: 100% }\n",
       "    .wandb-col { display: flex; flex-direction: column; flex-basis: 100%; flex: 1; padding: 10px; }\n",
       "    </style>\n",
       "<div class=\"wandb-row\"><div class=\"wandb-col\"><h3>Run history:</h3><br/><table class=\"wandb\"><tr><td>epoch</td><td>▁▃▅▆█</td></tr><tr><td>train_accuracy</td><td>█▁▅▄▂</td></tr><tr><td>train_loss</td><td>▁█▁▂▅</td></tr><tr><td>val_accuracy</td><td>█▁▆▅▂</td></tr><tr><td>val_loss</td><td>▁█▁▃▅</td></tr><tr><td>val_mse_loss</td><td>▁█▂▄▆</td></tr></table><br/></div><div class=\"wandb-col\"><h3>Run summary:</h3><br/><table class=\"wandb\"><tr><td>epoch</td><td>4</td></tr><tr><td>train_accuracy</td><td>0.65604</td></tr><tr><td>train_loss</td><td>0.91775</td></tr><tr><td>val_accuracy</td><td>0.65117</td></tr><tr><td>val_loss</td><td>0.9104</td></tr><tr><td>val_mse_loss</td><td>0.45736</td></tr></table><br/></div></div>"
      ],
      "text/plain": [
       "<IPython.core.display.HTML object>"
      ]
     },
     "metadata": {},
     "output_type": "display_data"
    },
    {
     "data": {
      "text/html": [
       " View run <strong style=\"color:#cdcd00\">crisp-sweep-14</strong> at: <a href='https://wandb.ai/cs20b075/assignment-1/runs/xyudyl6n' target=\"_blank\">https://wandb.ai/cs20b075/assignment-1/runs/xyudyl6n</a><br/>Synced 5 W&B file(s), 0 media file(s), 0 artifact file(s) and 0 other file(s)"
      ],
      "text/plain": [
       "<IPython.core.display.HTML object>"
      ]
     },
     "metadata": {},
     "output_type": "display_data"
    },
    {
     "data": {
      "text/html": [
       "Find logs at: <code>./wandb/run-20230319_124524-xyudyl6n/logs</code>"
      ],
      "text/plain": [
       "<IPython.core.display.HTML object>"
      ]
     },
     "metadata": {},
     "output_type": "display_data"
    },
    {
     "name": "stderr",
     "output_type": "stream",
     "text": [
      "\u001b[34m\u001b[1mwandb\u001b[0m: Agent Starting Run: iyddauu5 with config:\n",
      "\u001b[34m\u001b[1mwandb\u001b[0m: \tactivation_function: sigmoid\n",
      "\u001b[34m\u001b[1mwandb\u001b[0m: \tbatch: 32\n",
      "\u001b[34m\u001b[1mwandb\u001b[0m: \tepochs: 10\n",
      "\u001b[34m\u001b[1mwandb\u001b[0m: \thidden_layer_size: 32\n",
      "\u001b[34m\u001b[1mwandb\u001b[0m: \tlearning_rate: 0.0003\n",
      "\u001b[34m\u001b[1mwandb\u001b[0m: \tnum_hidden_layers: 2\n",
      "\u001b[34m\u001b[1mwandb\u001b[0m: \toptimizer: momentum\n",
      "\u001b[34m\u001b[1mwandb\u001b[0m: \tweight_decay: 0.0005\n",
      "\u001b[34m\u001b[1mwandb\u001b[0m: \tweight_initialisation: xavier\n",
      "Failed to detect the name of this notebook, you can set it manually with the WANDB_NOTEBOOK_NAME environment variable to enable code saving.\n",
      "\u001b[34m\u001b[1mwandb\u001b[0m: \u001b[33mWARNING\u001b[0m Ignored wandb.init() arg project when running a sweep.\n"
     ]
    },
    {
     "data": {
      "text/html": [
       "wandb version 0.14.0 is available!  To upgrade, please run:\n",
       " $ pip install wandb --upgrade"
      ],
      "text/plain": [
       "<IPython.core.display.HTML object>"
      ]
     },
     "metadata": {},
     "output_type": "display_data"
    },
    {
     "data": {
      "text/html": [
       "Tracking run with wandb version 0.13.10"
      ],
      "text/plain": [
       "<IPython.core.display.HTML object>"
      ]
     },
     "metadata": {},
     "output_type": "display_data"
    },
    {
     "data": {
      "text/html": [
       "Run data is saved locally in <code>/home/sooraj/sem/dl/assignment-1/wandb/run-20230319_124745-iyddauu5</code>"
      ],
      "text/plain": [
       "<IPython.core.display.HTML object>"
      ]
     },
     "metadata": {},
     "output_type": "display_data"
    },
    {
     "data": {
      "text/html": [
       "Syncing run <strong><a href='https://wandb.ai/cs20b075/assignment-1/runs/iyddauu5' target=\"_blank\">stellar-sweep-15</a></strong> to <a href='https://wandb.ai/cs20b075/assignment-1' target=\"_blank\">Weights & Biases</a> (<a href='https://wandb.me/run' target=\"_blank\">docs</a>)<br/>Sweep page: <a href='https://wandb.ai/cs20b075/assignment-1/sweeps/byqia87m' target=\"_blank\">https://wandb.ai/cs20b075/assignment-1/sweeps/byqia87m</a>"
      ],
      "text/plain": [
       "<IPython.core.display.HTML object>"
      ]
     },
     "metadata": {},
     "output_type": "display_data"
    },
    {
     "data": {
      "text/html": [
       " View project at <a href='https://wandb.ai/cs20b075/assignment-1' target=\"_blank\">https://wandb.ai/cs20b075/assignment-1</a>"
      ],
      "text/plain": [
       "<IPython.core.display.HTML object>"
      ]
     },
     "metadata": {},
     "output_type": "display_data"
    },
    {
     "data": {
      "text/html": [
       " View sweep at <a href='https://wandb.ai/cs20b075/assignment-1/sweeps/byqia87m' target=\"_blank\">https://wandb.ai/cs20b075/assignment-1/sweeps/byqia87m</a>"
      ],
      "text/plain": [
       "<IPython.core.display.HTML object>"
      ]
     },
     "metadata": {},
     "output_type": "display_data"
    },
    {
     "data": {
      "text/html": [
       " View run at <a href='https://wandb.ai/cs20b075/assignment-1/runs/iyddauu5' target=\"_blank\">https://wandb.ai/cs20b075/assignment-1/runs/iyddauu5</a>"
      ],
      "text/plain": [
       "<IPython.core.display.HTML object>"
      ]
     },
     "metadata": {},
     "output_type": "display_data"
    },
    {
     "name": "stdout",
     "output_type": "stream",
     "text": [
      "Epoch:  1\n",
      "Iteration  1  of  10\n",
      "Train Loss:  0.7577736713325582  Train Accuracy:  0.7277407407407407  Val Loss:  0.7491926260709328 VAl MSE LOSS: 0.38261431388073347  Val Accuracy:  0.7258333333333333\n",
      "Epoch:  2\n",
      "Iteration  2  of  10\n",
      "Train Loss:  0.5587995853027365  Train Accuracy:  0.8000925925925926  Val Loss:  0.5500753794494662 VAl MSE LOSS: 0.28110529037137616  Val Accuracy:  0.7996666666666666\n",
      "Epoch:  3\n",
      "Iteration  3  of  10\n",
      "Train Loss:  0.48575491301740253  Train Accuracy:  0.8251296296296297  Val Loss:  0.48054232849502126 VAl MSE LOSS: 0.24690567971621763  Val Accuracy:  0.8276666666666667\n",
      "Epoch:  4\n",
      "Iteration  4  of  10\n",
      "Train Loss:  0.4497219840207887  Train Accuracy:  0.8384444444444444  Val Loss:  0.4482434427020831 VAl MSE LOSS: 0.23113770488697985  Val Accuracy:  0.838\n",
      "Epoch:  5\n",
      "Iteration  5  of  10\n",
      "Train Loss:  0.425088851911568  Train Accuracy:  0.8480555555555556  Val Loss:  0.4278762242584057 VAl MSE LOSS: 0.22038480159732723  Val Accuracy:  0.8451666666666666\n",
      "Epoch:  6\n",
      "Iteration  6  of  10\n",
      "Train Loss:  0.40559761049727916  Train Accuracy:  0.8544444444444445  Val Loss:  0.41269805532040954 VAl MSE LOSS: 0.2117098587934288  Val Accuracy:  0.853\n",
      "Epoch:  7\n",
      "Iteration  7  of  10\n",
      "Train Loss:  0.39028330136773837  Train Accuracy:  0.8602037037037037  Val Loss:  0.40158077885881 VAl MSE LOSS: 0.20514956008394492  Val Accuracy:  0.8571666666666666\n",
      "Epoch:  8\n",
      "Iteration  8  of  10\n",
      "Train Loss:  0.3785670701120355  Train Accuracy:  0.8644814814814815  Val Loss:  0.3936745939056 VAl MSE LOSS: 0.20048417012010236  Val Accuracy:  0.8615\n",
      "Epoch:  9\n",
      "Iteration  9  of  10\n",
      "Train Loss:  0.3693486901802249  Train Accuracy:  0.8677037037037038  Val Loss:  0.3878541472357424 VAl MSE LOSS: 0.19713389624297012  Val Accuracy:  0.8636666666666667\n",
      "Epoch:  10\n",
      "Iteration  10  of  10\n",
      "Train Loss:  0.36169073671549035  Train Accuracy:  0.8702592592592593  Val Loss:  0.38324307203108626 VAl MSE LOSS: 0.19460586862275783  Val Accuracy:  0.8661666666666666\n"
     ]
    },
    {
     "data": {
      "text/html": [
       "Waiting for W&B process to finish... <strong style=\"color:green\">(success).</strong>"
      ],
      "text/plain": [
       "<IPython.core.display.HTML object>"
      ]
     },
     "metadata": {},
     "output_type": "display_data"
    },
    {
     "data": {
      "application/vnd.jupyter.widget-view+json": {
       "model_id": "9f050a4ffeb84d3cad0f70d652e6c9c0",
       "version_major": 2,
       "version_minor": 0
      },
      "text/plain": [
       "VBox(children=(Label(value='0.002 MB of 0.002 MB uploaded (0.000 MB deduped)\\r'), FloatProgress(value=1.0, max…"
      ]
     },
     "metadata": {},
     "output_type": "display_data"
    },
    {
     "data": {
      "text/html": [
       "<style>\n",
       "    table.wandb td:nth-child(1) { padding: 0 10px; text-align: left ; width: auto;} td:nth-child(2) {text-align: left ; width: 100%}\n",
       "    .wandb-row { display: flex; flex-direction: row; flex-wrap: wrap; justify-content: flex-start; width: 100% }\n",
       "    .wandb-col { display: flex; flex-direction: column; flex-basis: 100%; flex: 1; padding: 10px; }\n",
       "    </style>\n",
       "<div class=\"wandb-row\"><div class=\"wandb-col\"><h3>Run history:</h3><br/><table class=\"wandb\"><tr><td>epoch</td><td>▁▂▃▃▄▅▆▆▇█</td></tr><tr><td>train_accuracy</td><td>▁▅▆▆▇▇████</td></tr><tr><td>train_loss</td><td>█▄▃▃▂▂▂▁▁▁</td></tr><tr><td>val_accuracy</td><td>▁▅▆▇▇▇████</td></tr><tr><td>val_loss</td><td>█▄▃▂▂▂▁▁▁▁</td></tr><tr><td>val_mse_loss</td><td>█▄▃▂▂▂▁▁▁▁</td></tr></table><br/></div><div class=\"wandb-col\"><h3>Run summary:</h3><br/><table class=\"wandb\"><tr><td>epoch</td><td>9</td></tr><tr><td>train_accuracy</td><td>0.87026</td></tr><tr><td>train_loss</td><td>0.36169</td></tr><tr><td>val_accuracy</td><td>0.86617</td></tr><tr><td>val_loss</td><td>0.38324</td></tr><tr><td>val_mse_loss</td><td>0.19461</td></tr></table><br/></div></div>"
      ],
      "text/plain": [
       "<IPython.core.display.HTML object>"
      ]
     },
     "metadata": {},
     "output_type": "display_data"
    },
    {
     "data": {
      "text/html": [
       " View run <strong style=\"color:#cdcd00\">stellar-sweep-15</strong> at: <a href='https://wandb.ai/cs20b075/assignment-1/runs/iyddauu5' target=\"_blank\">https://wandb.ai/cs20b075/assignment-1/runs/iyddauu5</a><br/>Synced 5 W&B file(s), 0 media file(s), 0 artifact file(s) and 0 other file(s)"
      ],
      "text/plain": [
       "<IPython.core.display.HTML object>"
      ]
     },
     "metadata": {},
     "output_type": "display_data"
    },
    {
     "data": {
      "text/html": [
       "Find logs at: <code>./wandb/run-20230319_124745-iyddauu5/logs</code>"
      ],
      "text/plain": [
       "<IPython.core.display.HTML object>"
      ]
     },
     "metadata": {},
     "output_type": "display_data"
    },
    {
     "name": "stderr",
     "output_type": "stream",
     "text": [
      "\u001b[34m\u001b[1mwandb\u001b[0m: Agent Starting Run: 24jcqj2i with config:\n",
      "\u001b[34m\u001b[1mwandb\u001b[0m: \tactivation_function: sigmoid\n",
      "\u001b[34m\u001b[1mwandb\u001b[0m: \tbatch: 64\n",
      "\u001b[34m\u001b[1mwandb\u001b[0m: \tepochs: 5\n",
      "\u001b[34m\u001b[1mwandb\u001b[0m: \thidden_layer_size: 64\n",
      "\u001b[34m\u001b[1mwandb\u001b[0m: \tlearning_rate: 0.0003\n",
      "\u001b[34m\u001b[1mwandb\u001b[0m: \tnum_hidden_layers: 2\n",
      "\u001b[34m\u001b[1mwandb\u001b[0m: \toptimizer: momentum\n",
      "\u001b[34m\u001b[1mwandb\u001b[0m: \tweight_decay: 0\n",
      "\u001b[34m\u001b[1mwandb\u001b[0m: \tweight_initialisation: random\n",
      "Failed to detect the name of this notebook, you can set it manually with the WANDB_NOTEBOOK_NAME environment variable to enable code saving.\n",
      "\u001b[34m\u001b[1mwandb\u001b[0m: \u001b[33mWARNING\u001b[0m Ignored wandb.init() arg project when running a sweep.\n"
     ]
    },
    {
     "data": {
      "text/html": [
       "wandb version 0.14.0 is available!  To upgrade, please run:\n",
       " $ pip install wandb --upgrade"
      ],
      "text/plain": [
       "<IPython.core.display.HTML object>"
      ]
     },
     "metadata": {},
     "output_type": "display_data"
    },
    {
     "data": {
      "text/html": [
       "Tracking run with wandb version 0.13.10"
      ],
      "text/plain": [
       "<IPython.core.display.HTML object>"
      ]
     },
     "metadata": {},
     "output_type": "display_data"
    },
    {
     "data": {
      "text/html": [
       "Run data is saved locally in <code>/home/sooraj/sem/dl/assignment-1/wandb/run-20230319_124807-24jcqj2i</code>"
      ],
      "text/plain": [
       "<IPython.core.display.HTML object>"
      ]
     },
     "metadata": {},
     "output_type": "display_data"
    },
    {
     "data": {
      "text/html": [
       "Syncing run <strong><a href='https://wandb.ai/cs20b075/assignment-1/runs/24jcqj2i' target=\"_blank\">honest-sweep-16</a></strong> to <a href='https://wandb.ai/cs20b075/assignment-1' target=\"_blank\">Weights & Biases</a> (<a href='https://wandb.me/run' target=\"_blank\">docs</a>)<br/>Sweep page: <a href='https://wandb.ai/cs20b075/assignment-1/sweeps/byqia87m' target=\"_blank\">https://wandb.ai/cs20b075/assignment-1/sweeps/byqia87m</a>"
      ],
      "text/plain": [
       "<IPython.core.display.HTML object>"
      ]
     },
     "metadata": {},
     "output_type": "display_data"
    },
    {
     "data": {
      "text/html": [
       " View project at <a href='https://wandb.ai/cs20b075/assignment-1' target=\"_blank\">https://wandb.ai/cs20b075/assignment-1</a>"
      ],
      "text/plain": [
       "<IPython.core.display.HTML object>"
      ]
     },
     "metadata": {},
     "output_type": "display_data"
    },
    {
     "data": {
      "text/html": [
       " View sweep at <a href='https://wandb.ai/cs20b075/assignment-1/sweeps/byqia87m' target=\"_blank\">https://wandb.ai/cs20b075/assignment-1/sweeps/byqia87m</a>"
      ],
      "text/plain": [
       "<IPython.core.display.HTML object>"
      ]
     },
     "metadata": {},
     "output_type": "display_data"
    },
    {
     "data": {
      "text/html": [
       " View run at <a href='https://wandb.ai/cs20b075/assignment-1/runs/24jcqj2i' target=\"_blank\">https://wandb.ai/cs20b075/assignment-1/runs/24jcqj2i</a>"
      ],
      "text/plain": [
       "<IPython.core.display.HTML object>"
      ]
     },
     "metadata": {},
     "output_type": "display_data"
    },
    {
     "name": "stdout",
     "output_type": "stream",
     "text": [
      "Epoch:  1\n",
      "Iteration  1  of  5\n",
      "Train Loss:  0.7139198540077918  Train Accuracy:  0.7447962962962963  Val Loss:  0.6958640594500318 VAl MSE LOSS: 0.3487682275802895  Val Accuracy:  0.7513333333333333\n",
      "Epoch:  2\n",
      "Iteration  2  of  5\n",
      "Train Loss:  0.6252543228327808  Train Accuracy:  0.7752777777777777  Val Loss:  0.6103356409027852 VAl MSE LOSS: 0.30944204466081754  Val Accuracy:  0.7818333333333334\n",
      "Epoch:  3\n",
      "Iteration  3  of  5\n",
      "Train Loss:  0.5827088145662255  Train Accuracy:  0.7900925925925926  Val Loss:  0.5700120816815726 VAl MSE LOSS: 0.28990710128703795  Val Accuracy:  0.797\n",
      "Epoch:  4\n",
      "Iteration  4  of  5\n",
      "Train Loss:  0.5548892081136578  Train Accuracy:  0.7994074074074075  Val Loss:  0.5452194732307624 VAl MSE LOSS: 0.27772016848522524  Val Accuracy:  0.8066666666666666\n",
      "Epoch:  5\n",
      "Iteration  5  of  5\n",
      "Train Loss:  0.5338234505881809  Train Accuracy:  0.807037037037037  Val Loss:  0.5271783732641846 VAl MSE LOSS: 0.2686893602380607  Val Accuracy:  0.8125\n"
     ]
    },
    {
     "data": {
      "text/html": [
       "Waiting for W&B process to finish... <strong style=\"color:green\">(success).</strong>"
      ],
      "text/plain": [
       "<IPython.core.display.HTML object>"
      ]
     },
     "metadata": {},
     "output_type": "display_data"
    },
    {
     "data": {
      "application/vnd.jupyter.widget-view+json": {
       "model_id": "0b01e423d9bf4d3b8017d68609f0b755",
       "version_major": 2,
       "version_minor": 0
      },
      "text/plain": [
       "VBox(children=(Label(value='0.002 MB of 0.002 MB uploaded (0.000 MB deduped)\\r'), FloatProgress(value=1.0, max…"
      ]
     },
     "metadata": {},
     "output_type": "display_data"
    },
    {
     "data": {
      "text/html": [
       "<style>\n",
       "    table.wandb td:nth-child(1) { padding: 0 10px; text-align: left ; width: auto;} td:nth-child(2) {text-align: left ; width: 100%}\n",
       "    .wandb-row { display: flex; flex-direction: row; flex-wrap: wrap; justify-content: flex-start; width: 100% }\n",
       "    .wandb-col { display: flex; flex-direction: column; flex-basis: 100%; flex: 1; padding: 10px; }\n",
       "    </style>\n",
       "<div class=\"wandb-row\"><div class=\"wandb-col\"><h3>Run history:</h3><br/><table class=\"wandb\"><tr><td>epoch</td><td>▁▃▅▆█</td></tr><tr><td>train_accuracy</td><td>▁▄▆▇█</td></tr><tr><td>train_loss</td><td>█▅▃▂▁</td></tr><tr><td>val_accuracy</td><td>▁▄▆▇█</td></tr><tr><td>val_loss</td><td>█▄▃▂▁</td></tr><tr><td>val_mse_loss</td><td>█▅▃▂▁</td></tr></table><br/></div><div class=\"wandb-col\"><h3>Run summary:</h3><br/><table class=\"wandb\"><tr><td>epoch</td><td>4</td></tr><tr><td>train_accuracy</td><td>0.80704</td></tr><tr><td>train_loss</td><td>0.53382</td></tr><tr><td>val_accuracy</td><td>0.8125</td></tr><tr><td>val_loss</td><td>0.52718</td></tr><tr><td>val_mse_loss</td><td>0.26869</td></tr></table><br/></div></div>"
      ],
      "text/plain": [
       "<IPython.core.display.HTML object>"
      ]
     },
     "metadata": {},
     "output_type": "display_data"
    },
    {
     "data": {
      "text/html": [
       " View run <strong style=\"color:#cdcd00\">honest-sweep-16</strong> at: <a href='https://wandb.ai/cs20b075/assignment-1/runs/24jcqj2i' target=\"_blank\">https://wandb.ai/cs20b075/assignment-1/runs/24jcqj2i</a><br/>Synced 5 W&B file(s), 0 media file(s), 0 artifact file(s) and 0 other file(s)"
      ],
      "text/plain": [
       "<IPython.core.display.HTML object>"
      ]
     },
     "metadata": {},
     "output_type": "display_data"
    },
    {
     "data": {
      "text/html": [
       "Find logs at: <code>./wandb/run-20230319_124807-24jcqj2i/logs</code>"
      ],
      "text/plain": [
       "<IPython.core.display.HTML object>"
      ]
     },
     "metadata": {},
     "output_type": "display_data"
    },
    {
     "name": "stderr",
     "output_type": "stream",
     "text": [
      "\u001b[34m\u001b[1mwandb\u001b[0m: Agent Starting Run: hxdz8we2 with config:\n",
      "\u001b[34m\u001b[1mwandb\u001b[0m: \tactivation_function: tanh\n",
      "\u001b[34m\u001b[1mwandb\u001b[0m: \tbatch: 16\n",
      "\u001b[34m\u001b[1mwandb\u001b[0m: \tepochs: 10\n",
      "\u001b[34m\u001b[1mwandb\u001b[0m: \thidden_layer_size: 64\n",
      "\u001b[34m\u001b[1mwandb\u001b[0m: \tlearning_rate: 0.0001\n",
      "\u001b[34m\u001b[1mwandb\u001b[0m: \tnum_hidden_layers: 3\n",
      "\u001b[34m\u001b[1mwandb\u001b[0m: \toptimizer: nadam\n",
      "\u001b[34m\u001b[1mwandb\u001b[0m: \tweight_decay: 0.05\n",
      "\u001b[34m\u001b[1mwandb\u001b[0m: \tweight_initialisation: xavier\n",
      "Failed to detect the name of this notebook, you can set it manually with the WANDB_NOTEBOOK_NAME environment variable to enable code saving.\n",
      "\u001b[34m\u001b[1mwandb\u001b[0m: \u001b[33mWARNING\u001b[0m Ignored wandb.init() arg project when running a sweep.\n"
     ]
    },
    {
     "data": {
      "text/html": [
       "wandb version 0.14.0 is available!  To upgrade, please run:\n",
       " $ pip install wandb --upgrade"
      ],
      "text/plain": [
       "<IPython.core.display.HTML object>"
      ]
     },
     "metadata": {},
     "output_type": "display_data"
    },
    {
     "data": {
      "text/html": [
       "Tracking run with wandb version 0.13.10"
      ],
      "text/plain": [
       "<IPython.core.display.HTML object>"
      ]
     },
     "metadata": {},
     "output_type": "display_data"
    },
    {
     "data": {
      "text/html": [
       "Run data is saved locally in <code>/home/sooraj/sem/dl/assignment-1/wandb/run-20230319_124834-hxdz8we2</code>"
      ],
      "text/plain": [
       "<IPython.core.display.HTML object>"
      ]
     },
     "metadata": {},
     "output_type": "display_data"
    },
    {
     "data": {
      "text/html": [
       "Syncing run <strong><a href='https://wandb.ai/cs20b075/assignment-1/runs/hxdz8we2' target=\"_blank\">worldly-sweep-17</a></strong> to <a href='https://wandb.ai/cs20b075/assignment-1' target=\"_blank\">Weights & Biases</a> (<a href='https://wandb.me/run' target=\"_blank\">docs</a>)<br/>Sweep page: <a href='https://wandb.ai/cs20b075/assignment-1/sweeps/byqia87m' target=\"_blank\">https://wandb.ai/cs20b075/assignment-1/sweeps/byqia87m</a>"
      ],
      "text/plain": [
       "<IPython.core.display.HTML object>"
      ]
     },
     "metadata": {},
     "output_type": "display_data"
    },
    {
     "data": {
      "text/html": [
       " View project at <a href='https://wandb.ai/cs20b075/assignment-1' target=\"_blank\">https://wandb.ai/cs20b075/assignment-1</a>"
      ],
      "text/plain": [
       "<IPython.core.display.HTML object>"
      ]
     },
     "metadata": {},
     "output_type": "display_data"
    },
    {
     "data": {
      "text/html": [
       " View sweep at <a href='https://wandb.ai/cs20b075/assignment-1/sweeps/byqia87m' target=\"_blank\">https://wandb.ai/cs20b075/assignment-1/sweeps/byqia87m</a>"
      ],
      "text/plain": [
       "<IPython.core.display.HTML object>"
      ]
     },
     "metadata": {},
     "output_type": "display_data"
    },
    {
     "data": {
      "text/html": [
       " View run at <a href='https://wandb.ai/cs20b075/assignment-1/runs/hxdz8we2' target=\"_blank\">https://wandb.ai/cs20b075/assignment-1/runs/hxdz8we2</a>"
      ],
      "text/plain": [
       "<IPython.core.display.HTML object>"
      ]
     },
     "metadata": {},
     "output_type": "display_data"
    },
    {
     "name": "stdout",
     "output_type": "stream",
     "text": [
      "Epoch:  1\n",
      "Iteration  1  of  10\n",
      "Train Loss:  0.4887236691162228  Train Accuracy:  0.829037037037037  Val Loss:  0.4823976620293998 VAl MSE LOSS: 0.24261748989192164  Val Accuracy:  0.8311666666666667\n",
      "Epoch:  2\n",
      "Iteration  2  of  10\n",
      "Train Loss:  0.4249851507768101  Train Accuracy:  0.8486111111111111  Val Loss:  0.4249121163816028 VAl MSE LOSS: 0.21580278726732202  Val Accuracy:  0.85\n",
      "Epoch:  3\n",
      "Iteration  3  of  10\n",
      "Train Loss:  0.400898799347357  Train Accuracy:  0.8575  Val Loss:  0.4055781575724788 VAl MSE LOSS: 0.2060598617508321  Val Accuracy:  0.8568333333333333\n",
      "Epoch:  4\n",
      "Iteration  4  of  10\n",
      "Train Loss:  0.3865357080789971  Train Accuracy:  0.8631851851851852  Val Loss:  0.39427814702230424 VAl MSE LOSS: 0.2002862260483696  Val Accuracy:  0.8608333333333333\n",
      "Epoch:  5\n",
      "Iteration  5  of  10\n",
      "Train Loss:  0.37668358640640415  Train Accuracy:  0.8662407407407408  Val Loss:  0.3865411996850595 VAl MSE LOSS: 0.19637872015511315  Val Accuracy:  0.8623333333333333\n",
      "Epoch:  6\n",
      "Iteration  6  of  10\n",
      "Train Loss:  0.3693374846170056  Train Accuracy:  0.8696666666666667  Val Loss:  0.3808087111871927 VAl MSE LOSS: 0.19353250402713085  Val Accuracy:  0.8646666666666667\n",
      "Epoch:  7\n",
      "Iteration  7  of  10\n",
      "Train Loss:  0.36350033899843837  Train Accuracy:  0.8715185185185185  Val Loss:  0.37631243503169737 VAl MSE LOSS: 0.19132667472823592  Val Accuracy:  0.8658333333333333\n",
      "Epoch:  8\n",
      "Iteration  8  of  10\n",
      "Train Loss:  0.35865141407270523  Train Accuracy:  0.8735740740740741  Val Loss:  0.37263324887016885 VAl MSE LOSS: 0.1895282919596541  Val Accuracy:  0.8671666666666666\n",
      "Epoch:  9\n",
      "Iteration  9  of  10\n",
      "Train Loss:  0.35450885697560763  Train Accuracy:  0.8747777777777778  Val Loss:  0.36954957296985397 VAl MSE LOSS: 0.18801445614136972  Val Accuracy:  0.868\n",
      "Epoch:  10\n",
      "Iteration  10  of  10\n",
      "Train Loss:  0.35088673791232927  Train Accuracy:  0.8759259259259259  Val Loss:  0.36689417796474616 VAl MSE LOSS: 0.18669865349595746  Val Accuracy:  0.869\n"
     ]
    },
    {
     "data": {
      "text/html": [
       "Waiting for W&B process to finish... <strong style=\"color:green\">(success).</strong>"
      ],
      "text/plain": [
       "<IPython.core.display.HTML object>"
      ]
     },
     "metadata": {},
     "output_type": "display_data"
    },
    {
     "data": {
      "application/vnd.jupyter.widget-view+json": {
       "model_id": "dd1916a3410f49b69cca5bffe389d5aa",
       "version_major": 2,
       "version_minor": 0
      },
      "text/plain": [
       "VBox(children=(Label(value='0.002 MB of 0.010 MB uploaded (0.000 MB deduped)\\r'), FloatProgress(value=0.173163…"
      ]
     },
     "metadata": {},
     "output_type": "display_data"
    },
    {
     "data": {
      "text/html": [
       "<style>\n",
       "    table.wandb td:nth-child(1) { padding: 0 10px; text-align: left ; width: auto;} td:nth-child(2) {text-align: left ; width: 100%}\n",
       "    .wandb-row { display: flex; flex-direction: row; flex-wrap: wrap; justify-content: flex-start; width: 100% }\n",
       "    .wandb-col { display: flex; flex-direction: column; flex-basis: 100%; flex: 1; padding: 10px; }\n",
       "    </style>\n",
       "<div class=\"wandb-row\"><div class=\"wandb-col\"><h3>Run history:</h3><br/><table class=\"wandb\"><tr><td>epoch</td><td>▁▂▃▃▄▅▆▆▇█</td></tr><tr><td>train_accuracy</td><td>▁▄▅▆▇▇▇███</td></tr><tr><td>train_loss</td><td>█▅▄▃▂▂▂▁▁▁</td></tr><tr><td>val_accuracy</td><td>▁▄▆▆▇▇▇███</td></tr><tr><td>val_loss</td><td>█▅▃▃▂▂▂▁▁▁</td></tr><tr><td>val_mse_loss</td><td>█▅▃▃▂▂▂▁▁▁</td></tr></table><br/></div><div class=\"wandb-col\"><h3>Run summary:</h3><br/><table class=\"wandb\"><tr><td>epoch</td><td>9</td></tr><tr><td>train_accuracy</td><td>0.87593</td></tr><tr><td>train_loss</td><td>0.35089</td></tr><tr><td>val_accuracy</td><td>0.869</td></tr><tr><td>val_loss</td><td>0.36689</td></tr><tr><td>val_mse_loss</td><td>0.1867</td></tr></table><br/></div></div>"
      ],
      "text/plain": [
       "<IPython.core.display.HTML object>"
      ]
     },
     "metadata": {},
     "output_type": "display_data"
    },
    {
     "data": {
      "text/html": [
       " View run <strong style=\"color:#cdcd00\">worldly-sweep-17</strong> at: <a href='https://wandb.ai/cs20b075/assignment-1/runs/hxdz8we2' target=\"_blank\">https://wandb.ai/cs20b075/assignment-1/runs/hxdz8we2</a><br/>Synced 5 W&B file(s), 0 media file(s), 0 artifact file(s) and 0 other file(s)"
      ],
      "text/plain": [
       "<IPython.core.display.HTML object>"
      ]
     },
     "metadata": {},
     "output_type": "display_data"
    },
    {
     "data": {
      "text/html": [
       "Find logs at: <code>./wandb/run-20230319_124834-hxdz8we2/logs</code>"
      ],
      "text/plain": [
       "<IPython.core.display.HTML object>"
      ]
     },
     "metadata": {},
     "output_type": "display_data"
    },
    {
     "name": "stderr",
     "output_type": "stream",
     "text": [
      "\u001b[34m\u001b[1mwandb\u001b[0m: Sweep Agent: Waiting for job.\n",
      "\u001b[34m\u001b[1mwandb\u001b[0m: Job received.\n",
      "\u001b[34m\u001b[1mwandb\u001b[0m: Agent Starting Run: iuf4noo4 with config:\n",
      "\u001b[34m\u001b[1mwandb\u001b[0m: \tactivation_function: sigmoid\n",
      "\u001b[34m\u001b[1mwandb\u001b[0m: \tbatch: 32\n",
      "\u001b[34m\u001b[1mwandb\u001b[0m: \tepochs: 10\n",
      "\u001b[34m\u001b[1mwandb\u001b[0m: \thidden_layer_size: 128\n",
      "\u001b[34m\u001b[1mwandb\u001b[0m: \tlearning_rate: 0.001\n",
      "\u001b[34m\u001b[1mwandb\u001b[0m: \tnum_hidden_layers: 4\n",
      "\u001b[34m\u001b[1mwandb\u001b[0m: \toptimizer: nadam\n",
      "\u001b[34m\u001b[1mwandb\u001b[0m: \tweight_decay: 0.0005\n",
      "\u001b[34m\u001b[1mwandb\u001b[0m: \tweight_initialisation: xavier\n",
      "Failed to detect the name of this notebook, you can set it manually with the WANDB_NOTEBOOK_NAME environment variable to enable code saving.\n",
      "\u001b[34m\u001b[1mwandb\u001b[0m: \u001b[33mWARNING\u001b[0m Ignored wandb.init() arg project when running a sweep.\n"
     ]
    },
    {
     "data": {
      "text/html": [
       "wandb version 0.14.0 is available!  To upgrade, please run:\n",
       " $ pip install wandb --upgrade"
      ],
      "text/plain": [
       "<IPython.core.display.HTML object>"
      ]
     },
     "metadata": {},
     "output_type": "display_data"
    },
    {
     "data": {
      "text/html": [
       "Tracking run with wandb version 0.13.10"
      ],
      "text/plain": [
       "<IPython.core.display.HTML object>"
      ]
     },
     "metadata": {},
     "output_type": "display_data"
    },
    {
     "data": {
      "text/html": [
       "Run data is saved locally in <code>/home/sooraj/sem/dl/assignment-1/wandb/run-20230319_124938-iuf4noo4</code>"
      ],
      "text/plain": [
       "<IPython.core.display.HTML object>"
      ]
     },
     "metadata": {},
     "output_type": "display_data"
    },
    {
     "data": {
      "text/html": [
       "Syncing run <strong><a href='https://wandb.ai/cs20b075/assignment-1/runs/iuf4noo4' target=\"_blank\">youthful-sweep-18</a></strong> to <a href='https://wandb.ai/cs20b075/assignment-1' target=\"_blank\">Weights & Biases</a> (<a href='https://wandb.me/run' target=\"_blank\">docs</a>)<br/>Sweep page: <a href='https://wandb.ai/cs20b075/assignment-1/sweeps/byqia87m' target=\"_blank\">https://wandb.ai/cs20b075/assignment-1/sweeps/byqia87m</a>"
      ],
      "text/plain": [
       "<IPython.core.display.HTML object>"
      ]
     },
     "metadata": {},
     "output_type": "display_data"
    },
    {
     "data": {
      "text/html": [
       " View project at <a href='https://wandb.ai/cs20b075/assignment-1' target=\"_blank\">https://wandb.ai/cs20b075/assignment-1</a>"
      ],
      "text/plain": [
       "<IPython.core.display.HTML object>"
      ]
     },
     "metadata": {},
     "output_type": "display_data"
    },
    {
     "data": {
      "text/html": [
       " View sweep at <a href='https://wandb.ai/cs20b075/assignment-1/sweeps/byqia87m' target=\"_blank\">https://wandb.ai/cs20b075/assignment-1/sweeps/byqia87m</a>"
      ],
      "text/plain": [
       "<IPython.core.display.HTML object>"
      ]
     },
     "metadata": {},
     "output_type": "display_data"
    },
    {
     "data": {
      "text/html": [
       " View run at <a href='https://wandb.ai/cs20b075/assignment-1/runs/iuf4noo4' target=\"_blank\">https://wandb.ai/cs20b075/assignment-1/runs/iuf4noo4</a>"
      ],
      "text/plain": [
       "<IPython.core.display.HTML object>"
      ]
     },
     "metadata": {},
     "output_type": "display_data"
    },
    {
     "name": "stdout",
     "output_type": "stream",
     "text": [
      "Epoch:  1\n",
      "Iteration  1  of  10\n",
      "Train Loss:  0.48188707825069965  Train Accuracy:  0.8301296296296297  Val Loss:  0.4768003987222137 VAl MSE LOSS: 0.2434227852693837  Val Accuracy:  0.8311666666666667\n",
      "Epoch:  2\n",
      "Iteration  2  of  10\n",
      "Train Loss:  0.3829503558234478  Train Accuracy:  0.8630925925925926  Val Loss:  0.3928703354738814 VAl MSE LOSS: 0.2013321564304211  Val Accuracy:  0.8618333333333333\n",
      "Epoch:  3\n",
      "Iteration  3  of  10\n",
      "Train Loss:  0.344616725880775  Train Accuracy:  0.8764074074074074  Val Loss:  0.3649959765901046 VAl MSE LOSS: 0.18869755983594363  Val Accuracy:  0.867\n",
      "Epoch:  4\n",
      "Iteration  4  of  10\n",
      "Train Loss:  0.3224320711330591  Train Accuracy:  0.8832592592592593  Val Loss:  0.3528663320632108 VAl MSE LOSS: 0.18263794541267056  Val Accuracy:  0.8698333333333333\n",
      "Epoch:  5\n",
      "Iteration  5  of  10\n",
      "Train Loss:  0.31110498274115395  Train Accuracy:  0.8865185185185185  Val Loss:  0.34807329730165565 VAl MSE LOSS: 0.17947773713527623  Val Accuracy:  0.8708333333333333\n",
      "Epoch:  6\n",
      "Iteration  6  of  10\n",
      "Train Loss:  0.3069488441918291  Train Accuracy:  0.8879074074074074  Val Loss:  0.34591846665757164 VAl MSE LOSS: 0.17851983125606652  Val Accuracy:  0.8743333333333333\n",
      "Epoch:  7\n",
      "Iteration  7  of  10\n",
      "Train Loss:  0.2987802445929492  Train Accuracy:  0.8906851851851851  Val Loss:  0.3440819925521744 VAl MSE LOSS: 0.1767820922199383  Val Accuracy:  0.8746666666666667\n",
      "Epoch:  8\n",
      "Iteration  8  of  10\n",
      "Train Loss:  0.2931700867530297  Train Accuracy:  0.892074074074074  Val Loss:  0.3429270634653624 VAl MSE LOSS: 0.17678911993241953  Val Accuracy:  0.876\n",
      "Epoch:  9\n",
      "Iteration  9  of  10\n",
      "Train Loss:  0.2881015622747335  Train Accuracy:  0.8932037037037037  Val Loss:  0.3462217876958161 VAl MSE LOSS: 0.17834499420952826  Val Accuracy:  0.8765\n",
      "Epoch:  10\n",
      "Iteration  10  of  10\n",
      "Train Loss:  0.2843385041219045  Train Accuracy:  0.8961851851851852  Val Loss:  0.3460461075697954 VAl MSE LOSS: 0.1768717109375673  Val Accuracy:  0.8778333333333334\n"
     ]
    },
    {
     "data": {
      "text/html": [
       "Waiting for W&B process to finish... <strong style=\"color:green\">(success).</strong>"
      ],
      "text/plain": [
       "<IPython.core.display.HTML object>"
      ]
     },
     "metadata": {},
     "output_type": "display_data"
    },
    {
     "data": {
      "application/vnd.jupyter.widget-view+json": {
       "model_id": "c6024bd228534478b1f492ea3be3776b",
       "version_major": 2,
       "version_minor": 0
      },
      "text/plain": [
       "VBox(children=(Label(value='0.002 MB of 0.002 MB uploaded (0.000 MB deduped)\\r'), FloatProgress(value=1.0, max…"
      ]
     },
     "metadata": {},
     "output_type": "display_data"
    },
    {
     "data": {
      "text/html": [
       "<style>\n",
       "    table.wandb td:nth-child(1) { padding: 0 10px; text-align: left ; width: auto;} td:nth-child(2) {text-align: left ; width: 100%}\n",
       "    .wandb-row { display: flex; flex-direction: row; flex-wrap: wrap; justify-content: flex-start; width: 100% }\n",
       "    .wandb-col { display: flex; flex-direction: column; flex-basis: 100%; flex: 1; padding: 10px; }\n",
       "    </style>\n",
       "<div class=\"wandb-row\"><div class=\"wandb-col\"><h3>Run history:</h3><br/><table class=\"wandb\"><tr><td>epoch</td><td>▁▂▃▃▄▅▆▆▇█</td></tr><tr><td>train_accuracy</td><td>▁▄▆▇▇▇▇███</td></tr><tr><td>train_loss</td><td>█▄▃▂▂▂▂▁▁▁</td></tr><tr><td>val_accuracy</td><td>▁▆▆▇▇▇████</td></tr><tr><td>val_loss</td><td>█▄▂▂▁▁▁▁▁▁</td></tr><tr><td>val_mse_loss</td><td>█▄▂▂▁▁▁▁▁▁</td></tr></table><br/></div><div class=\"wandb-col\"><h3>Run summary:</h3><br/><table class=\"wandb\"><tr><td>epoch</td><td>9</td></tr><tr><td>train_accuracy</td><td>0.89619</td></tr><tr><td>train_loss</td><td>0.28434</td></tr><tr><td>val_accuracy</td><td>0.87783</td></tr><tr><td>val_loss</td><td>0.34605</td></tr><tr><td>val_mse_loss</td><td>0.17687</td></tr></table><br/></div></div>"
      ],
      "text/plain": [
       "<IPython.core.display.HTML object>"
      ]
     },
     "metadata": {},
     "output_type": "display_data"
    },
    {
     "data": {
      "text/html": [
       " View run <strong style=\"color:#cdcd00\">youthful-sweep-18</strong> at: <a href='https://wandb.ai/cs20b075/assignment-1/runs/iuf4noo4' target=\"_blank\">https://wandb.ai/cs20b075/assignment-1/runs/iuf4noo4</a><br/>Synced 5 W&B file(s), 0 media file(s), 0 artifact file(s) and 0 other file(s)"
      ],
      "text/plain": [
       "<IPython.core.display.HTML object>"
      ]
     },
     "metadata": {},
     "output_type": "display_data"
    },
    {
     "data": {
      "text/html": [
       "Find logs at: <code>./wandb/run-20230319_124938-iuf4noo4/logs</code>"
      ],
      "text/plain": [
       "<IPython.core.display.HTML object>"
      ]
     },
     "metadata": {},
     "output_type": "display_data"
    },
    {
     "name": "stderr",
     "output_type": "stream",
     "text": [
      "\u001b[34m\u001b[1mwandb\u001b[0m: Sweep Agent: Waiting for job.\n",
      "\u001b[34m\u001b[1mwandb\u001b[0m: Job received.\n",
      "\u001b[34m\u001b[1mwandb\u001b[0m: Agent Starting Run: 3oduaxkn with config:\n",
      "\u001b[34m\u001b[1mwandb\u001b[0m: \tactivation_function: tanh\n",
      "\u001b[34m\u001b[1mwandb\u001b[0m: \tbatch: 64\n",
      "\u001b[34m\u001b[1mwandb\u001b[0m: \tepochs: 5\n",
      "\u001b[34m\u001b[1mwandb\u001b[0m: \thidden_layer_size: 64\n",
      "\u001b[34m\u001b[1mwandb\u001b[0m: \tlearning_rate: 0.003\n",
      "\u001b[34m\u001b[1mwandb\u001b[0m: \tnum_hidden_layers: 3\n",
      "\u001b[34m\u001b[1mwandb\u001b[0m: \toptimizer: nesterov\n",
      "\u001b[34m\u001b[1mwandb\u001b[0m: \tweight_decay: 0\n",
      "\u001b[34m\u001b[1mwandb\u001b[0m: \tweight_initialisation: xavier\n",
      "Failed to detect the name of this notebook, you can set it manually with the WANDB_NOTEBOOK_NAME environment variable to enable code saving.\n",
      "\u001b[34m\u001b[1mwandb\u001b[0m: \u001b[33mWARNING\u001b[0m Ignored wandb.init() arg project when running a sweep.\n"
     ]
    },
    {
     "data": {
      "text/html": [
       "wandb version 0.14.0 is available!  To upgrade, please run:\n",
       " $ pip install wandb --upgrade"
      ],
      "text/plain": [
       "<IPython.core.display.HTML object>"
      ]
     },
     "metadata": {},
     "output_type": "display_data"
    },
    {
     "data": {
      "text/html": [
       "Tracking run with wandb version 0.13.10"
      ],
      "text/plain": [
       "<IPython.core.display.HTML object>"
      ]
     },
     "metadata": {},
     "output_type": "display_data"
    },
    {
     "data": {
      "text/html": [
       "Run data is saved locally in <code>/home/sooraj/sem/dl/assignment-1/wandb/run-20230319_125301-3oduaxkn</code>"
      ],
      "text/plain": [
       "<IPython.core.display.HTML object>"
      ]
     },
     "metadata": {},
     "output_type": "display_data"
    },
    {
     "data": {
      "text/html": [
       "Syncing run <strong><a href='https://wandb.ai/cs20b075/assignment-1/runs/3oduaxkn' target=\"_blank\">dutiful-sweep-19</a></strong> to <a href='https://wandb.ai/cs20b075/assignment-1' target=\"_blank\">Weights & Biases</a> (<a href='https://wandb.me/run' target=\"_blank\">docs</a>)<br/>Sweep page: <a href='https://wandb.ai/cs20b075/assignment-1/sweeps/byqia87m' target=\"_blank\">https://wandb.ai/cs20b075/assignment-1/sweeps/byqia87m</a>"
      ],
      "text/plain": [
       "<IPython.core.display.HTML object>"
      ]
     },
     "metadata": {},
     "output_type": "display_data"
    },
    {
     "data": {
      "text/html": [
       " View project at <a href='https://wandb.ai/cs20b075/assignment-1' target=\"_blank\">https://wandb.ai/cs20b075/assignment-1</a>"
      ],
      "text/plain": [
       "<IPython.core.display.HTML object>"
      ]
     },
     "metadata": {},
     "output_type": "display_data"
    },
    {
     "data": {
      "text/html": [
       " View sweep at <a href='https://wandb.ai/cs20b075/assignment-1/sweeps/byqia87m' target=\"_blank\">https://wandb.ai/cs20b075/assignment-1/sweeps/byqia87m</a>"
      ],
      "text/plain": [
       "<IPython.core.display.HTML object>"
      ]
     },
     "metadata": {},
     "output_type": "display_data"
    },
    {
     "data": {
      "text/html": [
       " View run at <a href='https://wandb.ai/cs20b075/assignment-1/runs/3oduaxkn' target=\"_blank\">https://wandb.ai/cs20b075/assignment-1/runs/3oduaxkn</a>"
      ],
      "text/plain": [
       "<IPython.core.display.HTML object>"
      ]
     },
     "metadata": {},
     "output_type": "display_data"
    },
    {
     "name": "stdout",
     "output_type": "stream",
     "text": [
      "Epoch:  1\n",
      "Iteration  1  of  5\n",
      "Train Loss:  0.750098781101177  Train Accuracy:  0.7241851851851852  Val Loss:  0.754682953831101 VAl MSE LOSS: 0.39388990949130265  Val Accuracy:  0.7168333333333333\n",
      "Epoch:  2\n",
      "Iteration  2  of  5\n",
      "Train Loss:  0.576684136783121  Train Accuracy:  0.7843333333333333  Val Loss:  0.5764061654963446 VAl MSE LOSS: 0.2972065249904122  Val Accuracy:  0.7798333333333334\n",
      "Epoch:  3\n",
      "Iteration  3  of  5\n",
      "Train Loss:  0.6532677987414827  Train Accuracy:  0.774425925925926  Val Loss:  0.6458715850255055 VAl MSE LOSS: 0.3244239614246289  Val Accuracy:  0.7666666666666667\n",
      "Epoch:  4\n",
      "Iteration  4  of  5\n",
      "Train Loss:  0.7597380017225634  Train Accuracy:  0.7741296296296296  Val Loss:  0.7497536918599595 VAl MSE LOSS: 0.3445999243925973  Val Accuracy:  0.7736666666666666\n",
      "Epoch:  5\n",
      "Iteration  5  of  5\n",
      "Train Loss:  0.5900016655523665  Train Accuracy:  0.7975740740740741  Val Loss:  0.5727824294125657 VAl MSE LOSS: 0.2904803744452619  Val Accuracy:  0.798\n"
     ]
    },
    {
     "data": {
      "text/html": [
       "Waiting for W&B process to finish... <strong style=\"color:green\">(success).</strong>"
      ],
      "text/plain": [
       "<IPython.core.display.HTML object>"
      ]
     },
     "metadata": {},
     "output_type": "display_data"
    },
    {
     "data": {
      "application/vnd.jupyter.widget-view+json": {
       "model_id": "c45b1b4b2b5e43639a0375243ead0d43",
       "version_major": 2,
       "version_minor": 0
      },
      "text/plain": [
       "VBox(children=(Label(value='0.002 MB of 0.009 MB uploaded (0.000 MB deduped)\\r'), FloatProgress(value=0.195938…"
      ]
     },
     "metadata": {},
     "output_type": "display_data"
    },
    {
     "data": {
      "text/html": [
       "<style>\n",
       "    table.wandb td:nth-child(1) { padding: 0 10px; text-align: left ; width: auto;} td:nth-child(2) {text-align: left ; width: 100%}\n",
       "    .wandb-row { display: flex; flex-direction: row; flex-wrap: wrap; justify-content: flex-start; width: 100% }\n",
       "    .wandb-col { display: flex; flex-direction: column; flex-basis: 100%; flex: 1; padding: 10px; }\n",
       "    </style>\n",
       "<div class=\"wandb-row\"><div class=\"wandb-col\"><h3>Run history:</h3><br/><table class=\"wandb\"><tr><td>epoch</td><td>▁▃▅▆█</td></tr><tr><td>train_accuracy</td><td>▁▇▆▆█</td></tr><tr><td>train_loss</td><td>█▁▄█▂</td></tr><tr><td>val_accuracy</td><td>▁▆▅▆█</td></tr><tr><td>val_loss</td><td>█▁▄█▁</td></tr><tr><td>val_mse_loss</td><td>█▁▃▅▁</td></tr></table><br/></div><div class=\"wandb-col\"><h3>Run summary:</h3><br/><table class=\"wandb\"><tr><td>epoch</td><td>4</td></tr><tr><td>train_accuracy</td><td>0.79757</td></tr><tr><td>train_loss</td><td>0.59</td></tr><tr><td>val_accuracy</td><td>0.798</td></tr><tr><td>val_loss</td><td>0.57278</td></tr><tr><td>val_mse_loss</td><td>0.29048</td></tr></table><br/></div></div>"
      ],
      "text/plain": [
       "<IPython.core.display.HTML object>"
      ]
     },
     "metadata": {},
     "output_type": "display_data"
    },
    {
     "data": {
      "text/html": [
       " View run <strong style=\"color:#cdcd00\">dutiful-sweep-19</strong> at: <a href='https://wandb.ai/cs20b075/assignment-1/runs/3oduaxkn' target=\"_blank\">https://wandb.ai/cs20b075/assignment-1/runs/3oduaxkn</a><br/>Synced 5 W&B file(s), 0 media file(s), 0 artifact file(s) and 0 other file(s)"
      ],
      "text/plain": [
       "<IPython.core.display.HTML object>"
      ]
     },
     "metadata": {},
     "output_type": "display_data"
    },
    {
     "data": {
      "text/html": [
       "Find logs at: <code>./wandb/run-20230319_125301-3oduaxkn/logs</code>"
      ],
      "text/plain": [
       "<IPython.core.display.HTML object>"
      ]
     },
     "metadata": {},
     "output_type": "display_data"
    },
    {
     "name": "stderr",
     "output_type": "stream",
     "text": [
      "\u001b[34m\u001b[1mwandb\u001b[0m: Agent Starting Run: dx01wjb7 with config:\n",
      "\u001b[34m\u001b[1mwandb\u001b[0m: \tactivation_function: relu\n",
      "\u001b[34m\u001b[1mwandb\u001b[0m: \tbatch: 64\n",
      "\u001b[34m\u001b[1mwandb\u001b[0m: \tepochs: 10\n",
      "\u001b[34m\u001b[1mwandb\u001b[0m: \thidden_layer_size: 128\n",
      "\u001b[34m\u001b[1mwandb\u001b[0m: \tlearning_rate: 0.0001\n",
      "\u001b[34m\u001b[1mwandb\u001b[0m: \tnum_hidden_layers: 5\n",
      "\u001b[34m\u001b[1mwandb\u001b[0m: \toptimizer: adam\n",
      "\u001b[34m\u001b[1mwandb\u001b[0m: \tweight_decay: 0\n",
      "\u001b[34m\u001b[1mwandb\u001b[0m: \tweight_initialisation: xavier\n",
      "Failed to detect the name of this notebook, you can set it manually with the WANDB_NOTEBOOK_NAME environment variable to enable code saving.\n",
      "\u001b[34m\u001b[1mwandb\u001b[0m: \u001b[33mWARNING\u001b[0m Ignored wandb.init() arg project when running a sweep.\n"
     ]
    },
    {
     "data": {
      "text/html": [
       "wandb version 0.14.0 is available!  To upgrade, please run:\n",
       " $ pip install wandb --upgrade"
      ],
      "text/plain": [
       "<IPython.core.display.HTML object>"
      ]
     },
     "metadata": {},
     "output_type": "display_data"
    },
    {
     "data": {
      "text/html": [
       "Tracking run with wandb version 0.13.10"
      ],
      "text/plain": [
       "<IPython.core.display.HTML object>"
      ]
     },
     "metadata": {},
     "output_type": "display_data"
    },
    {
     "data": {
      "text/html": [
       "Run data is saved locally in <code>/home/sooraj/sem/dl/assignment-1/wandb/run-20230319_125334-dx01wjb7</code>"
      ],
      "text/plain": [
       "<IPython.core.display.HTML object>"
      ]
     },
     "metadata": {},
     "output_type": "display_data"
    },
    {
     "data": {
      "text/html": [
       "Syncing run <strong><a href='https://wandb.ai/cs20b075/assignment-1/runs/dx01wjb7' target=\"_blank\">fancy-sweep-20</a></strong> to <a href='https://wandb.ai/cs20b075/assignment-1' target=\"_blank\">Weights & Biases</a> (<a href='https://wandb.me/run' target=\"_blank\">docs</a>)<br/>Sweep page: <a href='https://wandb.ai/cs20b075/assignment-1/sweeps/byqia87m' target=\"_blank\">https://wandb.ai/cs20b075/assignment-1/sweeps/byqia87m</a>"
      ],
      "text/plain": [
       "<IPython.core.display.HTML object>"
      ]
     },
     "metadata": {},
     "output_type": "display_data"
    },
    {
     "data": {
      "text/html": [
       " View project at <a href='https://wandb.ai/cs20b075/assignment-1' target=\"_blank\">https://wandb.ai/cs20b075/assignment-1</a>"
      ],
      "text/plain": [
       "<IPython.core.display.HTML object>"
      ]
     },
     "metadata": {},
     "output_type": "display_data"
    },
    {
     "data": {
      "text/html": [
       " View sweep at <a href='https://wandb.ai/cs20b075/assignment-1/sweeps/byqia87m' target=\"_blank\">https://wandb.ai/cs20b075/assignment-1/sweeps/byqia87m</a>"
      ],
      "text/plain": [
       "<IPython.core.display.HTML object>"
      ]
     },
     "metadata": {},
     "output_type": "display_data"
    },
    {
     "data": {
      "text/html": [
       " View run at <a href='https://wandb.ai/cs20b075/assignment-1/runs/dx01wjb7' target=\"_blank\">https://wandb.ai/cs20b075/assignment-1/runs/dx01wjb7</a>"
      ],
      "text/plain": [
       "<IPython.core.display.HTML object>"
      ]
     },
     "metadata": {},
     "output_type": "display_data"
    },
    {
     "name": "stdout",
     "output_type": "stream",
     "text": [
      "Epoch:  1\n",
      "Iteration  1  of  10\n",
      "Train Loss:  0.5082972173348989  Train Accuracy:  0.8183703703703704  Val Loss:  0.4985215289592159 VAl MSE LOSS: 0.25536817200612133  Val Accuracy:  0.8225\n",
      "Epoch:  2\n",
      "Iteration  2  of  10\n",
      "Train Loss:  0.42059989150763194  Train Accuracy:  0.8483333333333334  Val Loss:  0.4246132461664245 VAl MSE LOSS: 0.21819086771525062  Val Accuracy:  0.8456666666666667\n",
      "Epoch:  3\n",
      "Iteration  3  of  10\n",
      "Train Loss:  0.37309109450363254  Train Accuracy:  0.8648518518518519  Val Loss:  0.38456690625509077 VAl MSE LOSS: 0.19747624183192408  Val Accuracy:  0.86\n",
      "Epoch:  4\n",
      "Iteration  4  of  10\n",
      "Train Loss:  0.34490632923515074  Train Accuracy:  0.8740370370370371  Val Loss:  0.3628851343328762 VAl MSE LOSS: 0.18617288617187971  Val Accuracy:  0.866\n",
      "Epoch:  5\n",
      "Iteration  5  of  10\n",
      "Train Loss:  0.32563732107628596  Train Accuracy:  0.8797407407407407  Val Loss:  0.3496731550357587 VAl MSE LOSS: 0.17963376999980407  Val Accuracy:  0.8725\n",
      "Epoch:  6\n",
      "Iteration  6  of  10\n",
      "Train Loss:  0.31718560433745363  Train Accuracy:  0.8825925925925926  Val Loss:  0.34923890653821893 VAl MSE LOSS: 0.17943952452288822  Val Accuracy:  0.8748333333333334\n",
      "Epoch:  7\n",
      "Iteration  7  of  10\n",
      "Train Loss:  0.2997940899809854  Train Accuracy:  0.8887037037037037  Val Loss:  0.3373966204210697 VAl MSE LOSS: 0.17389005238773628  Val Accuracy:  0.8811666666666667\n",
      "Epoch:  8\n",
      "Iteration  8  of  10\n",
      "Train Loss:  0.28618504232570313  Train Accuracy:  0.8936666666666667  Val Loss:  0.3309022890526925 VAl MSE LOSS: 0.17056202982943203  Val Accuracy:  0.883\n",
      "Epoch:  9\n",
      "Iteration  9  of  10\n",
      "Train Loss:  0.2735301353158382  Train Accuracy:  0.8977592592592593  Val Loss:  0.3246370813883136 VAl MSE LOSS: 0.1675809901128527  Val Accuracy:  0.8831666666666667\n",
      "Epoch:  10\n",
      "Iteration  10  of  10\n",
      "Train Loss:  0.2657482942159718  Train Accuracy:  0.9008333333333334  Val Loss:  0.32332865554688606 VAl MSE LOSS: 0.16698337992472473  Val Accuracy:  0.8835\n"
     ]
    },
    {
     "data": {
      "text/html": [
       "Waiting for W&B process to finish... <strong style=\"color:green\">(success).</strong>"
      ],
      "text/plain": [
       "<IPython.core.display.HTML object>"
      ]
     },
     "metadata": {},
     "output_type": "display_data"
    },
    {
     "data": {
      "application/vnd.jupyter.widget-view+json": {
       "model_id": "be78acbbf1314c54b1c4b13fed862d4f",
       "version_major": 2,
       "version_minor": 0
      },
      "text/plain": [
       "VBox(children=(Label(value='0.002 MB of 0.002 MB uploaded (0.000 MB deduped)\\r'), FloatProgress(value=1.0, max…"
      ]
     },
     "metadata": {},
     "output_type": "display_data"
    },
    {
     "data": {
      "text/html": [
       "<style>\n",
       "    table.wandb td:nth-child(1) { padding: 0 10px; text-align: left ; width: auto;} td:nth-child(2) {text-align: left ; width: 100%}\n",
       "    .wandb-row { display: flex; flex-direction: row; flex-wrap: wrap; justify-content: flex-start; width: 100% }\n",
       "    .wandb-col { display: flex; flex-direction: column; flex-basis: 100%; flex: 1; padding: 10px; }\n",
       "    </style>\n",
       "<div class=\"wandb-row\"><div class=\"wandb-col\"><h3>Run history:</h3><br/><table class=\"wandb\"><tr><td>epoch</td><td>▁▂▃▃▄▅▆▆▇█</td></tr><tr><td>train_accuracy</td><td>▁▄▅▆▆▆▇▇██</td></tr><tr><td>train_loss</td><td>█▅▄▃▃▂▂▂▁▁</td></tr><tr><td>val_accuracy</td><td>▁▄▅▆▇▇████</td></tr><tr><td>val_loss</td><td>█▅▃▃▂▂▂▁▁▁</td></tr><tr><td>val_mse_loss</td><td>█▅▃▃▂▂▂▁▁▁</td></tr></table><br/></div><div class=\"wandb-col\"><h3>Run summary:</h3><br/><table class=\"wandb\"><tr><td>epoch</td><td>9</td></tr><tr><td>train_accuracy</td><td>0.90083</td></tr><tr><td>train_loss</td><td>0.26575</td></tr><tr><td>val_accuracy</td><td>0.8835</td></tr><tr><td>val_loss</td><td>0.32333</td></tr><tr><td>val_mse_loss</td><td>0.16698</td></tr></table><br/></div></div>"
      ],
      "text/plain": [
       "<IPython.core.display.HTML object>"
      ]
     },
     "metadata": {},
     "output_type": "display_data"
    },
    {
     "data": {
      "text/html": [
       " View run <strong style=\"color:#cdcd00\">fancy-sweep-20</strong> at: <a href='https://wandb.ai/cs20b075/assignment-1/runs/dx01wjb7' target=\"_blank\">https://wandb.ai/cs20b075/assignment-1/runs/dx01wjb7</a><br/>Synced 5 W&B file(s), 0 media file(s), 0 artifact file(s) and 0 other file(s)"
      ],
      "text/plain": [
       "<IPython.core.display.HTML object>"
      ]
     },
     "metadata": {},
     "output_type": "display_data"
    },
    {
     "data": {
      "text/html": [
       "Find logs at: <code>./wandb/run-20230319_125334-dx01wjb7/logs</code>"
      ],
      "text/plain": [
       "<IPython.core.display.HTML object>"
      ]
     },
     "metadata": {},
     "output_type": "display_data"
    },
    {
     "name": "stderr",
     "output_type": "stream",
     "text": [
      "\u001b[34m\u001b[1mwandb\u001b[0m: Agent Starting Run: h0xsis0q with config:\n",
      "\u001b[34m\u001b[1mwandb\u001b[0m: \tactivation_function: sigmoid\n",
      "\u001b[34m\u001b[1mwandb\u001b[0m: \tbatch: 64\n",
      "\u001b[34m\u001b[1mwandb\u001b[0m: \tepochs: 10\n",
      "\u001b[34m\u001b[1mwandb\u001b[0m: \thidden_layer_size: 128\n",
      "\u001b[34m\u001b[1mwandb\u001b[0m: \tlearning_rate: 0.001\n",
      "\u001b[34m\u001b[1mwandb\u001b[0m: \tnum_hidden_layers: 5\n",
      "\u001b[34m\u001b[1mwandb\u001b[0m: \toptimizer: rmsprop\n",
      "\u001b[34m\u001b[1mwandb\u001b[0m: \tweight_decay: 0\n",
      "\u001b[34m\u001b[1mwandb\u001b[0m: \tweight_initialisation: xavier\n",
      "Failed to detect the name of this notebook, you can set it manually with the WANDB_NOTEBOOK_NAME environment variable to enable code saving.\n",
      "\u001b[34m\u001b[1mwandb\u001b[0m: \u001b[33mWARNING\u001b[0m Ignored wandb.init() arg project when running a sweep.\n"
     ]
    },
    {
     "data": {
      "text/html": [
       "wandb version 0.14.0 is available!  To upgrade, please run:\n",
       " $ pip install wandb --upgrade"
      ],
      "text/plain": [
       "<IPython.core.display.HTML object>"
      ]
     },
     "metadata": {},
     "output_type": "display_data"
    },
    {
     "data": {
      "text/html": [
       "Tracking run with wandb version 0.13.10"
      ],
      "text/plain": [
       "<IPython.core.display.HTML object>"
      ]
     },
     "metadata": {},
     "output_type": "display_data"
    },
    {
     "data": {
      "text/html": [
       "Run data is saved locally in <code>/home/sooraj/sem/dl/assignment-1/wandb/run-20230319_125507-h0xsis0q</code>"
      ],
      "text/plain": [
       "<IPython.core.display.HTML object>"
      ]
     },
     "metadata": {},
     "output_type": "display_data"
    },
    {
     "data": {
      "text/html": [
       "Syncing run <strong><a href='https://wandb.ai/cs20b075/assignment-1/runs/h0xsis0q' target=\"_blank\">rich-sweep-21</a></strong> to <a href='https://wandb.ai/cs20b075/assignment-1' target=\"_blank\">Weights & Biases</a> (<a href='https://wandb.me/run' target=\"_blank\">docs</a>)<br/>Sweep page: <a href='https://wandb.ai/cs20b075/assignment-1/sweeps/byqia87m' target=\"_blank\">https://wandb.ai/cs20b075/assignment-1/sweeps/byqia87m</a>"
      ],
      "text/plain": [
       "<IPython.core.display.HTML object>"
      ]
     },
     "metadata": {},
     "output_type": "display_data"
    },
    {
     "data": {
      "text/html": [
       " View project at <a href='https://wandb.ai/cs20b075/assignment-1' target=\"_blank\">https://wandb.ai/cs20b075/assignment-1</a>"
      ],
      "text/plain": [
       "<IPython.core.display.HTML object>"
      ]
     },
     "metadata": {},
     "output_type": "display_data"
    },
    {
     "data": {
      "text/html": [
       " View sweep at <a href='https://wandb.ai/cs20b075/assignment-1/sweeps/byqia87m' target=\"_blank\">https://wandb.ai/cs20b075/assignment-1/sweeps/byqia87m</a>"
      ],
      "text/plain": [
       "<IPython.core.display.HTML object>"
      ]
     },
     "metadata": {},
     "output_type": "display_data"
    },
    {
     "data": {
      "text/html": [
       " View run at <a href='https://wandb.ai/cs20b075/assignment-1/runs/h0xsis0q' target=\"_blank\">https://wandb.ai/cs20b075/assignment-1/runs/h0xsis0q</a>"
      ],
      "text/plain": [
       "<IPython.core.display.HTML object>"
      ]
     },
     "metadata": {},
     "output_type": "display_data"
    },
    {
     "name": "stdout",
     "output_type": "stream",
     "text": [
      "Epoch:  1\n",
      "Iteration  1  of  10\n",
      "Train Loss:  0.8226069880423571  Train Accuracy:  0.6765925925925926  Val Loss:  0.8106511330572131 VAl MSE LOSS: 0.4174863266491908  Val Accuracy:  0.6701666666666667\n",
      "Epoch:  2\n",
      "Iteration  2  of  10\n",
      "Train Loss:  0.6594930166315831  Train Accuracy:  0.7700555555555556  Val Loss:  0.6543503580901179 VAl MSE LOSS: 0.33121834540245715  Val Accuracy:  0.7666666666666667\n",
      "Epoch:  3\n",
      "Iteration  3  of  10\n",
      "Train Loss:  0.5536553000061721  Train Accuracy:  0.7998148148148149  Val Loss:  0.5561398733149545 VAl MSE LOSS: 0.2880340192440687  Val Accuracy:  0.7906666666666666\n",
      "Epoch:  4\n",
      "Iteration  4  of  10\n",
      "Train Loss:  0.5046409195416499  Train Accuracy:  0.8119074074074074  Val Loss:  0.5115999626468991 VAl MSE LOSS: 0.2672248225675161  Val Accuracy:  0.804\n",
      "Epoch:  5\n",
      "Iteration  5  of  10\n",
      "Train Loss:  0.4678341401009127  Train Accuracy:  0.8233518518518519  Val Loss:  0.47526266046281057 VAl MSE LOSS: 0.24836542816512538  Val Accuracy:  0.8166666666666667\n",
      "Epoch:  6\n",
      "Iteration  6  of  10\n",
      "Train Loss:  0.4456374373244438  Train Accuracy:  0.8317592592592593  Val Loss:  0.4554803510228308 VAl MSE LOSS: 0.23708965758144251  Val Accuracy:  0.824\n",
      "Epoch:  7\n",
      "Iteration  7  of  10\n",
      "Train Loss:  0.4303700005239017  Train Accuracy:  0.8371851851851851  Val Loss:  0.4446175656974504 VAl MSE LOSS: 0.23074593482239714  Val Accuracy:  0.8295\n",
      "Epoch:  8\n",
      "Iteration  8  of  10\n",
      "Train Loss:  0.4159279225771765  Train Accuracy:  0.8441481481481482  Val Loss:  0.43544235363498685 VAl MSE LOSS: 0.22440081008269966  Val Accuracy:  0.8345\n",
      "Epoch:  9\n",
      "Iteration  9  of  10\n",
      "Train Loss:  0.4011409569202578  Train Accuracy:  0.8529629629629629  Val Loss:  0.42665580207842285 VAl MSE LOSS: 0.21750499665519854  Val Accuracy:  0.8426666666666667\n",
      "Epoch:  10\n",
      "Iteration  10  of  10\n",
      "Train Loss:  0.3903035969353152  Train Accuracy:  0.8604259259259259  Val Loss:  0.42223840377237326 VAl MSE LOSS: 0.21305571631220818  Val Accuracy:  0.8528333333333333\n"
     ]
    },
    {
     "data": {
      "text/html": [
       "Waiting for W&B process to finish... <strong style=\"color:green\">(success).</strong>"
      ],
      "text/plain": [
       "<IPython.core.display.HTML object>"
      ]
     },
     "metadata": {},
     "output_type": "display_data"
    },
    {
     "data": {
      "application/vnd.jupyter.widget-view+json": {
       "model_id": "90d28ad3a7ca42fdbce00d6c81528bfc",
       "version_major": 2,
       "version_minor": 0
      },
      "text/plain": [
       "VBox(children=(Label(value='0.002 MB of 0.002 MB uploaded (0.000 MB deduped)\\r'), FloatProgress(value=1.0, max…"
      ]
     },
     "metadata": {},
     "output_type": "display_data"
    },
    {
     "data": {
      "text/html": [
       "<style>\n",
       "    table.wandb td:nth-child(1) { padding: 0 10px; text-align: left ; width: auto;} td:nth-child(2) {text-align: left ; width: 100%}\n",
       "    .wandb-row { display: flex; flex-direction: row; flex-wrap: wrap; justify-content: flex-start; width: 100% }\n",
       "    .wandb-col { display: flex; flex-direction: column; flex-basis: 100%; flex: 1; padding: 10px; }\n",
       "    </style>\n",
       "<div class=\"wandb-row\"><div class=\"wandb-col\"><h3>Run history:</h3><br/><table class=\"wandb\"><tr><td>epoch</td><td>▁▂▃▃▄▅▆▆▇█</td></tr><tr><td>train_accuracy</td><td>▁▅▆▆▇▇▇▇██</td></tr><tr><td>train_loss</td><td>█▅▄▃▂▂▂▁▁▁</td></tr><tr><td>val_accuracy</td><td>▁▅▆▆▇▇▇▇██</td></tr><tr><td>val_loss</td><td>█▅▃▃▂▂▁▁▁▁</td></tr><tr><td>val_mse_loss</td><td>█▅▄▃▂▂▂▁▁▁</td></tr></table><br/></div><div class=\"wandb-col\"><h3>Run summary:</h3><br/><table class=\"wandb\"><tr><td>epoch</td><td>9</td></tr><tr><td>train_accuracy</td><td>0.86043</td></tr><tr><td>train_loss</td><td>0.3903</td></tr><tr><td>val_accuracy</td><td>0.85283</td></tr><tr><td>val_loss</td><td>0.42224</td></tr><tr><td>val_mse_loss</td><td>0.21306</td></tr></table><br/></div></div>"
      ],
      "text/plain": [
       "<IPython.core.display.HTML object>"
      ]
     },
     "metadata": {},
     "output_type": "display_data"
    },
    {
     "data": {
      "text/html": [
       " View run <strong style=\"color:#cdcd00\">rich-sweep-21</strong> at: <a href='https://wandb.ai/cs20b075/assignment-1/runs/h0xsis0q' target=\"_blank\">https://wandb.ai/cs20b075/assignment-1/runs/h0xsis0q</a><br/>Synced 5 W&B file(s), 0 media file(s), 0 artifact file(s) and 0 other file(s)"
      ],
      "text/plain": [
       "<IPython.core.display.HTML object>"
      ]
     },
     "metadata": {},
     "output_type": "display_data"
    },
    {
     "data": {
      "text/html": [
       "Find logs at: <code>./wandb/run-20230319_125507-h0xsis0q/logs</code>"
      ],
      "text/plain": [
       "<IPython.core.display.HTML object>"
      ]
     },
     "metadata": {},
     "output_type": "display_data"
    },
    {
     "name": "stderr",
     "output_type": "stream",
     "text": [
      "\u001b[34m\u001b[1mwandb\u001b[0m: Agent Starting Run: 4ygifg5v with config:\n",
      "\u001b[34m\u001b[1mwandb\u001b[0m: \tactivation_function: sigmoid\n",
      "\u001b[34m\u001b[1mwandb\u001b[0m: \tbatch: 32\n",
      "\u001b[34m\u001b[1mwandb\u001b[0m: \tepochs: 10\n",
      "\u001b[34m\u001b[1mwandb\u001b[0m: \thidden_layer_size: 128\n",
      "\u001b[34m\u001b[1mwandb\u001b[0m: \tlearning_rate: 0.003\n",
      "\u001b[34m\u001b[1mwandb\u001b[0m: \tnum_hidden_layers: 4\n",
      "\u001b[34m\u001b[1mwandb\u001b[0m: \toptimizer: sgd\n",
      "\u001b[34m\u001b[1mwandb\u001b[0m: \tweight_decay: 0.5\n",
      "\u001b[34m\u001b[1mwandb\u001b[0m: \tweight_initialisation: xavier\n",
      "Failed to detect the name of this notebook, you can set it manually with the WANDB_NOTEBOOK_NAME environment variable to enable code saving.\n",
      "\u001b[34m\u001b[1mwandb\u001b[0m: \u001b[33mWARNING\u001b[0m Ignored wandb.init() arg project when running a sweep.\n"
     ]
    },
    {
     "data": {
      "text/html": [
       "wandb version 0.14.0 is available!  To upgrade, please run:\n",
       " $ pip install wandb --upgrade"
      ],
      "text/plain": [
       "<IPython.core.display.HTML object>"
      ]
     },
     "metadata": {},
     "output_type": "display_data"
    },
    {
     "data": {
      "text/html": [
       "Tracking run with wandb version 0.13.10"
      ],
      "text/plain": [
       "<IPython.core.display.HTML object>"
      ]
     },
     "metadata": {},
     "output_type": "display_data"
    },
    {
     "data": {
      "text/html": [
       "Run data is saved locally in <code>/home/sooraj/sem/dl/assignment-1/wandb/run-20230319_125650-4ygifg5v</code>"
      ],
      "text/plain": [
       "<IPython.core.display.HTML object>"
      ]
     },
     "metadata": {},
     "output_type": "display_data"
    },
    {
     "data": {
      "text/html": [
       "Syncing run <strong><a href='https://wandb.ai/cs20b075/assignment-1/runs/4ygifg5v' target=\"_blank\">still-sweep-22</a></strong> to <a href='https://wandb.ai/cs20b075/assignment-1' target=\"_blank\">Weights & Biases</a> (<a href='https://wandb.me/run' target=\"_blank\">docs</a>)<br/>Sweep page: <a href='https://wandb.ai/cs20b075/assignment-1/sweeps/byqia87m' target=\"_blank\">https://wandb.ai/cs20b075/assignment-1/sweeps/byqia87m</a>"
      ],
      "text/plain": [
       "<IPython.core.display.HTML object>"
      ]
     },
     "metadata": {},
     "output_type": "display_data"
    },
    {
     "data": {
      "text/html": [
       " View project at <a href='https://wandb.ai/cs20b075/assignment-1' target=\"_blank\">https://wandb.ai/cs20b075/assignment-1</a>"
      ],
      "text/plain": [
       "<IPython.core.display.HTML object>"
      ]
     },
     "metadata": {},
     "output_type": "display_data"
    },
    {
     "data": {
      "text/html": [
       " View sweep at <a href='https://wandb.ai/cs20b075/assignment-1/sweeps/byqia87m' target=\"_blank\">https://wandb.ai/cs20b075/assignment-1/sweeps/byqia87m</a>"
      ],
      "text/plain": [
       "<IPython.core.display.HTML object>"
      ]
     },
     "metadata": {},
     "output_type": "display_data"
    },
    {
     "data": {
      "text/html": [
       " View run at <a href='https://wandb.ai/cs20b075/assignment-1/runs/4ygifg5v' target=\"_blank\">https://wandb.ai/cs20b075/assignment-1/runs/4ygifg5v</a>"
      ],
      "text/plain": [
       "<IPython.core.display.HTML object>"
      ]
     },
     "metadata": {},
     "output_type": "display_data"
    },
    {
     "name": "stdout",
     "output_type": "stream",
     "text": [
      "Epoch:  1\n",
      "Iteration  1  of  10\n",
      "Train Loss:  2.3142935013065924  Train Accuracy:  0.09962962962962962  Val Loss:  2.3175832254928714 VAl MSE LOSS: 0.9026782216466586  Val Accuracy:  0.10333333333333333\n",
      "Epoch:  2\n",
      "Iteration  2  of  10\n",
      "Train Loss:  2.31419227959826  Train Accuracy:  0.09962962962962962  Val Loss:  2.3174138267631013 VAl MSE LOSS: 0.9026489777294091  Val Accuracy:  0.10333333333333333\n",
      "Epoch:  3\n",
      "Iteration  3  of  10\n",
      "Train Loss:  2.3141866070258628  Train Accuracy:  0.09962962962962962  Val Loss:  2.317403936712135 VAl MSE LOSS: 0.9026472746697156  Val Accuracy:  0.10333333333333333\n",
      "Epoch:  4\n",
      "Iteration  4  of  10\n",
      "Train Loss:  2.314186210149257  Train Accuracy:  0.09962962962962962  Val Loss:  2.3174032416085937 VAl MSE LOSS: 0.9026471549824737  Val Accuracy:  0.10333333333333333\n",
      "Epoch:  5\n",
      "Iteration  5  of  10\n",
      "Train Loss:  2.3141861788056874  Train Accuracy:  0.09962962962962962  Val Loss:  2.317403186699485 VAl MSE LOSS: 0.9026471455277492  Val Accuracy:  0.10333333333333333\n",
      "Epoch:  6\n",
      "Iteration  6  of  10\n",
      "Train Loss:  2.3141861761693097  Train Accuracy:  0.09962962962962962  Val Loss:  2.3174031820812555 VAl MSE LOSS: 0.9026471447325346  Val Accuracy:  0.10333333333333333\n",
      "Epoch:  7\n",
      "Iteration  7  of  10\n",
      "Train Loss:  2.3141861759408746  Train Accuracy:  0.09962962962962962  Val Loss:  2.3174031816811147 VAl MSE LOSS: 0.9026471446636342  Val Accuracy:  0.10333333333333333\n",
      "Epoch:  8\n",
      "Iteration  8  of  10\n",
      "Train Loss:  2.314186175920802  Train Accuracy:  0.09962962962962962  Val Loss:  2.3174031816459535 VAl MSE LOSS: 0.9026471446575797  Val Accuracy:  0.10333333333333333\n",
      "Epoch:  9\n",
      "Iteration  9  of  10\n",
      "Train Loss:  2.314186175919024  Train Accuracy:  0.09962962962962962  Val Loss:  2.3174031816428413 VAl MSE LOSS: 0.9026471446570437  Val Accuracy:  0.10333333333333333\n",
      "Epoch:  10\n",
      "Iteration  10  of  10\n",
      "Train Loss:  2.3141861759188673  Train Accuracy:  0.09962962962962962  Val Loss:  2.317403181642564 VAl MSE LOSS: 0.9026471446569958  Val Accuracy:  0.10333333333333333\n"
     ]
    },
    {
     "data": {
      "text/html": [
       "Waiting for W&B process to finish... <strong style=\"color:green\">(success).</strong>"
      ],
      "text/plain": [
       "<IPython.core.display.HTML object>"
      ]
     },
     "metadata": {},
     "output_type": "display_data"
    },
    {
     "data": {
      "application/vnd.jupyter.widget-view+json": {
       "model_id": "520a5e3ebb6d4a36997499d4d06cfefc",
       "version_major": 2,
       "version_minor": 0
      },
      "text/plain": [
       "VBox(children=(Label(value='0.002 MB of 0.002 MB uploaded (0.000 MB deduped)\\r'), FloatProgress(value=1.0, max…"
      ]
     },
     "metadata": {},
     "output_type": "display_data"
    },
    {
     "data": {
      "text/html": [
       "<style>\n",
       "    table.wandb td:nth-child(1) { padding: 0 10px; text-align: left ; width: auto;} td:nth-child(2) {text-align: left ; width: 100%}\n",
       "    .wandb-row { display: flex; flex-direction: row; flex-wrap: wrap; justify-content: flex-start; width: 100% }\n",
       "    .wandb-col { display: flex; flex-direction: column; flex-basis: 100%; flex: 1; padding: 10px; }\n",
       "    </style>\n",
       "<div class=\"wandb-row\"><div class=\"wandb-col\"><h3>Run history:</h3><br/><table class=\"wandb\"><tr><td>epoch</td><td>▁▂▃▃▄▅▆▆▇█</td></tr><tr><td>train_accuracy</td><td>▁▁▁▁▁▁▁▁▁▁</td></tr><tr><td>train_loss</td><td>█▁▁▁▁▁▁▁▁▁</td></tr><tr><td>val_accuracy</td><td>▁▁▁▁▁▁▁▁▁▁</td></tr><tr><td>val_loss</td><td>█▁▁▁▁▁▁▁▁▁</td></tr><tr><td>val_mse_loss</td><td>█▁▁▁▁▁▁▁▁▁</td></tr></table><br/></div><div class=\"wandb-col\"><h3>Run summary:</h3><br/><table class=\"wandb\"><tr><td>epoch</td><td>9</td></tr><tr><td>train_accuracy</td><td>0.09963</td></tr><tr><td>train_loss</td><td>2.31419</td></tr><tr><td>val_accuracy</td><td>0.10333</td></tr><tr><td>val_loss</td><td>2.3174</td></tr><tr><td>val_mse_loss</td><td>0.90265</td></tr></table><br/></div></div>"
      ],
      "text/plain": [
       "<IPython.core.display.HTML object>"
      ]
     },
     "metadata": {},
     "output_type": "display_data"
    },
    {
     "data": {
      "text/html": [
       " View run <strong style=\"color:#cdcd00\">still-sweep-22</strong> at: <a href='https://wandb.ai/cs20b075/assignment-1/runs/4ygifg5v' target=\"_blank\">https://wandb.ai/cs20b075/assignment-1/runs/4ygifg5v</a><br/>Synced 5 W&B file(s), 0 media file(s), 0 artifact file(s) and 0 other file(s)"
      ],
      "text/plain": [
       "<IPython.core.display.HTML object>"
      ]
     },
     "metadata": {},
     "output_type": "display_data"
    },
    {
     "data": {
      "text/html": [
       "Find logs at: <code>./wandb/run-20230319_125650-4ygifg5v/logs</code>"
      ],
      "text/plain": [
       "<IPython.core.display.HTML object>"
      ]
     },
     "metadata": {},
     "output_type": "display_data"
    },
    {
     "name": "stderr",
     "output_type": "stream",
     "text": [
      "\u001b[34m\u001b[1mwandb\u001b[0m: Agent Starting Run: dzmxn1t3 with config:\n",
      "\u001b[34m\u001b[1mwandb\u001b[0m: \tactivation_function: sigmoid\n",
      "\u001b[34m\u001b[1mwandb\u001b[0m: \tbatch: 32\n",
      "\u001b[34m\u001b[1mwandb\u001b[0m: \tepochs: 5\n",
      "\u001b[34m\u001b[1mwandb\u001b[0m: \thidden_layer_size: 64\n",
      "\u001b[34m\u001b[1mwandb\u001b[0m: \tlearning_rate: 0.001\n",
      "\u001b[34m\u001b[1mwandb\u001b[0m: \tnum_hidden_layers: 4\n",
      "\u001b[34m\u001b[1mwandb\u001b[0m: \toptimizer: momentum\n",
      "\u001b[34m\u001b[1mwandb\u001b[0m: \tweight_decay: 0.05\n",
      "\u001b[34m\u001b[1mwandb\u001b[0m: \tweight_initialisation: random\n",
      "Failed to detect the name of this notebook, you can set it manually with the WANDB_NOTEBOOK_NAME environment variable to enable code saving.\n",
      "\u001b[34m\u001b[1mwandb\u001b[0m: \u001b[33mWARNING\u001b[0m Ignored wandb.init() arg project when running a sweep.\n"
     ]
    },
    {
     "data": {
      "text/html": [
       "wandb version 0.14.0 is available!  To upgrade, please run:\n",
       " $ pip install wandb --upgrade"
      ],
      "text/plain": [
       "<IPython.core.display.HTML object>"
      ]
     },
     "metadata": {},
     "output_type": "display_data"
    },
    {
     "data": {
      "text/html": [
       "Tracking run with wandb version 0.13.10"
      ],
      "text/plain": [
       "<IPython.core.display.HTML object>"
      ]
     },
     "metadata": {},
     "output_type": "display_data"
    },
    {
     "data": {
      "text/html": [
       "Run data is saved locally in <code>/home/sooraj/sem/dl/assignment-1/wandb/run-20230319_125834-dzmxn1t3</code>"
      ],
      "text/plain": [
       "<IPython.core.display.HTML object>"
      ]
     },
     "metadata": {},
     "output_type": "display_data"
    },
    {
     "data": {
      "text/html": [
       "Syncing run <strong><a href='https://wandb.ai/cs20b075/assignment-1/runs/dzmxn1t3' target=\"_blank\">fearless-sweep-23</a></strong> to <a href='https://wandb.ai/cs20b075/assignment-1' target=\"_blank\">Weights & Biases</a> (<a href='https://wandb.me/run' target=\"_blank\">docs</a>)<br/>Sweep page: <a href='https://wandb.ai/cs20b075/assignment-1/sweeps/byqia87m' target=\"_blank\">https://wandb.ai/cs20b075/assignment-1/sweeps/byqia87m</a>"
      ],
      "text/plain": [
       "<IPython.core.display.HTML object>"
      ]
     },
     "metadata": {},
     "output_type": "display_data"
    },
    {
     "data": {
      "text/html": [
       " View project at <a href='https://wandb.ai/cs20b075/assignment-1' target=\"_blank\">https://wandb.ai/cs20b075/assignment-1</a>"
      ],
      "text/plain": [
       "<IPython.core.display.HTML object>"
      ]
     },
     "metadata": {},
     "output_type": "display_data"
    },
    {
     "data": {
      "text/html": [
       " View sweep at <a href='https://wandb.ai/cs20b075/assignment-1/sweeps/byqia87m' target=\"_blank\">https://wandb.ai/cs20b075/assignment-1/sweeps/byqia87m</a>"
      ],
      "text/plain": [
       "<IPython.core.display.HTML object>"
      ]
     },
     "metadata": {},
     "output_type": "display_data"
    },
    {
     "data": {
      "text/html": [
       " View run at <a href='https://wandb.ai/cs20b075/assignment-1/runs/dzmxn1t3' target=\"_blank\">https://wandb.ai/cs20b075/assignment-1/runs/dzmxn1t3</a>"
      ],
      "text/plain": [
       "<IPython.core.display.HTML object>"
      ]
     },
     "metadata": {},
     "output_type": "display_data"
    },
    {
     "name": "stdout",
     "output_type": "stream",
     "text": [
      "Epoch:  1\n",
      "Iteration  1  of  5\n",
      "Train Loss:  0.5938207241834643  Train Accuracy:  0.7909074074074074  Val Loss:  0.5885812541067675 VAl MSE LOSS: 0.29337278609613476  Val Accuracy:  0.7886666666666666\n",
      "Epoch:  2\n",
      "Iteration  2  of  5\n",
      "Train Loss:  0.5244549251438557  Train Accuracy:  0.8171666666666667  Val Loss:  0.5243948415202816 VAl MSE LOSS: 0.2602588677523708  Val Accuracy:  0.8163333333333334\n",
      "Epoch:  3\n",
      "Iteration  3  of  5\n",
      "Train Loss:  0.5071427712917332  Train Accuracy:  0.8226481481481481  Val Loss:  0.5072439004632161 VAl MSE LOSS: 0.25274894019227784  Val Accuracy:  0.8233333333333334\n",
      "Epoch:  4\n",
      "Iteration  4  of  5\n",
      "Train Loss:  0.5132097285078693  Train Accuracy:  0.8200185185185185  Val Loss:  0.5138690929791362 VAl MSE LOSS: 0.2565476690594925  Val Accuracy:  0.8205\n",
      "Epoch:  5\n",
      "Iteration  5  of  5\n",
      "Train Loss:  0.5272190068704676  Train Accuracy:  0.8147777777777778  Val Loss:  0.5289515158582063 VAl MSE LOSS: 0.2647953514895293  Val Accuracy:  0.814\n"
     ]
    },
    {
     "data": {
      "text/html": [
       "Waiting for W&B process to finish... <strong style=\"color:green\">(success).</strong>"
      ],
      "text/plain": [
       "<IPython.core.display.HTML object>"
      ]
     },
     "metadata": {},
     "output_type": "display_data"
    },
    {
     "data": {
      "application/vnd.jupyter.widget-view+json": {
       "model_id": "35e9f60e6a7240e2ad9bdff7646cfeb2",
       "version_major": 2,
       "version_minor": 0
      },
      "text/plain": [
       "VBox(children=(Label(value='0.002 MB of 0.009 MB uploaded (0.000 MB deduped)\\r'), FloatProgress(value=0.190460…"
      ]
     },
     "metadata": {},
     "output_type": "display_data"
    },
    {
     "data": {
      "text/html": [
       "<style>\n",
       "    table.wandb td:nth-child(1) { padding: 0 10px; text-align: left ; width: auto;} td:nth-child(2) {text-align: left ; width: 100%}\n",
       "    .wandb-row { display: flex; flex-direction: row; flex-wrap: wrap; justify-content: flex-start; width: 100% }\n",
       "    .wandb-col { display: flex; flex-direction: column; flex-basis: 100%; flex: 1; padding: 10px; }\n",
       "    </style>\n",
       "<div class=\"wandb-row\"><div class=\"wandb-col\"><h3>Run history:</h3><br/><table class=\"wandb\"><tr><td>epoch</td><td>▁▃▅▆█</td></tr><tr><td>train_accuracy</td><td>▁▇█▇▆</td></tr><tr><td>train_loss</td><td>█▂▁▁▃</td></tr><tr><td>val_accuracy</td><td>▁▇█▇▆</td></tr><tr><td>val_loss</td><td>█▂▁▂▃</td></tr><tr><td>val_mse_loss</td><td>█▂▁▂▃</td></tr></table><br/></div><div class=\"wandb-col\"><h3>Run summary:</h3><br/><table class=\"wandb\"><tr><td>epoch</td><td>4</td></tr><tr><td>train_accuracy</td><td>0.81478</td></tr><tr><td>train_loss</td><td>0.52722</td></tr><tr><td>val_accuracy</td><td>0.814</td></tr><tr><td>val_loss</td><td>0.52895</td></tr><tr><td>val_mse_loss</td><td>0.2648</td></tr></table><br/></div></div>"
      ],
      "text/plain": [
       "<IPython.core.display.HTML object>"
      ]
     },
     "metadata": {},
     "output_type": "display_data"
    },
    {
     "data": {
      "text/html": [
       " View run <strong style=\"color:#cdcd00\">fearless-sweep-23</strong> at: <a href='https://wandb.ai/cs20b075/assignment-1/runs/dzmxn1t3' target=\"_blank\">https://wandb.ai/cs20b075/assignment-1/runs/dzmxn1t3</a><br/>Synced 5 W&B file(s), 0 media file(s), 0 artifact file(s) and 0 other file(s)"
      ],
      "text/plain": [
       "<IPython.core.display.HTML object>"
      ]
     },
     "metadata": {},
     "output_type": "display_data"
    },
    {
     "data": {
      "text/html": [
       "Find logs at: <code>./wandb/run-20230319_125834-dzmxn1t3/logs</code>"
      ],
      "text/plain": [
       "<IPython.core.display.HTML object>"
      ]
     },
     "metadata": {},
     "output_type": "display_data"
    },
    {
     "name": "stderr",
     "output_type": "stream",
     "text": [
      "\u001b[34m\u001b[1mwandb\u001b[0m: Agent Starting Run: vvakf7fn with config:\n",
      "\u001b[34m\u001b[1mwandb\u001b[0m: \tactivation_function: tanh\n",
      "\u001b[34m\u001b[1mwandb\u001b[0m: \tbatch: 64\n",
      "\u001b[34m\u001b[1mwandb\u001b[0m: \tepochs: 10\n",
      "\u001b[34m\u001b[1mwandb\u001b[0m: \thidden_layer_size: 128\n",
      "\u001b[34m\u001b[1mwandb\u001b[0m: \tlearning_rate: 0.001\n",
      "\u001b[34m\u001b[1mwandb\u001b[0m: \tnum_hidden_layers: 3\n",
      "\u001b[34m\u001b[1mwandb\u001b[0m: \toptimizer: nadam\n",
      "\u001b[34m\u001b[1mwandb\u001b[0m: \tweight_decay: 0.05\n",
      "\u001b[34m\u001b[1mwandb\u001b[0m: \tweight_initialisation: xavier\n",
      "Failed to detect the name of this notebook, you can set it manually with the WANDB_NOTEBOOK_NAME environment variable to enable code saving.\n",
      "\u001b[34m\u001b[1mwandb\u001b[0m: \u001b[33mWARNING\u001b[0m Ignored wandb.init() arg project when running a sweep.\n"
     ]
    },
    {
     "data": {
      "text/html": [
       "wandb version 0.14.0 is available!  To upgrade, please run:\n",
       " $ pip install wandb --upgrade"
      ],
      "text/plain": [
       "<IPython.core.display.HTML object>"
      ]
     },
     "metadata": {},
     "output_type": "display_data"
    },
    {
     "data": {
      "text/html": [
       "Tracking run with wandb version 0.13.10"
      ],
      "text/plain": [
       "<IPython.core.display.HTML object>"
      ]
     },
     "metadata": {},
     "output_type": "display_data"
    },
    {
     "data": {
      "text/html": [
       "Run data is saved locally in <code>/home/sooraj/sem/dl/assignment-1/wandb/run-20230319_125923-vvakf7fn</code>"
      ],
      "text/plain": [
       "<IPython.core.display.HTML object>"
      ]
     },
     "metadata": {},
     "output_type": "display_data"
    },
    {
     "data": {
      "text/html": [
       "Syncing run <strong><a href='https://wandb.ai/cs20b075/assignment-1/runs/vvakf7fn' target=\"_blank\">ruby-sweep-24</a></strong> to <a href='https://wandb.ai/cs20b075/assignment-1' target=\"_blank\">Weights & Biases</a> (<a href='https://wandb.me/run' target=\"_blank\">docs</a>)<br/>Sweep page: <a href='https://wandb.ai/cs20b075/assignment-1/sweeps/byqia87m' target=\"_blank\">https://wandb.ai/cs20b075/assignment-1/sweeps/byqia87m</a>"
      ],
      "text/plain": [
       "<IPython.core.display.HTML object>"
      ]
     },
     "metadata": {},
     "output_type": "display_data"
    },
    {
     "data": {
      "text/html": [
       " View project at <a href='https://wandb.ai/cs20b075/assignment-1' target=\"_blank\">https://wandb.ai/cs20b075/assignment-1</a>"
      ],
      "text/plain": [
       "<IPython.core.display.HTML object>"
      ]
     },
     "metadata": {},
     "output_type": "display_data"
    },
    {
     "data": {
      "text/html": [
       " View sweep at <a href='https://wandb.ai/cs20b075/assignment-1/sweeps/byqia87m' target=\"_blank\">https://wandb.ai/cs20b075/assignment-1/sweeps/byqia87m</a>"
      ],
      "text/plain": [
       "<IPython.core.display.HTML object>"
      ]
     },
     "metadata": {},
     "output_type": "display_data"
    },
    {
     "data": {
      "text/html": [
       " View run at <a href='https://wandb.ai/cs20b075/assignment-1/runs/vvakf7fn' target=\"_blank\">https://wandb.ai/cs20b075/assignment-1/runs/vvakf7fn</a>"
      ],
      "text/plain": [
       "<IPython.core.display.HTML object>"
      ]
     },
     "metadata": {},
     "output_type": "display_data"
    },
    {
     "name": "stdout",
     "output_type": "stream",
     "text": [
      "Epoch:  1\n",
      "Iteration  1  of  10\n",
      "Train Loss:  0.3954354720859453  Train Accuracy:  0.8542777777777778  Val Loss:  0.4053383192255812 VAl MSE LOSS: 0.21071564084261873  Val Accuracy:  0.8535\n",
      "Epoch:  2\n",
      "Iteration  2  of  10\n",
      "Train Loss:  0.3571634276623983  Train Accuracy:  0.8683518518518518  Val Loss:  0.37377739111350844 VAl MSE LOSS: 0.19385481693743986  Val Accuracy:  0.8653333333333333\n",
      "Epoch:  3\n",
      "Iteration  3  of  10\n",
      "Train Loss:  0.35442889272704764  Train Accuracy:  0.8699629629629629  Val Loss:  0.37280521870610317 VAl MSE LOSS: 0.19246738425276555  Val Accuracy:  0.8643333333333333\n",
      "Epoch:  4\n",
      "Iteration  4  of  10\n",
      "Train Loss:  0.3474680360678876  Train Accuracy:  0.872462962962963  Val Loss:  0.3671928966657502 VAl MSE LOSS: 0.18942176244455475  Val Accuracy:  0.8646666666666667\n",
      "Epoch:  5\n",
      "Iteration  5  of  10\n",
      "Train Loss:  0.34251560605345704  Train Accuracy:  0.8745925925925926  Val Loss:  0.36280146411365405 VAl MSE LOSS: 0.1865258009373911  Val Accuracy:  0.87\n",
      "Epoch:  6\n",
      "Iteration  6  of  10\n",
      "Train Loss:  0.3397753442788119  Train Accuracy:  0.8759814814814815  Val Loss:  0.3623269807610317 VAl MSE LOSS: 0.1858537669256329  Val Accuracy:  0.8713333333333333\n",
      "Epoch:  7\n",
      "Iteration  7  of  10\n",
      "Train Loss:  0.341889910745292  Train Accuracy:  0.8757222222222222  Val Loss:  0.3671408190625636 VAl MSE LOSS: 0.18693967445245718  Val Accuracy:  0.8718333333333333\n",
      "Epoch:  8\n",
      "Iteration  8  of  10\n",
      "Train Loss:  0.344125490208674  Train Accuracy:  0.8745925925925926  Val Loss:  0.37243815324226 VAl MSE LOSS: 0.1896239258435236  Val Accuracy:  0.8691666666666666\n",
      "Epoch:  9\n",
      "Iteration  9  of  10\n",
      "Train Loss:  0.3376834525092929  Train Accuracy:  0.8763148148148148  Val Loss:  0.3678608145885028 VAl MSE LOSS: 0.18733656204886415  Val Accuracy:  0.8698333333333333\n",
      "Epoch:  10\n",
      "Iteration  10  of  10\n",
      "Train Loss:  0.3343292969062847  Train Accuracy:  0.8769259259259259  Val Loss:  0.36713569214693537 VAl MSE LOSS: 0.18690938379391486  Val Accuracy:  0.8725\n"
     ]
    },
    {
     "data": {
      "text/html": [
       "Waiting for W&B process to finish... <strong style=\"color:green\">(success).</strong>"
      ],
      "text/plain": [
       "<IPython.core.display.HTML object>"
      ]
     },
     "metadata": {},
     "output_type": "display_data"
    },
    {
     "data": {
      "text/html": [
       "<style>\n",
       "    table.wandb td:nth-child(1) { padding: 0 10px; text-align: left ; width: auto;} td:nth-child(2) {text-align: left ; width: 100%}\n",
       "    .wandb-row { display: flex; flex-direction: row; flex-wrap: wrap; justify-content: flex-start; width: 100% }\n",
       "    .wandb-col { display: flex; flex-direction: column; flex-basis: 100%; flex: 1; padding: 10px; }\n",
       "    </style>\n",
       "<div class=\"wandb-row\"><div class=\"wandb-col\"><h3>Run history:</h3><br/><table class=\"wandb\"><tr><td>epoch</td><td>▁▂▃▃▄▅▆▆▇█</td></tr><tr><td>train_accuracy</td><td>▁▅▆▇▇██▇██</td></tr><tr><td>train_loss</td><td>█▄▃▃▂▂▂▂▁▁</td></tr><tr><td>val_accuracy</td><td>▁▅▅▅▇██▇▇█</td></tr><tr><td>val_loss</td><td>█▃▃▂▁▁▂▃▂▂</td></tr><tr><td>val_mse_loss</td><td>█▃▃▂▁▁▁▂▁▁</td></tr></table><br/></div><div class=\"wandb-col\"><h3>Run summary:</h3><br/><table class=\"wandb\"><tr><td>epoch</td><td>9</td></tr><tr><td>train_accuracy</td><td>0.87693</td></tr><tr><td>train_loss</td><td>0.33433</td></tr><tr><td>val_accuracy</td><td>0.8725</td></tr><tr><td>val_loss</td><td>0.36714</td></tr><tr><td>val_mse_loss</td><td>0.18691</td></tr></table><br/></div></div>"
      ],
      "text/plain": [
       "<IPython.core.display.HTML object>"
      ]
     },
     "metadata": {},
     "output_type": "display_data"
    },
    {
     "data": {
      "text/html": [
       " View run <strong style=\"color:#cdcd00\">ruby-sweep-24</strong> at: <a href='https://wandb.ai/cs20b075/assignment-1/runs/vvakf7fn' target=\"_blank\">https://wandb.ai/cs20b075/assignment-1/runs/vvakf7fn</a><br/>Synced 5 W&B file(s), 0 media file(s), 0 artifact file(s) and 0 other file(s)"
      ],
      "text/plain": [
       "<IPython.core.display.HTML object>"
      ]
     },
     "metadata": {},
     "output_type": "display_data"
    },
    {
     "data": {
      "text/html": [
       "Find logs at: <code>./wandb/run-20230319_125923-vvakf7fn/logs</code>"
      ],
      "text/plain": [
       "<IPython.core.display.HTML object>"
      ]
     },
     "metadata": {},
     "output_type": "display_data"
    },
    {
     "name": "stderr",
     "output_type": "stream",
     "text": [
      "\u001b[34m\u001b[1mwandb\u001b[0m: Agent Starting Run: jz2nt6u4 with config:\n",
      "\u001b[34m\u001b[1mwandb\u001b[0m: \tactivation_function: sigmoid\n",
      "\u001b[34m\u001b[1mwandb\u001b[0m: \tbatch: 32\n",
      "\u001b[34m\u001b[1mwandb\u001b[0m: \tepochs: 5\n",
      "\u001b[34m\u001b[1mwandb\u001b[0m: \thidden_layer_size: 32\n",
      "\u001b[34m\u001b[1mwandb\u001b[0m: \tlearning_rate: 0.001\n",
      "\u001b[34m\u001b[1mwandb\u001b[0m: \tnum_hidden_layers: 5\n",
      "\u001b[34m\u001b[1mwandb\u001b[0m: \toptimizer: nadam\n",
      "\u001b[34m\u001b[1mwandb\u001b[0m: \tweight_decay: 0.05\n",
      "\u001b[34m\u001b[1mwandb\u001b[0m: \tweight_initialisation: xavier\n",
      "Failed to detect the name of this notebook, you can set it manually with the WANDB_NOTEBOOK_NAME environment variable to enable code saving.\n",
      "\u001b[34m\u001b[1mwandb\u001b[0m: \u001b[33mWARNING\u001b[0m Ignored wandb.init() arg project when running a sweep.\n"
     ]
    },
    {
     "data": {
      "text/html": [
       "wandb version 0.14.0 is available!  To upgrade, please run:\n",
       " $ pip install wandb --upgrade"
      ],
      "text/plain": [
       "<IPython.core.display.HTML object>"
      ]
     },
     "metadata": {},
     "output_type": "display_data"
    },
    {
     "data": {
      "text/html": [
       "Tracking run with wandb version 0.13.10"
      ],
      "text/plain": [
       "<IPython.core.display.HTML object>"
      ]
     },
     "metadata": {},
     "output_type": "display_data"
    },
    {
     "data": {
      "text/html": [
       "Run data is saved locally in <code>/home/sooraj/sem/dl/assignment-1/wandb/run-20230319_130124-jz2nt6u4</code>"
      ],
      "text/plain": [
       "<IPython.core.display.HTML object>"
      ]
     },
     "metadata": {},
     "output_type": "display_data"
    },
    {
     "data": {
      "text/html": [
       "Syncing run <strong><a href='https://wandb.ai/cs20b075/assignment-1/runs/jz2nt6u4' target=\"_blank\">wobbly-sweep-25</a></strong> to <a href='https://wandb.ai/cs20b075/assignment-1' target=\"_blank\">Weights & Biases</a> (<a href='https://wandb.me/run' target=\"_blank\">docs</a>)<br/>Sweep page: <a href='https://wandb.ai/cs20b075/assignment-1/sweeps/byqia87m' target=\"_blank\">https://wandb.ai/cs20b075/assignment-1/sweeps/byqia87m</a>"
      ],
      "text/plain": [
       "<IPython.core.display.HTML object>"
      ]
     },
     "metadata": {},
     "output_type": "display_data"
    },
    {
     "data": {
      "text/html": [
       " View project at <a href='https://wandb.ai/cs20b075/assignment-1' target=\"_blank\">https://wandb.ai/cs20b075/assignment-1</a>"
      ],
      "text/plain": [
       "<IPython.core.display.HTML object>"
      ]
     },
     "metadata": {},
     "output_type": "display_data"
    },
    {
     "data": {
      "text/html": [
       " View sweep at <a href='https://wandb.ai/cs20b075/assignment-1/sweeps/byqia87m' target=\"_blank\">https://wandb.ai/cs20b075/assignment-1/sweeps/byqia87m</a>"
      ],
      "text/plain": [
       "<IPython.core.display.HTML object>"
      ]
     },
     "metadata": {},
     "output_type": "display_data"
    },
    {
     "data": {
      "text/html": [
       " View run at <a href='https://wandb.ai/cs20b075/assignment-1/runs/jz2nt6u4' target=\"_blank\">https://wandb.ai/cs20b075/assignment-1/runs/jz2nt6u4</a>"
      ],
      "text/plain": [
       "<IPython.core.display.HTML object>"
      ]
     },
     "metadata": {},
     "output_type": "display_data"
    },
    {
     "name": "stdout",
     "output_type": "stream",
     "text": [
      "Epoch:  1\n",
      "Iteration  1  of  5\n",
      "Train Loss:  2.3051602298936804  Train Accuracy:  0.10022222222222223  Val Loss:  2.3047878412935567 VAl MSE LOSS: 0.9004408012948393  Val Accuracy:  0.098\n",
      "Epoch:  2\n",
      "Iteration  2  of  5\n",
      "Train Loss:  2.30504561788602  Train Accuracy:  0.10022222222222223  Val Loss:  2.3046426794058568 VAl MSE LOSS: 0.9004116783551139  Val Accuracy:  0.098\n",
      "Epoch:  3\n",
      "Iteration  3  of  5\n",
      "Train Loss:  2.3049536406101128  Train Accuracy:  0.10022222222222223  Val Loss:  2.3045532197406104 VAl MSE LOSS: 0.900394082408111  Val Accuracy:  0.098\n",
      "Epoch:  4\n",
      "Iteration  4  of  5\n",
      "Train Loss:  2.3049243534328574  Train Accuracy:  0.10022222222222223  Val Loss:  2.3045458101722827 VAl MSE LOSS: 0.900392598147561  Val Accuracy:  0.098\n",
      "Epoch:  5\n",
      "Iteration  5  of  5\n",
      "Train Loss:  2.3049027660073302  Train Accuracy:  0.10022222222222223  Val Loss:  2.3045442832077523 VAl MSE LOSS: 0.9003923680204019  Val Accuracy:  0.098\n"
     ]
    },
    {
     "data": {
      "text/html": [
       "Waiting for W&B process to finish... <strong style=\"color:green\">(success).</strong>"
      ],
      "text/plain": [
       "<IPython.core.display.HTML object>"
      ]
     },
     "metadata": {},
     "output_type": "display_data"
    },
    {
     "data": {
      "application/vnd.jupyter.widget-view+json": {
       "model_id": "99db4115222b44018a159f31e16d444f",
       "version_major": 2,
       "version_minor": 0
      },
      "text/plain": [
       "VBox(children=(Label(value='0.002 MB of 0.009 MB uploaded (0.000 MB deduped)\\r'), FloatProgress(value=0.190817…"
      ]
     },
     "metadata": {},
     "output_type": "display_data"
    },
    {
     "data": {
      "text/html": [
       "<style>\n",
       "    table.wandb td:nth-child(1) { padding: 0 10px; text-align: left ; width: auto;} td:nth-child(2) {text-align: left ; width: 100%}\n",
       "    .wandb-row { display: flex; flex-direction: row; flex-wrap: wrap; justify-content: flex-start; width: 100% }\n",
       "    .wandb-col { display: flex; flex-direction: column; flex-basis: 100%; flex: 1; padding: 10px; }\n",
       "    </style>\n",
       "<div class=\"wandb-row\"><div class=\"wandb-col\"><h3>Run history:</h3><br/><table class=\"wandb\"><tr><td>epoch</td><td>▁▃▅▆█</td></tr><tr><td>train_accuracy</td><td>▁▁▁▁▁</td></tr><tr><td>train_loss</td><td>█▅▂▂▁</td></tr><tr><td>val_accuracy</td><td>▁▁▁▁▁</td></tr><tr><td>val_loss</td><td>█▄▁▁▁</td></tr><tr><td>val_mse_loss</td><td>█▄▁▁▁</td></tr></table><br/></div><div class=\"wandb-col\"><h3>Run summary:</h3><br/><table class=\"wandb\"><tr><td>epoch</td><td>4</td></tr><tr><td>train_accuracy</td><td>0.10022</td></tr><tr><td>train_loss</td><td>2.3049</td></tr><tr><td>val_accuracy</td><td>0.098</td></tr><tr><td>val_loss</td><td>2.30454</td></tr><tr><td>val_mse_loss</td><td>0.90039</td></tr></table><br/></div></div>"
      ],
      "text/plain": [
       "<IPython.core.display.HTML object>"
      ]
     },
     "metadata": {},
     "output_type": "display_data"
    },
    {
     "data": {
      "text/html": [
       " View run <strong style=\"color:#cdcd00\">wobbly-sweep-25</strong> at: <a href='https://wandb.ai/cs20b075/assignment-1/runs/jz2nt6u4' target=\"_blank\">https://wandb.ai/cs20b075/assignment-1/runs/jz2nt6u4</a><br/>Synced 5 W&B file(s), 0 media file(s), 0 artifact file(s) and 0 other file(s)"
      ],
      "text/plain": [
       "<IPython.core.display.HTML object>"
      ]
     },
     "metadata": {},
     "output_type": "display_data"
    },
    {
     "data": {
      "text/html": [
       "Find logs at: <code>./wandb/run-20230319_130124-jz2nt6u4/logs</code>"
      ],
      "text/plain": [
       "<IPython.core.display.HTML object>"
      ]
     },
     "metadata": {},
     "output_type": "display_data"
    },
    {
     "name": "stderr",
     "output_type": "stream",
     "text": [
      "\u001b[34m\u001b[1mwandb\u001b[0m: Agent Starting Run: yuj075f9 with config:\n",
      "\u001b[34m\u001b[1mwandb\u001b[0m: \tactivation_function: relu\n",
      "\u001b[34m\u001b[1mwandb\u001b[0m: \tbatch: 16\n",
      "\u001b[34m\u001b[1mwandb\u001b[0m: \tepochs: 10\n",
      "\u001b[34m\u001b[1mwandb\u001b[0m: \thidden_layer_size: 32\n",
      "\u001b[34m\u001b[1mwandb\u001b[0m: \tlearning_rate: 0.003\n",
      "\u001b[34m\u001b[1mwandb\u001b[0m: \tnum_hidden_layers: 5\n",
      "\u001b[34m\u001b[1mwandb\u001b[0m: \toptimizer: nesterov\n",
      "\u001b[34m\u001b[1mwandb\u001b[0m: \tweight_decay: 0\n",
      "\u001b[34m\u001b[1mwandb\u001b[0m: \tweight_initialisation: random\n",
      "Failed to detect the name of this notebook, you can set it manually with the WANDB_NOTEBOOK_NAME environment variable to enable code saving.\n",
      "\u001b[34m\u001b[1mwandb\u001b[0m: \u001b[33mWARNING\u001b[0m Ignored wandb.init() arg project when running a sweep.\n"
     ]
    },
    {
     "data": {
      "text/html": [
       "wandb version 0.14.0 is available!  To upgrade, please run:\n",
       " $ pip install wandb --upgrade"
      ],
      "text/plain": [
       "<IPython.core.display.HTML object>"
      ]
     },
     "metadata": {},
     "output_type": "display_data"
    },
    {
     "data": {
      "text/html": [
       "Tracking run with wandb version 0.13.10"
      ],
      "text/plain": [
       "<IPython.core.display.HTML object>"
      ]
     },
     "metadata": {},
     "output_type": "display_data"
    },
    {
     "data": {
      "text/html": [
       "Run data is saved locally in <code>/home/sooraj/sem/dl/assignment-1/wandb/run-20230319_130145-yuj075f9</code>"
      ],
      "text/plain": [
       "<IPython.core.display.HTML object>"
      ]
     },
     "metadata": {},
     "output_type": "display_data"
    },
    {
     "data": {
      "text/html": [
       "Syncing run <strong><a href='https://wandb.ai/cs20b075/assignment-1/runs/yuj075f9' target=\"_blank\">wise-sweep-26</a></strong> to <a href='https://wandb.ai/cs20b075/assignment-1' target=\"_blank\">Weights & Biases</a> (<a href='https://wandb.me/run' target=\"_blank\">docs</a>)<br/>Sweep page: <a href='https://wandb.ai/cs20b075/assignment-1/sweeps/byqia87m' target=\"_blank\">https://wandb.ai/cs20b075/assignment-1/sweeps/byqia87m</a>"
      ],
      "text/plain": [
       "<IPython.core.display.HTML object>"
      ]
     },
     "metadata": {},
     "output_type": "display_data"
    },
    {
     "data": {
      "text/html": [
       " View project at <a href='https://wandb.ai/cs20b075/assignment-1' target=\"_blank\">https://wandb.ai/cs20b075/assignment-1</a>"
      ],
      "text/plain": [
       "<IPython.core.display.HTML object>"
      ]
     },
     "metadata": {},
     "output_type": "display_data"
    },
    {
     "data": {
      "text/html": [
       " View sweep at <a href='https://wandb.ai/cs20b075/assignment-1/sweeps/byqia87m' target=\"_blank\">https://wandb.ai/cs20b075/assignment-1/sweeps/byqia87m</a>"
      ],
      "text/plain": [
       "<IPython.core.display.HTML object>"
      ]
     },
     "metadata": {},
     "output_type": "display_data"
    },
    {
     "data": {
      "text/html": [
       " View run at <a href='https://wandb.ai/cs20b075/assignment-1/runs/yuj075f9' target=\"_blank\">https://wandb.ai/cs20b075/assignment-1/runs/yuj075f9</a>"
      ],
      "text/plain": [
       "<IPython.core.display.HTML object>"
      ]
     },
     "metadata": {},
     "output_type": "display_data"
    },
    {
     "name": "stdout",
     "output_type": "stream",
     "text": [
      "Epoch:  1\n",
      "Iteration  1  of  10\n",
      "Train Loss:  nan  Train Accuracy:  0.10031481481481481  Val Loss:  nan VAl MSE LOSS: nan  Val Accuracy:  0.09716666666666667\n",
      "Epoch:  2\n",
      "Iteration  2  of  10\n",
      "Train Loss:  nan  Train Accuracy:  0.10031481481481481  Val Loss:  nan VAl MSE LOSS: nan  Val Accuracy:  0.09716666666666667\n",
      "Epoch:  3\n",
      "Iteration  3  of  10\n",
      "Train Loss:  nan  Train Accuracy:  0.10031481481481481  Val Loss:  nan VAl MSE LOSS: nan  Val Accuracy:  0.09716666666666667\n",
      "Epoch:  4\n",
      "Iteration  4  of  10\n",
      "Train Loss:  nan  Train Accuracy:  0.10031481481481481  Val Loss:  nan VAl MSE LOSS: nan  Val Accuracy:  0.09716666666666667\n",
      "Epoch:  5\n",
      "Iteration  5  of  10\n",
      "Train Loss:  nan  Train Accuracy:  0.10031481481481481  Val Loss:  nan VAl MSE LOSS: nan  Val Accuracy:  0.09716666666666667\n",
      "Epoch:  6\n",
      "Iteration  6  of  10\n",
      "Train Loss:  nan  Train Accuracy:  0.10031481481481481  Val Loss:  nan VAl MSE LOSS: nan  Val Accuracy:  0.09716666666666667\n",
      "Epoch:  7\n",
      "Iteration  7  of  10\n",
      "Train Loss:  nan  Train Accuracy:  0.10031481481481481  Val Loss:  nan VAl MSE LOSS: nan  Val Accuracy:  0.09716666666666667\n",
      "Epoch:  8\n",
      "Iteration  8  of  10\n",
      "Train Loss:  nan  Train Accuracy:  0.10031481481481481  Val Loss:  nan VAl MSE LOSS: nan  Val Accuracy:  0.09716666666666667\n",
      "Epoch:  9\n",
      "Iteration  9  of  10\n",
      "Train Loss:  nan  Train Accuracy:  0.10031481481481481  Val Loss:  nan VAl MSE LOSS: nan  Val Accuracy:  0.09716666666666667\n",
      "Epoch:  10\n",
      "Iteration  10  of  10\n",
      "Train Loss:  nan  Train Accuracy:  0.10031481481481481  Val Loss:  nan VAl MSE LOSS: nan  Val Accuracy:  0.09716666666666667\n"
     ]
    },
    {
     "data": {
      "text/html": [
       "Waiting for W&B process to finish... <strong style=\"color:green\">(success).</strong>"
      ],
      "text/plain": [
       "<IPython.core.display.HTML object>"
      ]
     },
     "metadata": {},
     "output_type": "display_data"
    },
    {
     "data": {
      "application/vnd.jupyter.widget-view+json": {
       "model_id": "4ac8a11977a347158e8f27ce7ee2ba0e",
       "version_major": 2,
       "version_minor": 0
      },
      "text/plain": [
       "VBox(children=(Label(value='0.002 MB of 0.009 MB uploaded (0.000 MB deduped)\\r'), FloatProgress(value=0.180156…"
      ]
     },
     "metadata": {},
     "output_type": "display_data"
    },
    {
     "data": {
      "text/html": [
       "<style>\n",
       "    table.wandb td:nth-child(1) { padding: 0 10px; text-align: left ; width: auto;} td:nth-child(2) {text-align: left ; width: 100%}\n",
       "    .wandb-row { display: flex; flex-direction: row; flex-wrap: wrap; justify-content: flex-start; width: 100% }\n",
       "    .wandb-col { display: flex; flex-direction: column; flex-basis: 100%; flex: 1; padding: 10px; }\n",
       "    </style>\n",
       "<div class=\"wandb-row\"><div class=\"wandb-col\"><h3>Run history:</h3><br/><table class=\"wandb\"><tr><td>epoch</td><td>▁▂▃▃▄▅▆▆▇█</td></tr><tr><td>train_accuracy</td><td>▁▁▁▁▁▁▁▁▁▁</td></tr><tr><td>val_accuracy</td><td>▁▁▁▁▁▁▁▁▁▁</td></tr></table><br/></div><div class=\"wandb-col\"><h3>Run summary:</h3><br/><table class=\"wandb\"><tr><td>epoch</td><td>9</td></tr><tr><td>train_accuracy</td><td>0.10031</td></tr><tr><td>train_loss</td><td>nan</td></tr><tr><td>val_accuracy</td><td>0.09717</td></tr><tr><td>val_loss</td><td>nan</td></tr><tr><td>val_mse_loss</td><td>nan</td></tr></table><br/></div></div>"
      ],
      "text/plain": [
       "<IPython.core.display.HTML object>"
      ]
     },
     "metadata": {},
     "output_type": "display_data"
    },
    {
     "data": {
      "text/html": [
       " View run <strong style=\"color:#cdcd00\">wise-sweep-26</strong> at: <a href='https://wandb.ai/cs20b075/assignment-1/runs/yuj075f9' target=\"_blank\">https://wandb.ai/cs20b075/assignment-1/runs/yuj075f9</a><br/>Synced 5 W&B file(s), 0 media file(s), 0 artifact file(s) and 0 other file(s)"
      ],
      "text/plain": [
       "<IPython.core.display.HTML object>"
      ]
     },
     "metadata": {},
     "output_type": "display_data"
    },
    {
     "data": {
      "text/html": [
       "Find logs at: <code>./wandb/run-20230319_130145-yuj075f9/logs</code>"
      ],
      "text/plain": [
       "<IPython.core.display.HTML object>"
      ]
     },
     "metadata": {},
     "output_type": "display_data"
    },
    {
     "name": "stderr",
     "output_type": "stream",
     "text": [
      "\u001b[34m\u001b[1mwandb\u001b[0m: Agent Starting Run: fh0mqv57 with config:\n",
      "\u001b[34m\u001b[1mwandb\u001b[0m: \tactivation_function: relu\n",
      "\u001b[34m\u001b[1mwandb\u001b[0m: \tbatch: 32\n",
      "\u001b[34m\u001b[1mwandb\u001b[0m: \tepochs: 10\n",
      "\u001b[34m\u001b[1mwandb\u001b[0m: \thidden_layer_size: 64\n",
      "\u001b[34m\u001b[1mwandb\u001b[0m: \tlearning_rate: 0.003\n",
      "\u001b[34m\u001b[1mwandb\u001b[0m: \tnum_hidden_layers: 2\n",
      "\u001b[34m\u001b[1mwandb\u001b[0m: \toptimizer: nadam\n",
      "\u001b[34m\u001b[1mwandb\u001b[0m: \tweight_decay: 0.0005\n",
      "\u001b[34m\u001b[1mwandb\u001b[0m: \tweight_initialisation: random\n",
      "Failed to detect the name of this notebook, you can set it manually with the WANDB_NOTEBOOK_NAME environment variable to enable code saving.\n",
      "\u001b[34m\u001b[1mwandb\u001b[0m: \u001b[33mWARNING\u001b[0m Ignored wandb.init() arg project when running a sweep.\n"
     ]
    },
    {
     "data": {
      "text/html": [
       "wandb version 0.14.0 is available!  To upgrade, please run:\n",
       " $ pip install wandb --upgrade"
      ],
      "text/plain": [
       "<IPython.core.display.HTML object>"
      ]
     },
     "metadata": {},
     "output_type": "display_data"
    },
    {
     "data": {
      "text/html": [
       "Tracking run with wandb version 0.13.10"
      ],
      "text/plain": [
       "<IPython.core.display.HTML object>"
      ]
     },
     "metadata": {},
     "output_type": "display_data"
    },
    {
     "data": {
      "text/html": [
       "Run data is saved locally in <code>/home/sooraj/sem/dl/assignment-1/wandb/run-20230319_130218-fh0mqv57</code>"
      ],
      "text/plain": [
       "<IPython.core.display.HTML object>"
      ]
     },
     "metadata": {},
     "output_type": "display_data"
    },
    {
     "data": {
      "text/html": [
       "Syncing run <strong><a href='https://wandb.ai/cs20b075/assignment-1/runs/fh0mqv57' target=\"_blank\">flowing-sweep-27</a></strong> to <a href='https://wandb.ai/cs20b075/assignment-1' target=\"_blank\">Weights & Biases</a> (<a href='https://wandb.me/run' target=\"_blank\">docs</a>)<br/>Sweep page: <a href='https://wandb.ai/cs20b075/assignment-1/sweeps/byqia87m' target=\"_blank\">https://wandb.ai/cs20b075/assignment-1/sweeps/byqia87m</a>"
      ],
      "text/plain": [
       "<IPython.core.display.HTML object>"
      ]
     },
     "metadata": {},
     "output_type": "display_data"
    },
    {
     "data": {
      "text/html": [
       " View project at <a href='https://wandb.ai/cs20b075/assignment-1' target=\"_blank\">https://wandb.ai/cs20b075/assignment-1</a>"
      ],
      "text/plain": [
       "<IPython.core.display.HTML object>"
      ]
     },
     "metadata": {},
     "output_type": "display_data"
    },
    {
     "data": {
      "text/html": [
       " View sweep at <a href='https://wandb.ai/cs20b075/assignment-1/sweeps/byqia87m' target=\"_blank\">https://wandb.ai/cs20b075/assignment-1/sweeps/byqia87m</a>"
      ],
      "text/plain": [
       "<IPython.core.display.HTML object>"
      ]
     },
     "metadata": {},
     "output_type": "display_data"
    },
    {
     "data": {
      "text/html": [
       " View run at <a href='https://wandb.ai/cs20b075/assignment-1/runs/fh0mqv57' target=\"_blank\">https://wandb.ai/cs20b075/assignment-1/runs/fh0mqv57</a>"
      ],
      "text/plain": [
       "<IPython.core.display.HTML object>"
      ]
     },
     "metadata": {},
     "output_type": "display_data"
    },
    {
     "name": "stdout",
     "output_type": "stream",
     "text": [
      "Epoch:  1\n",
      "Iteration  1  of  10\n",
      "Train Loss:  2.8694000347168895  Train Accuracy:  0.7326851851851852  Val Loss:  2.8213698424948697 VAl MSE LOSS: 0.4666264980869556  Val Accuracy:  0.739\n",
      "Epoch:  2\n",
      "Iteration  2  of  10\n",
      "Train Loss:  0.7598422649337031  Train Accuracy:  0.7477037037037036  Val Loss:  0.7908680957645855 VAl MSE LOSS: 0.357320203029512  Val Accuracy:  0.741\n",
      "Epoch:  3\n",
      "Iteration  3  of  10\n",
      "Train Loss:  0.6867967711236763  Train Accuracy:  0.7193518518518518  Val Loss:  0.7057682652031618 VAl MSE LOSS: 0.3407472674278295  Val Accuracy:  0.7168333333333333\n",
      "Epoch:  4\n",
      "Iteration  4  of  10\n",
      "Train Loss:  0.6093761145401313  Train Accuracy:  0.7807777777777778  Val Loss:  0.6337764940622264 VAl MSE LOSS: 0.3075888587169354  Val Accuracy:  0.7718333333333334\n",
      "Epoch:  5\n",
      "Iteration  5  of  10\n",
      "Train Loss:  0.5366688089379837  Train Accuracy:  0.8012222222222222  Val Loss:  0.5565525300921863 VAl MSE LOSS: 0.2827914189672272  Val Accuracy:  0.7923333333333333\n",
      "Epoch:  6\n",
      "Iteration  6  of  10\n",
      "Train Loss:  0.48843529174132977  Train Accuracy:  0.8139814814814815  Val Loss:  0.5134932219315048 VAl MSE LOSS: 0.26138479498054185  Val Accuracy:  0.8061666666666667\n",
      "Epoch:  7\n",
      "Iteration  7  of  10\n",
      "Train Loss:  0.4812117164201697  Train Accuracy:  0.8153518518518519  Val Loss:  0.49849766394256806 VAl MSE LOSS: 0.260856759744393  Val Accuracy:  0.8056666666666666\n",
      "Epoch:  8\n",
      "Iteration  8  of  10\n",
      "Train Loss:  0.4694280306264994  Train Accuracy:  0.8176666666666667  Val Loss:  0.4911447233479752 VAl MSE LOSS: 0.257182822588165  Val Accuracy:  0.81\n",
      "Epoch:  9\n",
      "Iteration  9  of  10\n",
      "Train Loss:  0.4054536254975834  Train Accuracy:  0.8529629629629629  Val Loss:  0.4284219029957403 VAl MSE LOSS: 0.21451491531358502  Val Accuracy:  0.8536666666666667\n",
      "Epoch:  10\n",
      "Iteration  10  of  10\n",
      "Train Loss:  0.40546517576403307  Train Accuracy:  0.8550185185185185  Val Loss:  0.4295352356070511 VAl MSE LOSS: 0.21432051230335894  Val Accuracy:  0.8511666666666666\n"
     ]
    },
    {
     "data": {
      "text/html": [
       "Waiting for W&B process to finish... <strong style=\"color:green\">(success).</strong>"
      ],
      "text/plain": [
       "<IPython.core.display.HTML object>"
      ]
     },
     "metadata": {},
     "output_type": "display_data"
    },
    {
     "data": {
      "application/vnd.jupyter.widget-view+json": {
       "model_id": "9032815522e54751b7afd16a64832165",
       "version_major": 2,
       "version_minor": 0
      },
      "text/plain": [
       "VBox(children=(Label(value='0.002 MB of 0.002 MB uploaded (0.000 MB deduped)\\r'), FloatProgress(value=1.0, max…"
      ]
     },
     "metadata": {},
     "output_type": "display_data"
    },
    {
     "data": {
      "text/html": [
       "<style>\n",
       "    table.wandb td:nth-child(1) { padding: 0 10px; text-align: left ; width: auto;} td:nth-child(2) {text-align: left ; width: 100%}\n",
       "    .wandb-row { display: flex; flex-direction: row; flex-wrap: wrap; justify-content: flex-start; width: 100% }\n",
       "    .wandb-col { display: flex; flex-direction: column; flex-basis: 100%; flex: 1; padding: 10px; }\n",
       "    </style>\n",
       "<div class=\"wandb-row\"><div class=\"wandb-col\"><h3>Run history:</h3><br/><table class=\"wandb\"><tr><td>epoch</td><td>▁▂▃▃▄▅▆▆▇█</td></tr><tr><td>train_accuracy</td><td>▂▂▁▄▅▆▆▆██</td></tr><tr><td>train_loss</td><td>█▂▂▂▁▁▁▁▁▁</td></tr><tr><td>val_accuracy</td><td>▂▂▁▄▅▆▆▆██</td></tr><tr><td>val_loss</td><td>█▂▂▂▁▁▁▁▁▁</td></tr><tr><td>val_mse_loss</td><td>█▅▅▄▃▂▂▂▁▁</td></tr></table><br/></div><div class=\"wandb-col\"><h3>Run summary:</h3><br/><table class=\"wandb\"><tr><td>epoch</td><td>9</td></tr><tr><td>train_accuracy</td><td>0.85502</td></tr><tr><td>train_loss</td><td>0.40547</td></tr><tr><td>val_accuracy</td><td>0.85117</td></tr><tr><td>val_loss</td><td>0.42954</td></tr><tr><td>val_mse_loss</td><td>0.21432</td></tr></table><br/></div></div>"
      ],
      "text/plain": [
       "<IPython.core.display.HTML object>"
      ]
     },
     "metadata": {},
     "output_type": "display_data"
    },
    {
     "data": {
      "text/html": [
       " View run <strong style=\"color:#cdcd00\">flowing-sweep-27</strong> at: <a href='https://wandb.ai/cs20b075/assignment-1/runs/fh0mqv57' target=\"_blank\">https://wandb.ai/cs20b075/assignment-1/runs/fh0mqv57</a><br/>Synced 5 W&B file(s), 0 media file(s), 0 artifact file(s) and 0 other file(s)"
      ],
      "text/plain": [
       "<IPython.core.display.HTML object>"
      ]
     },
     "metadata": {},
     "output_type": "display_data"
    },
    {
     "data": {
      "text/html": [
       "Find logs at: <code>./wandb/run-20230319_130218-fh0mqv57/logs</code>"
      ],
      "text/plain": [
       "<IPython.core.display.HTML object>"
      ]
     },
     "metadata": {},
     "output_type": "display_data"
    },
    {
     "name": "stderr",
     "output_type": "stream",
     "text": [
      "\u001b[34m\u001b[1mwandb\u001b[0m: Sweep Agent: Waiting for job.\n",
      "\u001b[34m\u001b[1mwandb\u001b[0m: Job received.\n",
      "\u001b[34m\u001b[1mwandb\u001b[0m: Agent Starting Run: nwnatlxj with config:\n",
      "\u001b[34m\u001b[1mwandb\u001b[0m: \tactivation_function: tanh\n",
      "\u001b[34m\u001b[1mwandb\u001b[0m: \tbatch: 64\n",
      "\u001b[34m\u001b[1mwandb\u001b[0m: \tepochs: 10\n",
      "\u001b[34m\u001b[1mwandb\u001b[0m: \thidden_layer_size: 64\n",
      "\u001b[34m\u001b[1mwandb\u001b[0m: \tlearning_rate: 0.0001\n",
      "\u001b[34m\u001b[1mwandb\u001b[0m: \tnum_hidden_layers: 4\n",
      "\u001b[34m\u001b[1mwandb\u001b[0m: \toptimizer: nadam\n",
      "\u001b[34m\u001b[1mwandb\u001b[0m: \tweight_decay: 0.0005\n",
      "\u001b[34m\u001b[1mwandb\u001b[0m: \tweight_initialisation: random\n",
      "Failed to detect the name of this notebook, you can set it manually with the WANDB_NOTEBOOK_NAME environment variable to enable code saving.\n",
      "\u001b[34m\u001b[1mwandb\u001b[0m: \u001b[33mWARNING\u001b[0m Ignored wandb.init() arg project when running a sweep.\n"
     ]
    },
    {
     "data": {
      "text/html": [
       "wandb version 0.14.0 is available!  To upgrade, please run:\n",
       " $ pip install wandb --upgrade"
      ],
      "text/plain": [
       "<IPython.core.display.HTML object>"
      ]
     },
     "metadata": {},
     "output_type": "display_data"
    },
    {
     "data": {
      "text/html": [
       "Tracking run with wandb version 0.13.10"
      ],
      "text/plain": [
       "<IPython.core.display.HTML object>"
      ]
     },
     "metadata": {},
     "output_type": "display_data"
    },
    {
     "data": {
      "text/html": [
       "Run data is saved locally in <code>/home/sooraj/sem/dl/assignment-1/wandb/run-20230319_130407-nwnatlxj</code>"
      ],
      "text/plain": [
       "<IPython.core.display.HTML object>"
      ]
     },
     "metadata": {},
     "output_type": "display_data"
    },
    {
     "data": {
      "text/html": [
       "Syncing run <strong><a href='https://wandb.ai/cs20b075/assignment-1/runs/nwnatlxj' target=\"_blank\">fragrant-sweep-28</a></strong> to <a href='https://wandb.ai/cs20b075/assignment-1' target=\"_blank\">Weights & Biases</a> (<a href='https://wandb.me/run' target=\"_blank\">docs</a>)<br/>Sweep page: <a href='https://wandb.ai/cs20b075/assignment-1/sweeps/byqia87m' target=\"_blank\">https://wandb.ai/cs20b075/assignment-1/sweeps/byqia87m</a>"
      ],
      "text/plain": [
       "<IPython.core.display.HTML object>"
      ]
     },
     "metadata": {},
     "output_type": "display_data"
    },
    {
     "data": {
      "text/html": [
       " View project at <a href='https://wandb.ai/cs20b075/assignment-1' target=\"_blank\">https://wandb.ai/cs20b075/assignment-1</a>"
      ],
      "text/plain": [
       "<IPython.core.display.HTML object>"
      ]
     },
     "metadata": {},
     "output_type": "display_data"
    },
    {
     "data": {
      "text/html": [
       " View sweep at <a href='https://wandb.ai/cs20b075/assignment-1/sweeps/byqia87m' target=\"_blank\">https://wandb.ai/cs20b075/assignment-1/sweeps/byqia87m</a>"
      ],
      "text/plain": [
       "<IPython.core.display.HTML object>"
      ]
     },
     "metadata": {},
     "output_type": "display_data"
    },
    {
     "data": {
      "text/html": [
       " View run at <a href='https://wandb.ai/cs20b075/assignment-1/runs/nwnatlxj' target=\"_blank\">https://wandb.ai/cs20b075/assignment-1/runs/nwnatlxj</a>"
      ],
      "text/plain": [
       "<IPython.core.display.HTML object>"
      ]
     },
     "metadata": {},
     "output_type": "display_data"
    },
    {
     "name": "stdout",
     "output_type": "stream",
     "text": [
      "Epoch:  1\n",
      "Iteration  1  of  10\n",
      "Train Loss:  7.467068478427861  Train Accuracy:  0.21007407407407408  Val Loss:  7.630193704884273 VAl MSE LOSS: 1.3675062355544114  Val Accuracy:  0.2065\n",
      "Epoch:  2\n",
      "Iteration  2  of  10\n",
      "Train Loss:  4.812868630887228  Train Accuracy:  0.3322777777777778  Val Loss:  4.9868695975719275 VAl MSE LOSS: 1.1388593745361468  Val Accuracy:  0.31566666666666665\n",
      "Epoch:  3\n",
      "Iteration  3  of  10\n",
      "Train Loss:  3.5367340767396422  Train Accuracy:  0.4026111111111111  Val Loss:  3.7157698937943526 VAl MSE LOSS: 1.0010863443365503  Val Accuracy:  0.385\n",
      "Epoch:  4\n",
      "Iteration  4  of  10\n",
      "Train Loss:  2.791165706022229  Train Accuracy:  0.45396296296296296  Val Loss:  2.9357563912846696 VAl MSE LOSS: 0.8964265484449978  Val Accuracy:  0.43716666666666665\n",
      "Epoch:  5\n",
      "Iteration  5  of  10\n",
      "Train Loss:  2.2785118452372037  Train Accuracy:  0.49798148148148147  Val Loss:  2.3556489195626593 VAl MSE LOSS: 0.7894105322522141  Val Accuracy:  0.49083333333333334\n",
      "Epoch:  6\n",
      "Iteration  6  of  10\n",
      "Train Loss:  1.900564141760014  Train Accuracy:  0.5305555555555556  Val Loss:  1.990099578887085 VAl MSE LOSS: 0.7243924092697099  Val Accuracy:  0.5201666666666667\n",
      "Epoch:  7\n",
      "Iteration  7  of  10\n",
      "Train Loss:  1.6277172000252338  Train Accuracy:  0.5554444444444444  Val Loss:  1.6785914480904336 VAl MSE LOSS: 0.66131154753466  Val Accuracy:  0.5463333333333333\n",
      "Epoch:  8\n",
      "Iteration  8  of  10\n",
      "Train Loss:  1.4560079349357835  Train Accuracy:  0.5713703703703704  Val Loss:  1.5104615559463133 VAl MSE LOSS: 0.6222588272665359  Val Accuracy:  0.5595\n",
      "Epoch:  9\n",
      "Iteration  9  of  10\n",
      "Train Loss:  1.3040853118990652  Train Accuracy:  0.5947777777777777  Val Loss:  1.3670171222406196 VAl MSE LOSS: 0.5813052457702346  Val Accuracy:  0.5855\n",
      "Epoch:  10\n",
      "Iteration  10  of  10\n",
      "Train Loss:  1.1979239750324382  Train Accuracy:  0.6143148148148149  Val Loss:  1.2780846338941925 VAl MSE LOSS: 0.5470861496455104  Val Accuracy:  0.6085\n"
     ]
    },
    {
     "data": {
      "text/html": [
       "Waiting for W&B process to finish... <strong style=\"color:green\">(success).</strong>"
      ],
      "text/plain": [
       "<IPython.core.display.HTML object>"
      ]
     },
     "metadata": {},
     "output_type": "display_data"
    },
    {
     "data": {
      "text/html": [
       "<style>\n",
       "    table.wandb td:nth-child(1) { padding: 0 10px; text-align: left ; width: auto;} td:nth-child(2) {text-align: left ; width: 100%}\n",
       "    .wandb-row { display: flex; flex-direction: row; flex-wrap: wrap; justify-content: flex-start; width: 100% }\n",
       "    .wandb-col { display: flex; flex-direction: column; flex-basis: 100%; flex: 1; padding: 10px; }\n",
       "    </style>\n",
       "<div class=\"wandb-row\"><div class=\"wandb-col\"><h3>Run history:</h3><br/><table class=\"wandb\"><tr><td>epoch</td><td>▁▂▃▃▄▅▆▆▇█</td></tr><tr><td>train_accuracy</td><td>▁▃▄▅▆▇▇▇██</td></tr><tr><td>train_loss</td><td>█▅▄▃▂▂▁▁▁▁</td></tr><tr><td>val_accuracy</td><td>▁▃▄▅▆▆▇▇██</td></tr><tr><td>val_loss</td><td>█▅▄▃▂▂▁▁▁▁</td></tr><tr><td>val_mse_loss</td><td>█▆▅▄▃▃▂▂▁▁</td></tr></table><br/></div><div class=\"wandb-col\"><h3>Run summary:</h3><br/><table class=\"wandb\"><tr><td>epoch</td><td>9</td></tr><tr><td>train_accuracy</td><td>0.61431</td></tr><tr><td>train_loss</td><td>1.19792</td></tr><tr><td>val_accuracy</td><td>0.6085</td></tr><tr><td>val_loss</td><td>1.27808</td></tr><tr><td>val_mse_loss</td><td>0.54709</td></tr></table><br/></div></div>"
      ],
      "text/plain": [
       "<IPython.core.display.HTML object>"
      ]
     },
     "metadata": {},
     "output_type": "display_data"
    },
    {
     "data": {
      "text/html": [
       " View run <strong style=\"color:#cdcd00\">fragrant-sweep-28</strong> at: <a href='https://wandb.ai/cs20b075/assignment-1/runs/nwnatlxj' target=\"_blank\">https://wandb.ai/cs20b075/assignment-1/runs/nwnatlxj</a><br/>Synced 5 W&B file(s), 0 media file(s), 0 artifact file(s) and 0 other file(s)"
      ],
      "text/plain": [
       "<IPython.core.display.HTML object>"
      ]
     },
     "metadata": {},
     "output_type": "display_data"
    },
    {
     "data": {
      "text/html": [
       "Find logs at: <code>./wandb/run-20230319_130407-nwnatlxj/logs</code>"
      ],
      "text/plain": [
       "<IPython.core.display.HTML object>"
      ]
     },
     "metadata": {},
     "output_type": "display_data"
    },
    {
     "name": "stderr",
     "output_type": "stream",
     "text": [
      "\u001b[34m\u001b[1mwandb\u001b[0m: Agent Starting Run: iyo6hk8f with config:\n",
      "\u001b[34m\u001b[1mwandb\u001b[0m: \tactivation_function: relu\n",
      "\u001b[34m\u001b[1mwandb\u001b[0m: \tbatch: 64\n",
      "\u001b[34m\u001b[1mwandb\u001b[0m: \tepochs: 5\n",
      "\u001b[34m\u001b[1mwandb\u001b[0m: \thidden_layer_size: 64\n",
      "\u001b[34m\u001b[1mwandb\u001b[0m: \tlearning_rate: 0.003\n",
      "\u001b[34m\u001b[1mwandb\u001b[0m: \tnum_hidden_layers: 4\n",
      "\u001b[34m\u001b[1mwandb\u001b[0m: \toptimizer: nadam\n",
      "\u001b[34m\u001b[1mwandb\u001b[0m: \tweight_decay: 0.0005\n",
      "\u001b[34m\u001b[1mwandb\u001b[0m: \tweight_initialisation: xavier\n",
      "Failed to detect the name of this notebook, you can set it manually with the WANDB_NOTEBOOK_NAME environment variable to enable code saving.\n",
      "\u001b[34m\u001b[1mwandb\u001b[0m: \u001b[33mWARNING\u001b[0m Ignored wandb.init() arg project when running a sweep.\n"
     ]
    },
    {
     "data": {
      "text/html": [
       "wandb version 0.14.0 is available!  To upgrade, please run:\n",
       " $ pip install wandb --upgrade"
      ],
      "text/plain": [
       "<IPython.core.display.HTML object>"
      ]
     },
     "metadata": {},
     "output_type": "display_data"
    },
    {
     "data": {
      "text/html": [
       "Tracking run with wandb version 0.13.10"
      ],
      "text/plain": [
       "<IPython.core.display.HTML object>"
      ]
     },
     "metadata": {},
     "output_type": "display_data"
    },
    {
     "data": {
      "text/html": [
       "Run data is saved locally in <code>/home/sooraj/sem/dl/assignment-1/wandb/run-20230319_130524-iyo6hk8f</code>"
      ],
      "text/plain": [
       "<IPython.core.display.HTML object>"
      ]
     },
     "metadata": {},
     "output_type": "display_data"
    },
    {
     "data": {
      "text/html": [
       "Syncing run <strong><a href='https://wandb.ai/cs20b075/assignment-1/runs/iyo6hk8f' target=\"_blank\">wild-sweep-29</a></strong> to <a href='https://wandb.ai/cs20b075/assignment-1' target=\"_blank\">Weights & Biases</a> (<a href='https://wandb.me/run' target=\"_blank\">docs</a>)<br/>Sweep page: <a href='https://wandb.ai/cs20b075/assignment-1/sweeps/byqia87m' target=\"_blank\">https://wandb.ai/cs20b075/assignment-1/sweeps/byqia87m</a>"
      ],
      "text/plain": [
       "<IPython.core.display.HTML object>"
      ]
     },
     "metadata": {},
     "output_type": "display_data"
    },
    {
     "data": {
      "text/html": [
       " View project at <a href='https://wandb.ai/cs20b075/assignment-1' target=\"_blank\">https://wandb.ai/cs20b075/assignment-1</a>"
      ],
      "text/plain": [
       "<IPython.core.display.HTML object>"
      ]
     },
     "metadata": {},
     "output_type": "display_data"
    },
    {
     "data": {
      "text/html": [
       " View sweep at <a href='https://wandb.ai/cs20b075/assignment-1/sweeps/byqia87m' target=\"_blank\">https://wandb.ai/cs20b075/assignment-1/sweeps/byqia87m</a>"
      ],
      "text/plain": [
       "<IPython.core.display.HTML object>"
      ]
     },
     "metadata": {},
     "output_type": "display_data"
    },
    {
     "data": {
      "text/html": [
       " View run at <a href='https://wandb.ai/cs20b075/assignment-1/runs/iyo6hk8f' target=\"_blank\">https://wandb.ai/cs20b075/assignment-1/runs/iyo6hk8f</a>"
      ],
      "text/plain": [
       "<IPython.core.display.HTML object>"
      ]
     },
     "metadata": {},
     "output_type": "display_data"
    },
    {
     "name": "stdout",
     "output_type": "stream",
     "text": [
      "Epoch:  1\n",
      "Iteration  1  of  5\n",
      "Train Loss:  0.4019876209041595  Train Accuracy:  0.854037037037037  Val Loss:  0.41406111205351454 VAl MSE LOSS: 0.2124601089264769  Val Accuracy:  0.8535\n",
      "Epoch:  2\n",
      "Iteration  2  of  5\n",
      "Train Loss:  0.374506222477575  Train Accuracy:  0.8640925925925926  Val Loss:  0.39537825461225234 VAl MSE LOSS: 0.20185100536895317  Val Accuracy:  0.8566666666666667\n",
      "Epoch:  3\n",
      "Iteration  3  of  5\n",
      "Train Loss:  0.39231792464891346  Train Accuracy:  0.8560555555555556  Val Loss:  0.4203842012012317 VAl MSE LOSS: 0.21125211277824535  Val Accuracy:  0.8525\n",
      "Epoch:  4\n",
      "Iteration  4  of  5\n",
      "Train Loss:  0.3666557124567578  Train Accuracy:  0.8666666666666667  Val Loss:  0.3986394321408477 VAl MSE LOSS: 0.20174084075095342  Val Accuracy:  0.8621666666666666\n",
      "Epoch:  5\n",
      "Iteration  5  of  5\n",
      "Train Loss:  0.36733824908681617  Train Accuracy:  0.866537037037037  Val Loss:  0.4015950373341168 VAl MSE LOSS: 0.1989652163006813  Val Accuracy:  0.8631666666666666\n"
     ]
    },
    {
     "data": {
      "text/html": [
       "Waiting for W&B process to finish... <strong style=\"color:green\">(success).</strong>"
      ],
      "text/plain": [
       "<IPython.core.display.HTML object>"
      ]
     },
     "metadata": {},
     "output_type": "display_data"
    },
    {
     "data": {
      "application/vnd.jupyter.widget-view+json": {
       "model_id": "a3fa5e5fd35d4882afa77db58824146c",
       "version_major": 2,
       "version_minor": 0
      },
      "text/plain": [
       "VBox(children=(Label(value='0.002 MB of 0.002 MB uploaded (0.000 MB deduped)\\r'), FloatProgress(value=1.0, max…"
      ]
     },
     "metadata": {},
     "output_type": "display_data"
    },
    {
     "data": {
      "text/html": [
       "<style>\n",
       "    table.wandb td:nth-child(1) { padding: 0 10px; text-align: left ; width: auto;} td:nth-child(2) {text-align: left ; width: 100%}\n",
       "    .wandb-row { display: flex; flex-direction: row; flex-wrap: wrap; justify-content: flex-start; width: 100% }\n",
       "    .wandb-col { display: flex; flex-direction: column; flex-basis: 100%; flex: 1; padding: 10px; }\n",
       "    </style>\n",
       "<div class=\"wandb-row\"><div class=\"wandb-col\"><h3>Run history:</h3><br/><table class=\"wandb\"><tr><td>epoch</td><td>▁▃▅▆█</td></tr><tr><td>train_accuracy</td><td>▁▇▂██</td></tr><tr><td>train_loss</td><td>█▃▆▁▁</td></tr><tr><td>val_accuracy</td><td>▂▄▁▇█</td></tr><tr><td>val_loss</td><td>▆▁█▂▃</td></tr><tr><td>val_mse_loss</td><td>█▂▇▂▁</td></tr></table><br/></div><div class=\"wandb-col\"><h3>Run summary:</h3><br/><table class=\"wandb\"><tr><td>epoch</td><td>4</td></tr><tr><td>train_accuracy</td><td>0.86654</td></tr><tr><td>train_loss</td><td>0.36734</td></tr><tr><td>val_accuracy</td><td>0.86317</td></tr><tr><td>val_loss</td><td>0.4016</td></tr><tr><td>val_mse_loss</td><td>0.19897</td></tr></table><br/></div></div>"
      ],
      "text/plain": [
       "<IPython.core.display.HTML object>"
      ]
     },
     "metadata": {},
     "output_type": "display_data"
    },
    {
     "data": {
      "text/html": [
       " View run <strong style=\"color:#cdcd00\">wild-sweep-29</strong> at: <a href='https://wandb.ai/cs20b075/assignment-1/runs/iyo6hk8f' target=\"_blank\">https://wandb.ai/cs20b075/assignment-1/runs/iyo6hk8f</a><br/>Synced 5 W&B file(s), 0 media file(s), 0 artifact file(s) and 0 other file(s)"
      ],
      "text/plain": [
       "<IPython.core.display.HTML object>"
      ]
     },
     "metadata": {},
     "output_type": "display_data"
    },
    {
     "data": {
      "text/html": [
       "Find logs at: <code>./wandb/run-20230319_130524-iyo6hk8f/logs</code>"
      ],
      "text/plain": [
       "<IPython.core.display.HTML object>"
      ]
     },
     "metadata": {},
     "output_type": "display_data"
    },
    {
     "name": "stderr",
     "output_type": "stream",
     "text": [
      "\u001b[34m\u001b[1mwandb\u001b[0m: Agent Starting Run: g9pn93t4 with config:\n",
      "\u001b[34m\u001b[1mwandb\u001b[0m: \tactivation_function: tanh\n",
      "\u001b[34m\u001b[1mwandb\u001b[0m: \tbatch: 64\n",
      "\u001b[34m\u001b[1mwandb\u001b[0m: \tepochs: 10\n",
      "\u001b[34m\u001b[1mwandb\u001b[0m: \thidden_layer_size: 128\n",
      "\u001b[34m\u001b[1mwandb\u001b[0m: \tlearning_rate: 0.001\n",
      "\u001b[34m\u001b[1mwandb\u001b[0m: \tnum_hidden_layers: 5\n",
      "\u001b[34m\u001b[1mwandb\u001b[0m: \toptimizer: adam\n",
      "\u001b[34m\u001b[1mwandb\u001b[0m: \tweight_decay: 0.0005\n",
      "\u001b[34m\u001b[1mwandb\u001b[0m: \tweight_initialisation: xavier\n",
      "Failed to detect the name of this notebook, you can set it manually with the WANDB_NOTEBOOK_NAME environment variable to enable code saving.\n",
      "\u001b[34m\u001b[1mwandb\u001b[0m: \u001b[33mWARNING\u001b[0m Ignored wandb.init() arg project when running a sweep.\n"
     ]
    },
    {
     "data": {
      "text/html": [
       "wandb version 0.14.0 is available!  To upgrade, please run:\n",
       " $ pip install wandb --upgrade"
      ],
      "text/plain": [
       "<IPython.core.display.HTML object>"
      ]
     },
     "metadata": {},
     "output_type": "display_data"
    },
    {
     "data": {
      "text/html": [
       "Tracking run with wandb version 0.13.10"
      ],
      "text/plain": [
       "<IPython.core.display.HTML object>"
      ]
     },
     "metadata": {},
     "output_type": "display_data"
    },
    {
     "data": {
      "text/html": [
       "Run data is saved locally in <code>/home/sooraj/sem/dl/assignment-1/wandb/run-20230319_130608-g9pn93t4</code>"
      ],
      "text/plain": [
       "<IPython.core.display.HTML object>"
      ]
     },
     "metadata": {},
     "output_type": "display_data"
    },
    {
     "data": {
      "text/html": [
       "Syncing run <strong><a href='https://wandb.ai/cs20b075/assignment-1/runs/g9pn93t4' target=\"_blank\">dazzling-sweep-30</a></strong> to <a href='https://wandb.ai/cs20b075/assignment-1' target=\"_blank\">Weights & Biases</a> (<a href='https://wandb.me/run' target=\"_blank\">docs</a>)<br/>Sweep page: <a href='https://wandb.ai/cs20b075/assignment-1/sweeps/byqia87m' target=\"_blank\">https://wandb.ai/cs20b075/assignment-1/sweeps/byqia87m</a>"
      ],
      "text/plain": [
       "<IPython.core.display.HTML object>"
      ]
     },
     "metadata": {},
     "output_type": "display_data"
    },
    {
     "data": {
      "text/html": [
       " View project at <a href='https://wandb.ai/cs20b075/assignment-1' target=\"_blank\">https://wandb.ai/cs20b075/assignment-1</a>"
      ],
      "text/plain": [
       "<IPython.core.display.HTML object>"
      ]
     },
     "metadata": {},
     "output_type": "display_data"
    },
    {
     "data": {
      "text/html": [
       " View sweep at <a href='https://wandb.ai/cs20b075/assignment-1/sweeps/byqia87m' target=\"_blank\">https://wandb.ai/cs20b075/assignment-1/sweeps/byqia87m</a>"
      ],
      "text/plain": [
       "<IPython.core.display.HTML object>"
      ]
     },
     "metadata": {},
     "output_type": "display_data"
    },
    {
     "data": {
      "text/html": [
       " View run at <a href='https://wandb.ai/cs20b075/assignment-1/runs/g9pn93t4' target=\"_blank\">https://wandb.ai/cs20b075/assignment-1/runs/g9pn93t4</a>"
      ],
      "text/plain": [
       "<IPython.core.display.HTML object>"
      ]
     },
     "metadata": {},
     "output_type": "display_data"
    },
    {
     "name": "stdout",
     "output_type": "stream",
     "text": [
      "Epoch:  1\n",
      "Iteration  1  of  10\n",
      "Train Loss:  0.41883007077020395  Train Accuracy:  0.8463888888888889  Val Loss:  0.4270905282239913 VAl MSE LOSS: 0.22111838408562096  Val Accuracy:  0.8455\n",
      "Epoch:  2\n",
      "Iteration  2  of  10\n",
      "Train Loss:  0.344694671657608  Train Accuracy:  0.8749629629629629  Val Loss:  0.35692625790927845 VAl MSE LOSS: 0.18420703625382945  Val Accuracy:  0.8723333333333333\n",
      "Epoch:  3\n",
      "Iteration  3  of  10\n",
      "Train Loss:  0.3366114755310415  Train Accuracy:  0.8787592592592592  Val Loss:  0.35414775415659194 VAl MSE LOSS: 0.18220040721971872  Val Accuracy:  0.8755\n",
      "Epoch:  4\n",
      "Iteration  4  of  10\n",
      "Train Loss:  0.34820321867009524  Train Accuracy:  0.8750925925925926  Val Loss:  0.3710558423789402 VAl MSE LOSS: 0.19026385401651977  Val Accuracy:  0.8678333333333333\n",
      "Epoch:  5\n",
      "Iteration  5  of  10\n",
      "Train Loss:  0.33926775461633857  Train Accuracy:  0.8776111111111111  Val Loss:  0.36914142824904883 VAl MSE LOSS: 0.1859539345074157  Val Accuracy:  0.8726666666666667\n",
      "Epoch:  6\n",
      "Iteration  6  of  10\n",
      "Train Loss:  0.3388104697330614  Train Accuracy:  0.8786111111111111  Val Loss:  0.36180703963063093 VAl MSE LOSS: 0.1853880412440437  Val Accuracy:  0.8733333333333333\n",
      "Epoch:  7\n",
      "Iteration  7  of  10\n",
      "Train Loss:  0.34185066186378366  Train Accuracy:  0.8780185185185185  Val Loss:  0.3672384738508301 VAl MSE LOSS: 0.18813787484859298  Val Accuracy:  0.871\n",
      "Epoch:  8\n",
      "Iteration  8  of  10\n",
      "Train Loss:  0.3343498011964391  Train Accuracy:  0.8768703703703704  Val Loss:  0.3649000593289882 VAl MSE LOSS: 0.18794628207317404  Val Accuracy:  0.8686666666666667\n",
      "Epoch:  9\n",
      "Iteration  9  of  10\n",
      "Train Loss:  0.3236612531221347  Train Accuracy:  0.8807407407407407  Val Loss:  0.35907878280406264 VAl MSE LOSS: 0.18295061660882228  Val Accuracy:  0.874\n",
      "Epoch:  10\n",
      "Iteration  10  of  10\n",
      "Train Loss:  0.32851051748943866  Train Accuracy:  0.879462962962963  Val Loss:  0.36199324562279883 VAl MSE LOSS: 0.18611705511163704  Val Accuracy:  0.8718333333333333\n"
     ]
    },
    {
     "data": {
      "text/html": [
       "Waiting for W&B process to finish... <strong style=\"color:green\">(success).</strong>"
      ],
      "text/plain": [
       "<IPython.core.display.HTML object>"
      ]
     },
     "metadata": {},
     "output_type": "display_data"
    },
    {
     "data": {
      "application/vnd.jupyter.widget-view+json": {
       "model_id": "689035e096c443c29ef1d9170872c916",
       "version_major": 2,
       "version_minor": 0
      },
      "text/plain": [
       "VBox(children=(Label(value='0.002 MB of 0.002 MB uploaded (0.000 MB deduped)\\r'), FloatProgress(value=1.0, max…"
      ]
     },
     "metadata": {},
     "output_type": "display_data"
    },
    {
     "data": {
      "text/html": [
       "<style>\n",
       "    table.wandb td:nth-child(1) { padding: 0 10px; text-align: left ; width: auto;} td:nth-child(2) {text-align: left ; width: 100%}\n",
       "    .wandb-row { display: flex; flex-direction: row; flex-wrap: wrap; justify-content: flex-start; width: 100% }\n",
       "    .wandb-col { display: flex; flex-direction: column; flex-basis: 100%; flex: 1; padding: 10px; }\n",
       "    </style>\n",
       "<div class=\"wandb-row\"><div class=\"wandb-col\"><h3>Run history:</h3><br/><table class=\"wandb\"><tr><td>epoch</td><td>▁▂▃▃▄▅▆▆▇█</td></tr><tr><td>train_accuracy</td><td>▁▇█▇▇█▇▇██</td></tr><tr><td>train_loss</td><td>█▃▂▃▂▂▂▂▁▁</td></tr><tr><td>val_accuracy</td><td>▁▇█▆▇▇▇▆█▇</td></tr><tr><td>val_loss</td><td>█▁▁▃▂▂▂▂▁▂</td></tr><tr><td>val_mse_loss</td><td>█▁▁▂▂▂▂▂▁▂</td></tr></table><br/></div><div class=\"wandb-col\"><h3>Run summary:</h3><br/><table class=\"wandb\"><tr><td>epoch</td><td>9</td></tr><tr><td>train_accuracy</td><td>0.87946</td></tr><tr><td>train_loss</td><td>0.32851</td></tr><tr><td>val_accuracy</td><td>0.87183</td></tr><tr><td>val_loss</td><td>0.36199</td></tr><tr><td>val_mse_loss</td><td>0.18612</td></tr></table><br/></div></div>"
      ],
      "text/plain": [
       "<IPython.core.display.HTML object>"
      ]
     },
     "metadata": {},
     "output_type": "display_data"
    },
    {
     "data": {
      "text/html": [
       " View run <strong style=\"color:#cdcd00\">dazzling-sweep-30</strong> at: <a href='https://wandb.ai/cs20b075/assignment-1/runs/g9pn93t4' target=\"_blank\">https://wandb.ai/cs20b075/assignment-1/runs/g9pn93t4</a><br/>Synced 5 W&B file(s), 0 media file(s), 0 artifact file(s) and 0 other file(s)"
      ],
      "text/plain": [
       "<IPython.core.display.HTML object>"
      ]
     },
     "metadata": {},
     "output_type": "display_data"
    },
    {
     "data": {
      "text/html": [
       "Find logs at: <code>./wandb/run-20230319_130608-g9pn93t4/logs</code>"
      ],
      "text/plain": [
       "<IPython.core.display.HTML object>"
      ]
     },
     "metadata": {},
     "output_type": "display_data"
    },
    {
     "name": "stderr",
     "output_type": "stream",
     "text": [
      "\u001b[34m\u001b[1mwandb\u001b[0m: Agent Starting Run: 8obvdt0p with config:\n",
      "\u001b[34m\u001b[1mwandb\u001b[0m: \tactivation_function: relu\n",
      "\u001b[34m\u001b[1mwandb\u001b[0m: \tbatch: 64\n",
      "\u001b[34m\u001b[1mwandb\u001b[0m: \tepochs: 10\n",
      "\u001b[34m\u001b[1mwandb\u001b[0m: \thidden_layer_size: 128\n",
      "\u001b[34m\u001b[1mwandb\u001b[0m: \tlearning_rate: 0.0001\n",
      "\u001b[34m\u001b[1mwandb\u001b[0m: \tnum_hidden_layers: 3\n",
      "\u001b[34m\u001b[1mwandb\u001b[0m: \toptimizer: rmsprop\n",
      "\u001b[34m\u001b[1mwandb\u001b[0m: \tweight_decay: 0\n",
      "\u001b[34m\u001b[1mwandb\u001b[0m: \tweight_initialisation: xavier\n",
      "Failed to detect the name of this notebook, you can set it manually with the WANDB_NOTEBOOK_NAME environment variable to enable code saving.\n",
      "\u001b[34m\u001b[1mwandb\u001b[0m: \u001b[33mWARNING\u001b[0m Ignored wandb.init() arg project when running a sweep.\n"
     ]
    },
    {
     "data": {
      "text/html": [
       "wandb version 0.14.0 is available!  To upgrade, please run:\n",
       " $ pip install wandb --upgrade"
      ],
      "text/plain": [
       "<IPython.core.display.HTML object>"
      ]
     },
     "metadata": {},
     "output_type": "display_data"
    },
    {
     "data": {
      "text/html": [
       "Tracking run with wandb version 0.13.10"
      ],
      "text/plain": [
       "<IPython.core.display.HTML object>"
      ]
     },
     "metadata": {},
     "output_type": "display_data"
    },
    {
     "data": {
      "text/html": [
       "Run data is saved locally in <code>/home/sooraj/sem/dl/assignment-1/wandb/run-20230319_130836-8obvdt0p</code>"
      ],
      "text/plain": [
       "<IPython.core.display.HTML object>"
      ]
     },
     "metadata": {},
     "output_type": "display_data"
    },
    {
     "data": {
      "text/html": [
       "Syncing run <strong><a href='https://wandb.ai/cs20b075/assignment-1/runs/8obvdt0p' target=\"_blank\">sunny-sweep-31</a></strong> to <a href='https://wandb.ai/cs20b075/assignment-1' target=\"_blank\">Weights & Biases</a> (<a href='https://wandb.me/run' target=\"_blank\">docs</a>)<br/>Sweep page: <a href='https://wandb.ai/cs20b075/assignment-1/sweeps/byqia87m' target=\"_blank\">https://wandb.ai/cs20b075/assignment-1/sweeps/byqia87m</a>"
      ],
      "text/plain": [
       "<IPython.core.display.HTML object>"
      ]
     },
     "metadata": {},
     "output_type": "display_data"
    },
    {
     "data": {
      "text/html": [
       " View project at <a href='https://wandb.ai/cs20b075/assignment-1' target=\"_blank\">https://wandb.ai/cs20b075/assignment-1</a>"
      ],
      "text/plain": [
       "<IPython.core.display.HTML object>"
      ]
     },
     "metadata": {},
     "output_type": "display_data"
    },
    {
     "data": {
      "text/html": [
       " View sweep at <a href='https://wandb.ai/cs20b075/assignment-1/sweeps/byqia87m' target=\"_blank\">https://wandb.ai/cs20b075/assignment-1/sweeps/byqia87m</a>"
      ],
      "text/plain": [
       "<IPython.core.display.HTML object>"
      ]
     },
     "metadata": {},
     "output_type": "display_data"
    },
    {
     "data": {
      "text/html": [
       " View run at <a href='https://wandb.ai/cs20b075/assignment-1/runs/8obvdt0p' target=\"_blank\">https://wandb.ai/cs20b075/assignment-1/runs/8obvdt0p</a>"
      ],
      "text/plain": [
       "<IPython.core.display.HTML object>"
      ]
     },
     "metadata": {},
     "output_type": "display_data"
    },
    {
     "name": "stdout",
     "output_type": "stream",
     "text": [
      "Epoch:  1\n",
      "Iteration  1  of  10\n",
      "Train Loss:  0.5339383551685335  Train Accuracy:  0.8108703703703704  Val Loss:  0.5237633455749984 VAl MSE LOSS: 0.2671585017189257  Val Accuracy:  0.8128333333333333\n",
      "Epoch:  2\n",
      "Iteration  2  of  10\n",
      "Train Loss:  0.44994623009365553  Train Accuracy:  0.8397592592592592  Val Loss:  0.44574583022120007 VAl MSE LOSS: 0.22812108328902486  Val Accuracy:  0.8423333333333334\n",
      "Epoch:  3\n",
      "Iteration  3  of  10\n",
      "Train Loss:  0.4144984436871099  Train Accuracy:  0.8520555555555556  Val Loss:  0.41602067071002297 VAl MSE LOSS: 0.21262714018886383  Val Accuracy:  0.851\n",
      "Epoch:  4\n",
      "Iteration  4  of  10\n",
      "Train Loss:  0.3926646555718549  Train Accuracy:  0.8593518518518518  Val Loss:  0.39879017374320747 VAl MSE LOSS: 0.20334428838647742  Val Accuracy:  0.8583333333333333\n",
      "Epoch:  5\n",
      "Iteration  5  of  10\n",
      "Train Loss:  0.377109156937884  Train Accuracy:  0.864574074074074  Val Loss:  0.38776919471246524 VAl MSE LOSS: 0.19758905811800057  Val Accuracy:  0.8626666666666667\n",
      "Epoch:  6\n",
      "Iteration  6  of  10\n",
      "Train Loss:  0.36302561500396197  Train Accuracy:  0.869537037037037  Val Loss:  0.37804127785948016 VAl MSE LOSS: 0.19255972809099786  Val Accuracy:  0.8676666666666667\n",
      "Epoch:  7\n",
      "Iteration  7  of  10\n",
      "Train Loss:  0.3520506574344029  Train Accuracy:  0.8734074074074074  Val Loss:  0.37066876327028125 VAl MSE LOSS: 0.18891437495722938  Val Accuracy:  0.8713333333333333\n",
      "Epoch:  8\n",
      "Iteration  8  of  10\n",
      "Train Loss:  0.3425133195178936  Train Accuracy:  0.8771111111111111  Val Loss:  0.3647033039772588 VAl MSE LOSS: 0.18573892333402853  Val Accuracy:  0.8735\n",
      "Epoch:  9\n",
      "Iteration  9  of  10\n",
      "Train Loss:  0.33432609543091757  Train Accuracy:  0.8792962962962962  Val Loss:  0.3599245050815208 VAl MSE LOSS: 0.18332773136898167  Val Accuracy:  0.8741666666666666\n",
      "Epoch:  10\n",
      "Iteration  10  of  10\n",
      "Train Loss:  0.32643132093591465  Train Accuracy:  0.8820740740740741  Val Loss:  0.35494931302866933 VAl MSE LOSS: 0.18077568950061598  Val Accuracy:  0.8751666666666666\n"
     ]
    },
    {
     "data": {
      "text/html": [
       "Waiting for W&B process to finish... <strong style=\"color:green\">(success).</strong>"
      ],
      "text/plain": [
       "<IPython.core.display.HTML object>"
      ]
     },
     "metadata": {},
     "output_type": "display_data"
    },
    {
     "data": {
      "application/vnd.jupyter.widget-view+json": {
       "model_id": "708d20ae7ded41a896e27e5fa6b22c25",
       "version_major": 2,
       "version_minor": 0
      },
      "text/plain": [
       "VBox(children=(Label(value='0.002 MB of 0.002 MB uploaded (0.000 MB deduped)\\r'), FloatProgress(value=1.0, max…"
      ]
     },
     "metadata": {},
     "output_type": "display_data"
    },
    {
     "data": {
      "text/html": [
       "<style>\n",
       "    table.wandb td:nth-child(1) { padding: 0 10px; text-align: left ; width: auto;} td:nth-child(2) {text-align: left ; width: 100%}\n",
       "    .wandb-row { display: flex; flex-direction: row; flex-wrap: wrap; justify-content: flex-start; width: 100% }\n",
       "    .wandb-col { display: flex; flex-direction: column; flex-basis: 100%; flex: 1; padding: 10px; }\n",
       "    </style>\n",
       "<div class=\"wandb-row\"><div class=\"wandb-col\"><h3>Run history:</h3><br/><table class=\"wandb\"><tr><td>epoch</td><td>▁▂▃▃▄▅▆▆▇█</td></tr><tr><td>train_accuracy</td><td>▁▄▅▆▆▇▇███</td></tr><tr><td>train_loss</td><td>█▅▄▃▃▂▂▂▁▁</td></tr><tr><td>val_accuracy</td><td>▁▄▅▆▇▇████</td></tr><tr><td>val_loss</td><td>█▅▄▃▂▂▂▁▁▁</td></tr><tr><td>val_mse_loss</td><td>█▅▄▃▂▂▂▁▁▁</td></tr></table><br/></div><div class=\"wandb-col\"><h3>Run summary:</h3><br/><table class=\"wandb\"><tr><td>epoch</td><td>9</td></tr><tr><td>train_accuracy</td><td>0.88207</td></tr><tr><td>train_loss</td><td>0.32643</td></tr><tr><td>val_accuracy</td><td>0.87517</td></tr><tr><td>val_loss</td><td>0.35495</td></tr><tr><td>val_mse_loss</td><td>0.18078</td></tr></table><br/></div></div>"
      ],
      "text/plain": [
       "<IPython.core.display.HTML object>"
      ]
     },
     "metadata": {},
     "output_type": "display_data"
    },
    {
     "data": {
      "text/html": [
       " View run <strong style=\"color:#cdcd00\">sunny-sweep-31</strong> at: <a href='https://wandb.ai/cs20b075/assignment-1/runs/8obvdt0p' target=\"_blank\">https://wandb.ai/cs20b075/assignment-1/runs/8obvdt0p</a><br/>Synced 5 W&B file(s), 0 media file(s), 0 artifact file(s) and 0 other file(s)"
      ],
      "text/plain": [
       "<IPython.core.display.HTML object>"
      ]
     },
     "metadata": {},
     "output_type": "display_data"
    },
    {
     "data": {
      "text/html": [
       "Find logs at: <code>./wandb/run-20230319_130836-8obvdt0p/logs</code>"
      ],
      "text/plain": [
       "<IPython.core.display.HTML object>"
      ]
     },
     "metadata": {},
     "output_type": "display_data"
    },
    {
     "name": "stderr",
     "output_type": "stream",
     "text": [
      "\u001b[34m\u001b[1mwandb\u001b[0m: Agent Starting Run: qm6eri0q with config:\n",
      "\u001b[34m\u001b[1mwandb\u001b[0m: \tactivation_function: relu\n",
      "\u001b[34m\u001b[1mwandb\u001b[0m: \tbatch: 64\n",
      "\u001b[34m\u001b[1mwandb\u001b[0m: \tepochs: 10\n",
      "\u001b[34m\u001b[1mwandb\u001b[0m: \thidden_layer_size: 128\n",
      "\u001b[34m\u001b[1mwandb\u001b[0m: \tlearning_rate: 0.0001\n",
      "\u001b[34m\u001b[1mwandb\u001b[0m: \tnum_hidden_layers: 4\n",
      "\u001b[34m\u001b[1mwandb\u001b[0m: \toptimizer: nadam\n",
      "\u001b[34m\u001b[1mwandb\u001b[0m: \tweight_decay: 0.05\n",
      "\u001b[34m\u001b[1mwandb\u001b[0m: \tweight_initialisation: xavier\n",
      "Failed to detect the name of this notebook, you can set it manually with the WANDB_NOTEBOOK_NAME environment variable to enable code saving.\n",
      "\u001b[34m\u001b[1mwandb\u001b[0m: \u001b[33mWARNING\u001b[0m Ignored wandb.init() arg project when running a sweep.\n"
     ]
    },
    {
     "data": {
      "text/html": [
       "wandb version 0.14.0 is available!  To upgrade, please run:\n",
       " $ pip install wandb --upgrade"
      ],
      "text/plain": [
       "<IPython.core.display.HTML object>"
      ]
     },
     "metadata": {},
     "output_type": "display_data"
    },
    {
     "data": {
      "text/html": [
       "Tracking run with wandb version 0.13.10"
      ],
      "text/plain": [
       "<IPython.core.display.HTML object>"
      ]
     },
     "metadata": {},
     "output_type": "display_data"
    },
    {
     "data": {
      "text/html": [
       "Run data is saved locally in <code>/home/sooraj/sem/dl/assignment-1/wandb/run-20230319_131009-qm6eri0q</code>"
      ],
      "text/plain": [
       "<IPython.core.display.HTML object>"
      ]
     },
     "metadata": {},
     "output_type": "display_data"
    },
    {
     "data": {
      "text/html": [
       "Syncing run <strong><a href='https://wandb.ai/cs20b075/assignment-1/runs/qm6eri0q' target=\"_blank\">super-sweep-32</a></strong> to <a href='https://wandb.ai/cs20b075/assignment-1' target=\"_blank\">Weights & Biases</a> (<a href='https://wandb.me/run' target=\"_blank\">docs</a>)<br/>Sweep page: <a href='https://wandb.ai/cs20b075/assignment-1/sweeps/byqia87m' target=\"_blank\">https://wandb.ai/cs20b075/assignment-1/sweeps/byqia87m</a>"
      ],
      "text/plain": [
       "<IPython.core.display.HTML object>"
      ]
     },
     "metadata": {},
     "output_type": "display_data"
    },
    {
     "data": {
      "text/html": [
       " View project at <a href='https://wandb.ai/cs20b075/assignment-1' target=\"_blank\">https://wandb.ai/cs20b075/assignment-1</a>"
      ],
      "text/plain": [
       "<IPython.core.display.HTML object>"
      ]
     },
     "metadata": {},
     "output_type": "display_data"
    },
    {
     "data": {
      "text/html": [
       " View sweep at <a href='https://wandb.ai/cs20b075/assignment-1/sweeps/byqia87m' target=\"_blank\">https://wandb.ai/cs20b075/assignment-1/sweeps/byqia87m</a>"
      ],
      "text/plain": [
       "<IPython.core.display.HTML object>"
      ]
     },
     "metadata": {},
     "output_type": "display_data"
    },
    {
     "data": {
      "text/html": [
       " View run at <a href='https://wandb.ai/cs20b075/assignment-1/runs/qm6eri0q' target=\"_blank\">https://wandb.ai/cs20b075/assignment-1/runs/qm6eri0q</a>"
      ],
      "text/plain": [
       "<IPython.core.display.HTML object>"
      ]
     },
     "metadata": {},
     "output_type": "display_data"
    },
    {
     "name": "stdout",
     "output_type": "stream",
     "text": [
      "Epoch:  1\n",
      "Iteration  1  of  10\n",
      "Train Loss:  0.5058397517920203  Train Accuracy:  0.8211666666666667  Val Loss:  0.49655258248203016 VAl MSE LOSS: 0.2542865921230451  Val Accuracy:  0.8238333333333333\n",
      "Epoch:  2\n",
      "Iteration  2  of  10\n",
      "Train Loss:  0.42135006482818754  Train Accuracy:  0.8498703703703704  Val Loss:  0.4257469710438207 VAl MSE LOSS: 0.21763186511985866  Val Accuracy:  0.8486666666666667\n",
      "Epoch:  3\n",
      "Iteration  3  of  10\n",
      "Train Loss:  0.385806231886497  Train Accuracy:  0.8613703703703703  Val Loss:  0.39860970820380626 VAl MSE LOSS: 0.20270052527143945  Val Accuracy:  0.8603333333333333\n",
      "Epoch:  4\n",
      "Iteration  4  of  10\n",
      "Train Loss:  0.36228880135102903  Train Accuracy:  0.8697037037037038  Val Loss:  0.38151154872289333 VAl MSE LOSS: 0.19378211988558253  Val Accuracy:  0.8668333333333333\n",
      "Epoch:  5\n",
      "Iteration  5  of  10\n",
      "Train Loss:  0.3422557933534463  Train Accuracy:  0.8762592592592593  Val Loss:  0.3665049677796281 VAl MSE LOSS: 0.1872330683797325  Val Accuracy:  0.8711666666666666\n",
      "Epoch:  6\n",
      "Iteration  6  of  10\n",
      "Train Loss:  0.32886040071449824  Train Accuracy:  0.879962962962963  Val Loss:  0.3588877012137554 VAl MSE LOSS: 0.1836464284382632  Val Accuracy:  0.8731666666666666\n",
      "Epoch:  7\n",
      "Iteration  7  of  10\n",
      "Train Loss:  0.31469907517887524  Train Accuracy:  0.8845  Val Loss:  0.3496737982699332 VAl MSE LOSS: 0.1795911118623968  Val Accuracy:  0.8763333333333333\n",
      "Epoch:  8\n",
      "Iteration  8  of  10\n",
      "Train Loss:  0.30373978614976016  Train Accuracy:  0.8883518518518518  Val Loss:  0.342652228013669 VAl MSE LOSS: 0.17640855958617904  Val Accuracy:  0.8768333333333334\n",
      "Epoch:  9\n",
      "Iteration  9  of  10\n",
      "Train Loss:  0.2945217340231474  Train Accuracy:  0.8918333333333334  Val Loss:  0.3379493746669638 VAl MSE LOSS: 0.17431645196990544  Val Accuracy:  0.8783333333333333\n",
      "Epoch:  10\n",
      "Iteration  10  of  10\n",
      "Train Loss:  0.2871128008254733  Train Accuracy:  0.894462962962963  Val Loss:  0.33446042837624773 VAl MSE LOSS: 0.17257492295362345  Val Accuracy:  0.8785\n"
     ]
    },
    {
     "data": {
      "text/html": [
       "Waiting for W&B process to finish... <strong style=\"color:green\">(success).</strong>"
      ],
      "text/plain": [
       "<IPython.core.display.HTML object>"
      ]
     },
     "metadata": {},
     "output_type": "display_data"
    },
    {
     "data": {
      "application/vnd.jupyter.widget-view+json": {
       "model_id": "31afee9e3e0d42abbecc46d73b287afc",
       "version_major": 2,
       "version_minor": 0
      },
      "text/plain": [
       "VBox(children=(Label(value='0.002 MB of 0.002 MB uploaded (0.000 MB deduped)\\r'), FloatProgress(value=1.0, max…"
      ]
     },
     "metadata": {},
     "output_type": "display_data"
    },
    {
     "data": {
      "text/html": [
       "<style>\n",
       "    table.wandb td:nth-child(1) { padding: 0 10px; text-align: left ; width: auto;} td:nth-child(2) {text-align: left ; width: 100%}\n",
       "    .wandb-row { display: flex; flex-direction: row; flex-wrap: wrap; justify-content: flex-start; width: 100% }\n",
       "    .wandb-col { display: flex; flex-direction: column; flex-basis: 100%; flex: 1; padding: 10px; }\n",
       "    </style>\n",
       "<div class=\"wandb-row\"><div class=\"wandb-col\"><h3>Run history:</h3><br/><table class=\"wandb\"><tr><td>epoch</td><td>▁▂▃▃▄▅▆▆▇█</td></tr><tr><td>train_accuracy</td><td>▁▄▅▆▆▇▇▇██</td></tr><tr><td>train_loss</td><td>█▅▄▃▃▂▂▂▁▁</td></tr><tr><td>val_accuracy</td><td>▁▄▆▇▇▇████</td></tr><tr><td>val_loss</td><td>█▅▄▃▂▂▂▁▁▁</td></tr><tr><td>val_mse_loss</td><td>█▅▄▃▂▂▂▁▁▁</td></tr></table><br/></div><div class=\"wandb-col\"><h3>Run summary:</h3><br/><table class=\"wandb\"><tr><td>epoch</td><td>9</td></tr><tr><td>train_accuracy</td><td>0.89446</td></tr><tr><td>train_loss</td><td>0.28711</td></tr><tr><td>val_accuracy</td><td>0.8785</td></tr><tr><td>val_loss</td><td>0.33446</td></tr><tr><td>val_mse_loss</td><td>0.17257</td></tr></table><br/></div></div>"
      ],
      "text/plain": [
       "<IPython.core.display.HTML object>"
      ]
     },
     "metadata": {},
     "output_type": "display_data"
    },
    {
     "data": {
      "text/html": [
       " View run <strong style=\"color:#cdcd00\">super-sweep-32</strong> at: <a href='https://wandb.ai/cs20b075/assignment-1/runs/qm6eri0q' target=\"_blank\">https://wandb.ai/cs20b075/assignment-1/runs/qm6eri0q</a><br/>Synced 5 W&B file(s), 0 media file(s), 0 artifact file(s) and 0 other file(s)"
      ],
      "text/plain": [
       "<IPython.core.display.HTML object>"
      ]
     },
     "metadata": {},
     "output_type": "display_data"
    },
    {
     "data": {
      "text/html": [
       "Find logs at: <code>./wandb/run-20230319_131009-qm6eri0q/logs</code>"
      ],
      "text/plain": [
       "<IPython.core.display.HTML object>"
      ]
     },
     "metadata": {},
     "output_type": "display_data"
    },
    {
     "name": "stderr",
     "output_type": "stream",
     "text": [
      "\u001b[34m\u001b[1mwandb\u001b[0m: Agent Starting Run: 7pfj5jwh with config:\n",
      "\u001b[34m\u001b[1mwandb\u001b[0m: \tactivation_function: relu\n",
      "\u001b[34m\u001b[1mwandb\u001b[0m: \tbatch: 64\n",
      "\u001b[34m\u001b[1mwandb\u001b[0m: \tepochs: 10\n",
      "\u001b[34m\u001b[1mwandb\u001b[0m: \thidden_layer_size: 32\n",
      "\u001b[34m\u001b[1mwandb\u001b[0m: \tlearning_rate: 0.003\n",
      "\u001b[34m\u001b[1mwandb\u001b[0m: \tnum_hidden_layers: 3\n",
      "\u001b[34m\u001b[1mwandb\u001b[0m: \toptimizer: adam\n",
      "\u001b[34m\u001b[1mwandb\u001b[0m: \tweight_decay: 0\n",
      "\u001b[34m\u001b[1mwandb\u001b[0m: \tweight_initialisation: xavier\n",
      "Failed to detect the name of this notebook, you can set it manually with the WANDB_NOTEBOOK_NAME environment variable to enable code saving.\n",
      "\u001b[34m\u001b[1mwandb\u001b[0m: \u001b[33mWARNING\u001b[0m Ignored wandb.init() arg project when running a sweep.\n"
     ]
    },
    {
     "data": {
      "text/html": [
       "wandb version 0.14.0 is available!  To upgrade, please run:\n",
       " $ pip install wandb --upgrade"
      ],
      "text/plain": [
       "<IPython.core.display.HTML object>"
      ]
     },
     "metadata": {},
     "output_type": "display_data"
    },
    {
     "data": {
      "text/html": [
       "Tracking run with wandb version 0.13.10"
      ],
      "text/plain": [
       "<IPython.core.display.HTML object>"
      ]
     },
     "metadata": {},
     "output_type": "display_data"
    },
    {
     "data": {
      "text/html": [
       "Run data is saved locally in <code>/home/sooraj/sem/dl/assignment-1/wandb/run-20230319_131216-7pfj5jwh</code>"
      ],
      "text/plain": [
       "<IPython.core.display.HTML object>"
      ]
     },
     "metadata": {},
     "output_type": "display_data"
    },
    {
     "data": {
      "text/html": [
       "Syncing run <strong><a href='https://wandb.ai/cs20b075/assignment-1/runs/7pfj5jwh' target=\"_blank\">crimson-sweep-33</a></strong> to <a href='https://wandb.ai/cs20b075/assignment-1' target=\"_blank\">Weights & Biases</a> (<a href='https://wandb.me/run' target=\"_blank\">docs</a>)<br/>Sweep page: <a href='https://wandb.ai/cs20b075/assignment-1/sweeps/byqia87m' target=\"_blank\">https://wandb.ai/cs20b075/assignment-1/sweeps/byqia87m</a>"
      ],
      "text/plain": [
       "<IPython.core.display.HTML object>"
      ]
     },
     "metadata": {},
     "output_type": "display_data"
    },
    {
     "data": {
      "text/html": [
       " View project at <a href='https://wandb.ai/cs20b075/assignment-1' target=\"_blank\">https://wandb.ai/cs20b075/assignment-1</a>"
      ],
      "text/plain": [
       "<IPython.core.display.HTML object>"
      ]
     },
     "metadata": {},
     "output_type": "display_data"
    },
    {
     "data": {
      "text/html": [
       " View sweep at <a href='https://wandb.ai/cs20b075/assignment-1/sweeps/byqia87m' target=\"_blank\">https://wandb.ai/cs20b075/assignment-1/sweeps/byqia87m</a>"
      ],
      "text/plain": [
       "<IPython.core.display.HTML object>"
      ]
     },
     "metadata": {},
     "output_type": "display_data"
    },
    {
     "data": {
      "text/html": [
       " View run at <a href='https://wandb.ai/cs20b075/assignment-1/runs/7pfj5jwh' target=\"_blank\">https://wandb.ai/cs20b075/assignment-1/runs/7pfj5jwh</a>"
      ],
      "text/plain": [
       "<IPython.core.display.HTML object>"
      ]
     },
     "metadata": {},
     "output_type": "display_data"
    },
    {
     "name": "stdout",
     "output_type": "stream",
     "text": [
      "Epoch:  1\n",
      "Iteration  1  of  10\n",
      "Train Loss:  0.4274709193845067  Train Accuracy:  0.846037037037037  Val Loss:  0.44040902164050144 VAl MSE LOSS: 0.2234038513022687  Val Accuracy:  0.8475\n",
      "Epoch:  2\n",
      "Iteration  2  of  10\n",
      "Train Loss:  0.3891580310891613  Train Accuracy:  0.8558703703703704  Val Loss:  0.41059816038182856 VAl MSE LOSS: 0.210894865116368  Val Accuracy:  0.8546666666666667\n",
      "Epoch:  3\n",
      "Iteration  3  of  10\n",
      "Train Loss:  0.3840284588385782  Train Accuracy:  0.8546851851851852  Val Loss:  0.4046355641829841 VAl MSE LOSS: 0.2075556682713542  Val Accuracy:  0.8551666666666666\n",
      "Epoch:  4\n",
      "Iteration  4  of  10\n",
      "Train Loss:  0.36115815319763295  Train Accuracy:  0.865537037037037  Val Loss:  0.39106572877866613 VAl MSE LOSS: 0.19880709939558228  Val Accuracy:  0.8588333333333333\n",
      "Epoch:  5\n",
      "Iteration  5  of  10\n",
      "Train Loss:  0.34100296724316753  Train Accuracy:  0.8740925925925926  Val Loss:  0.3758518953192823 VAl MSE LOSS: 0.18785470555389816  Val Accuracy:  0.868\n",
      "Epoch:  6\n",
      "Iteration  6  of  10\n",
      "Train Loss:  0.3382580705273745  Train Accuracy:  0.8737592592592592  Val Loss:  0.3756184632444121 VAl MSE LOSS: 0.1894483344173146  Val Accuracy:  0.8668333333333333\n",
      "Epoch:  7\n",
      "Iteration  7  of  10\n",
      "Train Loss:  0.3583368120646891  Train Accuracy:  0.869  Val Loss:  0.3980777731997753 VAl MSE LOSS: 0.19948989403007428  Val Accuracy:  0.8631666666666666\n",
      "Epoch:  8\n",
      "Iteration  8  of  10\n",
      "Train Loss:  0.340048545435504  Train Accuracy:  0.8731111111111111  Val Loss:  0.37611487423872586 VAl MSE LOSS: 0.1895149454766534  Val Accuracy:  0.864\n",
      "Epoch:  9\n",
      "Iteration  9  of  10\n",
      "Train Loss:  0.3440725556549189  Train Accuracy:  0.8722222222222222  Val Loss:  0.3878778075570722 VAl MSE LOSS: 0.1952875667157335  Val Accuracy:  0.8613333333333333\n",
      "Epoch:  10\n",
      "Iteration  10  of  10\n",
      "Train Loss:  0.3505749174312323  Train Accuracy:  0.8707592592592592  Val Loss:  0.39206031965897586 VAl MSE LOSS: 0.19703573775227257  Val Accuracy:  0.8615\n"
     ]
    },
    {
     "data": {
      "text/html": [
       "Waiting for W&B process to finish... <strong style=\"color:green\">(success).</strong>"
      ],
      "text/plain": [
       "<IPython.core.display.HTML object>"
      ]
     },
     "metadata": {},
     "output_type": "display_data"
    },
    {
     "data": {
      "application/vnd.jupyter.widget-view+json": {
       "model_id": "304175d835274992896392a582e3c36c",
       "version_major": 2,
       "version_minor": 0
      },
      "text/plain": [
       "VBox(children=(Label(value='0.002 MB of 0.010 MB uploaded (0.000 MB deduped)\\r'), FloatProgress(value=0.172350…"
      ]
     },
     "metadata": {},
     "output_type": "display_data"
    },
    {
     "data": {
      "text/html": [
       "<style>\n",
       "    table.wandb td:nth-child(1) { padding: 0 10px; text-align: left ; width: auto;} td:nth-child(2) {text-align: left ; width: 100%}\n",
       "    .wandb-row { display: flex; flex-direction: row; flex-wrap: wrap; justify-content: flex-start; width: 100% }\n",
       "    .wandb-col { display: flex; flex-direction: column; flex-basis: 100%; flex: 1; padding: 10px; }\n",
       "    </style>\n",
       "<div class=\"wandb-row\"><div class=\"wandb-col\"><h3>Run history:</h3><br/><table class=\"wandb\"><tr><td>epoch</td><td>▁▂▃▃▄▅▆▆▇█</td></tr><tr><td>train_accuracy</td><td>▁▃▃▆██▇██▇</td></tr><tr><td>train_loss</td><td>█▅▅▃▁▁▃▁▁▂</td></tr><tr><td>val_accuracy</td><td>▁▃▄▅██▆▇▆▆</td></tr><tr><td>val_loss</td><td>█▅▄▃▁▁▃▁▂▃</td></tr><tr><td>val_mse_loss</td><td>█▆▅▃▁▁▃▁▂▃</td></tr></table><br/></div><div class=\"wandb-col\"><h3>Run summary:</h3><br/><table class=\"wandb\"><tr><td>epoch</td><td>9</td></tr><tr><td>train_accuracy</td><td>0.87076</td></tr><tr><td>train_loss</td><td>0.35057</td></tr><tr><td>val_accuracy</td><td>0.8615</td></tr><tr><td>val_loss</td><td>0.39206</td></tr><tr><td>val_mse_loss</td><td>0.19704</td></tr></table><br/></div></div>"
      ],
      "text/plain": [
       "<IPython.core.display.HTML object>"
      ]
     },
     "metadata": {},
     "output_type": "display_data"
    },
    {
     "data": {
      "text/html": [
       " View run <strong style=\"color:#cdcd00\">crimson-sweep-33</strong> at: <a href='https://wandb.ai/cs20b075/assignment-1/runs/7pfj5jwh' target=\"_blank\">https://wandb.ai/cs20b075/assignment-1/runs/7pfj5jwh</a><br/>Synced 5 W&B file(s), 0 media file(s), 0 artifact file(s) and 0 other file(s)"
      ],
      "text/plain": [
       "<IPython.core.display.HTML object>"
      ]
     },
     "metadata": {},
     "output_type": "display_data"
    },
    {
     "data": {
      "text/html": [
       "Find logs at: <code>./wandb/run-20230319_131216-7pfj5jwh/logs</code>"
      ],
      "text/plain": [
       "<IPython.core.display.HTML object>"
      ]
     },
     "metadata": {},
     "output_type": "display_data"
    },
    {
     "name": "stderr",
     "output_type": "stream",
     "text": [
      "\u001b[34m\u001b[1mwandb\u001b[0m: Agent Starting Run: 7ivnab95 with config:\n",
      "\u001b[34m\u001b[1mwandb\u001b[0m: \tactivation_function: tanh\n",
      "\u001b[34m\u001b[1mwandb\u001b[0m: \tbatch: 64\n",
      "\u001b[34m\u001b[1mwandb\u001b[0m: \tepochs: 10\n",
      "\u001b[34m\u001b[1mwandb\u001b[0m: \thidden_layer_size: 128\n",
      "\u001b[34m\u001b[1mwandb\u001b[0m: \tlearning_rate: 0.0001\n",
      "\u001b[34m\u001b[1mwandb\u001b[0m: \tnum_hidden_layers: 4\n",
      "\u001b[34m\u001b[1mwandb\u001b[0m: \toptimizer: nadam\n",
      "\u001b[34m\u001b[1mwandb\u001b[0m: \tweight_decay: 0\n",
      "\u001b[34m\u001b[1mwandb\u001b[0m: \tweight_initialisation: xavier\n",
      "Failed to detect the name of this notebook, you can set it manually with the WANDB_NOTEBOOK_NAME environment variable to enable code saving.\n",
      "\u001b[34m\u001b[1mwandb\u001b[0m: \u001b[33mWARNING\u001b[0m Ignored wandb.init() arg project when running a sweep.\n"
     ]
    },
    {
     "data": {
      "text/html": [
       "wandb version 0.14.0 is available!  To upgrade, please run:\n",
       " $ pip install wandb --upgrade"
      ],
      "text/plain": [
       "<IPython.core.display.HTML object>"
      ]
     },
     "metadata": {},
     "output_type": "display_data"
    },
    {
     "data": {
      "text/html": [
       "Tracking run with wandb version 0.13.10"
      ],
      "text/plain": [
       "<IPython.core.display.HTML object>"
      ]
     },
     "metadata": {},
     "output_type": "display_data"
    },
    {
     "data": {
      "text/html": [
       "Run data is saved locally in <code>/home/sooraj/sem/dl/assignment-1/wandb/run-20230319_131249-7ivnab95</code>"
      ],
      "text/plain": [
       "<IPython.core.display.HTML object>"
      ]
     },
     "metadata": {},
     "output_type": "display_data"
    },
    {
     "data": {
      "text/html": [
       "Syncing run <strong><a href='https://wandb.ai/cs20b075/assignment-1/runs/7ivnab95' target=\"_blank\">dandy-sweep-34</a></strong> to <a href='https://wandb.ai/cs20b075/assignment-1' target=\"_blank\">Weights & Biases</a> (<a href='https://wandb.me/run' target=\"_blank\">docs</a>)<br/>Sweep page: <a href='https://wandb.ai/cs20b075/assignment-1/sweeps/byqia87m' target=\"_blank\">https://wandb.ai/cs20b075/assignment-1/sweeps/byqia87m</a>"
      ],
      "text/plain": [
       "<IPython.core.display.HTML object>"
      ]
     },
     "metadata": {},
     "output_type": "display_data"
    },
    {
     "data": {
      "text/html": [
       " View project at <a href='https://wandb.ai/cs20b075/assignment-1' target=\"_blank\">https://wandb.ai/cs20b075/assignment-1</a>"
      ],
      "text/plain": [
       "<IPython.core.display.HTML object>"
      ]
     },
     "metadata": {},
     "output_type": "display_data"
    },
    {
     "data": {
      "text/html": [
       " View sweep at <a href='https://wandb.ai/cs20b075/assignment-1/sweeps/byqia87m' target=\"_blank\">https://wandb.ai/cs20b075/assignment-1/sweeps/byqia87m</a>"
      ],
      "text/plain": [
       "<IPython.core.display.HTML object>"
      ]
     },
     "metadata": {},
     "output_type": "display_data"
    },
    {
     "data": {
      "text/html": [
       " View run at <a href='https://wandb.ai/cs20b075/assignment-1/runs/7ivnab95' target=\"_blank\">https://wandb.ai/cs20b075/assignment-1/runs/7ivnab95</a>"
      ],
      "text/plain": [
       "<IPython.core.display.HTML object>"
      ]
     },
     "metadata": {},
     "output_type": "display_data"
    },
    {
     "name": "stdout",
     "output_type": "stream",
     "text": [
      "Epoch:  1\n",
      "Iteration  1  of  10\n",
      "Train Loss:  0.4686189878192062  Train Accuracy:  0.8348703703703704  Val Loss:  0.45850689611864315 VAl MSE LOSS: 0.23197510845506644  Val Accuracy:  0.8371666666666666\n",
      "Epoch:  2\n",
      "Iteration  2  of  10\n",
      "Train Loss:  0.39264435221117094  Train Accuracy:  0.859537037037037  Val Loss:  0.3928762217515417 VAl MSE LOSS: 0.2015273318767965  Val Accuracy:  0.8578333333333333\n",
      "Epoch:  3\n",
      "Iteration  3  of  10\n",
      "Train Loss:  0.3594321985116959  Train Accuracy:  0.8709444444444444  Val Loss:  0.3685574855294769 VAl MSE LOSS: 0.1891342187224875  Val Accuracy:  0.8683333333333333\n",
      "Epoch:  4\n",
      "Iteration  4  of  10\n",
      "Train Loss:  0.33812517190805536  Train Accuracy:  0.8775  Val Loss:  0.35363662588713146 VAl MSE LOSS: 0.1817055444281631  Val Accuracy:  0.8746666666666667\n",
      "Epoch:  5\n",
      "Iteration  5  of  10\n",
      "Train Loss:  0.32201730116095184  Train Accuracy:  0.883537037037037  Val Loss:  0.3426640319669153 VAl MSE LOSS: 0.17647826620204585  Val Accuracy:  0.8781666666666667\n",
      "Epoch:  6\n",
      "Iteration  6  of  10\n",
      "Train Loss:  0.30861372458427466  Train Accuracy:  0.8890740740740741  Val Loss:  0.3339475901507934 VAl MSE LOSS: 0.1723959677142306  Val Accuracy:  0.8813333333333333\n",
      "Epoch:  7\n",
      "Iteration  7  of  10\n",
      "Train Loss:  0.29710490983860915  Train Accuracy:  0.8929074074074074  Val Loss:  0.32687911931786523 VAl MSE LOSS: 0.16907540503829346  Val Accuracy:  0.8836666666666667\n",
      "Epoch:  8\n",
      "Iteration  8  of  10\n",
      "Train Loss:  0.2869743264192183  Train Accuracy:  0.895962962962963  Val Loss:  0.3211949486689725 VAl MSE LOSS: 0.16636331991429837  Val Accuracy:  0.8861666666666667\n",
      "Epoch:  9\n",
      "Iteration  9  of  10\n",
      "Train Loss:  0.27791432784265546  Train Accuracy:  0.8990185185185186  Val Loss:  0.3166372445870326 VAl MSE LOSS: 0.16413192628542964  Val Accuracy:  0.8881666666666667\n",
      "Epoch:  10\n",
      "Iteration  10  of  10\n",
      "Train Loss:  0.26964058889885434  Train Accuracy:  0.902074074074074  Val Loss:  0.3129726318958996 VAl MSE LOSS: 0.16231059348381496  Val Accuracy:  0.8876666666666667\n"
     ]
    },
    {
     "data": {
      "text/html": [
       "Waiting for W&B process to finish... <strong style=\"color:green\">(success).</strong>"
      ],
      "text/plain": [
       "<IPython.core.display.HTML object>"
      ]
     },
     "metadata": {},
     "output_type": "display_data"
    },
    {
     "data": {
      "text/html": [
       "<style>\n",
       "    table.wandb td:nth-child(1) { padding: 0 10px; text-align: left ; width: auto;} td:nth-child(2) {text-align: left ; width: 100%}\n",
       "    .wandb-row { display: flex; flex-direction: row; flex-wrap: wrap; justify-content: flex-start; width: 100% }\n",
       "    .wandb-col { display: flex; flex-direction: column; flex-basis: 100%; flex: 1; padding: 10px; }\n",
       "    </style>\n",
       "<div class=\"wandb-row\"><div class=\"wandb-col\"><h3>Run history:</h3><br/><table class=\"wandb\"><tr><td>epoch</td><td>▁▂▃▃▄▅▆▆▇█</td></tr><tr><td>train_accuracy</td><td>▁▄▅▅▆▇▇▇██</td></tr><tr><td>train_loss</td><td>█▅▄▃▃▂▂▂▁▁</td></tr><tr><td>val_accuracy</td><td>▁▄▅▆▇▇▇███</td></tr><tr><td>val_loss</td><td>█▅▄▃▂▂▂▁▁▁</td></tr><tr><td>val_mse_loss</td><td>█▅▄▃▂▂▂▁▁▁</td></tr></table><br/></div><div class=\"wandb-col\"><h3>Run summary:</h3><br/><table class=\"wandb\"><tr><td>epoch</td><td>9</td></tr><tr><td>train_accuracy</td><td>0.90207</td></tr><tr><td>train_loss</td><td>0.26964</td></tr><tr><td>val_accuracy</td><td>0.88767</td></tr><tr><td>val_loss</td><td>0.31297</td></tr><tr><td>val_mse_loss</td><td>0.16231</td></tr></table><br/></div></div>"
      ],
      "text/plain": [
       "<IPython.core.display.HTML object>"
      ]
     },
     "metadata": {},
     "output_type": "display_data"
    },
    {
     "data": {
      "text/html": [
       " View run <strong style=\"color:#cdcd00\">dandy-sweep-34</strong> at: <a href='https://wandb.ai/cs20b075/assignment-1/runs/7ivnab95' target=\"_blank\">https://wandb.ai/cs20b075/assignment-1/runs/7ivnab95</a><br/>Synced 5 W&B file(s), 0 media file(s), 0 artifact file(s) and 0 other file(s)"
      ],
      "text/plain": [
       "<IPython.core.display.HTML object>"
      ]
     },
     "metadata": {},
     "output_type": "display_data"
    },
    {
     "data": {
      "text/html": [
       "Find logs at: <code>./wandb/run-20230319_131249-7ivnab95/logs</code>"
      ],
      "text/plain": [
       "<IPython.core.display.HTML object>"
      ]
     },
     "metadata": {},
     "output_type": "display_data"
    },
    {
     "name": "stderr",
     "output_type": "stream",
     "text": [
      "\u001b[34m\u001b[1mwandb\u001b[0m: Agent Starting Run: coifdyk9 with config:\n",
      "\u001b[34m\u001b[1mwandb\u001b[0m: \tactivation_function: relu\n",
      "\u001b[34m\u001b[1mwandb\u001b[0m: \tbatch: 64\n",
      "\u001b[34m\u001b[1mwandb\u001b[0m: \tepochs: 10\n",
      "\u001b[34m\u001b[1mwandb\u001b[0m: \thidden_layer_size: 64\n",
      "\u001b[34m\u001b[1mwandb\u001b[0m: \tlearning_rate: 0.003\n",
      "\u001b[34m\u001b[1mwandb\u001b[0m: \tnum_hidden_layers: 2\n",
      "\u001b[34m\u001b[1mwandb\u001b[0m: \toptimizer: nadam\n",
      "\u001b[34m\u001b[1mwandb\u001b[0m: \tweight_decay: 0\n",
      "\u001b[34m\u001b[1mwandb\u001b[0m: \tweight_initialisation: xavier\n",
      "Failed to detect the name of this notebook, you can set it manually with the WANDB_NOTEBOOK_NAME environment variable to enable code saving.\n",
      "\u001b[34m\u001b[1mwandb\u001b[0m: \u001b[33mWARNING\u001b[0m Ignored wandb.init() arg project when running a sweep.\n"
     ]
    },
    {
     "data": {
      "text/html": [
       "wandb version 0.14.0 is available!  To upgrade, please run:\n",
       " $ pip install wandb --upgrade"
      ],
      "text/plain": [
       "<IPython.core.display.HTML object>"
      ]
     },
     "metadata": {},
     "output_type": "display_data"
    },
    {
     "data": {
      "text/html": [
       "Tracking run with wandb version 0.13.10"
      ],
      "text/plain": [
       "<IPython.core.display.HTML object>"
      ]
     },
     "metadata": {},
     "output_type": "display_data"
    },
    {
     "data": {
      "text/html": [
       "Run data is saved locally in <code>/home/sooraj/sem/dl/assignment-1/wandb/run-20230319_131500-coifdyk9</code>"
      ],
      "text/plain": [
       "<IPython.core.display.HTML object>"
      ]
     },
     "metadata": {},
     "output_type": "display_data"
    },
    {
     "data": {
      "text/html": [
       "Syncing run <strong><a href='https://wandb.ai/cs20b075/assignment-1/runs/coifdyk9' target=\"_blank\">wobbly-sweep-35</a></strong> to <a href='https://wandb.ai/cs20b075/assignment-1' target=\"_blank\">Weights & Biases</a> (<a href='https://wandb.me/run' target=\"_blank\">docs</a>)<br/>Sweep page: <a href='https://wandb.ai/cs20b075/assignment-1/sweeps/byqia87m' target=\"_blank\">https://wandb.ai/cs20b075/assignment-1/sweeps/byqia87m</a>"
      ],
      "text/plain": [
       "<IPython.core.display.HTML object>"
      ]
     },
     "metadata": {},
     "output_type": "display_data"
    },
    {
     "data": {
      "text/html": [
       " View project at <a href='https://wandb.ai/cs20b075/assignment-1' target=\"_blank\">https://wandb.ai/cs20b075/assignment-1</a>"
      ],
      "text/plain": [
       "<IPython.core.display.HTML object>"
      ]
     },
     "metadata": {},
     "output_type": "display_data"
    },
    {
     "data": {
      "text/html": [
       " View sweep at <a href='https://wandb.ai/cs20b075/assignment-1/sweeps/byqia87m' target=\"_blank\">https://wandb.ai/cs20b075/assignment-1/sweeps/byqia87m</a>"
      ],
      "text/plain": [
       "<IPython.core.display.HTML object>"
      ]
     },
     "metadata": {},
     "output_type": "display_data"
    },
    {
     "data": {
      "text/html": [
       " View run at <a href='https://wandb.ai/cs20b075/assignment-1/runs/coifdyk9' target=\"_blank\">https://wandb.ai/cs20b075/assignment-1/runs/coifdyk9</a>"
      ],
      "text/plain": [
       "<IPython.core.display.HTML object>"
      ]
     },
     "metadata": {},
     "output_type": "display_data"
    },
    {
     "name": "stdout",
     "output_type": "stream",
     "text": [
      "Epoch:  1\n",
      "Iteration  1  of  10\n",
      "Train Loss:  0.39378777025074874  Train Accuracy:  0.8548333333333333  Val Loss:  0.41492634854141525 VAl MSE LOSS: 0.21283505004287584  Val Accuracy:  0.8538333333333333\n",
      "Epoch:  2\n",
      "Iteration  2  of  10\n",
      "Train Loss:  0.3642064458929735  Train Accuracy:  0.8663888888888889  Val Loss:  0.3886604418601056 VAl MSE LOSS: 0.19649847692760006  Val Accuracy:  0.865\n",
      "Epoch:  3\n",
      "Iteration  3  of  10\n",
      "Train Loss:  0.3461122593865341  Train Accuracy:  0.8712592592592593  Val Loss:  0.36899533416793234 VAl MSE LOSS: 0.18891669637111896  Val Accuracy:  0.868\n",
      "Epoch:  4\n",
      "Iteration  4  of  10\n",
      "Train Loss:  0.34925902578897505  Train Accuracy:  0.8700555555555556  Val Loss:  0.3788680515699763 VAl MSE LOSS: 0.19083443101504544  Val Accuracy:  0.869\n",
      "Epoch:  5\n",
      "Iteration  5  of  10\n",
      "Train Loss:  0.3386093282377606  Train Accuracy:  0.8737037037037036  Val Loss:  0.3744363301145655 VAl MSE LOSS: 0.18898122839646087  Val Accuracy:  0.8666666666666667\n",
      "Epoch:  6\n",
      "Iteration  6  of  10\n",
      "Train Loss:  0.33971352521411136  Train Accuracy:  0.870537037037037  Val Loss:  0.37674011906325433 VAl MSE LOSS: 0.19360689327156483  Val Accuracy:  0.862\n",
      "Epoch:  7\n",
      "Iteration  7  of  10\n",
      "Train Loss:  0.3395967746694836  Train Accuracy:  0.8729074074074074  Val Loss:  0.39133201146344165 VAl MSE LOSS: 0.19706843726084575  Val Accuracy:  0.8611666666666666\n",
      "Epoch:  8\n",
      "Iteration  8  of  10\n",
      "Train Loss:  0.34687269170687357  Train Accuracy:  0.8706851851851852  Val Loss:  0.40074584419716425 VAl MSE LOSS: 0.19769188208887267  Val Accuracy:  0.8618333333333333\n",
      "Epoch:  9\n",
      "Iteration  9  of  10\n",
      "Train Loss:  0.32282571668918547  Train Accuracy:  0.8803333333333333  Val Loss:  0.37803590545738464 VAl MSE LOSS: 0.18613762436606304  Val Accuracy:  0.8683333333333333\n",
      "Epoch:  10\n",
      "Iteration  10  of  10\n",
      "Train Loss:  0.33101033603450664  Train Accuracy:  0.8784444444444445  Val Loss:  0.3995602900123471 VAl MSE LOSS: 0.19116765381066897  Val Accuracy:  0.8608333333333333\n"
     ]
    },
    {
     "data": {
      "text/html": [
       "Waiting for W&B process to finish... <strong style=\"color:green\">(success).</strong>"
      ],
      "text/plain": [
       "<IPython.core.display.HTML object>"
      ]
     },
     "metadata": {},
     "output_type": "display_data"
    },
    {
     "data": {
      "application/vnd.jupyter.widget-view+json": {
       "model_id": "fcc6c86c3e904d5da05ea39d73512bb6",
       "version_major": 2,
       "version_minor": 0
      },
      "text/plain": [
       "VBox(children=(Label(value='0.002 MB of 0.002 MB uploaded (0.000 MB deduped)\\r'), FloatProgress(value=1.0, max…"
      ]
     },
     "metadata": {},
     "output_type": "display_data"
    },
    {
     "data": {
      "text/html": [
       "<style>\n",
       "    table.wandb td:nth-child(1) { padding: 0 10px; text-align: left ; width: auto;} td:nth-child(2) {text-align: left ; width: 100%}\n",
       "    .wandb-row { display: flex; flex-direction: row; flex-wrap: wrap; justify-content: flex-start; width: 100% }\n",
       "    .wandb-col { display: flex; flex-direction: column; flex-basis: 100%; flex: 1; padding: 10px; }\n",
       "    </style>\n",
       "<div class=\"wandb-row\"><div class=\"wandb-col\"><h3>Run history:</h3><br/><table class=\"wandb\"><tr><td>epoch</td><td>▁▂▃▃▄▅▆▆▇█</td></tr><tr><td>train_accuracy</td><td>▁▄▆▅▆▅▆▅█▇</td></tr><tr><td>train_loss</td><td>█▅▃▄▃▃▃▃▁▂</td></tr><tr><td>val_accuracy</td><td>▁▆██▇▅▄▅█▄</td></tr><tr><td>val_loss</td><td>█▄▁▃▂▂▄▆▂▆</td></tr><tr><td>val_mse_loss</td><td>█▄▂▂▂▃▄▄▁▂</td></tr></table><br/></div><div class=\"wandb-col\"><h3>Run summary:</h3><br/><table class=\"wandb\"><tr><td>epoch</td><td>9</td></tr><tr><td>train_accuracy</td><td>0.87844</td></tr><tr><td>train_loss</td><td>0.33101</td></tr><tr><td>val_accuracy</td><td>0.86083</td></tr><tr><td>val_loss</td><td>0.39956</td></tr><tr><td>val_mse_loss</td><td>0.19117</td></tr></table><br/></div></div>"
      ],
      "text/plain": [
       "<IPython.core.display.HTML object>"
      ]
     },
     "metadata": {},
     "output_type": "display_data"
    },
    {
     "data": {
      "text/html": [
       " View run <strong style=\"color:#cdcd00\">wobbly-sweep-35</strong> at: <a href='https://wandb.ai/cs20b075/assignment-1/runs/coifdyk9' target=\"_blank\">https://wandb.ai/cs20b075/assignment-1/runs/coifdyk9</a><br/>Synced 5 W&B file(s), 0 media file(s), 0 artifact file(s) and 0 other file(s)"
      ],
      "text/plain": [
       "<IPython.core.display.HTML object>"
      ]
     },
     "metadata": {},
     "output_type": "display_data"
    },
    {
     "data": {
      "text/html": [
       "Find logs at: <code>./wandb/run-20230319_131500-coifdyk9/logs</code>"
      ],
      "text/plain": [
       "<IPython.core.display.HTML object>"
      ]
     },
     "metadata": {},
     "output_type": "display_data"
    },
    {
     "name": "stderr",
     "output_type": "stream",
     "text": [
      "\u001b[34m\u001b[1mwandb\u001b[0m: Agent Starting Run: oc8i1ggq with config:\n",
      "\u001b[34m\u001b[1mwandb\u001b[0m: \tactivation_function: relu\n",
      "\u001b[34m\u001b[1mwandb\u001b[0m: \tbatch: 64\n",
      "\u001b[34m\u001b[1mwandb\u001b[0m: \tepochs: 10\n",
      "\u001b[34m\u001b[1mwandb\u001b[0m: \thidden_layer_size: 32\n",
      "\u001b[34m\u001b[1mwandb\u001b[0m: \tlearning_rate: 0.003\n",
      "\u001b[34m\u001b[1mwandb\u001b[0m: \tnum_hidden_layers: 4\n",
      "\u001b[34m\u001b[1mwandb\u001b[0m: \toptimizer: nesterov\n",
      "\u001b[34m\u001b[1mwandb\u001b[0m: \tweight_decay: 0\n",
      "\u001b[34m\u001b[1mwandb\u001b[0m: \tweight_initialisation: xavier\n",
      "Failed to detect the name of this notebook, you can set it manually with the WANDB_NOTEBOOK_NAME environment variable to enable code saving.\n",
      "\u001b[34m\u001b[1mwandb\u001b[0m: \u001b[33mWARNING\u001b[0m Ignored wandb.init() arg project when running a sweep.\n"
     ]
    },
    {
     "data": {
      "text/html": [
       "wandb version 0.14.0 is available!  To upgrade, please run:\n",
       " $ pip install wandb --upgrade"
      ],
      "text/plain": [
       "<IPython.core.display.HTML object>"
      ]
     },
     "metadata": {},
     "output_type": "display_data"
    },
    {
     "data": {
      "text/html": [
       "Tracking run with wandb version 0.13.10"
      ],
      "text/plain": [
       "<IPython.core.display.HTML object>"
      ]
     },
     "metadata": {},
     "output_type": "display_data"
    },
    {
     "data": {
      "text/html": [
       "Run data is saved locally in <code>/home/sooraj/sem/dl/assignment-1/wandb/run-20230319_131549-oc8i1ggq</code>"
      ],
      "text/plain": [
       "<IPython.core.display.HTML object>"
      ]
     },
     "metadata": {},
     "output_type": "display_data"
    },
    {
     "data": {
      "text/html": [
       "Syncing run <strong><a href='https://wandb.ai/cs20b075/assignment-1/runs/oc8i1ggq' target=\"_blank\">dutiful-sweep-36</a></strong> to <a href='https://wandb.ai/cs20b075/assignment-1' target=\"_blank\">Weights & Biases</a> (<a href='https://wandb.me/run' target=\"_blank\">docs</a>)<br/>Sweep page: <a href='https://wandb.ai/cs20b075/assignment-1/sweeps/byqia87m' target=\"_blank\">https://wandb.ai/cs20b075/assignment-1/sweeps/byqia87m</a>"
      ],
      "text/plain": [
       "<IPython.core.display.HTML object>"
      ]
     },
     "metadata": {},
     "output_type": "display_data"
    },
    {
     "data": {
      "text/html": [
       " View project at <a href='https://wandb.ai/cs20b075/assignment-1' target=\"_blank\">https://wandb.ai/cs20b075/assignment-1</a>"
      ],
      "text/plain": [
       "<IPython.core.display.HTML object>"
      ]
     },
     "metadata": {},
     "output_type": "display_data"
    },
    {
     "data": {
      "text/html": [
       " View sweep at <a href='https://wandb.ai/cs20b075/assignment-1/sweeps/byqia87m' target=\"_blank\">https://wandb.ai/cs20b075/assignment-1/sweeps/byqia87m</a>"
      ],
      "text/plain": [
       "<IPython.core.display.HTML object>"
      ]
     },
     "metadata": {},
     "output_type": "display_data"
    },
    {
     "data": {
      "text/html": [
       " View run at <a href='https://wandb.ai/cs20b075/assignment-1/runs/oc8i1ggq' target=\"_blank\">https://wandb.ai/cs20b075/assignment-1/runs/oc8i1ggq</a>"
      ],
      "text/plain": [
       "<IPython.core.display.HTML object>"
      ]
     },
     "metadata": {},
     "output_type": "display_data"
    },
    {
     "name": "stdout",
     "output_type": "stream",
     "text": [
      "Epoch:  1\n",
      "Iteration  1  of  10\n",
      "Train Loss:  1.4572949349536477  Train Accuracy:  0.29074074074074074  Val Loss:  1.4301038725973203 VAl MSE LOSS: 0.7091910797789667  Val Accuracy:  0.303\n",
      "Epoch:  2\n",
      "Iteration  2  of  10\n",
      "Train Loss:  2.0434169201290056  Train Accuracy:  0.10031481481481481  Val Loss:  2.030775639313401 VAl MSE LOSS: 0.8595342553119217  Val Accuracy:  0.09716666666666667\n",
      "Epoch:  3\n",
      "Iteration  3  of  10\n",
      "Train Loss:  2.0400355640397168  Train Accuracy:  0.10031481481481481  Val Loss:  2.031963976604197 VAl MSE LOSS: 0.8638283337255154  Val Accuracy:  0.09716666666666667\n",
      "Epoch:  4\n",
      "Iteration  4  of  10\n",
      "Train Loss:  2.3025819313850464  Train Accuracy:  0.10031481481481481  Val Loss:  2.3025850929940432 VAl MSE LOSS: 0.9000000000000001  Val Accuracy:  0.09716666666666667\n",
      "Epoch:  5\n",
      "Iteration  5  of  10\n",
      "Train Loss:  2.302481136064573  Train Accuracy:  0.10033333333333333  Val Loss:  2.3025850929940432 VAl MSE LOSS: 0.9000000000000001  Val Accuracy:  0.09716666666666667\n",
      "Epoch:  6\n",
      "Iteration  6  of  10\n",
      "Train Loss:  2.302464150330879  Train Accuracy:  0.10035185185185186  Val Loss:  2.3022433817461696 VAl MSE LOSS: 0.8999245833083399  Val Accuracy:  0.09733333333333333\n",
      "Epoch:  7\n",
      "Iteration  7  of  10\n",
      "Train Loss:  2.302434880294924  Train Accuracy:  0.10035185185185186  Val Loss:  2.302341426722137 VAl MSE LOSS: 0.8999461736694048  Val Accuracy:  0.09733333333333333\n",
      "Epoch:  8\n",
      "Iteration  8  of  10\n",
      "Train Loss:  2.3024233363404205  Train Accuracy:  0.10044444444444445  Val Loss:  2.302384093842301 VAl MSE LOSS: 0.8999529799383718  Val Accuracy:  0.09733333333333333\n",
      "Epoch:  9\n",
      "Iteration  9  of  10\n",
      "Train Loss:  2.302378019158258  Train Accuracy:  0.1004074074074074  Val Loss:  2.3024066938447527 VAl MSE LOSS: 0.8999697935130594  Val Accuracy:  0.09716666666666667\n",
      "Epoch:  10\n",
      "Iteration  10  of  10\n",
      "Train Loss:  2.3023559579373867  Train Accuracy:  0.1005  Val Loss:  2.302274520041558 VAl MSE LOSS: 0.899922004260693  Val Accuracy:  0.09733333333333333\n"
     ]
    },
    {
     "data": {
      "text/html": [
       "Waiting for W&B process to finish... <strong style=\"color:green\">(success).</strong>"
      ],
      "text/plain": [
       "<IPython.core.display.HTML object>"
      ]
     },
     "metadata": {},
     "output_type": "display_data"
    },
    {
     "data": {
      "text/html": [
       "<style>\n",
       "    table.wandb td:nth-child(1) { padding: 0 10px; text-align: left ; width: auto;} td:nth-child(2) {text-align: left ; width: 100%}\n",
       "    .wandb-row { display: flex; flex-direction: row; flex-wrap: wrap; justify-content: flex-start; width: 100% }\n",
       "    .wandb-col { display: flex; flex-direction: column; flex-basis: 100%; flex: 1; padding: 10px; }\n",
       "    </style>\n",
       "<div class=\"wandb-row\"><div class=\"wandb-col\"><h3>Run history:</h3><br/><table class=\"wandb\"><tr><td>epoch</td><td>▁▂▃▃▄▅▆▆▇█</td></tr><tr><td>train_accuracy</td><td>█▁▁▁▁▁▁▁▁▁</td></tr><tr><td>train_loss</td><td>▁▆▆███████</td></tr><tr><td>val_accuracy</td><td>█▁▁▁▁▁▁▁▁▁</td></tr><tr><td>val_loss</td><td>▁▆▆███████</td></tr><tr><td>val_mse_loss</td><td>▁▇▇███████</td></tr></table><br/></div><div class=\"wandb-col\"><h3>Run summary:</h3><br/><table class=\"wandb\"><tr><td>epoch</td><td>9</td></tr><tr><td>train_accuracy</td><td>0.1005</td></tr><tr><td>train_loss</td><td>2.30236</td></tr><tr><td>val_accuracy</td><td>0.09733</td></tr><tr><td>val_loss</td><td>2.30227</td></tr><tr><td>val_mse_loss</td><td>0.89992</td></tr></table><br/></div></div>"
      ],
      "text/plain": [
       "<IPython.core.display.HTML object>"
      ]
     },
     "metadata": {},
     "output_type": "display_data"
    },
    {
     "data": {
      "text/html": [
       " View run <strong style=\"color:#cdcd00\">dutiful-sweep-36</strong> at: <a href='https://wandb.ai/cs20b075/assignment-1/runs/oc8i1ggq' target=\"_blank\">https://wandb.ai/cs20b075/assignment-1/runs/oc8i1ggq</a><br/>Synced 5 W&B file(s), 0 media file(s), 0 artifact file(s) and 0 other file(s)"
      ],
      "text/plain": [
       "<IPython.core.display.HTML object>"
      ]
     },
     "metadata": {},
     "output_type": "display_data"
    },
    {
     "data": {
      "text/html": [
       "Find logs at: <code>./wandb/run-20230319_131549-oc8i1ggq/logs</code>"
      ],
      "text/plain": [
       "<IPython.core.display.HTML object>"
      ]
     },
     "metadata": {},
     "output_type": "display_data"
    },
    {
     "name": "stderr",
     "output_type": "stream",
     "text": [
      "\u001b[34m\u001b[1mwandb\u001b[0m: Agent Starting Run: 9ocnt07y with config:\n",
      "\u001b[34m\u001b[1mwandb\u001b[0m: \tactivation_function: relu\n",
      "\u001b[34m\u001b[1mwandb\u001b[0m: \tbatch: 64\n",
      "\u001b[34m\u001b[1mwandb\u001b[0m: \tepochs: 10\n",
      "\u001b[34m\u001b[1mwandb\u001b[0m: \thidden_layer_size: 64\n",
      "\u001b[34m\u001b[1mwandb\u001b[0m: \tlearning_rate: 0.0001\n",
      "\u001b[34m\u001b[1mwandb\u001b[0m: \tnum_hidden_layers: 3\n",
      "\u001b[34m\u001b[1mwandb\u001b[0m: \toptimizer: adam\n",
      "\u001b[34m\u001b[1mwandb\u001b[0m: \tweight_decay: 0.0005\n",
      "\u001b[34m\u001b[1mwandb\u001b[0m: \tweight_initialisation: xavier\n",
      "Failed to detect the name of this notebook, you can set it manually with the WANDB_NOTEBOOK_NAME environment variable to enable code saving.\n",
      "\u001b[34m\u001b[1mwandb\u001b[0m: \u001b[33mWARNING\u001b[0m Ignored wandb.init() arg project when running a sweep.\n"
     ]
    },
    {
     "data": {
      "text/html": [
       "wandb version 0.14.0 is available!  To upgrade, please run:\n",
       " $ pip install wandb --upgrade"
      ],
      "text/plain": [
       "<IPython.core.display.HTML object>"
      ]
     },
     "metadata": {},
     "output_type": "display_data"
    },
    {
     "data": {
      "text/html": [
       "Tracking run with wandb version 0.13.10"
      ],
      "text/plain": [
       "<IPython.core.display.HTML object>"
      ]
     },
     "metadata": {},
     "output_type": "display_data"
    },
    {
     "data": {
      "text/html": [
       "Run data is saved locally in <code>/home/sooraj/sem/dl/assignment-1/wandb/run-20230319_131622-9ocnt07y</code>"
      ],
      "text/plain": [
       "<IPython.core.display.HTML object>"
      ]
     },
     "metadata": {},
     "output_type": "display_data"
    },
    {
     "data": {
      "text/html": [
       "Syncing run <strong><a href='https://wandb.ai/cs20b075/assignment-1/runs/9ocnt07y' target=\"_blank\">dazzling-sweep-37</a></strong> to <a href='https://wandb.ai/cs20b075/assignment-1' target=\"_blank\">Weights & Biases</a> (<a href='https://wandb.me/run' target=\"_blank\">docs</a>)<br/>Sweep page: <a href='https://wandb.ai/cs20b075/assignment-1/sweeps/byqia87m' target=\"_blank\">https://wandb.ai/cs20b075/assignment-1/sweeps/byqia87m</a>"
      ],
      "text/plain": [
       "<IPython.core.display.HTML object>"
      ]
     },
     "metadata": {},
     "output_type": "display_data"
    },
    {
     "data": {
      "text/html": [
       " View project at <a href='https://wandb.ai/cs20b075/assignment-1' target=\"_blank\">https://wandb.ai/cs20b075/assignment-1</a>"
      ],
      "text/plain": [
       "<IPython.core.display.HTML object>"
      ]
     },
     "metadata": {},
     "output_type": "display_data"
    },
    {
     "data": {
      "text/html": [
       " View sweep at <a href='https://wandb.ai/cs20b075/assignment-1/sweeps/byqia87m' target=\"_blank\">https://wandb.ai/cs20b075/assignment-1/sweeps/byqia87m</a>"
      ],
      "text/plain": [
       "<IPython.core.display.HTML object>"
      ]
     },
     "metadata": {},
     "output_type": "display_data"
    },
    {
     "data": {
      "text/html": [
       " View run at <a href='https://wandb.ai/cs20b075/assignment-1/runs/9ocnt07y' target=\"_blank\">https://wandb.ai/cs20b075/assignment-1/runs/9ocnt07y</a>"
      ],
      "text/plain": [
       "<IPython.core.display.HTML object>"
      ]
     },
     "metadata": {},
     "output_type": "display_data"
    },
    {
     "name": "stdout",
     "output_type": "stream",
     "text": [
      "Epoch:  1\n",
      "Iteration  1  of  10\n",
      "Train Loss:  0.5877536860930394  Train Accuracy:  0.7995925925925926  Val Loss:  0.5742813150441936 VAl MSE LOSS: 0.2898476832612365  Val Accuracy:  0.8063333333333333\n",
      "Epoch:  2\n",
      "Iteration  2  of  10\n",
      "Train Loss:  0.4658112651980297  Train Accuracy:  0.837  Val Loss:  0.4623208238896959 VAl MSE LOSS: 0.2357693160088933  Val Accuracy:  0.8391666666666666\n",
      "Epoch:  3\n",
      "Iteration  3  of  10\n",
      "Train Loss:  0.42266480513532684  Train Accuracy:  0.8503888888888889  Val Loss:  0.4261951591891418 VAl MSE LOSS: 0.21772726431451003  Val Accuracy:  0.8493333333333334\n",
      "Epoch:  4\n",
      "Iteration  4  of  10\n",
      "Train Loss:  0.3965942307799527  Train Accuracy:  0.8590185185185185  Val Loss:  0.40566838438308217 VAl MSE LOSS: 0.20708406127977572  Val Accuracy:  0.8565\n",
      "Epoch:  5\n",
      "Iteration  5  of  10\n",
      "Train Loss:  0.37910619070371276  Train Accuracy:  0.865462962962963  Val Loss:  0.3927976891270994 VAl MSE LOSS: 0.2002294548606851  Val Accuracy:  0.8615\n",
      "Epoch:  6\n",
      "Iteration  6  of  10\n",
      "Train Loss:  0.364944121749157  Train Accuracy:  0.8700925925925926  Val Loss:  0.3827547718924119 VAl MSE LOSS: 0.195622618428518  Val Accuracy:  0.8626666666666667\n",
      "Epoch:  7\n",
      "Iteration  7  of  10\n",
      "Train Loss:  0.353323926306314  Train Accuracy:  0.8740185185185185  Val Loss:  0.3754574847714204 VAl MSE LOSS: 0.19214190019294958  Val Accuracy:  0.8653333333333333\n",
      "Epoch:  8\n",
      "Iteration  8  of  10\n",
      "Train Loss:  0.34346238902650617  Train Accuracy:  0.8777407407407407  Val Loss:  0.3683853835853241 VAl MSE LOSS: 0.18885315947045198  Val Accuracy:  0.8686666666666667\n",
      "Epoch:  9\n",
      "Iteration  9  of  10\n",
      "Train Loss:  0.3347429143402944  Train Accuracy:  0.8802222222222222  Val Loss:  0.36290224967160095 VAl MSE LOSS: 0.1862467125452759  Val Accuracy:  0.8701666666666666\n",
      "Epoch:  10\n",
      "Iteration  10  of  10\n",
      "Train Loss:  0.3254707235923622  Train Accuracy:  0.8832037037037037  Val Loss:  0.35636616518402586 VAl MSE LOSS: 0.18338489677150885  Val Accuracy:  0.8745\n"
     ]
    },
    {
     "data": {
      "text/html": [
       "Waiting for W&B process to finish... <strong style=\"color:green\">(success).</strong>"
      ],
      "text/plain": [
       "<IPython.core.display.HTML object>"
      ]
     },
     "metadata": {},
     "output_type": "display_data"
    },
    {
     "data": {
      "application/vnd.jupyter.widget-view+json": {
       "model_id": "090551be1b4341ce8036bc540dbe48d4",
       "version_major": 2,
       "version_minor": 0
      },
      "text/plain": [
       "VBox(children=(Label(value='0.002 MB of 0.002 MB uploaded (0.000 MB deduped)\\r'), FloatProgress(value=1.0, max…"
      ]
     },
     "metadata": {},
     "output_type": "display_data"
    },
    {
     "data": {
      "text/html": [
       "<style>\n",
       "    table.wandb td:nth-child(1) { padding: 0 10px; text-align: left ; width: auto;} td:nth-child(2) {text-align: left ; width: 100%}\n",
       "    .wandb-row { display: flex; flex-direction: row; flex-wrap: wrap; justify-content: flex-start; width: 100% }\n",
       "    .wandb-col { display: flex; flex-direction: column; flex-basis: 100%; flex: 1; padding: 10px; }\n",
       "    </style>\n",
       "<div class=\"wandb-row\"><div class=\"wandb-col\"><h3>Run history:</h3><br/><table class=\"wandb\"><tr><td>epoch</td><td>▁▂▃▃▄▅▆▆▇█</td></tr><tr><td>train_accuracy</td><td>▁▄▅▆▇▇▇███</td></tr><tr><td>train_loss</td><td>█▅▄▃▂▂▂▁▁▁</td></tr><tr><td>val_accuracy</td><td>▁▄▅▆▇▇▇▇██</td></tr><tr><td>val_loss</td><td>█▄▃▃▂▂▂▁▁▁</td></tr><tr><td>val_mse_loss</td><td>█▄▃▃▂▂▂▁▁▁</td></tr></table><br/></div><div class=\"wandb-col\"><h3>Run summary:</h3><br/><table class=\"wandb\"><tr><td>epoch</td><td>9</td></tr><tr><td>train_accuracy</td><td>0.8832</td></tr><tr><td>train_loss</td><td>0.32547</td></tr><tr><td>val_accuracy</td><td>0.8745</td></tr><tr><td>val_loss</td><td>0.35637</td></tr><tr><td>val_mse_loss</td><td>0.18338</td></tr></table><br/></div></div>"
      ],
      "text/plain": [
       "<IPython.core.display.HTML object>"
      ]
     },
     "metadata": {},
     "output_type": "display_data"
    },
    {
     "data": {
      "text/html": [
       " View run <strong style=\"color:#cdcd00\">dazzling-sweep-37</strong> at: <a href='https://wandb.ai/cs20b075/assignment-1/runs/9ocnt07y' target=\"_blank\">https://wandb.ai/cs20b075/assignment-1/runs/9ocnt07y</a><br/>Synced 5 W&B file(s), 0 media file(s), 0 artifact file(s) and 0 other file(s)"
      ],
      "text/plain": [
       "<IPython.core.display.HTML object>"
      ]
     },
     "metadata": {},
     "output_type": "display_data"
    },
    {
     "data": {
      "text/html": [
       "Find logs at: <code>./wandb/run-20230319_131622-9ocnt07y/logs</code>"
      ],
      "text/plain": [
       "<IPython.core.display.HTML object>"
      ]
     },
     "metadata": {},
     "output_type": "display_data"
    },
    {
     "name": "stderr",
     "output_type": "stream",
     "text": [
      "\u001b[34m\u001b[1mwandb\u001b[0m: Agent Starting Run: f06rojb0 with config:\n",
      "\u001b[34m\u001b[1mwandb\u001b[0m: \tactivation_function: relu\n",
      "\u001b[34m\u001b[1mwandb\u001b[0m: \tbatch: 32\n",
      "\u001b[34m\u001b[1mwandb\u001b[0m: \tepochs: 10\n",
      "\u001b[34m\u001b[1mwandb\u001b[0m: \thidden_layer_size: 32\n",
      "\u001b[34m\u001b[1mwandb\u001b[0m: \tlearning_rate: 0.0001\n",
      "\u001b[34m\u001b[1mwandb\u001b[0m: \tnum_hidden_layers: 2\n",
      "\u001b[34m\u001b[1mwandb\u001b[0m: \toptimizer: rmsprop\n",
      "\u001b[34m\u001b[1mwandb\u001b[0m: \tweight_decay: 0.0005\n",
      "\u001b[34m\u001b[1mwandb\u001b[0m: \tweight_initialisation: xavier\n",
      "Failed to detect the name of this notebook, you can set it manually with the WANDB_NOTEBOOK_NAME environment variable to enable code saving.\n",
      "\u001b[34m\u001b[1mwandb\u001b[0m: \u001b[33mWARNING\u001b[0m Ignored wandb.init() arg project when running a sweep.\n"
     ]
    },
    {
     "data": {
      "text/html": [
       "wandb version 0.14.0 is available!  To upgrade, please run:\n",
       " $ pip install wandb --upgrade"
      ],
      "text/plain": [
       "<IPython.core.display.HTML object>"
      ]
     },
     "metadata": {},
     "output_type": "display_data"
    },
    {
     "data": {
      "text/html": [
       "Tracking run with wandb version 0.13.10"
      ],
      "text/plain": [
       "<IPython.core.display.HTML object>"
      ]
     },
     "metadata": {},
     "output_type": "display_data"
    },
    {
     "data": {
      "text/html": [
       "Run data is saved locally in <code>/home/sooraj/sem/dl/assignment-1/wandb/run-20230319_131701-f06rojb0</code>"
      ],
      "text/plain": [
       "<IPython.core.display.HTML object>"
      ]
     },
     "metadata": {},
     "output_type": "display_data"
    },
    {
     "data": {
      "text/html": [
       "Syncing run <strong><a href='https://wandb.ai/cs20b075/assignment-1/runs/f06rojb0' target=\"_blank\">eternal-sweep-38</a></strong> to <a href='https://wandb.ai/cs20b075/assignment-1' target=\"_blank\">Weights & Biases</a> (<a href='https://wandb.me/run' target=\"_blank\">docs</a>)<br/>Sweep page: <a href='https://wandb.ai/cs20b075/assignment-1/sweeps/byqia87m' target=\"_blank\">https://wandb.ai/cs20b075/assignment-1/sweeps/byqia87m</a>"
      ],
      "text/plain": [
       "<IPython.core.display.HTML object>"
      ]
     },
     "metadata": {},
     "output_type": "display_data"
    },
    {
     "data": {
      "text/html": [
       " View project at <a href='https://wandb.ai/cs20b075/assignment-1' target=\"_blank\">https://wandb.ai/cs20b075/assignment-1</a>"
      ],
      "text/plain": [
       "<IPython.core.display.HTML object>"
      ]
     },
     "metadata": {},
     "output_type": "display_data"
    },
    {
     "data": {
      "text/html": [
       " View sweep at <a href='https://wandb.ai/cs20b075/assignment-1/sweeps/byqia87m' target=\"_blank\">https://wandb.ai/cs20b075/assignment-1/sweeps/byqia87m</a>"
      ],
      "text/plain": [
       "<IPython.core.display.HTML object>"
      ]
     },
     "metadata": {},
     "output_type": "display_data"
    },
    {
     "data": {
      "text/html": [
       " View run at <a href='https://wandb.ai/cs20b075/assignment-1/runs/f06rojb0' target=\"_blank\">https://wandb.ai/cs20b075/assignment-1/runs/f06rojb0</a>"
      ],
      "text/plain": [
       "<IPython.core.display.HTML object>"
      ]
     },
     "metadata": {},
     "output_type": "display_data"
    },
    {
     "name": "stdout",
     "output_type": "stream",
     "text": [
      "Epoch:  1\n",
      "Iteration  1  of  10\n",
      "Train Loss:  0.6456025798931105  Train Accuracy:  0.7771851851851852  Val Loss:  0.6321751293599126 VAl MSE LOSS: 0.31978028477458853  Val Accuracy:  0.778\n",
      "Epoch:  2\n",
      "Iteration  2  of  10\n",
      "Train Loss:  0.5301986822457304  Train Accuracy:  0.819  Val Loss:  0.5183129641907437 VAl MSE LOSS: 0.26226061188781485  Val Accuracy:  0.8205\n",
      "Epoch:  3\n",
      "Iteration  3  of  10\n",
      "Train Loss:  0.4848532836663171  Train Accuracy:  0.8331851851851851  Val Loss:  0.4762326333025854 VAl MSE LOSS: 0.24117338316174472  Val Accuracy:  0.8325\n",
      "Epoch:  4\n",
      "Iteration  4  of  10\n",
      "Train Loss:  0.4590284938182846  Train Accuracy:  0.8411296296296297  Val Loss:  0.45377479757589884 VAl MSE LOSS: 0.22986918324169628  Val Accuracy:  0.8428333333333333\n",
      "Epoch:  5\n",
      "Iteration  5  of  10\n",
      "Train Loss:  0.4416421226607906  Train Accuracy:  0.8465  Val Loss:  0.4395256501004387 VAl MSE LOSS: 0.22275852591979597  Val Accuracy:  0.8455\n",
      "Epoch:  6\n",
      "Iteration  6  of  10\n",
      "Train Loss:  0.4285798391888971  Train Accuracy:  0.850574074074074  Val Loss:  0.4293360442852477 VAl MSE LOSS: 0.21753683847725241  Val Accuracy:  0.8486666666666667\n",
      "Epoch:  7\n",
      "Iteration  7  of  10\n",
      "Train Loss:  0.4176288942743378  Train Accuracy:  0.8546296296296296  Val Loss:  0.42055663650548086 VAl MSE LOSS: 0.21302585924879466  Val Accuracy:  0.8541666666666666\n",
      "Epoch:  8\n",
      "Iteration  8  of  10\n",
      "Train Loss:  0.4083302993678739  Train Accuracy:  0.8582592592592593  Val Loss:  0.41319969633612186 VAl MSE LOSS: 0.20916240878491904  Val Accuracy:  0.8561666666666666\n",
      "Epoch:  9\n",
      "Iteration  9  of  10\n",
      "Train Loss:  0.4005550200930809  Train Accuracy:  0.8603148148148149  Val Loss:  0.4076454636171849 VAl MSE LOSS: 0.2061728321486423  Val Accuracy:  0.8601666666666666\n",
      "Epoch:  10\n",
      "Iteration  10  of  10\n",
      "Train Loss:  0.3937221978414038  Train Accuracy:  0.8628518518518519  Val Loss:  0.4027056438745972 VAl MSE LOSS: 0.2034437867888297  Val Accuracy:  0.8613333333333333\n"
     ]
    },
    {
     "data": {
      "text/html": [
       "Waiting for W&B process to finish... <strong style=\"color:green\">(success).</strong>"
      ],
      "text/plain": [
       "<IPython.core.display.HTML object>"
      ]
     },
     "metadata": {},
     "output_type": "display_data"
    },
    {
     "data": {
      "application/vnd.jupyter.widget-view+json": {
       "model_id": "1f920c7fb39c4a9580259bee64951782",
       "version_major": 2,
       "version_minor": 0
      },
      "text/plain": [
       "VBox(children=(Label(value='0.002 MB of 0.010 MB uploaded (0.000 MB deduped)\\r'), FloatProgress(value=0.172423…"
      ]
     },
     "metadata": {},
     "output_type": "display_data"
    },
    {
     "data": {
      "text/html": [
       "<style>\n",
       "    table.wandb td:nth-child(1) { padding: 0 10px; text-align: left ; width: auto;} td:nth-child(2) {text-align: left ; width: 100%}\n",
       "    .wandb-row { display: flex; flex-direction: row; flex-wrap: wrap; justify-content: flex-start; width: 100% }\n",
       "    .wandb-col { display: flex; flex-direction: column; flex-basis: 100%; flex: 1; padding: 10px; }\n",
       "    </style>\n",
       "<div class=\"wandb-row\"><div class=\"wandb-col\"><h3>Run history:</h3><br/><table class=\"wandb\"><tr><td>epoch</td><td>▁▂▃▃▄▅▆▆▇█</td></tr><tr><td>train_accuracy</td><td>▁▄▆▆▇▇▇███</td></tr><tr><td>train_loss</td><td>█▅▄▃▂▂▂▁▁▁</td></tr><tr><td>val_accuracy</td><td>▁▅▆▆▇▇▇███</td></tr><tr><td>val_loss</td><td>█▅▃▃▂▂▂▁▁▁</td></tr><tr><td>val_mse_loss</td><td>█▅▃▃▂▂▂▁▁▁</td></tr></table><br/></div><div class=\"wandb-col\"><h3>Run summary:</h3><br/><table class=\"wandb\"><tr><td>epoch</td><td>9</td></tr><tr><td>train_accuracy</td><td>0.86285</td></tr><tr><td>train_loss</td><td>0.39372</td></tr><tr><td>val_accuracy</td><td>0.86133</td></tr><tr><td>val_loss</td><td>0.40271</td></tr><tr><td>val_mse_loss</td><td>0.20344</td></tr></table><br/></div></div>"
      ],
      "text/plain": [
       "<IPython.core.display.HTML object>"
      ]
     },
     "metadata": {},
     "output_type": "display_data"
    },
    {
     "data": {
      "text/html": [
       " View run <strong style=\"color:#cdcd00\">eternal-sweep-38</strong> at: <a href='https://wandb.ai/cs20b075/assignment-1/runs/f06rojb0' target=\"_blank\">https://wandb.ai/cs20b075/assignment-1/runs/f06rojb0</a><br/>Synced 5 W&B file(s), 0 media file(s), 0 artifact file(s) and 0 other file(s)"
      ],
      "text/plain": [
       "<IPython.core.display.HTML object>"
      ]
     },
     "metadata": {},
     "output_type": "display_data"
    },
    {
     "data": {
      "text/html": [
       "Find logs at: <code>./wandb/run-20230319_131701-f06rojb0/logs</code>"
      ],
      "text/plain": [
       "<IPython.core.display.HTML object>"
      ]
     },
     "metadata": {},
     "output_type": "display_data"
    },
    {
     "name": "stderr",
     "output_type": "stream",
     "text": [
      "\u001b[34m\u001b[1mwandb\u001b[0m: Agent Starting Run: my071jsk with config:\n",
      "\u001b[34m\u001b[1mwandb\u001b[0m: \tactivation_function: tanh\n",
      "\u001b[34m\u001b[1mwandb\u001b[0m: \tbatch: 64\n",
      "\u001b[34m\u001b[1mwandb\u001b[0m: \tepochs: 10\n",
      "\u001b[34m\u001b[1mwandb\u001b[0m: \thidden_layer_size: 64\n",
      "\u001b[34m\u001b[1mwandb\u001b[0m: \tlearning_rate: 0.0001\n",
      "\u001b[34m\u001b[1mwandb\u001b[0m: \tnum_hidden_layers: 3\n",
      "\u001b[34m\u001b[1mwandb\u001b[0m: \toptimizer: adam\n",
      "\u001b[34m\u001b[1mwandb\u001b[0m: \tweight_decay: 0.0005\n",
      "\u001b[34m\u001b[1mwandb\u001b[0m: \tweight_initialisation: xavier\n",
      "Failed to detect the name of this notebook, you can set it manually with the WANDB_NOTEBOOK_NAME environment variable to enable code saving.\n",
      "\u001b[34m\u001b[1mwandb\u001b[0m: \u001b[33mWARNING\u001b[0m Ignored wandb.init() arg project when running a sweep.\n"
     ]
    },
    {
     "data": {
      "text/html": [
       "wandb version 0.14.0 is available!  To upgrade, please run:\n",
       " $ pip install wandb --upgrade"
      ],
      "text/plain": [
       "<IPython.core.display.HTML object>"
      ]
     },
     "metadata": {},
     "output_type": "display_data"
    },
    {
     "data": {
      "text/html": [
       "Tracking run with wandb version 0.13.10"
      ],
      "text/plain": [
       "<IPython.core.display.HTML object>"
      ]
     },
     "metadata": {},
     "output_type": "display_data"
    },
    {
     "data": {
      "text/html": [
       "Run data is saved locally in <code>/home/sooraj/sem/dl/assignment-1/wandb/run-20230319_131722-my071jsk</code>"
      ],
      "text/plain": [
       "<IPython.core.display.HTML object>"
      ]
     },
     "metadata": {},
     "output_type": "display_data"
    },
    {
     "data": {
      "text/html": [
       "Syncing run <strong><a href='https://wandb.ai/cs20b075/assignment-1/runs/my071jsk' target=\"_blank\">serene-sweep-39</a></strong> to <a href='https://wandb.ai/cs20b075/assignment-1' target=\"_blank\">Weights & Biases</a> (<a href='https://wandb.me/run' target=\"_blank\">docs</a>)<br/>Sweep page: <a href='https://wandb.ai/cs20b075/assignment-1/sweeps/byqia87m' target=\"_blank\">https://wandb.ai/cs20b075/assignment-1/sweeps/byqia87m</a>"
      ],
      "text/plain": [
       "<IPython.core.display.HTML object>"
      ]
     },
     "metadata": {},
     "output_type": "display_data"
    },
    {
     "data": {
      "text/html": [
       " View project at <a href='https://wandb.ai/cs20b075/assignment-1' target=\"_blank\">https://wandb.ai/cs20b075/assignment-1</a>"
      ],
      "text/plain": [
       "<IPython.core.display.HTML object>"
      ]
     },
     "metadata": {},
     "output_type": "display_data"
    },
    {
     "data": {
      "text/html": [
       " View sweep at <a href='https://wandb.ai/cs20b075/assignment-1/sweeps/byqia87m' target=\"_blank\">https://wandb.ai/cs20b075/assignment-1/sweeps/byqia87m</a>"
      ],
      "text/plain": [
       "<IPython.core.display.HTML object>"
      ]
     },
     "metadata": {},
     "output_type": "display_data"
    },
    {
     "data": {
      "text/html": [
       " View run at <a href='https://wandb.ai/cs20b075/assignment-1/runs/my071jsk' target=\"_blank\">https://wandb.ai/cs20b075/assignment-1/runs/my071jsk</a>"
      ],
      "text/plain": [
       "<IPython.core.display.HTML object>"
      ]
     },
     "metadata": {},
     "output_type": "display_data"
    },
    {
     "name": "stdout",
     "output_type": "stream",
     "text": [
      "Epoch:  1\n",
      "Iteration  1  of  10\n",
      "Train Loss:  0.5859305368602025  Train Accuracy:  0.8075  Val Loss:  0.5730376247493799 VAl MSE LOSS: 0.2794664559859312  Val Accuracy:  0.815\n",
      "Epoch:  2\n",
      "Iteration  2  of  10\n",
      "Train Loss:  0.4359372875653467  Train Accuracy:  0.8468333333333333  Val Loss:  0.4268306013210236 VAl MSE LOSS: 0.21570693069969293  Val Accuracy:  0.848\n",
      "Epoch:  3\n",
      "Iteration  3  of  10\n",
      "Train Loss:  0.3941249017043839  Train Accuracy:  0.8595925925925926  Val Loss:  0.39192379853263515 VAl MSE LOSS: 0.19953005614376723  Val Accuracy:  0.8601666666666666\n",
      "Epoch:  4\n",
      "Iteration  4  of  10\n",
      "Train Loss:  0.37094531224723926  Train Accuracy:  0.8675185185185185  Val Loss:  0.37438487771724027 VAl MSE LOSS: 0.19136694555322625  Val Accuracy:  0.8656666666666667\n",
      "Epoch:  5\n",
      "Iteration  5  of  10\n",
      "Train Loss:  0.35451294246093057  Train Accuracy:  0.8727037037037036  Val Loss:  0.36238140165350685 VAl MSE LOSS: 0.1858876150187402  Val Accuracy:  0.8696666666666667\n",
      "Epoch:  6\n",
      "Iteration  6  of  10\n",
      "Train Loss:  0.3412514893205788  Train Accuracy:  0.8771851851851852  Val Loss:  0.35282300676122713 VAl MSE LOSS: 0.1815404923082924  Val Accuracy:  0.8733333333333333\n",
      "Epoch:  7\n",
      "Iteration  7  of  10\n",
      "Train Loss:  0.3298330117756301  Train Accuracy:  0.8812592592592593  Val Loss:  0.3446848311908547 VAl MSE LOSS: 0.1778661826124011  Val Accuracy:  0.8758333333333334\n",
      "Epoch:  8\n",
      "Iteration  8  of  10\n",
      "Train Loss:  0.31969806172382087  Train Accuracy:  0.8850370370370371  Val Loss:  0.3375914602358858 VAl MSE LOSS: 0.1746830595319206  Val Accuracy:  0.8781666666666667\n",
      "Epoch:  9\n",
      "Iteration  9  of  10\n",
      "Train Loss:  0.31057285597848877  Train Accuracy:  0.8885555555555555  Val Loss:  0.3313783304134766 VAl MSE LOSS: 0.17186613081853477  Val Accuracy:  0.8813333333333333\n",
      "Epoch:  10\n",
      "Iteration  10  of  10\n",
      "Train Loss:  0.302287871214423  Train Accuracy:  0.891  Val Loss:  0.32593414406801163 VAl MSE LOSS: 0.16934472683301077  Val Accuracy:  0.8841666666666667\n"
     ]
    },
    {
     "data": {
      "text/html": [
       "Waiting for W&B process to finish... <strong style=\"color:green\">(success).</strong>"
      ],
      "text/plain": [
       "<IPython.core.display.HTML object>"
      ]
     },
     "metadata": {},
     "output_type": "display_data"
    },
    {
     "data": {
      "text/html": [
       "<style>\n",
       "    table.wandb td:nth-child(1) { padding: 0 10px; text-align: left ; width: auto;} td:nth-child(2) {text-align: left ; width: 100%}\n",
       "    .wandb-row { display: flex; flex-direction: row; flex-wrap: wrap; justify-content: flex-start; width: 100% }\n",
       "    .wandb-col { display: flex; flex-direction: column; flex-basis: 100%; flex: 1; padding: 10px; }\n",
       "    </style>\n",
       "<div class=\"wandb-row\"><div class=\"wandb-col\"><h3>Run history:</h3><br/><table class=\"wandb\"><tr><td>epoch</td><td>▁▂▃▃▄▅▆▆▇█</td></tr><tr><td>train_accuracy</td><td>▁▄▅▆▆▇▇███</td></tr><tr><td>train_loss</td><td>█▄▃▃▂▂▂▁▁▁</td></tr><tr><td>val_accuracy</td><td>▁▄▆▆▇▇▇▇██</td></tr><tr><td>val_loss</td><td>█▄▃▂▂▂▂▁▁▁</td></tr><tr><td>val_mse_loss</td><td>█▄▃▂▂▂▂▁▁▁</td></tr></table><br/></div><div class=\"wandb-col\"><h3>Run summary:</h3><br/><table class=\"wandb\"><tr><td>epoch</td><td>9</td></tr><tr><td>train_accuracy</td><td>0.891</td></tr><tr><td>train_loss</td><td>0.30229</td></tr><tr><td>val_accuracy</td><td>0.88417</td></tr><tr><td>val_loss</td><td>0.32593</td></tr><tr><td>val_mse_loss</td><td>0.16934</td></tr></table><br/></div></div>"
      ],
      "text/plain": [
       "<IPython.core.display.HTML object>"
      ]
     },
     "metadata": {},
     "output_type": "display_data"
    },
    {
     "data": {
      "text/html": [
       " View run <strong style=\"color:#cdcd00\">serene-sweep-39</strong> at: <a href='https://wandb.ai/cs20b075/assignment-1/runs/my071jsk' target=\"_blank\">https://wandb.ai/cs20b075/assignment-1/runs/my071jsk</a><br/>Synced 5 W&B file(s), 0 media file(s), 0 artifact file(s) and 0 other file(s)"
      ],
      "text/plain": [
       "<IPython.core.display.HTML object>"
      ]
     },
     "metadata": {},
     "output_type": "display_data"
    },
    {
     "data": {
      "text/html": [
       "Find logs at: <code>./wandb/run-20230319_131722-my071jsk/logs</code>"
      ],
      "text/plain": [
       "<IPython.core.display.HTML object>"
      ]
     },
     "metadata": {},
     "output_type": "display_data"
    },
    {
     "name": "stderr",
     "output_type": "stream",
     "text": [
      "\u001b[34m\u001b[1mwandb\u001b[0m: Agent Starting Run: la6qgamr with config:\n",
      "\u001b[34m\u001b[1mwandb\u001b[0m: \tactivation_function: tanh\n",
      "\u001b[34m\u001b[1mwandb\u001b[0m: \tbatch: 32\n",
      "\u001b[34m\u001b[1mwandb\u001b[0m: \tepochs: 10\n",
      "\u001b[34m\u001b[1mwandb\u001b[0m: \thidden_layer_size: 64\n",
      "\u001b[34m\u001b[1mwandb\u001b[0m: \tlearning_rate: 0.0001\n",
      "\u001b[34m\u001b[1mwandb\u001b[0m: \tnum_hidden_layers: 2\n",
      "\u001b[34m\u001b[1mwandb\u001b[0m: \toptimizer: nadam\n",
      "\u001b[34m\u001b[1mwandb\u001b[0m: \tweight_decay: 0.05\n",
      "\u001b[34m\u001b[1mwandb\u001b[0m: \tweight_initialisation: xavier\n",
      "Failed to detect the name of this notebook, you can set it manually with the WANDB_NOTEBOOK_NAME environment variable to enable code saving.\n",
      "\u001b[34m\u001b[1mwandb\u001b[0m: \u001b[33mWARNING\u001b[0m Ignored wandb.init() arg project when running a sweep.\n"
     ]
    },
    {
     "data": {
      "text/html": [
       "wandb version 0.14.0 is available!  To upgrade, please run:\n",
       " $ pip install wandb --upgrade"
      ],
      "text/plain": [
       "<IPython.core.display.HTML object>"
      ]
     },
     "metadata": {},
     "output_type": "display_data"
    },
    {
     "data": {
      "text/html": [
       "Tracking run with wandb version 0.13.10"
      ],
      "text/plain": [
       "<IPython.core.display.HTML object>"
      ]
     },
     "metadata": {},
     "output_type": "display_data"
    },
    {
     "data": {
      "text/html": [
       "Run data is saved locally in <code>/home/sooraj/sem/dl/assignment-1/wandb/run-20230319_131806-la6qgamr</code>"
      ],
      "text/plain": [
       "<IPython.core.display.HTML object>"
      ]
     },
     "metadata": {},
     "output_type": "display_data"
    },
    {
     "data": {
      "text/html": [
       "Syncing run <strong><a href='https://wandb.ai/cs20b075/assignment-1/runs/la6qgamr' target=\"_blank\">gentle-sweep-40</a></strong> to <a href='https://wandb.ai/cs20b075/assignment-1' target=\"_blank\">Weights & Biases</a> (<a href='https://wandb.me/run' target=\"_blank\">docs</a>)<br/>Sweep page: <a href='https://wandb.ai/cs20b075/assignment-1/sweeps/byqia87m' target=\"_blank\">https://wandb.ai/cs20b075/assignment-1/sweeps/byqia87m</a>"
      ],
      "text/plain": [
       "<IPython.core.display.HTML object>"
      ]
     },
     "metadata": {},
     "output_type": "display_data"
    },
    {
     "data": {
      "text/html": [
       " View project at <a href='https://wandb.ai/cs20b075/assignment-1' target=\"_blank\">https://wandb.ai/cs20b075/assignment-1</a>"
      ],
      "text/plain": [
       "<IPython.core.display.HTML object>"
      ]
     },
     "metadata": {},
     "output_type": "display_data"
    },
    {
     "data": {
      "text/html": [
       " View sweep at <a href='https://wandb.ai/cs20b075/assignment-1/sweeps/byqia87m' target=\"_blank\">https://wandb.ai/cs20b075/assignment-1/sweeps/byqia87m</a>"
      ],
      "text/plain": [
       "<IPython.core.display.HTML object>"
      ]
     },
     "metadata": {},
     "output_type": "display_data"
    },
    {
     "data": {
      "text/html": [
       " View run at <a href='https://wandb.ai/cs20b075/assignment-1/runs/la6qgamr' target=\"_blank\">https://wandb.ai/cs20b075/assignment-1/runs/la6qgamr</a>"
      ],
      "text/plain": [
       "<IPython.core.display.HTML object>"
      ]
     },
     "metadata": {},
     "output_type": "display_data"
    },
    {
     "name": "stdout",
     "output_type": "stream",
     "text": [
      "Epoch:  1\n",
      "Iteration  1  of  10\n",
      "Train Loss:  0.5439084642644384  Train Accuracy:  0.8166666666666667  Val Loss:  0.5313919211268948 VAl MSE LOSS: 0.26291821266044957  Val Accuracy:  0.8201666666666667\n",
      "Epoch:  2\n",
      "Iteration  2  of  10\n",
      "Train Loss:  0.4352297743224541  Train Accuracy:  0.8468518518518519  Val Loss:  0.4291113394894258 VAl MSE LOSS: 0.21733752157014669  Val Accuracy:  0.8478333333333333\n",
      "Epoch:  3\n",
      "Iteration  3  of  10\n",
      "Train Loss:  0.4015597563700619  Train Accuracy:  0.8569814814814815  Val Loss:  0.40227220584936063 VAl MSE LOSS: 0.2047957496790581  Val Accuracy:  0.8566666666666667\n",
      "Epoch:  4\n",
      "Iteration  4  of  10\n",
      "Train Loss:  0.38265427450379186  Train Accuracy:  0.863574074074074  Val Loss:  0.3886438687135193 VAl MSE LOSS: 0.1981608106494372  Val Accuracy:  0.8635\n",
      "Epoch:  5\n",
      "Iteration  5  of  10\n",
      "Train Loss:  0.36946560580868076  Train Accuracy:  0.8678148148148148  Val Loss:  0.3794583192339143 VAl MSE LOSS: 0.1935872624586119  Val Accuracy:  0.8661666666666666\n",
      "Epoch:  6\n",
      "Iteration  6  of  10\n",
      "Train Loss:  0.35936415216329987  Train Accuracy:  0.872  Val Loss:  0.3724879674510254 VAl MSE LOSS: 0.19010385047031153  Val Accuracy:  0.8695\n",
      "Epoch:  7\n",
      "Iteration  7  of  10\n",
      "Train Loss:  0.3512596991145741  Train Accuracy:  0.8749074074074074  Val Loss:  0.36688373123562285 VAl MSE LOSS: 0.18734408113795034  Val Accuracy:  0.8698333333333333\n",
      "Epoch:  8\n",
      "Iteration  8  of  10\n",
      "Train Loss:  0.34460258412980405  Train Accuracy:  0.8773888888888889  Val Loss:  0.36228350941324666 VAl MSE LOSS: 0.18512836437558042  Val Accuracy:  0.8708333333333333\n",
      "Epoch:  9\n",
      "Iteration  9  of  10\n",
      "Train Loss:  0.33900230616827204  Train Accuracy:  0.8792777777777778  Val Loss:  0.3584158164221218 VAl MSE LOSS: 0.18330809032351764  Val Accuracy:  0.8726666666666667\n",
      "Epoch:  10\n",
      "Iteration  10  of  10\n",
      "Train Loss:  0.33419820184748056  Train Accuracy:  0.881  Val Loss:  0.35511724441777026 VAl MSE LOSS: 0.18178252358647964  Val Accuracy:  0.8738333333333334\n"
     ]
    },
    {
     "data": {
      "text/html": [
       "Waiting for W&B process to finish... <strong style=\"color:green\">(success).</strong>"
      ],
      "text/plain": [
       "<IPython.core.display.HTML object>"
      ]
     },
     "metadata": {},
     "output_type": "display_data"
    },
    {
     "data": {
      "application/vnd.jupyter.widget-view+json": {
       "model_id": "289bf81b45f04cacb6ecbfe85c3864a1",
       "version_major": 2,
       "version_minor": 0
      },
      "text/plain": [
       "VBox(children=(Label(value='0.002 MB of 0.010 MB uploaded (0.000 MB deduped)\\r'), FloatProgress(value=0.199171…"
      ]
     },
     "metadata": {},
     "output_type": "display_data"
    },
    {
     "data": {
      "text/html": [
       "<style>\n",
       "    table.wandb td:nth-child(1) { padding: 0 10px; text-align: left ; width: auto;} td:nth-child(2) {text-align: left ; width: 100%}\n",
       "    .wandb-row { display: flex; flex-direction: row; flex-wrap: wrap; justify-content: flex-start; width: 100% }\n",
       "    .wandb-col { display: flex; flex-direction: column; flex-basis: 100%; flex: 1; padding: 10px; }\n",
       "    </style>\n",
       "<div class=\"wandb-row\"><div class=\"wandb-col\"><h3>Run history:</h3><br/><table class=\"wandb\"><tr><td>epoch</td><td>▁▂▃▃▄▅▆▆▇█</td></tr><tr><td>train_accuracy</td><td>▁▄▅▆▇▇▇███</td></tr><tr><td>train_loss</td><td>█▄▃▃▂▂▂▁▁▁</td></tr><tr><td>val_accuracy</td><td>▁▅▆▇▇▇▇███</td></tr><tr><td>val_loss</td><td>█▄▃▂▂▂▁▁▁▁</td></tr><tr><td>val_mse_loss</td><td>█▄▃▂▂▂▁▁▁▁</td></tr></table><br/></div><div class=\"wandb-col\"><h3>Run summary:</h3><br/><table class=\"wandb\"><tr><td>epoch</td><td>9</td></tr><tr><td>train_accuracy</td><td>0.881</td></tr><tr><td>train_loss</td><td>0.3342</td></tr><tr><td>val_accuracy</td><td>0.87383</td></tr><tr><td>val_loss</td><td>0.35512</td></tr><tr><td>val_mse_loss</td><td>0.18178</td></tr></table><br/></div></div>"
      ],
      "text/plain": [
       "<IPython.core.display.HTML object>"
      ]
     },
     "metadata": {},
     "output_type": "display_data"
    },
    {
     "data": {
      "text/html": [
       " View run <strong style=\"color:#cdcd00\">gentle-sweep-40</strong> at: <a href='https://wandb.ai/cs20b075/assignment-1/runs/la6qgamr' target=\"_blank\">https://wandb.ai/cs20b075/assignment-1/runs/la6qgamr</a><br/>Synced 5 W&B file(s), 0 media file(s), 0 artifact file(s) and 0 other file(s)"
      ],
      "text/plain": [
       "<IPython.core.display.HTML object>"
      ]
     },
     "metadata": {},
     "output_type": "display_data"
    },
    {
     "data": {
      "text/html": [
       "Find logs at: <code>./wandb/run-20230319_131806-la6qgamr/logs</code>"
      ],
      "text/plain": [
       "<IPython.core.display.HTML object>"
      ]
     },
     "metadata": {},
     "output_type": "display_data"
    }
   ],
   "source": [
    "wandb.agent(sweep_id=\"byqia87m\", function=wandb_sweep, count=30)"
   ]
  },
  {
   "attachments": {},
   "cell_type": "markdown",
   "metadata": {},
   "source": [
    "# Test data\n",
    "\n",
    "We now run the best model found so far on the test data."
   ]
  },
  {
   "cell_type": "code",
   "execution_count": 10,
   "metadata": {},
   "outputs": [
    {
     "name": "stdout",
     "output_type": "stream",
     "text": [
      "Iteration:  0\n",
      "Loss:  0.4689862359602879\n",
      "Iteration:  1\n",
      "Loss:  0.3894605208500243\n",
      "Iteration:  2\n",
      "Loss:  0.35557853413998963\n",
      "Iteration:  3\n",
      "Loss:  0.3347287340860165\n",
      "Iteration:  4\n",
      "Loss:  0.31965380702342455\n",
      "Iteration:  5\n",
      "Loss:  0.30757471486695254\n",
      "Iteration:  6\n",
      "Loss:  0.297276449017274\n",
      "Iteration:  7\n",
      "Loss:  0.28824613184696074\n",
      "Iteration:  8\n",
      "Loss:  0.2801725908918954\n",
      "Iteration:  9\n",
      "Loss:  0.27282708669885664\n",
      "Test data accuracy: 0.8754\n"
     ]
    }
   ],
   "source": [
    "# Running the best model on the test data\n",
    "# 128 nodes in 4 hidden layers with tanh and xavier and weight decay as 0\n",
    "# Using NAdam as the optimizer\n",
    "nn = feedforwardnn.FeedforwardNN(784, 10, [128]*4, \"tanh\", \"xavier\", 0, \"cross_entropy\")\n",
    "opt = feedforwardnn.NAdam(nn.get_params(), 0.0001)\n",
    "nn.fit(x_train, y_train, 10, 64, opt)\n",
    "y_test_pred = nn.predict(x_test)\n",
    "print(\"Test data accuracy:\", nn.accuracy(y_test, y_test_pred))"
   ]
  },
  {
   "cell_type": "code",
   "execution_count": 11,
   "metadata": {},
   "outputs": [],
   "source": [
    "confusion_matrix = np.zeros((10, 10))\n",
    "for i in range(y_test.shape[0]):\n",
    "    confusion_matrix[np.argmax(y_test_pred[i])][np.argmax(y_test[i])] += 1\n",
    "y_test_label = np.argmax(y_test, axis=1)\n",
    "for i in range(10):\n",
    "    confusion_matrix[i] /= (y_test_label == i).sum()"
   ]
  },
  {
   "cell_type": "code",
   "execution_count": 21,
   "metadata": {},
   "outputs": [
    {
     "data": {
      "application/vnd.plotly.v1+json": {
       "config": {
        "plotlyServerURL": "https://plot.ly"
       },
       "data": [
        {
         "colorscale": [
          [
           0,
           "#440154"
          ],
          [
           0.1111111111111111,
           "#482878"
          ],
          [
           0.2222222222222222,
           "#3e4989"
          ],
          [
           0.3333333333333333,
           "#31688e"
          ],
          [
           0.4444444444444444,
           "#26828e"
          ],
          [
           0.5555555555555556,
           "#1f9e89"
          ],
          [
           0.6666666666666666,
           "#35b779"
          ],
          [
           0.7777777777777778,
           "#6ece58"
          ],
          [
           0.8888888888888888,
           "#b5de2b"
          ],
          [
           1,
           "#fde725"
          ]
         ],
         "reversescale": false,
         "showscale": true,
         "type": "heatmap",
         "x": [
          "Top",
          "Trouser",
          "Pullover",
          "Dress",
          "Coat",
          "Sandal",
          "Shirt",
          "Sneaker",
          "Bag",
          "Ankle Boot"
         ],
         "y": [
          "Top",
          "Trouser",
          "Pullover",
          "Dress",
          "Coat",
          "Sandal",
          "Shirt",
          "Sneaker",
          "Bag",
          "Ankle Boot"
         ],
         "z": [
          [
           0.882,
           0.005,
           0.017,
           0.035,
           0,
           0.001,
           0.17,
           0,
           0.004,
           0
          ],
          [
           0.001,
           0.965,
           0,
           0.008,
           0,
           0,
           0.001,
           0,
           0.001,
           0
          ],
          [
           0.01,
           0,
           0.813,
           0.011,
           0.126,
           0,
           0.08,
           0,
           0.001,
           0
          ],
          [
           0.023,
           0.023,
           0.015,
           0.884,
           0.034,
           0.001,
           0.031,
           0,
           0.004,
           0
          ],
          [
           0.003,
           0.003,
           0.072,
           0.035,
           0.75,
           0,
           0.051,
           0,
           0.005,
           0
          ],
          [
           0.001,
           0,
           0,
           0.001,
           0,
           0.949,
           0,
           0.032,
           0.002,
           0.017
          ],
          [
           0.07,
           0.004,
           0.079,
           0.021,
           0.084,
           0,
           0.658,
           0,
           0.004,
           0.001
          ],
          [
           0,
           0,
           0,
           0,
           0,
           0.036,
           0,
           0.957,
           0.003,
           0.062
          ],
          [
           0.01,
           0,
           0.004,
           0.005,
           0.006,
           0.003,
           0.009,
           0,
           0.976,
           0
          ],
          [
           0,
           0,
           0,
           0,
           0,
           0.01,
           0,
           0.011,
           0,
           0.92
          ]
         ]
        }
       ],
       "layout": {
        "annotations": [
         {
          "font": {
           "color": "#000000"
          },
          "showarrow": false,
          "text": "0.882",
          "x": "Top",
          "xref": "x",
          "y": "Top",
          "yref": "y"
         },
         {
          "font": {
           "color": "#FFFFFF"
          },
          "showarrow": false,
          "text": "0.005",
          "x": "Trouser",
          "xref": "x",
          "y": "Top",
          "yref": "y"
         },
         {
          "font": {
           "color": "#FFFFFF"
          },
          "showarrow": false,
          "text": "0.017",
          "x": "Pullover",
          "xref": "x",
          "y": "Top",
          "yref": "y"
         },
         {
          "font": {
           "color": "#FFFFFF"
          },
          "showarrow": false,
          "text": "0.035",
          "x": "Dress",
          "xref": "x",
          "y": "Top",
          "yref": "y"
         },
         {
          "font": {
           "color": "#FFFFFF"
          },
          "showarrow": false,
          "text": "0.0",
          "x": "Coat",
          "xref": "x",
          "y": "Top",
          "yref": "y"
         },
         {
          "font": {
           "color": "#FFFFFF"
          },
          "showarrow": false,
          "text": "0.001",
          "x": "Sandal",
          "xref": "x",
          "y": "Top",
          "yref": "y"
         },
         {
          "font": {
           "color": "#FFFFFF"
          },
          "showarrow": false,
          "text": "0.17",
          "x": "Shirt",
          "xref": "x",
          "y": "Top",
          "yref": "y"
         },
         {
          "font": {
           "color": "#FFFFFF"
          },
          "showarrow": false,
          "text": "0.0",
          "x": "Sneaker",
          "xref": "x",
          "y": "Top",
          "yref": "y"
         },
         {
          "font": {
           "color": "#FFFFFF"
          },
          "showarrow": false,
          "text": "0.004",
          "x": "Bag",
          "xref": "x",
          "y": "Top",
          "yref": "y"
         },
         {
          "font": {
           "color": "#FFFFFF"
          },
          "showarrow": false,
          "text": "0.0",
          "x": "Ankle Boot",
          "xref": "x",
          "y": "Top",
          "yref": "y"
         },
         {
          "font": {
           "color": "#FFFFFF"
          },
          "showarrow": false,
          "text": "0.001",
          "x": "Top",
          "xref": "x",
          "y": "Trouser",
          "yref": "y"
         },
         {
          "font": {
           "color": "#000000"
          },
          "showarrow": false,
          "text": "0.965",
          "x": "Trouser",
          "xref": "x",
          "y": "Trouser",
          "yref": "y"
         },
         {
          "font": {
           "color": "#FFFFFF"
          },
          "showarrow": false,
          "text": "0.0",
          "x": "Pullover",
          "xref": "x",
          "y": "Trouser",
          "yref": "y"
         },
         {
          "font": {
           "color": "#FFFFFF"
          },
          "showarrow": false,
          "text": "0.008",
          "x": "Dress",
          "xref": "x",
          "y": "Trouser",
          "yref": "y"
         },
         {
          "font": {
           "color": "#FFFFFF"
          },
          "showarrow": false,
          "text": "0.0",
          "x": "Coat",
          "xref": "x",
          "y": "Trouser",
          "yref": "y"
         },
         {
          "font": {
           "color": "#FFFFFF"
          },
          "showarrow": false,
          "text": "0.0",
          "x": "Sandal",
          "xref": "x",
          "y": "Trouser",
          "yref": "y"
         },
         {
          "font": {
           "color": "#FFFFFF"
          },
          "showarrow": false,
          "text": "0.001",
          "x": "Shirt",
          "xref": "x",
          "y": "Trouser",
          "yref": "y"
         },
         {
          "font": {
           "color": "#FFFFFF"
          },
          "showarrow": false,
          "text": "0.0",
          "x": "Sneaker",
          "xref": "x",
          "y": "Trouser",
          "yref": "y"
         },
         {
          "font": {
           "color": "#FFFFFF"
          },
          "showarrow": false,
          "text": "0.001",
          "x": "Bag",
          "xref": "x",
          "y": "Trouser",
          "yref": "y"
         },
         {
          "font": {
           "color": "#FFFFFF"
          },
          "showarrow": false,
          "text": "0.0",
          "x": "Ankle Boot",
          "xref": "x",
          "y": "Trouser",
          "yref": "y"
         },
         {
          "font": {
           "color": "#FFFFFF"
          },
          "showarrow": false,
          "text": "0.01",
          "x": "Top",
          "xref": "x",
          "y": "Pullover",
          "yref": "y"
         },
         {
          "font": {
           "color": "#FFFFFF"
          },
          "showarrow": false,
          "text": "0.0",
          "x": "Trouser",
          "xref": "x",
          "y": "Pullover",
          "yref": "y"
         },
         {
          "font": {
           "color": "#000000"
          },
          "showarrow": false,
          "text": "0.813",
          "x": "Pullover",
          "xref": "x",
          "y": "Pullover",
          "yref": "y"
         },
         {
          "font": {
           "color": "#FFFFFF"
          },
          "showarrow": false,
          "text": "0.011",
          "x": "Dress",
          "xref": "x",
          "y": "Pullover",
          "yref": "y"
         },
         {
          "font": {
           "color": "#FFFFFF"
          },
          "showarrow": false,
          "text": "0.126",
          "x": "Coat",
          "xref": "x",
          "y": "Pullover",
          "yref": "y"
         },
         {
          "font": {
           "color": "#FFFFFF"
          },
          "showarrow": false,
          "text": "0.0",
          "x": "Sandal",
          "xref": "x",
          "y": "Pullover",
          "yref": "y"
         },
         {
          "font": {
           "color": "#FFFFFF"
          },
          "showarrow": false,
          "text": "0.08",
          "x": "Shirt",
          "xref": "x",
          "y": "Pullover",
          "yref": "y"
         },
         {
          "font": {
           "color": "#FFFFFF"
          },
          "showarrow": false,
          "text": "0.0",
          "x": "Sneaker",
          "xref": "x",
          "y": "Pullover",
          "yref": "y"
         },
         {
          "font": {
           "color": "#FFFFFF"
          },
          "showarrow": false,
          "text": "0.001",
          "x": "Bag",
          "xref": "x",
          "y": "Pullover",
          "yref": "y"
         },
         {
          "font": {
           "color": "#FFFFFF"
          },
          "showarrow": false,
          "text": "0.0",
          "x": "Ankle Boot",
          "xref": "x",
          "y": "Pullover",
          "yref": "y"
         },
         {
          "font": {
           "color": "#FFFFFF"
          },
          "showarrow": false,
          "text": "0.023",
          "x": "Top",
          "xref": "x",
          "y": "Dress",
          "yref": "y"
         },
         {
          "font": {
           "color": "#FFFFFF"
          },
          "showarrow": false,
          "text": "0.023",
          "x": "Trouser",
          "xref": "x",
          "y": "Dress",
          "yref": "y"
         },
         {
          "font": {
           "color": "#FFFFFF"
          },
          "showarrow": false,
          "text": "0.015",
          "x": "Pullover",
          "xref": "x",
          "y": "Dress",
          "yref": "y"
         },
         {
          "font": {
           "color": "#000000"
          },
          "showarrow": false,
          "text": "0.884",
          "x": "Dress",
          "xref": "x",
          "y": "Dress",
          "yref": "y"
         },
         {
          "font": {
           "color": "#FFFFFF"
          },
          "showarrow": false,
          "text": "0.034",
          "x": "Coat",
          "xref": "x",
          "y": "Dress",
          "yref": "y"
         },
         {
          "font": {
           "color": "#FFFFFF"
          },
          "showarrow": false,
          "text": "0.001",
          "x": "Sandal",
          "xref": "x",
          "y": "Dress",
          "yref": "y"
         },
         {
          "font": {
           "color": "#FFFFFF"
          },
          "showarrow": false,
          "text": "0.031",
          "x": "Shirt",
          "xref": "x",
          "y": "Dress",
          "yref": "y"
         },
         {
          "font": {
           "color": "#FFFFFF"
          },
          "showarrow": false,
          "text": "0.0",
          "x": "Sneaker",
          "xref": "x",
          "y": "Dress",
          "yref": "y"
         },
         {
          "font": {
           "color": "#FFFFFF"
          },
          "showarrow": false,
          "text": "0.004",
          "x": "Bag",
          "xref": "x",
          "y": "Dress",
          "yref": "y"
         },
         {
          "font": {
           "color": "#FFFFFF"
          },
          "showarrow": false,
          "text": "0.0",
          "x": "Ankle Boot",
          "xref": "x",
          "y": "Dress",
          "yref": "y"
         },
         {
          "font": {
           "color": "#FFFFFF"
          },
          "showarrow": false,
          "text": "0.003",
          "x": "Top",
          "xref": "x",
          "y": "Coat",
          "yref": "y"
         },
         {
          "font": {
           "color": "#FFFFFF"
          },
          "showarrow": false,
          "text": "0.003",
          "x": "Trouser",
          "xref": "x",
          "y": "Coat",
          "yref": "y"
         },
         {
          "font": {
           "color": "#FFFFFF"
          },
          "showarrow": false,
          "text": "0.072",
          "x": "Pullover",
          "xref": "x",
          "y": "Coat",
          "yref": "y"
         },
         {
          "font": {
           "color": "#FFFFFF"
          },
          "showarrow": false,
          "text": "0.035",
          "x": "Dress",
          "xref": "x",
          "y": "Coat",
          "yref": "y"
         },
         {
          "font": {
           "color": "#000000"
          },
          "showarrow": false,
          "text": "0.75",
          "x": "Coat",
          "xref": "x",
          "y": "Coat",
          "yref": "y"
         },
         {
          "font": {
           "color": "#FFFFFF"
          },
          "showarrow": false,
          "text": "0.0",
          "x": "Sandal",
          "xref": "x",
          "y": "Coat",
          "yref": "y"
         },
         {
          "font": {
           "color": "#FFFFFF"
          },
          "showarrow": false,
          "text": "0.051",
          "x": "Shirt",
          "xref": "x",
          "y": "Coat",
          "yref": "y"
         },
         {
          "font": {
           "color": "#FFFFFF"
          },
          "showarrow": false,
          "text": "0.0",
          "x": "Sneaker",
          "xref": "x",
          "y": "Coat",
          "yref": "y"
         },
         {
          "font": {
           "color": "#FFFFFF"
          },
          "showarrow": false,
          "text": "0.005",
          "x": "Bag",
          "xref": "x",
          "y": "Coat",
          "yref": "y"
         },
         {
          "font": {
           "color": "#FFFFFF"
          },
          "showarrow": false,
          "text": "0.0",
          "x": "Ankle Boot",
          "xref": "x",
          "y": "Coat",
          "yref": "y"
         },
         {
          "font": {
           "color": "#FFFFFF"
          },
          "showarrow": false,
          "text": "0.001",
          "x": "Top",
          "xref": "x",
          "y": "Sandal",
          "yref": "y"
         },
         {
          "font": {
           "color": "#FFFFFF"
          },
          "showarrow": false,
          "text": "0.0",
          "x": "Trouser",
          "xref": "x",
          "y": "Sandal",
          "yref": "y"
         },
         {
          "font": {
           "color": "#FFFFFF"
          },
          "showarrow": false,
          "text": "0.0",
          "x": "Pullover",
          "xref": "x",
          "y": "Sandal",
          "yref": "y"
         },
         {
          "font": {
           "color": "#FFFFFF"
          },
          "showarrow": false,
          "text": "0.001",
          "x": "Dress",
          "xref": "x",
          "y": "Sandal",
          "yref": "y"
         },
         {
          "font": {
           "color": "#FFFFFF"
          },
          "showarrow": false,
          "text": "0.0",
          "x": "Coat",
          "xref": "x",
          "y": "Sandal",
          "yref": "y"
         },
         {
          "font": {
           "color": "#000000"
          },
          "showarrow": false,
          "text": "0.949",
          "x": "Sandal",
          "xref": "x",
          "y": "Sandal",
          "yref": "y"
         },
         {
          "font": {
           "color": "#FFFFFF"
          },
          "showarrow": false,
          "text": "0.0",
          "x": "Shirt",
          "xref": "x",
          "y": "Sandal",
          "yref": "y"
         },
         {
          "font": {
           "color": "#FFFFFF"
          },
          "showarrow": false,
          "text": "0.032",
          "x": "Sneaker",
          "xref": "x",
          "y": "Sandal",
          "yref": "y"
         },
         {
          "font": {
           "color": "#FFFFFF"
          },
          "showarrow": false,
          "text": "0.002",
          "x": "Bag",
          "xref": "x",
          "y": "Sandal",
          "yref": "y"
         },
         {
          "font": {
           "color": "#FFFFFF"
          },
          "showarrow": false,
          "text": "0.017",
          "x": "Ankle Boot",
          "xref": "x",
          "y": "Sandal",
          "yref": "y"
         },
         {
          "font": {
           "color": "#FFFFFF"
          },
          "showarrow": false,
          "text": "0.07",
          "x": "Top",
          "xref": "x",
          "y": "Shirt",
          "yref": "y"
         },
         {
          "font": {
           "color": "#FFFFFF"
          },
          "showarrow": false,
          "text": "0.004",
          "x": "Trouser",
          "xref": "x",
          "y": "Shirt",
          "yref": "y"
         },
         {
          "font": {
           "color": "#FFFFFF"
          },
          "showarrow": false,
          "text": "0.079",
          "x": "Pullover",
          "xref": "x",
          "y": "Shirt",
          "yref": "y"
         },
         {
          "font": {
           "color": "#FFFFFF"
          },
          "showarrow": false,
          "text": "0.021",
          "x": "Dress",
          "xref": "x",
          "y": "Shirt",
          "yref": "y"
         },
         {
          "font": {
           "color": "#FFFFFF"
          },
          "showarrow": false,
          "text": "0.084",
          "x": "Coat",
          "xref": "x",
          "y": "Shirt",
          "yref": "y"
         },
         {
          "font": {
           "color": "#FFFFFF"
          },
          "showarrow": false,
          "text": "0.0",
          "x": "Sandal",
          "xref": "x",
          "y": "Shirt",
          "yref": "y"
         },
         {
          "font": {
           "color": "#000000"
          },
          "showarrow": false,
          "text": "0.658",
          "x": "Shirt",
          "xref": "x",
          "y": "Shirt",
          "yref": "y"
         },
         {
          "font": {
           "color": "#FFFFFF"
          },
          "showarrow": false,
          "text": "0.0",
          "x": "Sneaker",
          "xref": "x",
          "y": "Shirt",
          "yref": "y"
         },
         {
          "font": {
           "color": "#FFFFFF"
          },
          "showarrow": false,
          "text": "0.004",
          "x": "Bag",
          "xref": "x",
          "y": "Shirt",
          "yref": "y"
         },
         {
          "font": {
           "color": "#FFFFFF"
          },
          "showarrow": false,
          "text": "0.001",
          "x": "Ankle Boot",
          "xref": "x",
          "y": "Shirt",
          "yref": "y"
         },
         {
          "font": {
           "color": "#FFFFFF"
          },
          "showarrow": false,
          "text": "0.0",
          "x": "Top",
          "xref": "x",
          "y": "Sneaker",
          "yref": "y"
         },
         {
          "font": {
           "color": "#FFFFFF"
          },
          "showarrow": false,
          "text": "0.0",
          "x": "Trouser",
          "xref": "x",
          "y": "Sneaker",
          "yref": "y"
         },
         {
          "font": {
           "color": "#FFFFFF"
          },
          "showarrow": false,
          "text": "0.0",
          "x": "Pullover",
          "xref": "x",
          "y": "Sneaker",
          "yref": "y"
         },
         {
          "font": {
           "color": "#FFFFFF"
          },
          "showarrow": false,
          "text": "0.0",
          "x": "Dress",
          "xref": "x",
          "y": "Sneaker",
          "yref": "y"
         },
         {
          "font": {
           "color": "#FFFFFF"
          },
          "showarrow": false,
          "text": "0.0",
          "x": "Coat",
          "xref": "x",
          "y": "Sneaker",
          "yref": "y"
         },
         {
          "font": {
           "color": "#FFFFFF"
          },
          "showarrow": false,
          "text": "0.036",
          "x": "Sandal",
          "xref": "x",
          "y": "Sneaker",
          "yref": "y"
         },
         {
          "font": {
           "color": "#FFFFFF"
          },
          "showarrow": false,
          "text": "0.0",
          "x": "Shirt",
          "xref": "x",
          "y": "Sneaker",
          "yref": "y"
         },
         {
          "font": {
           "color": "#000000"
          },
          "showarrow": false,
          "text": "0.957",
          "x": "Sneaker",
          "xref": "x",
          "y": "Sneaker",
          "yref": "y"
         },
         {
          "font": {
           "color": "#FFFFFF"
          },
          "showarrow": false,
          "text": "0.003",
          "x": "Bag",
          "xref": "x",
          "y": "Sneaker",
          "yref": "y"
         },
         {
          "font": {
           "color": "#FFFFFF"
          },
          "showarrow": false,
          "text": "0.062",
          "x": "Ankle Boot",
          "xref": "x",
          "y": "Sneaker",
          "yref": "y"
         },
         {
          "font": {
           "color": "#FFFFFF"
          },
          "showarrow": false,
          "text": "0.01",
          "x": "Top",
          "xref": "x",
          "y": "Bag",
          "yref": "y"
         },
         {
          "font": {
           "color": "#FFFFFF"
          },
          "showarrow": false,
          "text": "0.0",
          "x": "Trouser",
          "xref": "x",
          "y": "Bag",
          "yref": "y"
         },
         {
          "font": {
           "color": "#FFFFFF"
          },
          "showarrow": false,
          "text": "0.004",
          "x": "Pullover",
          "xref": "x",
          "y": "Bag",
          "yref": "y"
         },
         {
          "font": {
           "color": "#FFFFFF"
          },
          "showarrow": false,
          "text": "0.005",
          "x": "Dress",
          "xref": "x",
          "y": "Bag",
          "yref": "y"
         },
         {
          "font": {
           "color": "#FFFFFF"
          },
          "showarrow": false,
          "text": "0.006",
          "x": "Coat",
          "xref": "x",
          "y": "Bag",
          "yref": "y"
         },
         {
          "font": {
           "color": "#FFFFFF"
          },
          "showarrow": false,
          "text": "0.003",
          "x": "Sandal",
          "xref": "x",
          "y": "Bag",
          "yref": "y"
         },
         {
          "font": {
           "color": "#FFFFFF"
          },
          "showarrow": false,
          "text": "0.009",
          "x": "Shirt",
          "xref": "x",
          "y": "Bag",
          "yref": "y"
         },
         {
          "font": {
           "color": "#FFFFFF"
          },
          "showarrow": false,
          "text": "0.0",
          "x": "Sneaker",
          "xref": "x",
          "y": "Bag",
          "yref": "y"
         },
         {
          "font": {
           "color": "#000000"
          },
          "showarrow": false,
          "text": "0.976",
          "x": "Bag",
          "xref": "x",
          "y": "Bag",
          "yref": "y"
         },
         {
          "font": {
           "color": "#FFFFFF"
          },
          "showarrow": false,
          "text": "0.0",
          "x": "Ankle Boot",
          "xref": "x",
          "y": "Bag",
          "yref": "y"
         },
         {
          "font": {
           "color": "#FFFFFF"
          },
          "showarrow": false,
          "text": "0.0",
          "x": "Top",
          "xref": "x",
          "y": "Ankle Boot",
          "yref": "y"
         },
         {
          "font": {
           "color": "#FFFFFF"
          },
          "showarrow": false,
          "text": "0.0",
          "x": "Trouser",
          "xref": "x",
          "y": "Ankle Boot",
          "yref": "y"
         },
         {
          "font": {
           "color": "#FFFFFF"
          },
          "showarrow": false,
          "text": "0.0",
          "x": "Pullover",
          "xref": "x",
          "y": "Ankle Boot",
          "yref": "y"
         },
         {
          "font": {
           "color": "#FFFFFF"
          },
          "showarrow": false,
          "text": "0.0",
          "x": "Dress",
          "xref": "x",
          "y": "Ankle Boot",
          "yref": "y"
         },
         {
          "font": {
           "color": "#FFFFFF"
          },
          "showarrow": false,
          "text": "0.0",
          "x": "Coat",
          "xref": "x",
          "y": "Ankle Boot",
          "yref": "y"
         },
         {
          "font": {
           "color": "#FFFFFF"
          },
          "showarrow": false,
          "text": "0.01",
          "x": "Sandal",
          "xref": "x",
          "y": "Ankle Boot",
          "yref": "y"
         },
         {
          "font": {
           "color": "#FFFFFF"
          },
          "showarrow": false,
          "text": "0.0",
          "x": "Shirt",
          "xref": "x",
          "y": "Ankle Boot",
          "yref": "y"
         },
         {
          "font": {
           "color": "#FFFFFF"
          },
          "showarrow": false,
          "text": "0.011",
          "x": "Sneaker",
          "xref": "x",
          "y": "Ankle Boot",
          "yref": "y"
         },
         {
          "font": {
           "color": "#FFFFFF"
          },
          "showarrow": false,
          "text": "0.0",
          "x": "Bag",
          "xref": "x",
          "y": "Ankle Boot",
          "yref": "y"
         },
         {
          "font": {
           "color": "#000000"
          },
          "showarrow": false,
          "text": "0.92",
          "x": "Ankle Boot",
          "xref": "x",
          "y": "Ankle Boot",
          "yref": "y"
         },
         {
          "font": {
           "color": "black",
           "size": 14
          },
          "showarrow": false,
          "text": "Predicted value",
          "x": 0.5,
          "xref": "paper",
          "y": -0.075,
          "yref": "paper"
         },
         {
          "font": {
           "color": "black",
           "size": 14
          },
          "showarrow": false,
          "text": "Real value",
          "textangle": -90,
          "x": -0.075,
          "xref": "paper",
          "y": 0.5,
          "yref": "paper"
         }
        ],
        "template": {
         "data": {
          "bar": [
           {
            "error_x": {
             "color": "#2a3f5f"
            },
            "error_y": {
             "color": "#2a3f5f"
            },
            "marker": {
             "line": {
              "color": "#E5ECF6",
              "width": 0.5
             },
             "pattern": {
              "fillmode": "overlay",
              "size": 10,
              "solidity": 0.2
             }
            },
            "type": "bar"
           }
          ],
          "barpolar": [
           {
            "marker": {
             "line": {
              "color": "#E5ECF6",
              "width": 0.5
             },
             "pattern": {
              "fillmode": "overlay",
              "size": 10,
              "solidity": 0.2
             }
            },
            "type": "barpolar"
           }
          ],
          "carpet": [
           {
            "aaxis": {
             "endlinecolor": "#2a3f5f",
             "gridcolor": "white",
             "linecolor": "white",
             "minorgridcolor": "white",
             "startlinecolor": "#2a3f5f"
            },
            "baxis": {
             "endlinecolor": "#2a3f5f",
             "gridcolor": "white",
             "linecolor": "white",
             "minorgridcolor": "white",
             "startlinecolor": "#2a3f5f"
            },
            "type": "carpet"
           }
          ],
          "choropleth": [
           {
            "colorbar": {
             "outlinewidth": 0,
             "ticks": ""
            },
            "type": "choropleth"
           }
          ],
          "contour": [
           {
            "colorbar": {
             "outlinewidth": 0,
             "ticks": ""
            },
            "colorscale": [
             [
              0,
              "#0d0887"
             ],
             [
              0.1111111111111111,
              "#46039f"
             ],
             [
              0.2222222222222222,
              "#7201a8"
             ],
             [
              0.3333333333333333,
              "#9c179e"
             ],
             [
              0.4444444444444444,
              "#bd3786"
             ],
             [
              0.5555555555555556,
              "#d8576b"
             ],
             [
              0.6666666666666666,
              "#ed7953"
             ],
             [
              0.7777777777777778,
              "#fb9f3a"
             ],
             [
              0.8888888888888888,
              "#fdca26"
             ],
             [
              1,
              "#f0f921"
             ]
            ],
            "type": "contour"
           }
          ],
          "contourcarpet": [
           {
            "colorbar": {
             "outlinewidth": 0,
             "ticks": ""
            },
            "type": "contourcarpet"
           }
          ],
          "heatmap": [
           {
            "colorbar": {
             "outlinewidth": 0,
             "ticks": ""
            },
            "colorscale": [
             [
              0,
              "#0d0887"
             ],
             [
              0.1111111111111111,
              "#46039f"
             ],
             [
              0.2222222222222222,
              "#7201a8"
             ],
             [
              0.3333333333333333,
              "#9c179e"
             ],
             [
              0.4444444444444444,
              "#bd3786"
             ],
             [
              0.5555555555555556,
              "#d8576b"
             ],
             [
              0.6666666666666666,
              "#ed7953"
             ],
             [
              0.7777777777777778,
              "#fb9f3a"
             ],
             [
              0.8888888888888888,
              "#fdca26"
             ],
             [
              1,
              "#f0f921"
             ]
            ],
            "type": "heatmap"
           }
          ],
          "heatmapgl": [
           {
            "colorbar": {
             "outlinewidth": 0,
             "ticks": ""
            },
            "colorscale": [
             [
              0,
              "#0d0887"
             ],
             [
              0.1111111111111111,
              "#46039f"
             ],
             [
              0.2222222222222222,
              "#7201a8"
             ],
             [
              0.3333333333333333,
              "#9c179e"
             ],
             [
              0.4444444444444444,
              "#bd3786"
             ],
             [
              0.5555555555555556,
              "#d8576b"
             ],
             [
              0.6666666666666666,
              "#ed7953"
             ],
             [
              0.7777777777777778,
              "#fb9f3a"
             ],
             [
              0.8888888888888888,
              "#fdca26"
             ],
             [
              1,
              "#f0f921"
             ]
            ],
            "type": "heatmapgl"
           }
          ],
          "histogram": [
           {
            "marker": {
             "pattern": {
              "fillmode": "overlay",
              "size": 10,
              "solidity": 0.2
             }
            },
            "type": "histogram"
           }
          ],
          "histogram2d": [
           {
            "colorbar": {
             "outlinewidth": 0,
             "ticks": ""
            },
            "colorscale": [
             [
              0,
              "#0d0887"
             ],
             [
              0.1111111111111111,
              "#46039f"
             ],
             [
              0.2222222222222222,
              "#7201a8"
             ],
             [
              0.3333333333333333,
              "#9c179e"
             ],
             [
              0.4444444444444444,
              "#bd3786"
             ],
             [
              0.5555555555555556,
              "#d8576b"
             ],
             [
              0.6666666666666666,
              "#ed7953"
             ],
             [
              0.7777777777777778,
              "#fb9f3a"
             ],
             [
              0.8888888888888888,
              "#fdca26"
             ],
             [
              1,
              "#f0f921"
             ]
            ],
            "type": "histogram2d"
           }
          ],
          "histogram2dcontour": [
           {
            "colorbar": {
             "outlinewidth": 0,
             "ticks": ""
            },
            "colorscale": [
             [
              0,
              "#0d0887"
             ],
             [
              0.1111111111111111,
              "#46039f"
             ],
             [
              0.2222222222222222,
              "#7201a8"
             ],
             [
              0.3333333333333333,
              "#9c179e"
             ],
             [
              0.4444444444444444,
              "#bd3786"
             ],
             [
              0.5555555555555556,
              "#d8576b"
             ],
             [
              0.6666666666666666,
              "#ed7953"
             ],
             [
              0.7777777777777778,
              "#fb9f3a"
             ],
             [
              0.8888888888888888,
              "#fdca26"
             ],
             [
              1,
              "#f0f921"
             ]
            ],
            "type": "histogram2dcontour"
           }
          ],
          "mesh3d": [
           {
            "colorbar": {
             "outlinewidth": 0,
             "ticks": ""
            },
            "type": "mesh3d"
           }
          ],
          "parcoords": [
           {
            "line": {
             "colorbar": {
              "outlinewidth": 0,
              "ticks": ""
             }
            },
            "type": "parcoords"
           }
          ],
          "pie": [
           {
            "automargin": true,
            "type": "pie"
           }
          ],
          "scatter": [
           {
            "fillpattern": {
             "fillmode": "overlay",
             "size": 10,
             "solidity": 0.2
            },
            "type": "scatter"
           }
          ],
          "scatter3d": [
           {
            "line": {
             "colorbar": {
              "outlinewidth": 0,
              "ticks": ""
             }
            },
            "marker": {
             "colorbar": {
              "outlinewidth": 0,
              "ticks": ""
             }
            },
            "type": "scatter3d"
           }
          ],
          "scattercarpet": [
           {
            "marker": {
             "colorbar": {
              "outlinewidth": 0,
              "ticks": ""
             }
            },
            "type": "scattercarpet"
           }
          ],
          "scattergeo": [
           {
            "marker": {
             "colorbar": {
              "outlinewidth": 0,
              "ticks": ""
             }
            },
            "type": "scattergeo"
           }
          ],
          "scattergl": [
           {
            "marker": {
             "colorbar": {
              "outlinewidth": 0,
              "ticks": ""
             }
            },
            "type": "scattergl"
           }
          ],
          "scattermapbox": [
           {
            "marker": {
             "colorbar": {
              "outlinewidth": 0,
              "ticks": ""
             }
            },
            "type": "scattermapbox"
           }
          ],
          "scatterpolar": [
           {
            "marker": {
             "colorbar": {
              "outlinewidth": 0,
              "ticks": ""
             }
            },
            "type": "scatterpolar"
           }
          ],
          "scatterpolargl": [
           {
            "marker": {
             "colorbar": {
              "outlinewidth": 0,
              "ticks": ""
             }
            },
            "type": "scatterpolargl"
           }
          ],
          "scatterternary": [
           {
            "marker": {
             "colorbar": {
              "outlinewidth": 0,
              "ticks": ""
             }
            },
            "type": "scatterternary"
           }
          ],
          "surface": [
           {
            "colorbar": {
             "outlinewidth": 0,
             "ticks": ""
            },
            "colorscale": [
             [
              0,
              "#0d0887"
             ],
             [
              0.1111111111111111,
              "#46039f"
             ],
             [
              0.2222222222222222,
              "#7201a8"
             ],
             [
              0.3333333333333333,
              "#9c179e"
             ],
             [
              0.4444444444444444,
              "#bd3786"
             ],
             [
              0.5555555555555556,
              "#d8576b"
             ],
             [
              0.6666666666666666,
              "#ed7953"
             ],
             [
              0.7777777777777778,
              "#fb9f3a"
             ],
             [
              0.8888888888888888,
              "#fdca26"
             ],
             [
              1,
              "#f0f921"
             ]
            ],
            "type": "surface"
           }
          ],
          "table": [
           {
            "cells": {
             "fill": {
              "color": "#EBF0F8"
             },
             "line": {
              "color": "white"
             }
            },
            "header": {
             "fill": {
              "color": "#C8D4E3"
             },
             "line": {
              "color": "white"
             }
            },
            "type": "table"
           }
          ]
         },
         "layout": {
          "annotationdefaults": {
           "arrowcolor": "#2a3f5f",
           "arrowhead": 0,
           "arrowwidth": 1
          },
          "autotypenumbers": "strict",
          "coloraxis": {
           "colorbar": {
            "outlinewidth": 0,
            "ticks": ""
           }
          },
          "colorscale": {
           "diverging": [
            [
             0,
             "#8e0152"
            ],
            [
             0.1,
             "#c51b7d"
            ],
            [
             0.2,
             "#de77ae"
            ],
            [
             0.3,
             "#f1b6da"
            ],
            [
             0.4,
             "#fde0ef"
            ],
            [
             0.5,
             "#f7f7f7"
            ],
            [
             0.6,
             "#e6f5d0"
            ],
            [
             0.7,
             "#b8e186"
            ],
            [
             0.8,
             "#7fbc41"
            ],
            [
             0.9,
             "#4d9221"
            ],
            [
             1,
             "#276419"
            ]
           ],
           "sequential": [
            [
             0,
             "#0d0887"
            ],
            [
             0.1111111111111111,
             "#46039f"
            ],
            [
             0.2222222222222222,
             "#7201a8"
            ],
            [
             0.3333333333333333,
             "#9c179e"
            ],
            [
             0.4444444444444444,
             "#bd3786"
            ],
            [
             0.5555555555555556,
             "#d8576b"
            ],
            [
             0.6666666666666666,
             "#ed7953"
            ],
            [
             0.7777777777777778,
             "#fb9f3a"
            ],
            [
             0.8888888888888888,
             "#fdca26"
            ],
            [
             1,
             "#f0f921"
            ]
           ],
           "sequentialminus": [
            [
             0,
             "#0d0887"
            ],
            [
             0.1111111111111111,
             "#46039f"
            ],
            [
             0.2222222222222222,
             "#7201a8"
            ],
            [
             0.3333333333333333,
             "#9c179e"
            ],
            [
             0.4444444444444444,
             "#bd3786"
            ],
            [
             0.5555555555555556,
             "#d8576b"
            ],
            [
             0.6666666666666666,
             "#ed7953"
            ],
            [
             0.7777777777777778,
             "#fb9f3a"
            ],
            [
             0.8888888888888888,
             "#fdca26"
            ],
            [
             1,
             "#f0f921"
            ]
           ]
          },
          "colorway": [
           "#636efa",
           "#EF553B",
           "#00cc96",
           "#ab63fa",
           "#FFA15A",
           "#19d3f3",
           "#FF6692",
           "#B6E880",
           "#FF97FF",
           "#FECB52"
          ],
          "font": {
           "color": "#2a3f5f"
          },
          "geo": {
           "bgcolor": "white",
           "lakecolor": "white",
           "landcolor": "#E5ECF6",
           "showlakes": true,
           "showland": true,
           "subunitcolor": "white"
          },
          "hoverlabel": {
           "align": "left"
          },
          "hovermode": "closest",
          "mapbox": {
           "style": "light"
          },
          "paper_bgcolor": "white",
          "plot_bgcolor": "#E5ECF6",
          "polar": {
           "angularaxis": {
            "gridcolor": "white",
            "linecolor": "white",
            "ticks": ""
           },
           "bgcolor": "#E5ECF6",
           "radialaxis": {
            "gridcolor": "white",
            "linecolor": "white",
            "ticks": ""
           }
          },
          "scene": {
           "xaxis": {
            "backgroundcolor": "#E5ECF6",
            "gridcolor": "white",
            "gridwidth": 2,
            "linecolor": "white",
            "showbackground": true,
            "ticks": "",
            "zerolinecolor": "white"
           },
           "yaxis": {
            "backgroundcolor": "#E5ECF6",
            "gridcolor": "white",
            "gridwidth": 2,
            "linecolor": "white",
            "showbackground": true,
            "ticks": "",
            "zerolinecolor": "white"
           },
           "zaxis": {
            "backgroundcolor": "#E5ECF6",
            "gridcolor": "white",
            "gridwidth": 2,
            "linecolor": "white",
            "showbackground": true,
            "ticks": "",
            "zerolinecolor": "white"
           }
          },
          "shapedefaults": {
           "line": {
            "color": "#2a3f5f"
           }
          },
          "ternary": {
           "aaxis": {
            "gridcolor": "white",
            "linecolor": "white",
            "ticks": ""
           },
           "baxis": {
            "gridcolor": "white",
            "linecolor": "white",
            "ticks": ""
           },
           "bgcolor": "#E5ECF6",
           "caxis": {
            "gridcolor": "white",
            "linecolor": "white",
            "ticks": ""
           }
          },
          "title": {
           "x": 0.05
          },
          "xaxis": {
           "automargin": true,
           "gridcolor": "white",
           "linecolor": "white",
           "ticks": "",
           "title": {
            "standoff": 15
           },
           "zerolinecolor": "white",
           "zerolinewidth": 2
          },
          "yaxis": {
           "automargin": true,
           "gridcolor": "white",
           "linecolor": "white",
           "ticks": "",
           "title": {
            "standoff": 15
           },
           "zerolinecolor": "white",
           "zerolinewidth": 2
          }
         }
        },
        "title": {
         "text": "<i><b>Confusion matrix</b></i>"
        },
        "xaxis": {
         "dtick": 1,
         "gridcolor": "rgb(0, 0, 0)",
         "side": "top",
         "ticks": ""
        },
        "yaxis": {
         "dtick": 1,
         "ticks": "",
         "ticksuffix": "  "
        }
       }
      }
     },
     "metadata": {},
     "output_type": "display_data"
    }
   ],
   "source": [
    "import plotly.figure_factory as ff\n",
    "z = confusion_matrix\n",
    "label_map = [\"Top\",\"Trouser\", \"Pullover\", \"Dress\", \"Coat\", \"Sandal\", \"Shirt\", \"Sneaker\", \"Bag\", \"Ankle Boot\"]\n",
    "x = y = label_map\n",
    "\n",
    "# change each element of z to type string for annotations\n",
    "z_text = [[str(y) for y in x] for x in z]\n",
    "\n",
    "# set up figure \n",
    "fig = ff.create_annotated_heatmap(z, x=x, y=y, annotation_text=z_text, colorscale='Viridis')\n",
    "\n",
    "# add title\n",
    "fig.update_layout(title_text='<i><b>Confusion matrix</b></i>',\n",
    "                  #xaxis = dict(title='x'),\n",
    "                  #yaxis = dict(title='x')\n",
    "                 )\n",
    "\n",
    "# add custom xaxis title\n",
    "fig.add_annotation(dict(font=dict(color=\"black\",size=14),\n",
    "                        x=0.5,\n",
    "                        y=-0.075,\n",
    "                        showarrow=False,\n",
    "                        text=\"Predicted value\",\n",
    "                        xref=\"paper\",\n",
    "                        yref=\"paper\"))\n",
    "\n",
    "# add custom yaxis title\n",
    "fig.add_annotation(dict(font=dict(color=\"black\",size=14),\n",
    "                        x=-0.075,\n",
    "                        y=0.5,\n",
    "                        showarrow=False,\n",
    "                        text=\"Real value\",\n",
    "                        textangle=-90,\n",
    "                        xref=\"paper\",\n",
    "                        yref=\"paper\"))\n",
    "\n",
    "# adjust margins to make room for yaxis title\n",
    "# fig.update_layout(margin=dict(t=50, l=200))\n",
    "\n",
    "# add colorbar\n",
    "fig['data'][0]['showscale'] = True\n",
    "fig.show()"
   ]
  },
  {
   "cell_type": "code",
   "execution_count": 22,
   "metadata": {},
   "outputs": [
    {
     "data": {
      "text/html": [
       "wandb version 0.14.0 is available!  To upgrade, please run:\n",
       " $ pip install wandb --upgrade"
      ],
      "text/plain": [
       "<IPython.core.display.HTML object>"
      ]
     },
     "metadata": {},
     "output_type": "display_data"
    },
    {
     "data": {
      "text/html": [
       "Tracking run with wandb version 0.13.10"
      ],
      "text/plain": [
       "<IPython.core.display.HTML object>"
      ]
     },
     "metadata": {},
     "output_type": "display_data"
    },
    {
     "data": {
      "text/html": [
       "Run data is saved locally in <code>/home/sooraj/sem/dl/assignment-1/wandb/run-20230319_173240-g1pb4h5c</code>"
      ],
      "text/plain": [
       "<IPython.core.display.HTML object>"
      ]
     },
     "metadata": {},
     "output_type": "display_data"
    },
    {
     "data": {
      "text/html": [
       "Syncing run <strong><a href='https://wandb.ai/cs20b075/assignment-1/runs/g1pb4h5c' target=\"_blank\">test_data_confusion_matrix</a></strong> to <a href='https://wandb.ai/cs20b075/assignment-1' target=\"_blank\">Weights & Biases</a> (<a href='https://wandb.me/run' target=\"_blank\">docs</a>)<br/>"
      ],
      "text/plain": [
       "<IPython.core.display.HTML object>"
      ]
     },
     "metadata": {},
     "output_type": "display_data"
    },
    {
     "data": {
      "text/html": [
       " View project at <a href='https://wandb.ai/cs20b075/assignment-1' target=\"_blank\">https://wandb.ai/cs20b075/assignment-1</a>"
      ],
      "text/plain": [
       "<IPython.core.display.HTML object>"
      ]
     },
     "metadata": {},
     "output_type": "display_data"
    },
    {
     "data": {
      "text/html": [
       " View run at <a href='https://wandb.ai/cs20b075/assignment-1/runs/g1pb4h5c' target=\"_blank\">https://wandb.ai/cs20b075/assignment-1/runs/g1pb4h5c</a>"
      ],
      "text/plain": [
       "<IPython.core.display.HTML object>"
      ]
     },
     "metadata": {},
     "output_type": "display_data"
    },
    {
     "data": {
      "text/html": [
       "Waiting for W&B process to finish... <strong style=\"color:green\">(success).</strong>"
      ],
      "text/plain": [
       "<IPython.core.display.HTML object>"
      ]
     },
     "metadata": {},
     "output_type": "display_data"
    },
    {
     "data": {
      "application/vnd.jupyter.widget-view+json": {
       "model_id": "a34c447b02a04ab2bbbe6ee99579aac8",
       "version_major": 2,
       "version_minor": 0
      },
      "text/plain": [
       "VBox(children=(Label(value='0.023 MB of 0.028 MB uploaded (0.000 MB deduped)\\r'), FloatProgress(value=0.800060…"
      ]
     },
     "metadata": {},
     "output_type": "display_data"
    },
    {
     "data": {
      "text/html": [
       " View run <strong style=\"color:#cdcd00\">test_data_confusion_matrix</strong> at: <a href='https://wandb.ai/cs20b075/assignment-1/runs/g1pb4h5c' target=\"_blank\">https://wandb.ai/cs20b075/assignment-1/runs/g1pb4h5c</a><br/>Synced 4 W&B file(s), 1 media file(s), 0 artifact file(s) and 0 other file(s)"
      ],
      "text/plain": [
       "<IPython.core.display.HTML object>"
      ]
     },
     "metadata": {},
     "output_type": "display_data"
    },
    {
     "data": {
      "text/html": [
       "Find logs at: <code>./wandb/run-20230319_173240-g1pb4h5c/logs</code>"
      ],
      "text/plain": [
       "<IPython.core.display.HTML object>"
      ]
     },
     "metadata": {},
     "output_type": "display_data"
    }
   ],
   "source": [
    "run = wandb.init(project=\"assignment-1\", name=\"test_data_confusion_matrix\")\n",
    "fig.write_html(\"./test_data_confusion_matrix.html\", auto_play=False)\n",
    "table = wandb.Table(columns=[\"Input\", \"Output\", \"Expected\"])\n",
    "# table.add_data(wandb.Html(\"./test_data_confusion_matrix.html\"))\n",
    "wandb.log({\"confusion_matrix\":wandb.Plotly(fig)})\n",
    "# run.log({\"conf_mat\": wandb.plot.confusion_matrix(probs=confusion_matrix, y_true=y)})\n",
    "wandb.finish()"
   ]
  },
  {
   "attachments": {},
   "cell_type": "markdown",
   "metadata": {},
   "source": [
    "# Checking the performance of MSE vs Cross Entropy\n",
    "\n",
    "We shall now compare between the two loss functions based on their performances on the best model's hyperparameters."
   ]
  },
  {
   "cell_type": "code",
   "execution_count": 15,
   "metadata": {},
   "outputs": [
    {
     "name": "stdout",
     "output_type": "stream",
     "text": [
      "Iteration:  0\n",
      "Loss:  0.49060961297823463\n",
      "Iteration:  1\n",
      "Loss:  0.41943896599163916\n",
      "Iteration:  2\n",
      "Loss:  0.38617520237145425\n",
      "Iteration:  3\n",
      "Loss:  0.3651222405264239\n",
      "Iteration:  4\n",
      "Loss:  0.3501616961634373\n",
      "Iteration:  5\n",
      "Loss:  0.3386782564334284\n",
      "Iteration:  6\n",
      "Loss:  0.32959168177268905\n",
      "Iteration:  7\n",
      "Loss:  0.32192558909227303\n",
      "Iteration:  8\n",
      "Loss:  0.3149940847985459\n",
      "Iteration:  9\n",
      "Loss:  0.30938218772704035\n",
      "Validation data accuracy: 0.8836666666666667\n"
     ]
    }
   ],
   "source": [
    "nn = feedforwardnn.FeedforwardNN(784, 10, [128]*4, \"tanh\", \"xavier\", 0, \"mean_squared_error\")\n",
    "opt = feedforwardnn.NAdam(nn.get_params(), 0.0001)\n",
    "nn.fit(x_train, y_train, 10, 64, opt)\n",
    "y_val_pred = nn.predict(x_val)\n",
    "print(\"Validation data accuracy:\", nn.accuracy(y_val, y_val_pred))"
   ]
  },
  {
   "cell_type": "code",
   "execution_count": 16,
   "metadata": {},
   "outputs": [
    {
     "name": "stdout",
     "output_type": "stream",
     "text": [
      "Test data accuracy: 0.872\n"
     ]
    }
   ],
   "source": [
    "# Running the best model on the test data\n",
    "y_test_pred = nn.predict(x_test)\n",
    "print(\"Test data accuracy:\", nn.accuracy(y_test, y_test_pred))"
   ]
  }
 ],
 "metadata": {
  "kernelspec": {
   "display_name": "Python 3",
   "language": "python",
   "name": "python3"
  },
  "language_info": {
   "codemirror_mode": {
    "name": "ipython",
    "version": 3
   },
   "file_extension": ".py",
   "mimetype": "text/x-python",
   "name": "python",
   "nbconvert_exporter": "python",
   "pygments_lexer": "ipython3",
   "version": "3.10.10"
  },
  "orig_nbformat": 4,
  "vscode": {
   "interpreter": {
    "hash": "e7370f93d1d0cde622a1f8e1c04877d8463912d04d973331ad4851f04de6915a"
   }
  }
 },
 "nbformat": 4,
 "nbformat_minor": 2
}
